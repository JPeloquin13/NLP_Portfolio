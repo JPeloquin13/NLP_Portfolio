{
 "cells": [
  {
   "cell_type": "code",
   "execution_count": 3,
   "metadata": {},
   "outputs": [],
   "source": [
    "from transformers import BertTokenizer, BertForSequenceClassification, RobertaTokenizer\n",
    "import numpy as np\n",
    "import torch\n",
    "import re\n",
    "import pandas as pd\n",
    "from nltk.tokenize import sent_tokenize\n",
    "from FedTools import FederalReserveMins"
   ]
  },
  {
   "cell_type": "markdown",
   "metadata": {},
   "source": [
    "### This transformer model is computationally expensive and FOMC minutes had to be batch processed"
   ]
  },
  {
   "cell_type": "markdown",
   "metadata": {},
   "source": [
    "This Transformer Sentiment model relies on the Finbert financial language library to categorize sentences as positive, negative or neutral with respect to sentiment. To determine overall document sentiment the neutral sentences are omitted and the count of positive sentences within a given FOMC release are divided by the total count of negative sentences. These values had to be batch processed and are appended in the FED_NLP_bombine downstream notebook"
   ]
  },
  {
   "cell_type": "markdown",
   "metadata": {},
   "source": [
    "Implement Cuda if Available\n"
   ]
  },
  {
   "cell_type": "code",
   "execution_count": 2,
   "metadata": {},
   "outputs": [
    {
     "data": {
      "text/plain": [
       "True"
      ]
     },
     "execution_count": 2,
     "metadata": {},
     "output_type": "execute_result"
    }
   ],
   "source": [
    "torch.cuda.is_available()\n",
    "torch.__version__\n",
    "device = \"cuda:0\" if torch.cuda.is_available() else \"cpu\""
   ]
  },
  {
   "cell_type": "code",
   "execution_count": 13,
   "metadata": {},
   "outputs": [],
   "source": [
    "def transformer_func(j):\n",
    "\n",
    "    sentiment_score = []\n",
    "\n",
    "\n",
    "\n",
    "    finbert = BertForSequenceClassification.from_pretrained('yiyanghkust/finbert-tone',num_labels=3)  #.to(device) pre trained model for financial data\n",
    "    tokenizer = BertTokenizer.from_pretrained('yiyanghkust/finbert-tone')\n",
    "\n",
    "    text = filtered_df.Federal_Reserve_Mins[j]\n",
    "    out = re.split('\\. |\\!',text)\n",
    "\n",
    "    sent_out = []\n",
    "    labels = {0:'neutral', 1:'positive',2:'negative'}\n",
    "\n",
    "    for i in out:\n",
    "        sent_out.append(i.replace('\\n',''))\n",
    "    tokenized_sentence = tokenizer(sent_out, padding = True, truncation = True, return_tensors='pt',max_length=50) # .to(device)\n",
    "    outputs = finbert(**tokenized_sentence)[0]\n",
    "    preds = (torch.nn.functional.softmax(outputs, dim=-1))*100 # convert to percentage\n",
    "\n",
    "    \n",
    "    sentiment= []\n",
    "    positive_rating = []\n",
    "    neutral_rating = []\n",
    "    negative_rating = []\n",
    "    for idx, sent in enumerate(sent_out):\n",
    "        #print(sent, '----', labels[np.argmax(preds.detach().numpy()[idx])])\n",
    "        #preds.cpu()\n",
    "        sentiment.append(labels[np.argmax(preds.detach().numpy()[idx])])\n",
    "        neutral_rating.append(preds.detach().numpy()[idx][0])\n",
    "        positive_rating.append(preds.detach().numpy()[idx][1])\n",
    "        negative_rating.append(preds.detach().numpy()[idx][2])\n",
    "\n",
    "\n",
    "    df = pd.DataFrame(sent_out)\n",
    "    df = df.rename(columns={0:'Sentence'})\n",
    "    df['Sentiment'] = sentiment\n",
    "    df['Neutral Probability'] = neutral_rating\n",
    "    df['Positive Probability'] = positive_rating\n",
    "    df['Negative Probability'] = negative_rating\n",
    "    df_extract = df[df['Sentiment']!='neutral']\n",
    "\n",
    "    sentiment_totals = df.groupby(['Sentiment']).size()\n",
    "    pos_neg_ratio = (sentiment_totals[2]/sentiment_totals[0])\n",
    "   \n",
    "    print('Positive to Negative Sentiment ratio',pos_neg_ratio)\n",
    "    return pos_neg_ratio"
   ]
  },
  {
   "cell_type": "markdown",
   "metadata": {},
   "source": [
    "## Pull FOMC documents from FedTools"
   ]
  },
  {
   "cell_type": "code",
   "execution_count": 7,
   "metadata": {},
   "outputs": [
    {
     "name": "stdout",
     "output_type": "stream",
     "text": [
      "Constructing links between 2003 and 2023\n",
      "Extracting Federal Reserve Minutes.\n",
      "Retrieving articles.\n",
      "..............................................................................................................................."
     ]
    }
   ],
   "source": [
    "fed_mins = FederalReserveMins(\n",
    "            main_url = 'https://www.federalreserve.gov', \n",
    "            calendar_url ='https://www.federalreserve.gov/monetarypolicy/fomccalendars.htm',\n",
    "            start_year = 2003,        \n",
    "            historical_split = 2012,\n",
    "            verbose = True,\n",
    "            thread_num = 10)\n",
    "\n",
    "mins_dataset = fed_mins.find_minutes()"
   ]
  },
  {
   "cell_type": "markdown",
   "metadata": {},
   "source": [
    "### Check to see if it parsed correctly"
   ]
  },
  {
   "cell_type": "code",
   "execution_count": 8,
   "metadata": {},
   "outputs": [
    {
     "data": {
      "text/html": [
       "<div>\n",
       "<style scoped>\n",
       "    .dataframe tbody tr th:only-of-type {\n",
       "        vertical-align: middle;\n",
       "    }\n",
       "\n",
       "    .dataframe tbody tr th {\n",
       "        vertical-align: top;\n",
       "    }\n",
       "\n",
       "    .dataframe thead th {\n",
       "        text-align: right;\n",
       "    }\n",
       "</style>\n",
       "<table border=\"1\" class=\"dataframe\">\n",
       "  <thead>\n",
       "    <tr style=\"text-align: right;\">\n",
       "      <th></th>\n",
       "      <th>index</th>\n",
       "      <th>Federal_Reserve_Mins</th>\n",
       "    </tr>\n",
       "  </thead>\n",
       "  <tbody>\n",
       "    <tr>\n",
       "      <th>0</th>\n",
       "      <td>2003-01-29</td>\n",
       "      <td>A meeting of the Federal Open Market Committee...</td>\n",
       "    </tr>\n",
       "    <tr>\n",
       "      <th>1</th>\n",
       "      <td>2003-03-18</td>\n",
       "      <td>A meeting of the Federal Open Market Committee...</td>\n",
       "    </tr>\n",
       "    <tr>\n",
       "      <th>2</th>\n",
       "      <td>2003-05-06</td>\n",
       "      <td>A meeting of the Federal Open Market Committee...</td>\n",
       "    </tr>\n",
       "    <tr>\n",
       "      <th>3</th>\n",
       "      <td>2003-06-25</td>\n",
       "      <td>A meeting of the Federal Open Market Committee...</td>\n",
       "    </tr>\n",
       "    <tr>\n",
       "      <th>4</th>\n",
       "      <td>2003-08-12</td>\n",
       "      <td>A meeting of the Federal Open Market Committee...</td>\n",
       "    </tr>\n",
       "    <tr>\n",
       "      <th>...</th>\n",
       "      <td>...</td>\n",
       "      <td>...</td>\n",
       "    </tr>\n",
       "    <tr>\n",
       "      <th>118</th>\n",
       "      <td>2022-12-14</td>\n",
       "      <td>The Federal Reserve, the central bank of the U...</td>\n",
       "    </tr>\n",
       "    <tr>\n",
       "      <th>119</th>\n",
       "      <td>2023-02-01</td>\n",
       "      <td>The Federal Reserve, the central bank of the U...</td>\n",
       "    </tr>\n",
       "    <tr>\n",
       "      <th>120</th>\n",
       "      <td>2023-03-22</td>\n",
       "      <td>The Federal Reserve, the central bank of the U...</td>\n",
       "    </tr>\n",
       "    <tr>\n",
       "      <th>121</th>\n",
       "      <td>2023-05-03</td>\n",
       "      <td>The Federal Reserve, the central bank of the U...</td>\n",
       "    </tr>\n",
       "    <tr>\n",
       "      <th>122</th>\n",
       "      <td>2023-06-14</td>\n",
       "      <td>The Federal Reserve, the central bank of the U...</td>\n",
       "    </tr>\n",
       "  </tbody>\n",
       "</table>\n",
       "<p>123 rows × 2 columns</p>\n",
       "</div>"
      ],
      "text/plain": [
       "         index                               Federal_Reserve_Mins\n",
       "0   2003-01-29  A meeting of the Federal Open Market Committee...\n",
       "1   2003-03-18  A meeting of the Federal Open Market Committee...\n",
       "2   2003-05-06  A meeting of the Federal Open Market Committee...\n",
       "3   2003-06-25  A meeting of the Federal Open Market Committee...\n",
       "4   2003-08-12  A meeting of the Federal Open Market Committee...\n",
       "..         ...                                                ...\n",
       "118 2022-12-14  The Federal Reserve, the central bank of the U...\n",
       "119 2023-02-01  The Federal Reserve, the central bank of the U...\n",
       "120 2023-03-22  The Federal Reserve, the central bank of the U...\n",
       "121 2023-05-03  The Federal Reserve, the central bank of the U...\n",
       "122 2023-06-14  The Federal Reserve, the central bank of the U...\n",
       "\n",
       "[123 rows x 2 columns]"
      ]
     },
     "execution_count": 8,
     "metadata": {},
     "output_type": "execute_result"
    }
   ],
   "source": [
    "mins_dataset= mins_dataset.reset_index()\n",
    "mins_dataset"
   ]
  },
  {
   "cell_type": "markdown",
   "metadata": {},
   "source": [
    "### Pick date range for transformer model"
   ]
  },
  {
   "cell_type": "markdown",
   "metadata": {},
   "source": [
    "For display purposes, the range below parses the first 4 documents for 2023."
   ]
  },
  {
   "cell_type": "code",
   "execution_count": 9,
   "metadata": {},
   "outputs": [],
   "source": [
    "start_date = '2023-01-01'\n",
    "end_date = '2024-01-01'"
   ]
  },
  {
   "cell_type": "code",
   "execution_count": 10,
   "metadata": {},
   "outputs": [],
   "source": [
    "filtered_df = (mins_dataset.loc[(mins_dataset['index'] >= start_date) & (mins_dataset['index'] < end_date)]).reset_index(drop=True)"
   ]
  },
  {
   "cell_type": "code",
   "execution_count": 11,
   "metadata": {},
   "outputs": [
    {
     "data": {
      "text/html": [
       "<div>\n",
       "<style scoped>\n",
       "    .dataframe tbody tr th:only-of-type {\n",
       "        vertical-align: middle;\n",
       "    }\n",
       "\n",
       "    .dataframe tbody tr th {\n",
       "        vertical-align: top;\n",
       "    }\n",
       "\n",
       "    .dataframe thead th {\n",
       "        text-align: right;\n",
       "    }\n",
       "</style>\n",
       "<table border=\"1\" class=\"dataframe\">\n",
       "  <thead>\n",
       "    <tr style=\"text-align: right;\">\n",
       "      <th></th>\n",
       "      <th>index</th>\n",
       "      <th>Federal_Reserve_Mins</th>\n",
       "    </tr>\n",
       "  </thead>\n",
       "  <tbody>\n",
       "    <tr>\n",
       "      <th>0</th>\n",
       "      <td>2023-02-01</td>\n",
       "      <td>The Federal Reserve, the central bank of the U...</td>\n",
       "    </tr>\n",
       "    <tr>\n",
       "      <th>1</th>\n",
       "      <td>2023-03-22</td>\n",
       "      <td>The Federal Reserve, the central bank of the U...</td>\n",
       "    </tr>\n",
       "    <tr>\n",
       "      <th>2</th>\n",
       "      <td>2023-05-03</td>\n",
       "      <td>The Federal Reserve, the central bank of the U...</td>\n",
       "    </tr>\n",
       "    <tr>\n",
       "      <th>3</th>\n",
       "      <td>2023-06-14</td>\n",
       "      <td>The Federal Reserve, the central bank of the U...</td>\n",
       "    </tr>\n",
       "  </tbody>\n",
       "</table>\n",
       "</div>"
      ],
      "text/plain": [
       "       index                               Federal_Reserve_Mins\n",
       "0 2023-02-01  The Federal Reserve, the central bank of the U...\n",
       "1 2023-03-22  The Federal Reserve, the central bank of the U...\n",
       "2 2023-05-03  The Federal Reserve, the central bank of the U...\n",
       "3 2023-06-14  The Federal Reserve, the central bank of the U..."
      ]
     },
     "execution_count": 11,
     "metadata": {},
     "output_type": "execute_result"
    }
   ],
   "source": [
    "#filtered_df = mins_dataset[87:137]\n",
    "filtered_df"
   ]
  },
  {
   "cell_type": "code",
   "execution_count": 14,
   "metadata": {},
   "outputs": [
    {
     "name": "stdout",
     "output_type": "stream",
     "text": [
      "Positive to Negative Sentiment ratio 0.5\n",
      "Positive to Negative Sentiment ratio 0.5529411764705883\n",
      "Positive to Negative Sentiment ratio 0.47863247863247865\n",
      "Positive to Negative Sentiment ratio 0.8783783783783784\n"
     ]
    }
   ],
   "source": [
    "sentiment_vals = []\n",
    "\n",
    "for i in range(0,len(filtered_df)):\n",
    "\n",
    "    out = transformer_func(i)\n",
    "    sentiment_vals.append(out)"
   ]
  },
  {
   "cell_type": "code",
   "execution_count": 17,
   "metadata": {},
   "outputs": [
    {
     "name": "stdout",
     "output_type": "stream",
     "text": [
      "4\n"
     ]
    },
    {
     "data": {
      "text/html": [
       "<div>\n",
       "<style scoped>\n",
       "    .dataframe tbody tr th:only-of-type {\n",
       "        vertical-align: middle;\n",
       "    }\n",
       "\n",
       "    .dataframe tbody tr th {\n",
       "        vertical-align: top;\n",
       "    }\n",
       "\n",
       "    .dataframe thead th {\n",
       "        text-align: right;\n",
       "    }\n",
       "</style>\n",
       "<table border=\"1\" class=\"dataframe\">\n",
       "  <thead>\n",
       "    <tr style=\"text-align: right;\">\n",
       "      <th></th>\n",
       "      <th>index</th>\n",
       "      <th>Score</th>\n",
       "    </tr>\n",
       "  </thead>\n",
       "  <tbody>\n",
       "    <tr>\n",
       "      <th>0</th>\n",
       "      <td>2023-02-01</td>\n",
       "      <td>0.500000</td>\n",
       "    </tr>\n",
       "    <tr>\n",
       "      <th>1</th>\n",
       "      <td>2023-03-22</td>\n",
       "      <td>0.552941</td>\n",
       "    </tr>\n",
       "    <tr>\n",
       "      <th>2</th>\n",
       "      <td>2023-05-03</td>\n",
       "      <td>0.478632</td>\n",
       "    </tr>\n",
       "    <tr>\n",
       "      <th>3</th>\n",
       "      <td>2023-06-14</td>\n",
       "      <td>0.878378</td>\n",
       "    </tr>\n",
       "  </tbody>\n",
       "</table>\n",
       "</div>"
      ],
      "text/plain": [
       "       index     Score\n",
       "0 2023-02-01  0.500000\n",
       "1 2023-03-22  0.552941\n",
       "2 2023-05-03  0.478632\n",
       "3 2023-06-14  0.878378"
      ]
     },
     "execution_count": 17,
     "metadata": {},
     "output_type": "execute_result"
    }
   ],
   "source": [
    "\n",
    "val_df= pd.DataFrame(filtered_df[filtered_df.columns[0]])\n",
    "val_df['Score'] = sentiment_vals\n",
    "\n",
    "print(len(sentiment_vals))\n",
    "val_df\n",
    "val_df.to_csv('Batch_transformer_files/sentiment_minutes_22_23_display.csv',index='True')\n",
    "\n",
    "val_df"
   ]
  }
 ],
 "metadata": {
  "kernelspec": {
   "display_name": "base",
   "language": "python",
   "name": "python3"
  },
  "language_info": {
   "codemirror_mode": {
    "name": "ipython",
    "version": 3
   },
   "file_extension": ".py",
   "mimetype": "text/x-python",
   "name": "python",
   "nbconvert_exporter": "python",
   "pygments_lexer": "ipython3",
   "version": "3.7.10"
  },
  "orig_nbformat": 4
 },
 "nbformat": 4,
 "nbformat_minor": 2
}
