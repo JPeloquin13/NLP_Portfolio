{
 "cells": [
  {
   "cell_type": "markdown",
   "id": "25e9abea",
   "metadata": {},
   "source": [
    "# SIADS 699 Capstone: June-Aug 2023:  ETF Data"
   ]
  },
  {
   "cell_type": "code",
   "execution_count": 2,
   "id": "7db061a1",
   "metadata": {},
   "outputs": [],
   "source": [
    "# Import modules\n",
    "import numpy as np\n",
    "import pandas as pd\n",
    "import yfinance as yf\n",
    "import talib as ta\n"
   ]
  },
  {
   "cell_type": "markdown",
   "id": "f2437663",
   "metadata": {},
   "source": [
    "# Description of ETF Tickers"
   ]
  },
  {
   "cell_type": "code",
   "execution_count": 4,
   "id": "4717a791",
   "metadata": {},
   "outputs": [
    {
     "name": "stdout",
     "output_type": "stream",
     "text": [
      "18\n"
     ]
    }
   ],
   "source": [
    "# Create lists of relevant tickers\n",
    "\n",
    "# US Equity Securities \n",
    "\n",
    "# SPY:  S&P 500\n",
    "# IJH:  Mid-Cap US Equity\n",
    "# IJR:  Small-cap US Equity\n",
    "\n",
    "# US Sector ETFs\n",
    "\n",
    "# QQQ:  Technology\n",
    "# VHT:  Health Care\n",
    "# XLE:  Energy\n",
    "# VNQ:  Real Estate\n",
    "# XLF:  Financials\n",
    "# XLP:  Consumer Staples\n",
    "# XLY:  Consumer Discretionary\n",
    "benchmarks = ['SPY','TLT']\n",
    "equity_tickers = ['SPY','XLE','XLU','XLK','XLB','XLP','XLY','XLI','XLC','XLV','XLF','XLRE']\n",
    "\n",
    "# International Equity Securities\n",
    "\n",
    "# VEA:  Developed Markets\n",
    "# VWO:  Emerging Markets\n",
    "\n",
    "# Fixed Income Securities\n",
    "\n",
    "# TLT:  Long-dated Treasuries (20 yrs)\n",
    "# IEF:  Intermediate-dated Treasures(7-10 yrs)\n",
    "# SHY:  Short-dated Treasuries ()\n",
    "# LQD:  Investment grade corporate debt\n",
    "# HYG:  High Yield corporate debt\n",
    "\n",
    "debt_tickers = ['TLT','HYXF','SJNK','STOT','SPTI','LQD']\n",
    "\n",
    "all_tickers = equity_tickers + debt_tickers\n",
    "print(len(all_tickers))"
   ]
  },
  {
   "cell_type": "markdown",
   "id": "8f05d856",
   "metadata": {},
   "source": [
    "# Function to get ETF Data"
   ]
  },
  {
   "cell_type": "code",
   "execution_count": 5,
   "id": "390505f3",
   "metadata": {},
   "outputs": [],
   "source": [
    "def get_hist_ETF_data(tickers,start_date,end_date):\n",
    "    \n",
    "    combined_etf_data = pd.DataFrame()\n",
    "    \n",
    "    for i in tickers:\n",
    "    \n",
    "        # Get ETF data\n",
    "        data = yf.download(i, start=start_date, end=end_date, interval = \"1d\")\n",
    "        \n",
    "        # Get dividend data\n",
    "        \n",
    "        # Get div info for specific stock\n",
    "        ticks = yf.Ticker(i)\n",
    "        # Get historical div payments\n",
    "        ticks_hist = ticks.history(start=start_date, end=end_date, interval = \"1d\")['Dividends']\n",
    "        # Convert into df\n",
    "        ticks_hist_df = pd.DataFrame(ticks_hist)\n",
    "        # Make index same as base df\n",
    "        ticks_hist_df.index = data.index\n",
    "        # Add new column to base df with dividend info\n",
    "        data[\"Dividends\"] = ticks_hist_df\n",
    "        \n",
    "        # Simple moving average\n",
    "        data['MA'] = ta.SMA(data['Adj Close'],timeperiod=5)\n",
    "\n",
    "        # Exponential moving average\n",
    "        data['EMA'] = ta.EMA(data['Adj Close'],timeperiod=5)\n",
    "\n",
    "        # Relative Strength Index (RSI)\n",
    "        data['RSI'] = ta.RSI(data['Adj Close'],timeperiod=14)\n",
    "\n",
    "        # Moving Average Convergence-Divergence (MACD)\n",
    "        macd, macdsignal, macdhist = ta.MACD(data['Adj Close'], fastperiod=12, slowperiod=26, signalperiod=9)\n",
    "        data['MACD'] = macd\n",
    "        data['Signal'] = macdsignal\n",
    "        \n",
    "        # Calculate different between MACD and Signal lines\n",
    "        data['MACD_minus_signal'] = data['MACD'] - data['Signal']\n",
    "        \n",
    "        # Take subset of needed columns\n",
    "        subset_df = data[['Adj Close','Dividends','EMA','RSI','MACD','Signal','MACD_minus_signal']]\n",
    "        subset_df.columns = [str(i)+'_Adj Close',str(i)+'_Dividends',str(i)+'_EMA',str(i)+'_RSI',\n",
    "                             str(i)+'_MACD',str(i)+'_Signal',str(i)+'_MACD_minus_signal']\n",
    "        \n",
    "        # Add subset_df to combined df\n",
    "        combined_etf_data = pd.concat([combined_etf_data,subset_df],axis=1)\n",
    "        \n",
    "    return combined_etf_data"
   ]
  },
  {
   "cell_type": "markdown",
   "id": "d76067d8",
   "metadata": {},
   "source": [
    "# Test function on 60/40 Equity/Debt portfolio"
   ]
  },
  {
   "cell_type": "code",
   "execution_count": 6,
   "id": "bc5ce034",
   "metadata": {},
   "outputs": [],
   "source": [
    "# Set params for function\n",
    "ticker_test = ['SPY','XLE','XLU','XLK','XLB','XLP','XLY','XLI','XLC','XLV','XLF','XLRE','TLT','HYXF','SJNK','SPTI','LQD']\n",
    "start_date = \"2007-11-01\"\n",
    "end_date = \"2023-7-17\""
   ]
  },
  {
   "cell_type": "code",
   "execution_count": 7,
   "id": "d14bb3fe",
   "metadata": {},
   "outputs": [
    {
     "name": "stdout",
     "output_type": "stream",
     "text": [
      "[*********************100%***********************]  1 of 1 completed\n",
      "[*********************100%***********************]  1 of 1 completed\n",
      "[*********************100%***********************]  1 of 1 completed\n",
      "[*********************100%***********************]  1 of 1 completed\n",
      "[*********************100%***********************]  1 of 1 completed\n",
      "[*********************100%***********************]  1 of 1 completed\n",
      "[*********************100%***********************]  1 of 1 completed\n",
      "[*********************100%***********************]  1 of 1 completed\n",
      "[*********************100%***********************]  1 of 1 completed\n",
      "[*********************100%***********************]  1 of 1 completed\n",
      "[*********************100%***********************]  1 of 1 completed\n",
      "[*********************100%***********************]  1 of 1 completed\n",
      "[*********************100%***********************]  1 of 1 completed\n",
      "[*********************100%***********************]  1 of 1 completed\n",
      "[*********************100%***********************]  1 of 1 completed\n",
      "[*********************100%***********************]  1 of 1 completed\n",
      "[*********************100%***********************]  1 of 1 completed\n"
     ]
    }
   ],
   "source": [
    "# Run function\n",
    "test_60_40 = get_hist_ETF_data(ticker_test,start_date,end_date)"
   ]
  },
  {
   "cell_type": "markdown",
   "id": "ce7363b0",
   "metadata": {},
   "source": [
    "Add Back Dividends to Adjusted Close"
   ]
  },
  {
   "cell_type": "code",
   "execution_count": 8,
   "id": "b5ce0918",
   "metadata": {},
   "outputs": [],
   "source": [
    "ticker_quotes = set(ticker_test)^set(benchmarks) # excludes  benchmarks \n"
   ]
  },
  {
   "cell_type": "code",
   "execution_count": 9,
   "id": "ffceb22c",
   "metadata": {},
   "outputs": [],
   "source": [
    "ticker_quotes = set(ticker_test)^set(benchmarks) # excludes  benchmarks \n",
    "\n",
    "for j in benchmarks:\n",
    "    test_60_40[(j)+'_Adj Close'] = test_60_40[(j)+'_Adj Close']+ test_60_40[(j)+'_Dividends']    \n",
    "    test_60_40 = test_60_40.drop([(j)+'_Dividends'], axis=1)\n",
    "\n",
    "\n",
    "for i in ticker_quotes:\n",
    "    test_60_40[(i)+'_Adj Close'] = test_60_40[(i)+'_Adj Close']+ test_60_40[(i)+'_Dividends']\n",
    "    test_60_40 = test_60_40.drop([(i)+'_Dividends',(i)+'_EMA',(i)+'_RSI',(i)+'_MACD',(i)+'_Signal',(i)+'_MACD_minus_signal'], axis=1)"
   ]
  },
  {
   "cell_type": "markdown",
   "id": "3adc481d",
   "metadata": {},
   "source": []
  },
  {
   "cell_type": "code",
   "execution_count": 12,
   "id": "02b9eeb9",
   "metadata": {},
   "outputs": [],
   "source": [
    "# Show results\n",
    "test_60_40.to_csv('Excel_data/test_60_40_advanced.csv')"
   ]
  }
 ],
 "metadata": {
  "kernelspec": {
   "display_name": "Python 3 (ipykernel)",
   "language": "python",
   "name": "python3"
  },
  "language_info": {
   "codemirror_mode": {
    "name": "ipython",
    "version": 3
   },
   "file_extension": ".py",
   "mimetype": "text/x-python",
   "name": "python",
   "nbconvert_exporter": "python",
   "pygments_lexer": "ipython3",
   "version": "3.7.10"
  }
 },
 "nbformat": 4,
 "nbformat_minor": 5
}
