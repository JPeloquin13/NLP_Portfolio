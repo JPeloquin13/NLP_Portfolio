{
 "cells": [
  {
   "cell_type": "markdown",
   "id": "140c6e5f",
   "metadata": {},
   "source": [
    "# SIADS 699 Capstone - June-Aug 2023 - Team Alpha (Team 11) - Greg Holden"
   ]
  },
  {
   "cell_type": "markdown",
   "id": "3c25f2d2",
   "metadata": {},
   "source": [
    "# NLP Metrics for FOMC Documents"
   ]
  },
  {
   "cell_type": "code",
   "execution_count": 2,
   "id": "a3ead136",
   "metadata": {},
   "outputs": [
    {
     "name": "stderr",
     "output_type": "stream",
     "text": [
      "[nltk_data] Downloading package stopwords to\n",
      "[nltk_data]     /Users/gregholden/nltk_data...\n",
      "[nltk_data]   Package stopwords is already up-to-date!\n",
      "[nltk_data] Downloading package punkt to\n",
      "[nltk_data]     /Users/gregholden/nltk_data...\n",
      "[nltk_data]   Package punkt is already up-to-date!\n"
     ]
    }
   ],
   "source": [
    "# Load modules\n",
    "\n",
    "import pandas as pd\n",
    "import numpy as np\n",
    "import matplotlib\n",
    "import matplotlib.pyplot as plt\n",
    "from matplotlib.lines import Line2D\n",
    "import seaborn as sns\n",
    "\n",
    "import FedTools\n",
    "from FedTools import MonetaryPolicyCommittee\n",
    "from FedTools import BeigeBooks\n",
    "from FedTools import FederalReserveMins\n",
    "\n",
    "import nltk\n",
    "from nltk.corpus import stopwords\n",
    "from nltk.tokenize import word_tokenize\n",
    "import string\n",
    "nltk.download('stopwords')\n",
    "nltk.download('punkt')\n",
    "stop_words = set(stopwords.words('english'))\n",
    "\n",
    "import gensim\n",
    "from gensim import corpora, models\n",
    "from gensim.models import HdpModel\n",
    "import pyLDAvis.gensim\n",
    "from gensim.models import Phrases\n",
    "from gensim.models import CoherenceModel\n",
    "from gensim.models.ldamodel import LdaModel\n",
    "from gensim.utils import simple_preprocess\n",
    "from gensim.models.coherencemodel import CoherenceModel\n",
    "from gensim.models.word2vec import Word2Vec\n",
    "\n",
    "import re\n",
    "import sklearn\n",
    "from sklearn.feature_extraction.text import TfidfVectorizer \n",
    "from sklearn.metrics.pairwise import cosine_similarity\n",
    "\n",
    "import top2vec\n",
    "from top2vec import Top2Vec\n",
    "import bertopic\n",
    "from bertopic import BERTopic\n",
    "from sklearn.feature_extraction.text import CountVectorizer\n",
    "import umap\n",
    "\n",
    "import collections\n",
    "from collections import defaultdict\n",
    "from collections import Counter\n",
    "\n",
    "import spacy\n",
    "import spacy_universal_sentence_encoder\n",
    "from spacy import displacy\n",
    "\n",
    "import en_core_web_sm\n",
    "nlp = en_core_web_sm.load()\n",
    "\n",
    "import os\n",
    "os.environ[\"TOKENIZERS_PARALLELISM\"] = \"false\"\n",
    "\n",
    "import warnings\n",
    "warnings.filterwarnings('ignore')"
   ]
  },
  {
   "cell_type": "markdown",
   "id": "283857a1",
   "metadata": {},
   "source": [
    "# Part 1a:  Retrieve FOMC Minutes "
   ]
  },
  {
   "cell_type": "code",
   "execution_count": 3,
   "id": "dfa30dfc",
   "metadata": {},
   "outputs": [
    {
     "name": "stdout",
     "output_type": "stream",
     "text": [
      "Constructing links between 2008 and 2023\n",
      "Extracting Federal Reserve Minutes.\n",
      "Retrieving articles.\n",
      "..........................................................................................................................."
     ]
    }
   ],
   "source": [
    "# Set parameters for download\n",
    "\n",
    "fed_mins = FederalReserveMins(\n",
    "            main_url = 'https://www.federalreserve.gov', \n",
    "            calendar_url ='https://www.federalreserve.gov/monetarypolicy/fomccalendars.htm',\n",
    "            start_year = 2008,        \n",
    "            historical_split = 2017,\n",
    "            verbose = True,\n",
    "            thread_num = 10)\n",
    "\n",
    "mins_dataset_download = fed_mins.find_minutes()"
   ]
  },
  {
   "cell_type": "code",
   "execution_count": 4,
   "id": "dfa1ff66",
   "metadata": {},
   "outputs": [
    {
     "data": {
      "text/plain": [
       "123"
      ]
     },
     "execution_count": 4,
     "metadata": {},
     "output_type": "execute_result"
    }
   ],
   "source": [
    "# Show length of df\n",
    "len(mins_dataset_download)"
   ]
  },
  {
   "cell_type": "code",
   "execution_count": 5,
   "id": "72d80706",
   "metadata": {},
   "outputs": [
    {
     "data": {
      "text/html": [
       "<div>\n",
       "<style scoped>\n",
       "    .dataframe tbody tr th:only-of-type {\n",
       "        vertical-align: middle;\n",
       "    }\n",
       "\n",
       "    .dataframe tbody tr th {\n",
       "        vertical-align: top;\n",
       "    }\n",
       "\n",
       "    .dataframe thead th {\n",
       "        text-align: right;\n",
       "    }\n",
       "</style>\n",
       "<table border=\"1\" class=\"dataframe\">\n",
       "  <thead>\n",
       "    <tr style=\"text-align: right;\">\n",
       "      <th></th>\n",
       "      <th>Federal_Reserve_Mins</th>\n",
       "    </tr>\n",
       "  </thead>\n",
       "  <tbody>\n",
       "    <tr>\n",
       "      <th>2023-03-22</th>\n",
       "      <td>The Federal Reserve, the central bank of the U...</td>\n",
       "    </tr>\n",
       "    <tr>\n",
       "      <th>2023-05-03</th>\n",
       "      <td>The Federal Reserve, the central bank of the U...</td>\n",
       "    </tr>\n",
       "    <tr>\n",
       "      <th>2023-06-14</th>\n",
       "      <td>The Federal Reserve, the central bank of the U...</td>\n",
       "    </tr>\n",
       "  </tbody>\n",
       "</table>\n",
       "</div>"
      ],
      "text/plain": [
       "                                         Federal_Reserve_Mins\n",
       "2023-03-22  The Federal Reserve, the central bank of the U...\n",
       "2023-05-03  The Federal Reserve, the central bank of the U...\n",
       "2023-06-14  The Federal Reserve, the central bank of the U..."
      ]
     },
     "execution_count": 5,
     "metadata": {},
     "output_type": "execute_result"
    }
   ],
   "source": [
    "# Review dataset\n",
    "mins_dataset_download.tail(3)"
   ]
  },
  {
   "cell_type": "code",
   "execution_count": 6,
   "id": "e186ac0c",
   "metadata": {},
   "outputs": [],
   "source": [
    "# # Download Mins data to csv file\n",
    "# mins_dataset_download.to_csv('mins_dataset_NEW_TEST_DATE.csv',index=True)"
   ]
  },
  {
   "cell_type": "markdown",
   "id": "af0958e3",
   "metadata": {},
   "source": [
    "# Load pre-existing dataset of 2008-23 FOMC Minutes from csv file"
   ]
  },
  {
   "cell_type": "code",
   "execution_count": 7,
   "id": "7b0f9b13",
   "metadata": {},
   "outputs": [
    {
     "data": {
      "text/html": [
       "<div>\n",
       "<style scoped>\n",
       "    .dataframe tbody tr th:only-of-type {\n",
       "        vertical-align: middle;\n",
       "    }\n",
       "\n",
       "    .dataframe tbody tr th {\n",
       "        vertical-align: top;\n",
       "    }\n",
       "\n",
       "    .dataframe thead th {\n",
       "        text-align: right;\n",
       "    }\n",
       "</style>\n",
       "<table border=\"1\" class=\"dataframe\">\n",
       "  <thead>\n",
       "    <tr style=\"text-align: right;\">\n",
       "      <th></th>\n",
       "      <th>Federal_Reserve_Mins</th>\n",
       "    </tr>\n",
       "  </thead>\n",
       "  <tbody>\n",
       "    <tr>\n",
       "      <th>2008-01-30</th>\n",
       "      <td>The Federal Reserve, the central bank of the U...</td>\n",
       "    </tr>\n",
       "    <tr>\n",
       "      <th>2008-03-18</th>\n",
       "      <td>March 18, 2008  Present:Mr. Bernanke, Chairman...</td>\n",
       "    </tr>\n",
       "    <tr>\n",
       "      <th>2008-04-30</th>\n",
       "      <td>April 29-30, 2008  PRESENT:Mr. Bernanke, Chair...</td>\n",
       "    </tr>\n",
       "    <tr>\n",
       "      <th>2008-08-05</th>\n",
       "      <td>August 5, 2008  PRESENT: Mr. Bernanke, Chairma...</td>\n",
       "    </tr>\n",
       "    <tr>\n",
       "      <th>2008-09-16</th>\n",
       "      <td>September 16, 2008  PRESENT:Mr. Bernanke, Chai...</td>\n",
       "    </tr>\n",
       "  </tbody>\n",
       "</table>\n",
       "</div>"
      ],
      "text/plain": [
       "                                         Federal_Reserve_Mins\n",
       "2008-01-30  The Federal Reserve, the central bank of the U...\n",
       "2008-03-18  March 18, 2008  Present:Mr. Bernanke, Chairman...\n",
       "2008-04-30  April 29-30, 2008  PRESENT:Mr. Bernanke, Chair...\n",
       "2008-08-05  August 5, 2008  PRESENT: Mr. Bernanke, Chairma...\n",
       "2008-09-16  September 16, 2008  PRESENT:Mr. Bernanke, Chai..."
      ]
     },
     "execution_count": 7,
     "metadata": {},
     "output_type": "execute_result"
    }
   ],
   "source": [
    "# Reopen csv file\n",
    "mins_dataset = pd.read_csv('mins_dataset_2008_2023.csv',index_col=0)\n",
    "mins_dataset.head()"
   ]
  },
  {
   "cell_type": "markdown",
   "id": "1b1eb209",
   "metadata": {},
   "source": [
    "# 1b.  Create Cosine Similarity scores for FOMC Minutes"
   ]
  },
  {
   "cell_type": "code",
   "execution_count": 8,
   "id": "1236a408",
   "metadata": {},
   "outputs": [
    {
     "name": "stdout",
     "output_type": "stream",
     "text": [
      "cossim test   (0, 0)\t0.8190670882394274\n",
      "cos_sim_sklean [[0.81906709]]\n",
      "[[1.         0.64759552 0.67330946 ... 0.73830522 0.75819726 0.73035889]\n",
      " [0.64759552 1.         0.81906709 ... 0.61726483 0.61280115 0.62345644]\n",
      " [0.67330946 0.81906709 1.         ... 0.64435445 0.66770545 0.6853058 ]\n",
      " ...\n",
      " [0.73830522 0.61726483 0.64435445 ... 1.         0.86113172 0.86695072]\n",
      " [0.75819726 0.61280115 0.66770545 ... 0.86113172 1.         0.88075515]\n",
      " [0.73035889 0.62345644 0.6853058  ... 0.86695072 0.88075515 1.        ]]\n",
      "cos btw docs 1 and 2 0.8190670882394274\n",
      "new_array shape (123,)\n"
     ]
    }
   ],
   "source": [
    "# Set up list of stop words\n",
    "stop_words_l=stopwords.words('english')\n",
    "\n",
    "# Preprocess text to remove special characters and stop words\n",
    "mins_dataset['Federal_Reserve_Mins_cleaned'] = mins_dataset.Federal_Reserve_Mins.apply(lambda x: \" \".join(re.sub(r'[^a-zA-Z]',' ',w).lower() for w in x.split() if re.sub(r'[^a-zA-Z]',' ',w).lower() not in stop_words_l) )\n",
    "\n",
    "# Set up vectorizer\n",
    "tfidfvectoriser = TfidfVectorizer()\n",
    "\n",
    "# Fit vectorizer on cleaned text\n",
    "tfidfvectoriser.fit(mins_dataset['Federal_Reserve_Mins_cleaned'])\n",
    "\n",
    "# Use tranform to create vectors for each doc\n",
    "tfidf_vectors = tfidfvectoriser.transform(mins_dataset['Federal_Reserve_Mins_cleaned'])\n",
    "\n",
    "# Test calc of cosine similarity\n",
    "first_vec = tfidf_vectors[1]\n",
    "second_vec = tfidf_vectors[2]\n",
    "cossim_test = np.dot(second_vec,first_vec.T)\n",
    "print('cossim test', cossim_test)\n",
    "\n",
    "# Confirm that we get the same result using cosine_similarity function from sklearn\n",
    "cos_sim_sklearn = cosine_similarity(tfidf_vectors[1],tfidf_vectors[2])\n",
    "print('cos_sim_sklean',cos_sim_sklearn)\n",
    "\n",
    "# Create array of cosine similarities between each pair of documents \n",
    "pairwise_similarities=np.dot(tfidf_vectors,tfidf_vectors.T).toarray()\n",
    "\n",
    "# Print array (may be very large)\n",
    "print(pairwise_similarities)\n",
    "\n",
    "# Test - extract sample cosine sim scores\n",
    "print(\"cos btw docs 1 and 2\",pairwise_similarities[1][2])\n",
    "\n",
    "# Create cosine similarity score array only for consecutive pairs of docs using off-diagonal (k=1 parameter)\n",
    "pairwise_similarities_diag = np.diag(pairwise_similarities,k=1)\n",
    "\n",
    "# Add 0 as first element in cosine sim score array\n",
    "new_array = np.append(0,pairwise_similarities_diag)\n",
    "\n",
    "# Review newly created cosine sim score array\n",
    "#print(\"new array\",new_array)\n",
    "\n",
    "# Check shape of newly created cosine sim score array\n",
    "print(\"new_array shape\",new_array.shape)\n",
    "\n",
    "# Add new column to df with cosine sim scores for subsequent docs\n",
    "mins_dataset['cosine_sim'] = new_array"
   ]
  },
  {
   "cell_type": "code",
   "execution_count": 9,
   "id": "fc9fe570",
   "metadata": {},
   "outputs": [
    {
     "data": {
      "text/plain": [
       "2023-03-22    0.816408\n",
       "2023-05-03    0.861132\n",
       "2023-06-14    0.880755\n",
       "Name: cosine_sim, dtype: float64"
      ]
     },
     "execution_count": 9,
     "metadata": {},
     "output_type": "execute_result"
    }
   ],
   "source": [
    "# Review first few rows of new cosine sim col\n",
    "mins_dataset['cosine_sim'].tail(3)"
   ]
  },
  {
   "cell_type": "code",
   "execution_count": 10,
   "id": "057af2cb",
   "metadata": {},
   "outputs": [
    {
     "data": {
      "text/plain": [
       "count    123.000000\n",
       "mean       0.791025\n",
       "std        0.098212\n",
       "min        0.000000\n",
       "25%        0.746045\n",
       "50%        0.808370\n",
       "75%        0.850403\n",
       "max        0.902121\n",
       "Name: cosine_sim, dtype: float64"
      ]
     },
     "execution_count": 10,
     "metadata": {},
     "output_type": "execute_result"
    }
   ],
   "source": [
    "# Get summary stats for cosine sim\n",
    "mins_dataset['cosine_sim'].describe()"
   ]
  },
  {
   "cell_type": "markdown",
   "id": "504027ad",
   "metadata": {},
   "source": [
    "# 1c.  Universal Sentence Encoder"
   ]
  },
  {
   "cell_type": "code",
   "execution_count": 11,
   "id": "24588a7c",
   "metadata": {},
   "outputs": [],
   "source": [
    "# Create model\n",
    "USE_model = spacy_universal_sentence_encoder.load_model('en_use_md')"
   ]
  },
  {
   "cell_type": "code",
   "execution_count": 12,
   "id": "bf7457cd",
   "metadata": {},
   "outputs": [],
   "source": [
    "# Shift col with Fed Minutes to make USE model similarity scores easier to calculate\n",
    "mins_dataset['Federal_Reserve_Mins_shifted'] = mins_dataset['Federal_Reserve_Mins'].shift(1)"
   ]
  },
  {
   "cell_type": "code",
   "execution_count": 13,
   "id": "bdc0641a",
   "metadata": {},
   "outputs": [],
   "source": [
    "# Set first rows equal\n",
    "mins_dataset['Federal_Reserve_Mins_shifted'][0] = mins_dataset['Federal_Reserve_Mins'][0]"
   ]
  },
  {
   "cell_type": "code",
   "execution_count": 14,
   "id": "78b69487",
   "metadata": {},
   "outputs": [
    {
     "data": {
      "text/html": [
       "<div>\n",
       "<style scoped>\n",
       "    .dataframe tbody tr th:only-of-type {\n",
       "        vertical-align: middle;\n",
       "    }\n",
       "\n",
       "    .dataframe tbody tr th {\n",
       "        vertical-align: top;\n",
       "    }\n",
       "\n",
       "    .dataframe thead th {\n",
       "        text-align: right;\n",
       "    }\n",
       "</style>\n",
       "<table border=\"1\" class=\"dataframe\">\n",
       "  <thead>\n",
       "    <tr style=\"text-align: right;\">\n",
       "      <th></th>\n",
       "      <th>Federal_Reserve_Mins</th>\n",
       "      <th>Federal_Reserve_Mins_shifted</th>\n",
       "    </tr>\n",
       "  </thead>\n",
       "  <tbody>\n",
       "    <tr>\n",
       "      <th>2008-01-30</th>\n",
       "      <td>The Federal Reserve, the central bank of the U...</td>\n",
       "      <td>The Federal Reserve, the central bank of the U...</td>\n",
       "    </tr>\n",
       "    <tr>\n",
       "      <th>2008-03-18</th>\n",
       "      <td>March 18, 2008  Present:Mr. Bernanke, Chairman...</td>\n",
       "      <td>The Federal Reserve, the central bank of the U...</td>\n",
       "    </tr>\n",
       "    <tr>\n",
       "      <th>2008-04-30</th>\n",
       "      <td>April 29-30, 2008  PRESENT:Mr. Bernanke, Chair...</td>\n",
       "      <td>March 18, 2008  Present:Mr. Bernanke, Chairman...</td>\n",
       "    </tr>\n",
       "    <tr>\n",
       "      <th>2008-08-05</th>\n",
       "      <td>August 5, 2008  PRESENT: Mr. Bernanke, Chairma...</td>\n",
       "      <td>April 29-30, 2008  PRESENT:Mr. Bernanke, Chair...</td>\n",
       "    </tr>\n",
       "    <tr>\n",
       "      <th>2008-09-16</th>\n",
       "      <td>September 16, 2008  PRESENT:Mr. Bernanke, Chai...</td>\n",
       "      <td>August 5, 2008  PRESENT: Mr. Bernanke, Chairma...</td>\n",
       "    </tr>\n",
       "  </tbody>\n",
       "</table>\n",
       "</div>"
      ],
      "text/plain": [
       "                                         Federal_Reserve_Mins   \n",
       "2008-01-30  The Federal Reserve, the central bank of the U...  \\\n",
       "2008-03-18  March 18, 2008  Present:Mr. Bernanke, Chairman...   \n",
       "2008-04-30  April 29-30, 2008  PRESENT:Mr. Bernanke, Chair...   \n",
       "2008-08-05  August 5, 2008  PRESENT: Mr. Bernanke, Chairma...   \n",
       "2008-09-16  September 16, 2008  PRESENT:Mr. Bernanke, Chai...   \n",
       "\n",
       "                                 Federal_Reserve_Mins_shifted  \n",
       "2008-01-30  The Federal Reserve, the central bank of the U...  \n",
       "2008-03-18  The Federal Reserve, the central bank of the U...  \n",
       "2008-04-30  March 18, 2008  Present:Mr. Bernanke, Chairman...  \n",
       "2008-08-05  April 29-30, 2008  PRESENT:Mr. Bernanke, Chair...  \n",
       "2008-09-16  August 5, 2008  PRESENT: Mr. Bernanke, Chairma...  "
      ]
     },
     "execution_count": 14,
     "metadata": {},
     "output_type": "execute_result"
    }
   ],
   "source": [
    "# Confirm that shift worked\n",
    "mins_dataset[['Federal_Reserve_Mins','Federal_Reserve_Mins_shifted']].head()"
   ]
  },
  {
   "cell_type": "code",
   "execution_count": 15,
   "id": "02cdbbb8",
   "metadata": {},
   "outputs": [
    {
     "data": {
      "text/plain": [
       "Index(['Federal_Reserve_Mins', 'Federal_Reserve_Mins_cleaned', 'cosine_sim',\n",
       "       'Federal_Reserve_Mins_shifted'],\n",
       "      dtype='object')"
      ]
     },
     "execution_count": 15,
     "metadata": {},
     "output_type": "execute_result"
    }
   ],
   "source": [
    "# Review column names\n",
    "mins_dataset.columns"
   ]
  },
  {
   "cell_type": "markdown",
   "id": "22268af9",
   "metadata": {},
   "source": [
    "# 1c. Create list of USE similarity scores between docs"
   ]
  },
  {
   "cell_type": "code",
   "execution_count": 16,
   "id": "be8e0892",
   "metadata": {},
   "outputs": [
    {
     "data": {
      "text/html": [
       "<div>\n",
       "<style scoped>\n",
       "    .dataframe tbody tr th:only-of-type {\n",
       "        vertical-align: middle;\n",
       "    }\n",
       "\n",
       "    .dataframe tbody tr th {\n",
       "        vertical-align: top;\n",
       "    }\n",
       "\n",
       "    .dataframe thead th {\n",
       "        text-align: right;\n",
       "    }\n",
       "</style>\n",
       "<table border=\"1\" class=\"dataframe\">\n",
       "  <thead>\n",
       "    <tr style=\"text-align: right;\">\n",
       "      <th></th>\n",
       "      <th>Federal_Reserve_Mins</th>\n",
       "      <th>Federal_Reserve_Mins_cleaned</th>\n",
       "      <th>cosine_sim</th>\n",
       "      <th>Federal_Reserve_Mins_shifted</th>\n",
       "    </tr>\n",
       "  </thead>\n",
       "  <tbody>\n",
       "    <tr>\n",
       "      <th>2008-01-30</th>\n",
       "      <td>The Federal Reserve, the central bank of the U...</td>\n",
       "      <td>federal reserve  central bank united states  p...</td>\n",
       "      <td>0.000000</td>\n",
       "      <td>The Federal Reserve, the central bank of the U...</td>\n",
       "    </tr>\n",
       "    <tr>\n",
       "      <th>2008-03-18</th>\n",
       "      <td>March 18, 2008  Present:Mr. Bernanke, Chairman...</td>\n",
       "      <td>march          present mr  bernanke  chairmanm...</td>\n",
       "      <td>0.647596</td>\n",
       "      <td>The Federal Reserve, the central bank of the U...</td>\n",
       "    </tr>\n",
       "    <tr>\n",
       "      <th>2008-04-30</th>\n",
       "      <td>April 29-30, 2008  PRESENT:Mr. Bernanke, Chair...</td>\n",
       "      <td>april             present mr  bernanke  chairm...</td>\n",
       "      <td>0.819067</td>\n",
       "      <td>March 18, 2008  Present:Mr. Bernanke, Chairman...</td>\n",
       "    </tr>\n",
       "  </tbody>\n",
       "</table>\n",
       "</div>"
      ],
      "text/plain": [
       "                                         Federal_Reserve_Mins   \n",
       "2008-01-30  The Federal Reserve, the central bank of the U...  \\\n",
       "2008-03-18  March 18, 2008  Present:Mr. Bernanke, Chairman...   \n",
       "2008-04-30  April 29-30, 2008  PRESENT:Mr. Bernanke, Chair...   \n",
       "\n",
       "                                 Federal_Reserve_Mins_cleaned  cosine_sim   \n",
       "2008-01-30  federal reserve  central bank united states  p...    0.000000  \\\n",
       "2008-03-18  march          present mr  bernanke  chairmanm...    0.647596   \n",
       "2008-04-30  april             present mr  bernanke  chairm...    0.819067   \n",
       "\n",
       "                                 Federal_Reserve_Mins_shifted  \n",
       "2008-01-30  The Federal Reserve, the central bank of the U...  \n",
       "2008-03-18  The Federal Reserve, the central bank of the U...  \n",
       "2008-04-30  March 18, 2008  Present:Mr. Bernanke, Chairman...  "
      ]
     },
     "execution_count": 16,
     "metadata": {},
     "output_type": "execute_result"
    }
   ],
   "source": [
    "mins_dataset.head(3)"
   ]
  },
  {
   "cell_type": "code",
   "execution_count": 17,
   "id": "ef7e8c64",
   "metadata": {},
   "outputs": [],
   "source": [
    "# Create empty list\n",
    "similarityValue = []\n",
    "\n",
    "for i in range(mins_dataset.count()[0]):\n",
    "    sentence_1 = USE_model(mins_dataset.iloc[i][0])\n",
    "    sentence_2 = USE_model(mins_dataset.iloc[i][3])\n",
    "    similarityValue.append(sentence_1.similarity(sentence_2))"
   ]
  },
  {
   "cell_type": "code",
   "execution_count": 18,
   "id": "c0d5a8de",
   "metadata": {},
   "outputs": [
    {
     "data": {
      "text/plain": [
       "[1.0,\n",
       " 0.8499134770022305,\n",
       " 0.958913243145284,\n",
       " 0.9336417618048019,\n",
       " 0.9577383830656264]"
      ]
     },
     "execution_count": 18,
     "metadata": {},
     "output_type": "execute_result"
    }
   ],
   "source": [
    "# Review first few USE similarity scores\n",
    "similarityValue[0:5]"
   ]
  },
  {
   "cell_type": "code",
   "execution_count": 19,
   "id": "6a4ab1a8",
   "metadata": {},
   "outputs": [
    {
     "name": "stdout",
     "output_type": "stream",
     "text": [
      "123\n"
     ]
    }
   ],
   "source": [
    "# Confirm length of list\n",
    "print(len(similarityValue))"
   ]
  },
  {
   "cell_type": "code",
   "execution_count": 20,
   "id": "eec1a9ce",
   "metadata": {},
   "outputs": [
    {
     "data": {
      "text/html": [
       "<div>\n",
       "<style scoped>\n",
       "    .dataframe tbody tr th:only-of-type {\n",
       "        vertical-align: middle;\n",
       "    }\n",
       "\n",
       "    .dataframe tbody tr th {\n",
       "        vertical-align: top;\n",
       "    }\n",
       "\n",
       "    .dataframe thead th {\n",
       "        text-align: right;\n",
       "    }\n",
       "</style>\n",
       "<table border=\"1\" class=\"dataframe\">\n",
       "  <thead>\n",
       "    <tr style=\"text-align: right;\">\n",
       "      <th></th>\n",
       "      <th>use_sim_score</th>\n",
       "    </tr>\n",
       "  </thead>\n",
       "  <tbody>\n",
       "    <tr>\n",
       "      <th>count</th>\n",
       "      <td>123.000000</td>\n",
       "    </tr>\n",
       "    <tr>\n",
       "      <th>mean</th>\n",
       "      <td>0.935300</td>\n",
       "    </tr>\n",
       "    <tr>\n",
       "      <th>std</th>\n",
       "      <td>0.034777</td>\n",
       "    </tr>\n",
       "    <tr>\n",
       "      <th>min</th>\n",
       "      <td>0.842567</td>\n",
       "    </tr>\n",
       "    <tr>\n",
       "      <th>25%</th>\n",
       "      <td>0.907305</td>\n",
       "    </tr>\n",
       "    <tr>\n",
       "      <th>50%</th>\n",
       "      <td>0.947213</td>\n",
       "    </tr>\n",
       "    <tr>\n",
       "      <th>75%</th>\n",
       "      <td>0.961028</td>\n",
       "    </tr>\n",
       "    <tr>\n",
       "      <th>max</th>\n",
       "      <td>1.000000</td>\n",
       "    </tr>\n",
       "  </tbody>\n",
       "</table>\n",
       "</div>"
      ],
      "text/plain": [
       "       use_sim_score\n",
       "count     123.000000\n",
       "mean        0.935300\n",
       "std         0.034777\n",
       "min         0.842567\n",
       "25%         0.907305\n",
       "50%         0.947213\n",
       "75%         0.961028\n",
       "max         1.000000"
      ]
     },
     "execution_count": 20,
     "metadata": {},
     "output_type": "execute_result"
    }
   ],
   "source": [
    "# Save USE scores list to df\n",
    "use_scores_df = pd.DataFrame(similarityValue)\n",
    "\n",
    "# Add index values based on FOMC Minutes release dates\n",
    "use_scores_df.index = mins_dataset.index\n",
    "\n",
    "# Add column header\n",
    "use_scores_df.columns = ['use_sim_score']\n",
    "\n",
    "# Review summary stats of USE similarity scores\n",
    "use_scores_df.describe()"
   ]
  },
  {
   "cell_type": "code",
   "execution_count": 21,
   "id": "ef128c3f",
   "metadata": {},
   "outputs": [
    {
     "data": {
      "text/plain": [
       "123"
      ]
     },
     "execution_count": 21,
     "metadata": {},
     "output_type": "execute_result"
    }
   ],
   "source": [
    "# Confirm length of df\n",
    "len(use_scores_df)"
   ]
  },
  {
   "cell_type": "code",
   "execution_count": 22,
   "id": "5486428c",
   "metadata": {},
   "outputs": [],
   "source": [
    "# Save DataFrame to CSV file\n",
    "use_scores_df.to_csv('use_scores_NEW_TEST_DATE.csv', index=True)"
   ]
  },
  {
   "cell_type": "code",
   "execution_count": 23,
   "id": "ace95708",
   "metadata": {},
   "outputs": [
    {
     "data": {
      "text/html": [
       "<div>\n",
       "<style scoped>\n",
       "    .dataframe tbody tr th:only-of-type {\n",
       "        vertical-align: middle;\n",
       "    }\n",
       "\n",
       "    .dataframe tbody tr th {\n",
       "        vertical-align: top;\n",
       "    }\n",
       "\n",
       "    .dataframe thead th {\n",
       "        text-align: right;\n",
       "    }\n",
       "</style>\n",
       "<table border=\"1\" class=\"dataframe\">\n",
       "  <thead>\n",
       "    <tr style=\"text-align: right;\">\n",
       "      <th></th>\n",
       "      <th>use_sim_score</th>\n",
       "    </tr>\n",
       "  </thead>\n",
       "  <tbody>\n",
       "    <tr>\n",
       "      <th>2022-12-14</th>\n",
       "      <td>0.949449</td>\n",
       "    </tr>\n",
       "    <tr>\n",
       "      <th>2023-02-01</th>\n",
       "      <td>0.955747</td>\n",
       "    </tr>\n",
       "    <tr>\n",
       "      <th>2023-03-22</th>\n",
       "      <td>0.943389</td>\n",
       "    </tr>\n",
       "    <tr>\n",
       "      <th>2023-05-03</th>\n",
       "      <td>0.950055</td>\n",
       "    </tr>\n",
       "    <tr>\n",
       "      <th>2023-06-14</th>\n",
       "      <td>0.947213</td>\n",
       "    </tr>\n",
       "  </tbody>\n",
       "</table>\n",
       "</div>"
      ],
      "text/plain": [
       "            use_sim_score\n",
       "2022-12-14       0.949449\n",
       "2023-02-01       0.955747\n",
       "2023-03-22       0.943389\n",
       "2023-05-03       0.950055\n",
       "2023-06-14       0.947213"
      ]
     },
     "execution_count": 23,
     "metadata": {},
     "output_type": "execute_result"
    }
   ],
   "source": [
    "# Load use_scores_df from csv and review first few entries\n",
    "test_use_scores = pd.read_csv('use_scores_NEW_TEST_DATE.csv',index_col=0)\n",
    "test_use_scores.tail()"
   ]
  },
  {
   "cell_type": "markdown",
   "id": "b1596144",
   "metadata": {},
   "source": [
    "# 1d.   LDA - Create dictionary and corpus"
   ]
  },
  {
   "cell_type": "code",
   "execution_count": 24,
   "id": "132abc00",
   "metadata": {},
   "outputs": [
    {
     "name": "stdout",
     "output_type": "stream",
     "text": [
      "123\n",
      "Number of unique tokens: 10513\n",
      "Number of documents: 123\n"
     ]
    }
   ],
   "source": [
    "# Create LDA Model\n",
    "\n",
    "# Get data\n",
    "docs_mins_test = mins_dataset['Federal_Reserve_Mins'].to_list()\n",
    "\n",
    "# Confirm length of data\n",
    "print(len(docs_mins_test))\n",
    "\n",
    "# Create preprocessing function\n",
    "def preprocess_text(text):\n",
    "    doc = nlp(text)\n",
    "    # Preprocessing steps - lemmatization, removing stop words, punctuation\n",
    "    preprocessed_text = [token.lemma_ for token in doc if not token.is_stop and token.is_alpha]\n",
    "    return preprocessed_text\n",
    "\n",
    "# Preprocess data\n",
    "texts = [preprocess_text(data) for data in docs_mins_test]\n",
    "\n",
    "# Remove words that appear only once\n",
    "frequency = defaultdict(int)\n",
    "for text in texts:\n",
    "    for token in text:\n",
    "        frequency[token] += 1\n",
    "\n",
    "texts = [[token for token in text if frequency[token] > 1]\n",
    "         for text in texts]\n",
    "\n",
    "# Add bigrams to docs\n",
    "bigram = Phrases(texts, min_count=2)\n",
    "for idx in range(len(texts)):\n",
    "    for token in bigram[texts[idx]]:\n",
    "        if '_' in token:\n",
    "            # Token is a bigram, add to document.\n",
    "            texts[idx].append(token)\n",
    "            \n",
    "# Create the dictionary\n",
    "dictionary = corpora.Dictionary(texts)\n",
    "\n",
    "# Filter out words\n",
    "dictionary.filter_extremes(no_below=1, no_above=0.5)\n",
    "\n",
    "# Create the corpus  \n",
    "corpus = [dictionary.doc2bow(text) for text in texts]\n",
    "\n",
    "# Show number of tokens and documents\n",
    "print(f'Number of unique tokens: {len(dictionary)}')\n",
    "print(f'Number of documents: {len(corpus)}')"
   ]
  },
  {
   "cell_type": "markdown",
   "id": "f241a91e",
   "metadata": {},
   "source": [
    "# 1d. LDA - Create LDA Model"
   ]
  },
  {
   "cell_type": "code",
   "execution_count": 25,
   "id": "90d8657d",
   "metadata": {
    "scrolled": true
   },
   "outputs": [
    {
     "name": "stderr",
     "output_type": "stream",
     "text": [
      "WARNING:gensim.models.ldamodel:too few updates, training might not converge; consider increasing the number of passes or iterations to improve accuracy\n"
     ]
    },
    {
     "name": "stdout",
     "output_type": "stream",
     "text": [
      "Topic #1: 0.003*\"pandemic\" + 0.003*\"arrangement\" + 0.002*\"shall\" + 0.002*\"August\" + 0.002*\"repo\" + 0.002*\"Foreign\" + 0.002*\"paragraph\" + 0.001*\"framework\" + 0.001*\"RRP\" + 0.001*\"forward_guidance\"\n",
      "Topic #2: 0.005*\"August\" + 0.002*\"shall\" + 0.002*\"arrangement\" + 0.002*\"repo\" + 0.002*\"RRP\" + 0.002*\"pandemic\" + 0.002*\"normalization\" + 0.002*\"Subcommittee\" + 0.002*\"Foreign\" + 0.001*\"eme\"\n",
      "Topic #3: 0.004*\"August\" + 0.003*\"pandemic\" + 0.003*\"shall\" + 0.003*\"arrangement\" + 0.002*\"RRP\" + 0.002*\"Subcommittee\" + 0.002*\"forward_guidance\" + 0.002*\"normalization\" + 0.002*\"repo\" + 0.002*\"functioning\"\n",
      "Topic #4: 0.004*\"arrangement\" + 0.003*\"August\" + 0.003*\"shall\" + 0.002*\"normalization\" + 0.002*\"RRP\" + 0.002*\"pandemic\" + 0.002*\"repo\" + 0.002*\"strategy\" + 0.001*\"forward_guidance\" + 0.001*\"Foreign\"\n",
      "Topic #5: 0.004*\"arrangement\" + 0.003*\"August\" + 0.003*\"pandemic\" + 0.002*\"shall\" + 0.002*\"paragraph\" + 0.002*\"forward_guidance\" + 0.002*\"Foreign\" + 0.002*\"normalization\" + 0.002*\"Selected\" + 0.001*\"Subcommittee\"\n",
      "Topic #6: 0.004*\"arrangement\" + 0.003*\"shall\" + 0.003*\"August\" + 0.002*\"Foreign\" + 0.002*\"pandemic\" + 0.002*\"paragraph\" + 0.002*\"Subcommittee\" + 0.002*\"RRP\" + 0.002*\"Selected\" + 0.001*\"normalization\"\n",
      "Topic #7: 0.005*\"pandemic\" + 0.003*\"August\" + 0.002*\"shall\" + 0.002*\"arrangement\" + 0.002*\"Selected\" + 0.002*\"repo\" + 0.002*\"paragraph\" + 0.002*\"RRP\" + 0.002*\"Subcommittee\" + 0.002*\"stimulus\"\n",
      "Topic #8: 0.003*\"August\" + 0.003*\"arrangement\" + 0.003*\"shall\" + 0.002*\"RRP\" + 0.002*\"paragraph\" + 0.002*\"Foreign\" + 0.002*\"normalization\" + 0.002*\"pandemic\" + 0.002*\"Subcommittee\" + 0.001*\"repo\"\n",
      "Topic #9: 0.003*\"arrangement\" + 0.003*\"shall\" + 0.003*\"pandemic\" + 0.003*\"August\" + 0.002*\"repo\" + 0.002*\"Foreign\" + 0.002*\"Subcommittee\" + 0.002*\"normalization\" + 0.001*\"paragraph\" + 0.001*\"strategy\"\n"
     ]
    }
   ],
   "source": [
    "# Train the LDA model\n",
    "lda_model_simple = models.LdaModel(corpus=corpus,id2word=dictionary, num_topics=9, random_state=99)\n",
    "\n",
    "# Print the topics and their top keywords\n",
    "for topic_id, topic in lda_model_simple.show_topics():\n",
    "    print(f\"Topic #{topic_id + 1}: {topic}\")"
   ]
  },
  {
   "cell_type": "code",
   "execution_count": 26,
   "id": "3a560db9",
   "metadata": {},
   "outputs": [
    {
     "data": {
      "text/html": [
       "\n",
       "<link rel=\"stylesheet\" type=\"text/css\" href=\"https://cdn.jsdelivr.net/gh/bmabey/pyLDAvis@3.4.0/pyLDAvis/js/ldavis.v1.0.0.css\">\n",
       "\n",
       "\n",
       "<div id=\"ldavis_el8681405760898199527367405008\" style=\"background-color:white;\"></div>\n",
       "<script type=\"text/javascript\">\n",
       "\n",
       "var ldavis_el8681405760898199527367405008_data = {\"mdsDat\": {\"x\": [0.008435653886401561, 0.002502072799390885, -0.003947183258629999, -0.0029964229429494576, -0.0006690136222001777, 0.0017531484659696751, -0.0004046443984196919, -0.0054418482301534605, 0.0007682373005906687], \"y\": [-0.00015228131387889495, 0.003217305739602672, 0.004984551686599587, 0.0011280707098979992, 0.0011204347729977216, -0.0015988698377507893, -0.0009455015475776971, -0.004092780188631821, -0.0036609300212587675], \"topics\": [1, 2, 3, 4, 5, 6, 7, 8, 9], \"cluster\": [1, 1, 1, 1, 1, 1, 1, 1, 1], \"Freq\": [20.30538723632435, 18.824490783954868, 16.824675319199272, 9.265082749819523, 8.785416183207952, 7.908481523921145, 7.196438655725097, 5.995351063695005, 4.894676484152771]}, \"tinfo\": {\"Term\": [\"August\", \"arrangement\", \"shall\", \"Foreign\", \"normalization\", \"paragraph\", \"Subcommittee\", \"RRP\", \"pandemic\", \"forward_guidance\", \"Selected\", \"January_February\", \"Eligible\", \"functioning\", \"language\", \"repo\", \"sell\", \"strategy\", \"billion_month\", \"health\", \"stand\", \"foreign_central\", \"Facility\", \"symmetric\", \"district\", \"eme\", \"coronavirus\", \"July_August\", \"obligation\", \"european\", \"AUM\", \"participation_Fed\", \"virus\", \"see_onset\", \"Barkin_Raphael\", \"pandemic\", \"inclusive_goal\", \"cost_living\", \"Paese\", \"depend_course\", \"lay\", \"Lewis_Chiara\", \"FIMA\", \"saving\", \"ADP_datum\", \"Baum\", \"weekly_estimate\", \"Paustian\", \"Paycheck_Protection\", \"spread_Delta\", \"tapering\", \"third\", \"variant\", \"childcare\", \"Waller_voting\", \"spring_roll\", \"potentially_counterpartie\", \"constrain_ongoing\", \"wholly\", \"vaccination\", \"pose_considerable\", \"sector_adversely\", \"progress_vaccination\", \"supply_bottleneck\", \"impede\", \"previously_announce\", \"world\", \"significantly_course\", \"substantial_progress\", \"swap_transaction\", \"affect_pandemic\", \"bottleneck\", \"challenging\", \"Selected\", \"pre_pandemic\", \"stimulus\", \"bring\", \"delinquency_rate\", \"tremendous\", \"leveraged_loan\", \"supply_chain\", \"remark\", \"shortage\", \"counterpartie\", \"large_scale\", \"coronavirus\", \"role\", \"August\", \"fully\", \"swap_arrangement\", \"October_November\", \"paragraph\", \"purpose\", \"chain\", \"shall\", \"repo\", \"Subcommittee\", \"health\", \"Facility\", \"RRP\", \"authorization\", \"arrangement\", \"wealth\", \"eme\", \"Foreign\", \"sell\", \"obligation\", \"Currency\", \"billion_month\", \"functioning\", \"forward_guidance\", \"symmetric\", \"Brexit_vote\", \"nondurable_good\", \"Geithner_Kohn\", \"ebb_somewhat\", \"severely_disrupt\", \"clear_example\", \"descent\", \"explore_establish\", \"Adrian\", \"upwards\", \"aggressive_expansion\", \"Chair_ask\", \"Beverly_Hirtle\", \"Richmond_Fuhrer\", \"adjustable\", \"good_automobile\", \"manner_need\", \"wear_environment\", \"intermeeeting\", \"deteriorate_noticeably\", \"July_SLOOS\", \"project_leveling\", \"entirely\", \"suspend_temporarily\", \"connection_Term\", \"ratio_book\", \"mineral_extraction\", \"impart_great\", \"misinterpret_public\", \"export_fuel\", \"approve_establishment\", \"package\", \"targeted\", \"softening\", \"TSLF\", \"prospect_act\", \"durable\", \"apparently\", \"summer\", \"percentage_change\", \"GDP_growth\", \"negotiation\", \"drag\", \"materialize\", \"SLOOS\", \"foreign_central\", \"vulnerability\", \"economy_challenging\", \"come_quarter\", \"course\", \"alternate\", \"soften\", \"order_ensure\", \"recover\", \"announcement\", \"framework\", \"surge\", \"guarantee\", \"swap_arrangement\", \"recognize\", \"constraint\", \"job_gain\", \"Treasury_bill\", \"datum_release\", \"subject\", \"upside_risk\", \"pandemic\", \"deterioration\", \"repo\", \"credit_availability\", \"arrangement\", \"Facility\", \"health\", \"shall\", \"Foreign\", \"firming\", \"paragraph\", \"tight_credit\", \"obligation\", \"forward_guidance\", \"August\", \"fully\", \"RRP\", \"Selected\", \"functioning\", \"Subcommittee\", \"eme\", \"stimulus\", \"normalization\", \"community_notably\", \"Fed_Listens\", \"representative\", \"inequality\", \"feedback_receive\", \"MF\", \"Listens\", \"retiree\", \"official_creditor\", \"distributional\", \"Lopez\", \"creditor\", \"large_overhang\", \"traditionally\", \"outreach_effort\", \"farmer\", \"conversation\", \"winter_month\", \"warrant_exceptionally\", \"identify\", \"DSGE_model\", \"MF_Global\", \"situation_peripheral\", \"wording\", \"Brainard_Stanley\", \"pursuit\", \"warn\", \"threshold_confuse\", \"Economists_Brian\", \"convert_exist\", \"rationale\", \"sentence_indicate\", \"remainder\", \"substantial_adverse\", \"normalization\", \"strategy\", \"Lehnert\", \"referendum\", \"skilled\", \"Union\", \"Dealers\", \"David_Wilcox\", \"arrangement\", \"food_energy\", \"mention\", \"objective_partly\", \"RRP\", \"event\", \"robust_pace\", \"improvement_labor\", \"national_regional\", \"policy_firming\", \"development_closely\", \"inflationary\", \"Narayana\", \"shall\", \"Sheet\", \"district\", \"exist_home\", \"job_gain\", \"Stanley\", \"reinvestment\", \"sufficiently\", \"energy_import\", \"addendum\", \"manner\", \"underutilization\", \"August\", \"policymaker\", \"forward_guidance\", \"banking_sector\", \"energy_commodity\", \"damp\", \"Special_Adviser\", \"bill\", \"european\", \"framework\", \"remark\", \"repo\", \"Currency\", \"come_quarter\", \"participant_remark\", \"Foreign\", \"stand\", \"billion_month\", \"SLOOS\", \"Subcommittee\", \"pandemic\", \"functioning\", \"paragraph\", \"obligation\", \"firming\", \"stimulus\", \"Selected\", \"invasion\", \"Eastern\", \"onshore\", \"volatility_spike\", \"eme_dedicate\", \"weight_basis\", \"secured_unsecured\", \"russian_invasion\", \"quartile\", \"OBFR\", \"create_additional\", \"aluminum\", \"concur_invasion\", \"comply\", \"clarify_linkage\", \"budget_deficit\", \"contact_district\", \"Principles_plan\", \"respectively_Edward\", \"potential_drawback\", \"CUSIP\", \"italian_government\", \"invert\", \"Richmond_Philadelphia\", \"Holcomb_Blake\", \"monthly_cap\", \"balanced_upside\", \"Sweden\", \"familiarity\", \"Governors_Lubomir\", \"August\", \"formula\", \"Schweitzer\", \"Kocherlakota\", \"objective_medium\", \"hike\", \"language\", \"Ukraine\", \"Penelope_Assistant\", \"IOER\", \"interbank\", \"Kevin\", \"propose\", \"ample\", \"SEP\", \"normalization\", \"run_normal\", \"raise_target\", \"repo\", \"eme\", \"municipal_bond\", \"regime\", \"appreciation\", \"Joyce\", \"RRP\", \"Subcommittee\", \"Janet_Yellen\", \"symmetric\", \"adopt\", \"Foreign\", \"prior\", \"reinvestment\", \"Foreign_Currency\", \"bill\", \"supportive\", \"firming\", \"exceptionally\", \"shall\", \"largely_reflect\", \"Treasury_bill\", \"european\", \"framework\", \"stimulus\", \"arrangement\", \"district\", \"forward_guidance\", \"fully\", \"pandemic\", \"paragraph\", \"strategy\", \"purpose\", \"obligation\", \"functioning\", \"Selected\", \"Currency\", \"Facility\", \"makeup\", \"allow_cumulative\", \"makeup_strategy\", \"Signature_Bank\", \"picture\", \"attack\", \"operating_framework\", \"closure_Silicon\", \"export_soft\", \"possible_modification\", \"russian\", \"Tambalotti\", \"incorporate_publish\", \"arrangement_stand\", \"kind\", \"contend\", \"Valley_Bank\", \"convert_exist\", \"explore_way\", \"Cyprus\", \"occasion\", \"collective_judgment\", \"trend_construction\", \"play_useful\", \"arrive\", \"expenditure_equipment\", \"argentine\", \"Operations_amend\", \"recalibration\", \"sustainable_growth\", \"respect_Foreign\", \"trading_convention\", \"examine\", \"partial\", \"Rosengren_dissent\", \"ELB\", \"direct_obligation\", \"simple\", \"distribution\", \"balanced_approach\", \"few\", \"different\", \"authorize_undertake\", \"deliberation\", \"efficacy\", \"strategy\", \"role\", \"threshold\", \"provision\", \"shall\", \"sustained\", \"alternate\", \"January_February\", \"Foreign\", \"arrangement\", \"SEP\", \"stand\", \"mainly\", \"recent_week\", \"Plosser\", \"Job\", \"postmeete\", \"likely_outcome\", \"repo\", \"district\", \"billion_month\", \"Subcommittee\", \"event\", \"calendar\", \"Eligible\", \"fully\", \"foreign_central\", \"authorization\", \"pandemic\", \"Currency\", \"normalization\", \"August\", \"symmetric\", \"paragraph\", \"subject\", \"obligation\", \"SLOOS\", \"remark\", \"RRP\", \"forward_guidance\", \"deterioration\", \"vulnerability\", \"come_quarter\", \"Selected\", \"firming\", \"Facility\", \"object\", \"significant_underutilization\", \"promote_equitable\", \"enhancement_statement\", \"Plan\", \"domestic_SRF\", \"YCT_policy\", \"misunderstood\", \"Governors_Sriya\", \"intangible\", \"YCT\", \"widespread_vaccination\", \"FIMA_repo\", \"equitable\", \"Cyprus\", \"Nelson_Deputy\", \"Forecast\", \"prefer_omit\", \"fall_equally\", \"maintain_current\", \"reaction_function\", \"assessment_realize\", \"depart\", \"rail\", \"formulation\", \"swap_OIS\", \"marginal_cost\", \"respectively_Robert\", \"Normalization_Meeting\", \"fill_job\", \"accurately\", \"Philadelphia_Boston\", \"usage\", \"household_purchasing\", \"forward_guidance\", \"functioning\", \"billion_month\", \"large_scale\", \"considerable_time\", \"inflation_protect\", \"determine_size\", \"August\", \"technical\", \"scale\", \"prompt\", \"estimate_long\", \"liftoff\", \"Subcommittee\", \"vaccination\", \"RRP\", \"stand\", \"normalization\", \"dollar_liquidity\", \"participant_remark\", \"appreciably\", \"Term\", \"threshold\", \"term_premium\", \"October_November\", \"RRP_operation\", \"shall\", \"curve\", \"intention\", \"pandemic\", \"liquidity_swap\", \"principle\", \"health\", \"course\", \"bid\", \"arrangement\", \"Fisher\", \"remark\", \"repo\", \"paragraph\", \"authority\", \"exceptionally\", \"eme\", \"obligation\", \"district\", \"Facility\", \"July_August\", \"Selected\", \"Foreign\", \"sell\", \"improvement_labor\", \"stimulus\", \"virus\", \"Currency\", \"run_r\", \"trade_dispute\", \"elb_episode\", \"adverse_weather\", \"reformulation\", \"qualitative_language\", \"provide_impetus\", \"advance_recovery\", \"snowy\", \"thing\", \"prescribe\", \"Gross_Special\", \"competition_lender\", \"warrant_keep\", \"misinterpret_signal\", \"phenomenon\", \"BOJ\", \"commitment_achieve\", \"sufficient_underlying\", \"Technology_Analyst\", \"Bomfim_Special\", \"deadline\", \"congressional_testimony\", \"corroborate\", \"easing_restraint\", \"participate_deliberation\", \"elb\", \"interruption\", \"range_occupy\", \"Rich\", \"protract_period\", \"outline\", \"likely_efficacy\", \"Account_Lorie\", \"RRP_exercise\", \"input_cost\", \"require_excess\", \"recover\", \"mark\", \"CounselMr\", \"effective_lower\", \"weather\", \"arrangement\", \"effectiveness\", \"underlying\", \"flow_credit\", \"sell\", \"operate\", \"forward_guidance\", \"market_functioning\", \"authorize_direct\", \"district\", \"Elizabeth\", \"abate\", \"restraint\", \"Currency\", \"language\", \"depreciate\", \"Selected\", \"upcoming\", \"functioning\", \"fundamental\", \"eme\", \"Kocherlakota\", \"paragraph\", \"billion_month\", \"August\", \"curve\", \"exceptionally\", \"Foreign\", \"prime\", \"normalization\", \"remark\", \"course\", \"financial_institution\", \"July_August\", \"pandemic\", \"Subcommittee\", \"SLOOS\", \"vulnerability\", \"shall\", \"repo\", \"foreign_central\", \"Facility\", \"strategy\", \"RRP\", \"framework\", \"obligation\", \"earthquake_tsunami\", \"Africa\", \"event_Middle\", \"tsunami\", \"measure_underlying\", \"mandate_promote\", \"snowstorm\", \"Nathan\", \"wide_array\", \"erratic\", \"finance_company\", \"initiation\", \"securitize_pool\", \"portuguese\", \"Maryann_Hunter\", \"reserve_drain\", \"Craig_Hakkio\", \"stability_promote\", \"banker_report\", \"Cleveland_Chicago\", \"factor_like\", \"mirror\", \"temper_stable\", \"Greece_Portugal\", \"bound\", \"pass_portion\", \"MENA\", \"rough_measure\", \"Richard_Dzina\", \"helpful_explain\", \"East\", \"cover_survey\", \"issuance_speculative\", \"Hurricane_Harvey\", \"Johnson_Secretary\", \"likely_warrant\", \"Andrew_Levin\", \"July_August\", \"accord\", \"IMF\", \"coronavirus\", \"underlying\", \"r\", \"Eligible\", \"language\", \"Cumming\", \"roll_coupon\", \"effective_lower\", \"sell\", \"commodity_price\", \"contraction\", \"underutilization\", \"equipment_software\", \"IOER\", \"serve\", \"select\", \"paragraph\", \"RRP\", \"August\", \"arrangement\", \"Foreign\", \"symmetric\", \"framework\", \"strategy\", \"January_February\", \"authority\", \"shall\", \"Selected\", \"extended\", \"normalization\", \"Facility\", \"foreign_central\", \"Subcommittee\", \"european\", \"swap_arrangement\", \"Currency\", \"obligation\", \"repo\", \"stand\", \"functioning\", \"firming\", \"pandemic\", \"forward_guidance\", \"rre_loan\", \"occupation_experience\", \"retention_rule\", \"harm\", \"nonlabor\", \"warm_weather\", \"rre\", \"Bank_select\", \"undershooting\", \"expansionary_fiscal\", \"fundamental_underpin\", \"warmer\", \"intra_day\", \"reimposition\", \"Follette_Assistant\", \"South_America\", \"dry\", \"prior_notice\", \"standardize\", \"Yuriy\", \"Conduct_System\", \"french_presidential\", \"sizable_undershooting\", \"subject_reasonable\", \"IV\", \"foster_orderly\", \"roughly_counterbalance\", \"one_staff\", \"fee\", \"Section_Chiefs\", \"Selected_Bank\", \"appear_roughly\", \"Wilcox_Economist\", \"AFEs\", \"Subcommittee_Subcommittee\", \"transformation\", \"lend_Eligible\", \"Foreign\", \"reverse_repo\", \"largely_reflect\", \"January_February\", \"trillion\", \"coronavirus\", \"arrangement\", \"control\", \"Eligible\", \"paragraph\", \"Matthew_Luecke\", \"Eligible_Securities\", \"testing\", \"asset_valuation\", \"shall\", \"health\", \"Authorization\", \"depreciate\", \"Subcommittee\", \"pursuant\", \"banking_sector\", \"authorization\", \"Selected\", \"RRP\", \"mid\", \"August\", \"vulnerability\", \"subject\", \"Facility\", \"consultation\", \"aggregate_demand\", \"pandemic\", \"normalization\", \"feasible\", \"symmetric\", \"eme\", \"obligation\", \"forward_guidance\", \"repo\", \"functioning\", \"remark\", \"stand\", \"firming\"], \"Freq\": [531.0, 475.0, 429.0, 259.0, 254.0, 262.0, 258.0, 288.0, 502.0, 223.0, 221.0, 138.0, 122.0, 185.0, 134.0, 297.0, 145.0, 178.0, 164.0, 164.0, 167.0, 157.0, 187.0, 163.0, 174.0, 182.0, 91.0, 124.0, 182.0, 144.0, 4.551506230477494, 1.9950459929081692, 52.222224106823724, 5.166025273925679, 9.185696644655422, 183.22126105775428, 1.8095578303097755, 2.2485074318076776, 1.1058370970555014, 6.791621830303502, 5.039933949044882, 3.2474417695886113, 15.138228742294817, 30.97650333533039, 2.518615884190562, 3.637926694102982, 5.243215545581202, 1.0585867375868405, 3.8638279210271196, 3.5141064341371617, 9.77129374247339, 2.091469483191574, 18.791467385702273, 4.1657139103591945, 3.183933917789843, 1.7005826814823257, 1.6890507022135621, 2.801860888532624, 1.0056864251715731, 32.68218514721139, 11.457216653441465, 10.837451308128713, 16.30354586625894, 11.537945401804636, 26.080001253361324, 6.877313058585392, 17.578678594553953, 9.721587711487905, 16.240745856606157, 26.656365329671907, 13.618847655669242, 27.25828121067984, 16.25821558672136, 63.271212804675685, 32.41193967733741, 55.074446752906375, 31.105509217986146, 32.72215902154335, 15.987427919061165, 27.692374153803488, 27.869737423853763, 50.28326610156014, 33.04512294981428, 32.39884667736648, 21.87085720245719, 25.592224857224842, 28.567733884406213, 107.75234014291648, 41.12094953436814, 40.737938669319156, 32.890943039258055, 57.9670425814379, 33.8084082448757, 30.713572642088394, 82.54890437407956, 62.04710636876254, 55.67925761776197, 39.444654059542536, 42.06890308914818, 55.8672417007652, 35.75172340635625, 66.989581733781, 32.30479395669023, 38.060464216599506, 43.04209135100331, 33.69826184117344, 35.87435797567588, 35.390271264835434, 33.87896833800655, 33.41535204033639, 33.00005985438434, 32.712419035318895, 3.3475467921357627, 1.6996212090318195, 2.314948071280672, 1.283018611496203, 3.149010002180998, 1.1918692458803946, 0.9243026733900054, 1.1922402258773452, 0.9639945275700187, 1.5364131470043352, 1.1990075769742725, 1.5538883349866504, 3.8837633892445966, 1.486508568496772, 1.7896661407710444, 1.1773489685799972, 1.2205637717527589, 1.182977634513554, 0.8959172030027192, 2.098480846107958, 6.775380868796549, 2.3687101159014374, 2.7467808097060815, 1.1552100482667103, 0.8796807320875686, 2.588222529982169, 1.129243149703017, 1.4677431731022554, 1.1780460162905624, 2.0485789895569604, 9.673490668417424, 15.329124840309694, 3.194303132606625, 9.800554322866736, 7.319852026020963, 4.056435694251457, 16.06459206048268, 32.51966875134788, 24.2261048128169, 11.622554925927794, 10.7435734531405, 16.829763085339668, 26.512074707668077, 6.621780859787002, 40.88258632853839, 40.897081654570265, 38.36274411091375, 11.542623764053467, 38.74116865907195, 39.89148565016702, 38.72117135150169, 24.095429122004738, 10.393869176027183, 32.932999670506234, 30.84848903964266, 44.67396696559829, 26.3683245521514, 33.506211059790346, 38.8691586860725, 21.806619319136548, 34.73596926057789, 32.20109458415906, 24.44138072833264, 22.45900879564511, 36.562503735958764, 25.489892914590403, 95.4220925153748, 33.30076503675266, 60.640691985075556, 24.879969589784142, 87.02048686219534, 40.65957098318715, 36.21344365523269, 73.23741339025986, 49.39291055623234, 36.120356369956866, 48.77737455698735, 28.389631351556496, 36.93950923742731, 41.91348927045297, 71.794602205152, 34.28344216687165, 42.82688353278314, 37.635313921160794, 35.18901896994477, 38.027304700843075, 34.96762591070677, 34.80634816954388, 34.925352110601786, 1.5688681422081199, 2.542446729951596, 3.884822414801868, 1.3839086834794978, 1.3415448870195803, 2.040327563833623, 2.336119365914035, 1.599508525745775, 1.2234118418425173, 1.2458550403905948, 0.94512518116985, 3.2201961114663527, 1.6857665463922804, 2.5992430538802713, 1.104442018225683, 1.4078899122234139, 0.8688631910843547, 3.0527745354460265, 0.5657563945366335, 6.6731761796753215, 2.443008460557705, 1.7449829896728073, 1.2120085435553603, 5.1114287128225735, 1.882053075983867, 1.9069792409622524, 1.5966663173057096, 0.5650273684265387, 1.9302803021312605, 1.0349147007943302, 3.2363342275514144, 1.6031094606088188, 14.117195699055367, 4.233892523544973, 62.77916793079907, 44.04166262171662, 15.553673936338578, 6.34337214693181, 5.998239509020258, 7.084831436470474, 18.78292874460064, 9.460909988529679, 98.81071658213666, 28.800073491182033, 21.797394133809746, 9.175641828370544, 59.78050432443902, 26.485987297312274, 14.202179545869296, 31.808656393847613, 18.09301703427698, 19.59559742321567, 11.067591900083725, 20.27464591466187, 15.022558547348375, 80.04534771672178, 19.2591084886495, 36.30583438590272, 14.337844898610598, 28.22940255647636, 12.569758714699665, 30.315033538181574, 14.693512328731542, 24.160454014932952, 14.912187724558217, 24.57776834704434, 18.427600283238338, 83.15150172235356, 26.608517205191156, 40.73806336882577, 22.48364854963226, 22.5643960978932, 18.879784607267503, 21.060487405541462, 25.74102154626076, 27.60740948110808, 32.69739679808642, 33.83097644511086, 45.25031817227007, 31.56831619094942, 28.03452633559859, 25.045747966482214, 37.924437780042425, 29.046158322516167, 28.58503430567534, 27.653697368053813, 36.48400544786175, 49.1553388271578, 30.019164089549392, 34.925096236165096, 29.109099468857796, 28.269757679215804, 28.413327978031862, 27.227346031525407, 12.18139957876695, 0.5665665522276063, 0.8813699889905202, 0.6758792979625982, 0.5121111900416225, 0.4804547708327863, 0.48486271570262585, 3.1162661951894264, 0.4765395561172673, 1.4037328912516487, 0.6552697581929684, 1.27335494060035, 0.31342100687316377, 0.44383697148561496, 0.6025487480965664, 0.6175053159926222, 3.011996300042552, 4.194346375851993, 0.6211351748059223, 0.5967730821163654, 0.9204603425260398, 0.9020452856562404, 1.156606976660398, 0.5999315901396935, 0.5832886760374496, 1.8627986407383996, 2.762409023332279, 0.9934273873773514, 0.4267121564632115, 0.4454726044998692, 81.65788082773248, 3.12262909592928, 4.1755821040909025, 11.145404928018102, 5.714743164926861, 4.641237386743761, 18.351853440139294, 11.646878405045257, 3.5700216008401267, 11.723327885991214, 7.656602583384654, 2.9145689179031105, 17.316269630439024, 10.847281693648254, 14.274074727060551, 30.43064993268743, 7.391119330625265, 16.405677957839643, 34.611289847339414, 22.16732711322248, 11.824721670514863, 7.92678862645119, 10.69154346285758, 6.756815137230165, 31.108684136606456, 27.8223255049253, 9.944906842020437, 18.571942776128015, 9.381422267506702, 27.04528753962609, 12.343846129374734, 16.600032567798518, 14.742858653611604, 14.96514866860836, 13.158877960340273, 18.42666045002365, 14.007283481441071, 37.19522639320486, 11.490085384518993, 11.756440781373897, 15.631028229418476, 18.413331337395434, 18.940869106424014, 34.79090598124691, 17.561741798168157, 20.510356935140393, 16.531054142007683, 30.898269214179034, 20.674328956424205, 16.456041711599035, 14.264118976694247, 15.932278321421089, 15.334863635091088, 15.764010331781495, 14.967548516211686, 15.011290584027254, 3.970081776666195, 0.850261367253451, 2.9138722603081484, 1.3249089613881795, 1.2214839422686383, 0.743497627496783, 1.0924699163438598, 1.272690856135433, 0.29565803815820857, 0.7689204313627467, 3.9981834119833217, 0.440392533179912, 0.588224013544582, 1.6692580561180785, 0.5553230830978687, 0.5711269183187924, 1.2089203762622145, 0.5721822011214368, 0.7104066752182248, 0.7989929477129506, 0.4041996729872558, 1.1734931082076658, 2.245674197721209, 0.5682506547136513, 1.2577808645563942, 1.9205262003942132, 0.5461888553820867, 0.43196101572584983, 0.42504977878829237, 0.2712859121089923, 3.5583333673144346, 2.526942501845004, 1.9391758639686594, 5.955720783857189, 0.8367056649751323, 10.277665404311145, 7.829721806046638, 3.0874317439489265, 8.410915488190806, 4.045122933057078, 2.449851650352069, 9.289706860311558, 1.9389518605167462, 5.523459755946688, 7.5895189665033325, 21.030707631385802, 12.914915209026056, 12.204497365393758, 12.343055992087882, 46.13767848666741, 15.244384270812388, 17.506229696939712, 16.097469023729474, 27.661197951497677, 46.746134532216246, 12.89022401567813, 18.647305821666837, 6.509262531375974, 7.944663100931688, 11.422418742604268, 12.894190020083835, 10.722145841695854, 8.35999006070333, 28.607600255868068, 18.286512057644106, 17.355804392104922, 24.9324260105206, 13.027635101059053, 10.723904840446792, 13.446681619094598, 16.79407318001147, 16.21490780889691, 15.321626081153351, 37.46107373215873, 17.641412604316915, 22.259769263206135, 37.00213173354579, 16.16242748410239, 21.503802921826235, 15.486487540397633, 16.897673717903825, 15.030155668963504, 16.450542502430313, 19.250829556803794, 17.206275101077782, 14.251267295714113, 14.402011032677143, 14.364796818371039, 15.927778575136198, 14.689329970684465, 14.556123713805428, 1.4074538535315961, 1.1983800090659282, 0.6286397126000257, 0.5328363804490753, 0.43287742683021746, 1.3655624865707707, 2.148140872677626, 0.6501975230869305, 0.41353765357217626, 0.940457981596011, 2.0223567061467493, 1.3693246352575144, 1.5381652446083849, 0.5421230146785693, 0.7372351031158805, 0.6086900994139008, 0.380916815997053, 0.3797267966889935, 0.5258692249053468, 9.149908489267878, 1.2460308112284915, 0.24041591932574222, 0.8263126617901133, 0.3664069711576372, 0.7287168319366465, 2.8964197533051212, 0.7687019190441418, 1.4431604840016707, 0.4656009923438475, 0.23579699771401724, 0.6200431089853069, 0.7347007820021338, 6.5572771679620825, 1.1973557791187381, 26.959711295227564, 22.563743806828317, 19.758010905389945, 9.097631213370095, 4.1062175248498916, 5.029562537550623, 1.4551179969848744, 56.73235216528499, 6.4687527487303935, 14.774467053672751, 7.535637470595083, 8.696046927451507, 5.44965538666823, 27.015744716231268, 10.816584097869848, 29.433936755537573, 17.952577487396063, 25.89833004637275, 6.349924540588538, 13.673130545024682, 9.979181774057553, 10.656830146330146, 10.697705574003011, 7.38618223312802, 13.215411444292954, 6.5504479518348555, 36.77838590658961, 13.094540875132473, 11.18982004691738, 40.772777495024435, 9.053437997286235, 8.398327258008642, 16.001428205132715, 15.056540057364867, 12.075807539716967, 35.6894804314502, 11.43124633077746, 17.5681272305531, 23.72447726645925, 21.0433581191763, 11.69131840254106, 11.923435514919834, 15.183564392162651, 15.171334621553925, 14.742856580631967, 15.113909132159026, 12.087541776670559, 15.76968159945609, 16.930004909692467, 12.93921318267233, 12.772530908274371, 13.768487992180944, 12.563985950690626, 12.605404178305731, 0.8594788827157033, 0.498059778682325, 0.5091305553893403, 0.5984344970898502, 0.35844625295541777, 0.6026543101752508, 0.8382709032218467, 0.4698570187038956, 0.3447588504782698, 0.34448214284504713, 0.45685093614972805, 0.22542070586903576, 0.5389081902285572, 2.907695838916417, 0.7524691644473097, 0.3366646535951344, 2.087503890356962, 0.7930816244203677, 0.8529227935242905, 0.21424712850417485, 0.6519188481214906, 1.0109120127167501, 0.4361766442549529, 0.5664595036088714, 0.5474246892658117, 1.1139309322712068, 0.532491798936587, 0.31886780457604674, 0.5280737553123123, 0.3392624622056277, 1.8680384036174433, 2.3106904920939257, 2.338356052514908, 2.39282158401346, 2.1152884237872764, 2.8890255745232376, 3.8897732860089653, 14.033369397946569, 6.888628117720758, 2.8758598062571994, 6.277064532818913, 11.950911628113735, 44.6179058946862, 6.613957246920276, 9.731462854945581, 1.9142089496008552, 14.563185691613507, 6.654100058337542, 21.25651840050391, 11.309250993591421, 6.218417429559389, 16.46222384822398, 7.88710094733561, 5.536333373810625, 9.471498851771099, 16.581094186971626, 12.702639292413227, 7.099605071017416, 19.22830677316554, 6.306111983820602, 16.21130526235966, 6.005746411605056, 15.789653817760914, 7.127482216090565, 21.413687642454207, 14.321447798492695, 38.18872933996386, 11.459306135187724, 10.850427247347794, 19.979769436359696, 9.951247279533733, 19.595954877329685, 15.752149917874275, 13.213757052590015, 11.40814774117455, 10.994542063119502, 30.670228974587232, 17.865683576488912, 12.41860528046425, 12.007648226022221, 23.66741798531453, 17.73645322070699, 12.373456584292777, 13.213023096649058, 12.705924751143261, 15.101218406986215, 12.505873890540446, 12.210962346309598, 0.7066623051859428, 0.5350134301212038, 0.5034164353364947, 0.6339741655061473, 2.985416614469102, 0.3617723356361842, 0.4687291333765882, 1.587998449487246, 0.46230751884533805, 0.3489574977820401, 0.46202295658143216, 0.8752933681838443, 0.5733774658054968, 0.562182841247557, 0.5505806619772983, 1.3152223658889794, 0.5572300924768722, 0.33742553798893704, 0.4703091438548532, 0.3266243809025291, 0.21656123820510828, 0.32432263412125534, 0.41287676352522923, 0.5546029665545392, 0.651745255880608, 0.5462749148911884, 0.33403629234000465, 0.8489135288430608, 0.8589498571181025, 0.4348487052236289, 1.4904608505120043, 0.6294789630920117, 1.6244648977163434, 0.6577835529779195, 1.2902995084569175, 8.82809265131009, 1.6252376009340985, 11.78591907960686, 6.300649200665079, 4.1297395103821035, 8.668867241653517, 8.74681143923449, 2.1659531487936174, 11.016681178600935, 11.865386721976165, 4.984063478836919, 5.016035591559007, 5.465964435197657, 12.513414824587667, 8.39053168266019, 12.105761573825282, 7.398935571622875, 4.011363342411505, 7.585034524228136, 8.85142458968256, 9.521881313441884, 18.98879609163003, 20.040065465673813, 32.82745415053798, 29.832720018285297, 17.94673558301011, 12.216921028946135, 13.38010002174327, 13.016082252167832, 10.569784776086863, 9.106061797558423, 25.170592903343632, 14.660291826571823, 7.922170081783634, 15.960624773613365, 12.767180501833481, 11.230895085158426, 15.563285405890666, 10.48753493978317, 11.205213828476179, 11.59349228292441, 11.611778243889086, 14.81590974671065, 11.075328023570956, 11.516448512877664, 11.077221348732785, 15.790055595252158, 11.981909442512702, 0.7834289555780629, 0.268181818546675, 0.3745422282794474, 0.529347618955642, 0.2531503755331648, 0.7022244008187439, 0.7068292211832585, 2.4456375240204125, 1.185956135479505, 1.288753419849723, 0.4867075131952649, 0.24488010046466238, 0.6381483033292313, 0.2526802208673213, 0.3384644117670671, 0.6437626159173646, 0.2428726464994136, 2.7215082277317384, 0.24080425202002284, 0.3144892368636365, 0.4182971340669761, 0.4064342439121635, 0.31931301842704, 1.337648797344072, 2.992014396815145, 0.6369817488368876, 0.48626870610577416, 0.3112644765914598, 3.58851082451679, 1.1897329433803958, 8.154451229477923, 3.0519108567772584, 2.7845865109282397, 6.4468353280670945, 3.732400151598809, 2.216473116629573, 1.327641164690203, 20.022397574366884, 2.07657952915761, 7.447123455024843, 10.569780395010769, 4.805054645147279, 6.9327292492736525, 30.626305836886107, 7.996280618975301, 8.886893868188434, 17.57424280752665, 2.658226819318005, 3.0744931435585174, 3.7053231590815408, 3.4479125506059516, 24.954459033622502, 10.77767303894407, 6.883243133633021, 5.089697480045988, 15.0806295135575, 6.459245075659241, 6.895203221917334, 8.872968112877434, 12.168549018284471, 14.870655131044808, 7.939912309563367, 22.725921081209833, 8.627275776951357, 9.037726491749378, 10.08876950022264, 7.949465092718022, 6.230858725139981, 19.305934119411955, 12.098102078833586, 6.152689724585221, 8.6613423058344, 9.105233895536255, 9.05781158872297, 9.790009816602991, 10.537876760426892, 8.345965516754877, 8.461976674504623, 7.965623573994042, 7.88909561758686], \"Total\": [531.0, 475.0, 429.0, 259.0, 254.0, 262.0, 258.0, 288.0, 502.0, 223.0, 221.0, 138.0, 122.0, 185.0, 134.0, 297.0, 145.0, 178.0, 164.0, 164.0, 167.0, 157.0, 187.0, 163.0, 174.0, 182.0, 91.0, 124.0, 182.0, 144.0, 11.453583618258266, 5.13338868126027, 141.59669310813987, 14.136696163102503, 25.17722115292232, 502.69703153090046, 4.9745782174929, 6.237651704022889, 3.098871154347651, 19.05031966460043, 14.153191572895688, 9.166548947012163, 42.93114758064966, 88.02904414082164, 7.163662674136421, 10.414243608664686, 15.016770034478075, 3.0322878339969996, 11.088702051827354, 10.099224754858477, 28.157451802545967, 6.033072636752004, 54.43841343076799, 12.069421592454242, 9.237426191090115, 4.935731470936172, 4.906248773645565, 8.158433887485483, 2.932268626909449, 95.42498723874083, 33.50885608404934, 32.0215564238701, 48.68132582555004, 34.571665885648095, 80.03527368975448, 20.39718872185479, 54.44742298998654, 29.530846901528122, 50.41155973040749, 85.28939751346354, 42.10190888872021, 88.28532818749139, 51.31598225130997, 221.65249088175747, 108.33472727345047, 191.5982806131136, 104.68794581454824, 111.27229262055666, 51.55370190148672, 97.4814619522309, 98.39723263805566, 194.7439261754628, 119.79373450168683, 117.87043332206555, 74.90712958343549, 91.04061868196511, 104.25695137862496, 531.8329133686971, 163.28487105742553, 164.00578496712117, 126.38198235037451, 262.867729913628, 131.3264742769939, 116.4290656327405, 429.7354261898037, 297.9717236236194, 258.47066249408107, 164.98196865820566, 187.49520830562457, 288.28001901064005, 146.85690073339518, 475.12423787288395, 128.98772643147365, 182.72709209413574, 259.944832681831, 145.69198802885788, 182.80480552176147, 179.63601566990968, 164.5684606237432, 185.68011857105077, 223.35639348472847, 163.1842109595449, 9.20208263716004, 4.9147239624598145, 6.917380568511661, 3.8475706328318005, 9.617666020797655, 3.729641519017001, 2.9006144273498937, 3.760627272488019, 3.04241313924819, 4.873760080572076, 3.8194621281011436, 4.958410683283563, 12.52294520108077, 4.799769947329077, 5.783603926511655, 3.8149951094649284, 3.9599017993469974, 3.83908458758805, 2.910303741750525, 6.824354638572246, 22.053154784134083, 7.724931552980814, 8.973512741423438, 3.777542697229332, 2.8894740467765114, 8.575006405721338, 3.7422714826922956, 4.866536273255724, 3.906055203768614, 6.7965531830363215, 32.17264468492493, 51.54279023442645, 10.617218842353331, 33.19297039578849, 24.72055034326616, 13.578798662115098, 55.457315711680614, 115.0135368214434, 85.85915049219646, 40.56342416000199, 37.40101423961646, 60.51296931051232, 97.77116741654382, 22.79314298415594, 155.0462015853804, 157.6526310651312, 147.81634228644478, 41.394139077304466, 150.5094717927893, 157.0023250242841, 152.7470006122246, 91.72636962522884, 37.522487265265674, 129.86610428927779, 121.15648090365389, 183.26837163318964, 103.54595295814178, 137.90699295161502, 164.00578496712117, 85.80729799000498, 145.29673470304314, 133.89614206494494, 98.2026603548955, 89.17222986076563, 157.86547423585208, 104.09440128096522, 502.69703153090046, 143.15426697817057, 297.9717236236194, 101.71407190100106, 475.12423787288395, 187.49520830562457, 164.98196865820566, 429.7354261898037, 259.944832681831, 170.32528995419048, 262.867729913628, 121.33453257183577, 182.80480552176147, 223.35639348472847, 531.8329133686971, 163.28487105742553, 288.28001901064005, 221.65249088175747, 185.68011857105077, 258.47066249408107, 182.72709209413574, 191.5982806131136, 254.00602023375524, 3.9753627106696223, 7.126382430184206, 11.104038032641617, 3.9802724671819645, 3.971339093169224, 6.042065713058529, 6.962424608195705, 4.900598329391373, 3.7816182296460887, 3.925274688047361, 3.0612349124230627, 10.577658924471699, 5.635582426835906, 8.881773293556588, 3.795497722398931, 4.848528398477866, 2.993196620246622, 10.57435292139536, 1.961712709670644, 23.159221763681995, 8.48960059349421, 6.069780961154728, 4.227560561687784, 17.863785348128427, 6.599367978870881, 6.689510715573566, 5.602677275764953, 1.9919434786747088, 6.816034412050292, 3.6570225299203742, 11.514094878395367, 5.694346143634714, 52.603253174051304, 15.389089424135877, 254.00602023375524, 178.10741876530315, 60.23060423845647, 23.78626111543565, 22.468250683518832, 27.05292379241079, 77.56401198745851, 37.284873505274675, 475.12423787288395, 125.641965288373, 93.13439968907798, 36.2368119814706, 288.28001901064005, 117.0844783853554, 58.63251906092924, 145.18240989886618, 77.16342000794872, 84.76246172835397, 44.67792841740074, 88.56110265271766, 63.29263473180401, 429.7354261898037, 84.15755821922878, 174.85409030025534, 60.33584781593478, 133.89614206494494, 51.95954458129855, 147.00568356885128, 62.62664490948218, 113.44548828693668, 63.803732132038476, 116.49408207975739, 82.37797728541115, 531.8329133686971, 130.98382822395723, 223.35639348472847, 106.6781459466924, 107.32612274123667, 85.71613281862773, 98.95755261606591, 129.9069941771864, 144.49718604128003, 183.26837163318964, 194.7439261754628, 297.9717236236194, 179.63601566990968, 150.5094717927893, 128.17651734773665, 259.944832681831, 167.50416149367277, 164.5684606237432, 155.0462015853804, 258.47066249408107, 502.69703153090046, 185.68011857105077, 262.867729913628, 182.80480552176147, 170.32528995419048, 191.5982806131136, 221.65249088175747, 54.04469073280042, 2.7943946858640625, 4.411545647397237, 3.6243562304253394, 2.7489278748626025, 2.609042102129701, 2.6593348613072414, 17.33786775654646, 2.656407165822444, 8.00549696706486, 3.7501472511407896, 7.387476936994825, 1.849757740781185, 2.6284553309714043, 3.6043002563102293, 3.701873841650988, 18.418845092017847, 25.671439156214678, 3.8122684036526806, 3.6734486091949536, 5.713426569963412, 5.603696990049261, 7.2228331769824266, 3.7536168319535297, 3.658847728522334, 11.700498882912726, 17.35222086611856, 6.251905043579002, 2.6884536025052315, 2.808956364656184, 531.8329133686971, 19.724585530602052, 26.623213527212997, 71.8018445742917, 38.20887718171978, 30.849883440294278, 134.92120522331595, 83.8443773559061, 24.191193773397917, 86.29771965374728, 55.05523508035292, 19.619147635593627, 133.79421662480854, 80.92347338171565, 109.3683495834894, 254.00602023375524, 53.74368935185405, 129.82412985690456, 297.9717236236194, 182.72709209413574, 92.24215881784536, 59.257347753636786, 83.5919506468142, 49.604331052367606, 288.28001901064005, 258.47066249408107, 78.0759838540433, 163.1842109595449, 73.1662255982776, 259.944832681831, 102.1643053851126, 147.00568356885128, 127.48823840326375, 129.9069941771864, 111.03441468391175, 170.32528995419048, 120.96852021585514, 429.7354261898037, 94.79163190150882, 98.2026603548955, 144.49718604128003, 183.26837163318964, 191.5982806131136, 475.12423787288395, 174.85409030025534, 223.35639348472847, 163.28487105742553, 502.69703153090046, 262.867729913628, 178.10741876530315, 131.3264742769939, 182.80480552176147, 185.68011857105077, 221.65249088175747, 179.63601566990968, 187.49520830562457, 17.97814750066955, 4.474482850263857, 15.963809979393842, 7.615898479281376, 7.144237219391584, 4.3690343471866, 6.5846747796105864, 7.671033268464481, 1.7890775128402026, 4.671537149909325, 24.734050810337497, 2.7388865726828655, 3.7058521853460533, 10.574475674723155, 3.5342865284225677, 3.6413790921807037, 7.717601020626404, 3.6570225299203742, 4.5458858352592975, 5.122314462136403, 2.602749100518551, 7.569051736358865, 14.579039050422466, 3.692293823115827, 8.1842015040554, 12.501704200766367, 3.559234175914673, 2.8179502530314844, 2.7732894743758196, 1.7772393779826394, 23.373760039696016, 16.613493557948402, 12.749994667418502, 39.608489849696156, 5.500703092814829, 73.17883408895771, 56.171651936341824, 21.34598828897556, 62.20331661106685, 28.766264550631867, 16.8892266952359, 70.99471545972767, 13.26378574186576, 40.996241062966206, 58.46786392290542, 178.10741876530315, 104.25695137862496, 98.18802531811808, 99.62679742231371, 429.7354261898037, 126.46418593935167, 152.7470006122246, 138.95921297544854, 259.944832681831, 475.12423787288395, 109.3683495834894, 167.50416149367277, 50.26720028208907, 63.71725372629272, 98.048329101111, 113.6152231480977, 91.39709461546563, 68.05758734205965, 297.9717236236194, 174.85409030025534, 164.5684606237432, 258.47066249408107, 117.0844783853554, 92.43141982140676, 122.99721005498006, 163.28487105742553, 157.6526310651312, 146.85690073339518, 502.69703153090046, 179.63601566990968, 254.00602023375524, 531.8329133686971, 163.1842109595449, 262.867729913628, 157.86547423585208, 182.80480552176147, 155.0462015853804, 194.7439261754628, 288.28001901064005, 223.35639348472847, 143.15426697817057, 147.81634228644478, 150.5094717927893, 221.65249088175747, 170.32528995419048, 187.49520830562457, 7.833300311656181, 6.842171391386184, 3.7652146496770924, 3.3129480561616296, 2.811255581759043, 9.017200944347334, 14.251052000729759, 4.317941572887507, 2.7724961766288514, 6.399589936589643, 13.771599090304283, 9.389184480177379, 10.631344255400913, 3.7631450805960878, 5.122314462136403, 4.296694506875962, 2.6938624298228615, 2.6895380329136174, 3.7531761279424796, 65.80051089376674, 8.964943150105935, 1.7316192446790217, 5.967756973394533, 2.6560440377176655, 5.315784030857283, 21.151622900930125, 5.619842192327635, 10.572334126933828, 3.4172906250365576, 1.7312057725818415, 4.5594297833896, 5.4249508078471305, 50.66604315163026, 8.97658663726025, 223.35639348472847, 185.68011857105077, 164.5684606237432, 74.90712958343549, 32.47005972415814, 40.30864628933691, 10.997603737217077, 531.8329133686971, 52.90037491411777, 129.0690841796261, 63.105348836928, 74.58371041850327, 45.18874768672091, 258.47066249408107, 95.42498723874083, 288.28001901064005, 167.50416149367277, 254.00602023375524, 53.74535689191823, 128.17651734773665, 89.8161043631221, 97.37502455526831, 98.18802531811808, 64.13866183824616, 126.38198235037451, 55.917302856240546, 429.7354261898037, 126.37724081934536, 105.42605722083283, 502.69703153090046, 82.10969998319317, 75.06943460848676, 164.98196865820566, 157.0023250242841, 118.78787834316034, 475.12423787288395, 111.03089295983318, 194.7439261754628, 297.9717236236194, 262.867729913628, 115.51102805839561, 120.96852021585514, 182.72709209413574, 182.80480552176147, 174.85409030025534, 187.49520830562457, 124.32664117399418, 221.65249088175747, 259.944832681831, 145.69198802885788, 145.18240989886618, 191.5982806131136, 141.59669310813987, 179.63601566990968, 5.882805172986169, 3.484166665513594, 3.6456854179093794, 4.37383761131328, 2.626418862689988, 4.474482597114621, 6.286963031167269, 3.567044756352832, 2.6216184418349044, 2.6418629619353196, 3.5260240606505473, 1.7454285214522725, 4.184072252200167, 22.596161500860443, 5.944864530589631, 2.67268276149399, 16.640571930800178, 6.33110881590618, 6.832040245872509, 1.7165580358377348, 5.224392788382179, 8.102695882339662, 3.497045461706794, 4.559062158156001, 4.43320603754721, 9.034874488711967, 4.325061903822499, 2.5964431402415213, 4.308847533357233, 2.7689619650050723, 15.35850663338499, 19.20762485654833, 19.60829833641523, 20.113130468774923, 17.74102974093121, 24.825932797540506, 33.97558477599439, 129.86610428927779, 62.409707164661995, 24.97152488500895, 57.20091532071094, 114.38784760382076, 475.12423787288395, 61.01381723515119, 93.25853617063888, 16.325529719359817, 145.69198802885788, 62.81145263666274, 223.35639348472847, 113.43389026510883, 59.32086529683368, 174.85409030025534, 77.5288815648004, 52.566188998039664, 95.48236487245924, 179.63601566990968, 134.92120522331595, 70.28788192452565, 221.65249088175747, 61.6935644127177, 185.68011857105077, 58.545884179767896, 182.72709209413574, 71.8018445742917, 262.867729913628, 164.5684606237432, 531.8329133686971, 126.37724081934536, 120.96852021585514, 259.944832681831, 108.82511846375552, 254.00602023375524, 194.7439261754628, 157.0023250242841, 130.1579924023768, 124.32664117399418, 502.69703153090046, 258.47066249408107, 155.0462015853804, 147.81634228644478, 429.7354261898037, 297.9717236236194, 157.6526310651312, 187.49520830562457, 178.10741876530315, 288.28001901064005, 183.26837163318964, 182.80480552176147, 4.464433696789566, 3.634617206982048, 3.460479485273083, 4.5256305451334455, 21.558508933238105, 2.6319493373247584, 3.5115931550182435, 12.110141264883552, 3.565638939959944, 2.721941402312029, 3.6080269316577382, 6.943614389746549, 4.5578764268413865, 4.483686717897731, 4.396792561268203, 10.505314624363844, 4.478047416930479, 2.7186053209745853, 3.7918773188341692, 2.646856342906828, 1.7646197899937497, 2.662740769379463, 3.4487549813898104, 4.635635416234199, 5.451702766251454, 4.579812313995078, 2.807616210471909, 7.135848279302653, 7.222511135499586, 3.6665683516300573, 12.611283248605535, 5.331657753859724, 14.062222371067676, 5.584783859275372, 11.368621357067736, 86.1493076510404, 14.5130345857985, 124.32664117399418, 64.00810007374912, 40.6365857553659, 91.04061868196511, 93.25853617063888, 20.204911663072718, 122.99721005498006, 134.92120522331595, 51.494159591525346, 51.919581569134486, 57.20091532071094, 145.69198802885788, 94.5273220355854, 144.12126424151222, 82.37797728541115, 41.16064127098074, 86.29771965374728, 103.09218668666665, 115.47997012479296, 262.867729913628, 288.28001901064005, 531.8329133686971, 475.12423787288395, 259.944832681831, 163.1842109595449, 183.26837163318964, 178.10741876530315, 138.95921297544854, 115.51102805839561, 429.7354261898037, 221.65249088175747, 96.95036821109463, 254.00602023375524, 187.49520830562457, 157.6526310651312, 258.47066249408107, 144.49718604128003, 164.00578496712117, 179.63601566990968, 182.80480552176147, 297.9717236236194, 167.50416149367277, 185.68011857105077, 170.32528995419048, 502.69703153090046, 223.35639348472847, 7.0987104354459944, 2.535486332518532, 3.5953039508579088, 5.284437334820549, 2.548520347194173, 7.121223138704875, 7.225669677277858, 25.29259841346478, 12.391447520279844, 13.509106789534615, 5.189656279797362, 2.6326250441317858, 6.871081939051244, 2.733578539415351, 3.6662022082845707, 6.99078497169855, 2.6383414957913334, 29.588138536904346, 2.653888737425378, 3.471074420265709, 4.635861623089141, 4.516358054704468, 3.557019029172634, 14.95006899992154, 33.5058695967131, 7.155248085146047, 5.470680872655798, 3.5041843075338996, 40.490553058273456, 13.425784940367624, 93.27328499402121, 34.71044321918343, 32.147459315049865, 76.60062691911233, 43.94127587060973, 25.90039159105547, 15.309535362090234, 259.944832681831, 24.571600398811402, 94.79163190150882, 138.95921297544854, 60.74811422021467, 91.04061868196511, 475.12423787288395, 109.25728886966718, 122.99721005498006, 262.867729913628, 32.86286654911274, 38.72883562148261, 47.925080141233636, 44.1607579590436, 429.7354261898037, 164.98196865820566, 99.2592628464491, 70.28788192452565, 258.47066249408107, 95.51614927122566, 106.6781459466924, 146.85690073339518, 221.65249088175747, 288.28001901064005, 129.7858865702644, 531.8329133686971, 147.81634228644478, 157.86547423585208, 187.49520830562457, 133.8541224127168, 95.9644331551844, 502.69703153090046, 254.00602023375524, 94.4860355705547, 163.1842109595449, 182.72709209413574, 182.80480552176147, 223.35639348472847, 297.9717236236194, 185.68011857105077, 194.7439261754628, 167.50416149367277, 170.32528995419048], \"Category\": [\"Default\", \"Default\", \"Default\", \"Default\", \"Default\", \"Default\", \"Default\", \"Default\", \"Default\", \"Default\", \"Default\", \"Default\", \"Default\", \"Default\", \"Default\", \"Default\", \"Default\", \"Default\", \"Default\", \"Default\", \"Default\", \"Default\", \"Default\", \"Default\", \"Default\", \"Default\", \"Default\", \"Default\", \"Default\", \"Default\", \"Topic1\", \"Topic1\", \"Topic1\", \"Topic1\", \"Topic1\", \"Topic1\", \"Topic1\", \"Topic1\", \"Topic1\", \"Topic1\", \"Topic1\", \"Topic1\", \"Topic1\", \"Topic1\", \"Topic1\", \"Topic1\", \"Topic1\", \"Topic1\", \"Topic1\", \"Topic1\", \"Topic1\", \"Topic1\", \"Topic1\", \"Topic1\", \"Topic1\", \"Topic1\", \"Topic1\", \"Topic1\", \"Topic1\", \"Topic1\", \"Topic1\", \"Topic1\", \"Topic1\", \"Topic1\", \"Topic1\", \"Topic1\", \"Topic1\", \"Topic1\", \"Topic1\", \"Topic1\", \"Topic1\", \"Topic1\", \"Topic1\", \"Topic1\", \"Topic1\", \"Topic1\", \"Topic1\", \"Topic1\", \"Topic1\", \"Topic1\", \"Topic1\", \"Topic1\", \"Topic1\", \"Topic1\", \"Topic1\", \"Topic1\", \"Topic1\", \"Topic1\", \"Topic1\", \"Topic1\", \"Topic1\", \"Topic1\", \"Topic1\", \"Topic1\", \"Topic1\", \"Topic1\", \"Topic1\", \"Topic1\", \"Topic1\", \"Topic1\", \"Topic1\", \"Topic1\", \"Topic1\", \"Topic1\", \"Topic1\", \"Topic1\", \"Topic1\", \"Topic1\", \"Topic1\", \"Topic1\", \"Topic1\", \"Topic1\", \"Topic2\", \"Topic2\", \"Topic2\", \"Topic2\", \"Topic2\", \"Topic2\", \"Topic2\", \"Topic2\", \"Topic2\", \"Topic2\", \"Topic2\", \"Topic2\", \"Topic2\", \"Topic2\", \"Topic2\", \"Topic2\", \"Topic2\", \"Topic2\", \"Topic2\", \"Topic2\", \"Topic2\", \"Topic2\", \"Topic2\", \"Topic2\", \"Topic2\", \"Topic2\", \"Topic2\", \"Topic2\", \"Topic2\", \"Topic2\", \"Topic2\", \"Topic2\", \"Topic2\", \"Topic2\", \"Topic2\", \"Topic2\", \"Topic2\", \"Topic2\", \"Topic2\", \"Topic2\", \"Topic2\", \"Topic2\", \"Topic2\", \"Topic2\", \"Topic2\", \"Topic2\", \"Topic2\", \"Topic2\", \"Topic2\", \"Topic2\", \"Topic2\", \"Topic2\", \"Topic2\", \"Topic2\", \"Topic2\", \"Topic2\", \"Topic2\", \"Topic2\", \"Topic2\", \"Topic2\", \"Topic2\", \"Topic2\", \"Topic2\", \"Topic2\", \"Topic2\", \"Topic2\", \"Topic2\", \"Topic2\", \"Topic2\", \"Topic2\", \"Topic2\", \"Topic2\", \"Topic2\", \"Topic2\", \"Topic2\", \"Topic2\", \"Topic2\", \"Topic2\", \"Topic2\", \"Topic2\", \"Topic2\", \"Topic2\", \"Topic2\", \"Topic2\", \"Topic2\", \"Topic2\", \"Topic2\", \"Topic2\", \"Topic2\", \"Topic3\", \"Topic3\", \"Topic3\", \"Topic3\", \"Topic3\", \"Topic3\", \"Topic3\", \"Topic3\", \"Topic3\", \"Topic3\", \"Topic3\", \"Topic3\", \"Topic3\", \"Topic3\", \"Topic3\", \"Topic3\", \"Topic3\", \"Topic3\", \"Topic3\", \"Topic3\", \"Topic3\", \"Topic3\", \"Topic3\", \"Topic3\", \"Topic3\", \"Topic3\", \"Topic3\", \"Topic3\", \"Topic3\", \"Topic3\", \"Topic3\", \"Topic3\", \"Topic3\", \"Topic3\", \"Topic3\", \"Topic3\", \"Topic3\", \"Topic3\", \"Topic3\", \"Topic3\", \"Topic3\", \"Topic3\", \"Topic3\", \"Topic3\", \"Topic3\", \"Topic3\", \"Topic3\", \"Topic3\", \"Topic3\", \"Topic3\", \"Topic3\", \"Topic3\", \"Topic3\", \"Topic3\", \"Topic3\", \"Topic3\", \"Topic3\", \"Topic3\", \"Topic3\", \"Topic3\", \"Topic3\", \"Topic3\", \"Topic3\", \"Topic3\", \"Topic3\", \"Topic3\", \"Topic3\", \"Topic3\", \"Topic3\", \"Topic3\", \"Topic3\", \"Topic3\", \"Topic3\", \"Topic3\", \"Topic3\", \"Topic3\", \"Topic3\", \"Topic3\", \"Topic3\", \"Topic3\", \"Topic3\", \"Topic3\", \"Topic3\", \"Topic3\", \"Topic3\", \"Topic3\", \"Topic3\", \"Topic3\", \"Topic3\", \"Topic3\", \"Topic3\", \"Topic3\", \"Topic3\", \"Topic3\", \"Topic4\", \"Topic4\", \"Topic4\", \"Topic4\", \"Topic4\", \"Topic4\", \"Topic4\", \"Topic4\", \"Topic4\", \"Topic4\", \"Topic4\", \"Topic4\", \"Topic4\", \"Topic4\", \"Topic4\", \"Topic4\", \"Topic4\", \"Topic4\", \"Topic4\", \"Topic4\", \"Topic4\", \"Topic4\", \"Topic4\", \"Topic4\", \"Topic4\", \"Topic4\", \"Topic4\", \"Topic4\", \"Topic4\", \"Topic4\", \"Topic4\", \"Topic4\", \"Topic4\", \"Topic4\", \"Topic4\", \"Topic4\", \"Topic4\", \"Topic4\", \"Topic4\", \"Topic4\", \"Topic4\", \"Topic4\", \"Topic4\", \"Topic4\", \"Topic4\", \"Topic4\", \"Topic4\", \"Topic4\", \"Topic4\", \"Topic4\", \"Topic4\", \"Topic4\", \"Topic4\", \"Topic4\", \"Topic4\", \"Topic4\", \"Topic4\", \"Topic4\", \"Topic4\", \"Topic4\", \"Topic4\", \"Topic4\", \"Topic4\", \"Topic4\", \"Topic4\", \"Topic4\", \"Topic4\", \"Topic4\", \"Topic4\", \"Topic4\", \"Topic4\", \"Topic4\", \"Topic4\", \"Topic4\", \"Topic4\", \"Topic4\", \"Topic4\", \"Topic4\", \"Topic4\", \"Topic4\", \"Topic4\", \"Topic4\", \"Topic4\", \"Topic4\", \"Topic4\", \"Topic4\", \"Topic5\", \"Topic5\", \"Topic5\", \"Topic5\", \"Topic5\", \"Topic5\", \"Topic5\", \"Topic5\", \"Topic5\", \"Topic5\", \"Topic5\", \"Topic5\", \"Topic5\", \"Topic5\", \"Topic5\", \"Topic5\", \"Topic5\", \"Topic5\", \"Topic5\", \"Topic5\", \"Topic5\", \"Topic5\", \"Topic5\", \"Topic5\", \"Topic5\", \"Topic5\", \"Topic5\", \"Topic5\", \"Topic5\", \"Topic5\", \"Topic5\", \"Topic5\", \"Topic5\", \"Topic5\", \"Topic5\", \"Topic5\", \"Topic5\", \"Topic5\", \"Topic5\", \"Topic5\", \"Topic5\", \"Topic5\", \"Topic5\", \"Topic5\", \"Topic5\", \"Topic5\", \"Topic5\", \"Topic5\", \"Topic5\", \"Topic5\", \"Topic5\", \"Topic5\", \"Topic5\", \"Topic5\", \"Topic5\", \"Topic5\", \"Topic5\", \"Topic5\", \"Topic5\", \"Topic5\", \"Topic5\", \"Topic5\", \"Topic5\", \"Topic5\", \"Topic5\", \"Topic5\", \"Topic5\", \"Topic5\", \"Topic5\", \"Topic5\", \"Topic5\", \"Topic5\", \"Topic5\", \"Topic5\", \"Topic5\", \"Topic5\", \"Topic5\", \"Topic5\", \"Topic5\", \"Topic5\", \"Topic5\", \"Topic5\", \"Topic5\", \"Topic5\", \"Topic5\", \"Topic5\", \"Topic5\", \"Topic5\", \"Topic5\", \"Topic5\", \"Topic5\", \"Topic6\", \"Topic6\", \"Topic6\", \"Topic6\", \"Topic6\", \"Topic6\", \"Topic6\", \"Topic6\", \"Topic6\", \"Topic6\", \"Topic6\", \"Topic6\", \"Topic6\", \"Topic6\", \"Topic6\", \"Topic6\", \"Topic6\", \"Topic6\", \"Topic6\", \"Topic6\", \"Topic6\", \"Topic6\", \"Topic6\", \"Topic6\", \"Topic6\", \"Topic6\", \"Topic6\", \"Topic6\", \"Topic6\", \"Topic6\", \"Topic6\", \"Topic6\", \"Topic6\", \"Topic6\", \"Topic6\", \"Topic6\", \"Topic6\", \"Topic6\", \"Topic6\", \"Topic6\", \"Topic6\", \"Topic6\", \"Topic6\", \"Topic6\", \"Topic6\", \"Topic6\", \"Topic6\", \"Topic6\", \"Topic6\", \"Topic6\", \"Topic6\", \"Topic6\", \"Topic6\", \"Topic6\", \"Topic6\", \"Topic6\", \"Topic6\", \"Topic6\", \"Topic6\", \"Topic6\", \"Topic6\", \"Topic6\", \"Topic6\", \"Topic6\", \"Topic6\", \"Topic6\", \"Topic6\", \"Topic6\", \"Topic6\", \"Topic6\", \"Topic6\", \"Topic6\", \"Topic6\", \"Topic6\", \"Topic6\", \"Topic6\", \"Topic6\", \"Topic6\", \"Topic6\", \"Topic6\", \"Topic6\", \"Topic6\", \"Topic6\", \"Topic6\", \"Topic6\", \"Topic6\", \"Topic6\", \"Topic6\", \"Topic7\", \"Topic7\", \"Topic7\", \"Topic7\", \"Topic7\", \"Topic7\", \"Topic7\", \"Topic7\", \"Topic7\", \"Topic7\", \"Topic7\", \"Topic7\", \"Topic7\", \"Topic7\", \"Topic7\", \"Topic7\", \"Topic7\", \"Topic7\", \"Topic7\", \"Topic7\", \"Topic7\", \"Topic7\", \"Topic7\", \"Topic7\", \"Topic7\", \"Topic7\", \"Topic7\", \"Topic7\", \"Topic7\", \"Topic7\", \"Topic7\", \"Topic7\", \"Topic7\", \"Topic7\", \"Topic7\", \"Topic7\", \"Topic7\", \"Topic7\", \"Topic7\", \"Topic7\", \"Topic7\", \"Topic7\", \"Topic7\", \"Topic7\", \"Topic7\", \"Topic7\", \"Topic7\", \"Topic7\", \"Topic7\", \"Topic7\", \"Topic7\", \"Topic7\", \"Topic7\", \"Topic7\", \"Topic7\", \"Topic7\", \"Topic7\", \"Topic7\", \"Topic7\", \"Topic7\", \"Topic7\", \"Topic7\", \"Topic7\", \"Topic7\", \"Topic7\", \"Topic7\", \"Topic7\", \"Topic7\", \"Topic7\", \"Topic7\", \"Topic7\", \"Topic7\", \"Topic7\", \"Topic7\", \"Topic7\", \"Topic7\", \"Topic7\", \"Topic7\", \"Topic7\", \"Topic7\", \"Topic7\", \"Topic7\", \"Topic7\", \"Topic7\", \"Topic7\", \"Topic7\", \"Topic7\", \"Topic7\", \"Topic8\", \"Topic8\", \"Topic8\", \"Topic8\", \"Topic8\", \"Topic8\", \"Topic8\", \"Topic8\", \"Topic8\", \"Topic8\", \"Topic8\", \"Topic8\", \"Topic8\", \"Topic8\", \"Topic8\", \"Topic8\", \"Topic8\", \"Topic8\", \"Topic8\", \"Topic8\", \"Topic8\", \"Topic8\", \"Topic8\", \"Topic8\", \"Topic8\", \"Topic8\", \"Topic8\", \"Topic8\", \"Topic8\", \"Topic8\", \"Topic8\", \"Topic8\", \"Topic8\", \"Topic8\", \"Topic8\", \"Topic8\", \"Topic8\", \"Topic8\", \"Topic8\", \"Topic8\", \"Topic8\", \"Topic8\", \"Topic8\", \"Topic8\", \"Topic8\", \"Topic8\", \"Topic8\", \"Topic8\", \"Topic8\", \"Topic8\", \"Topic8\", \"Topic8\", \"Topic8\", \"Topic8\", \"Topic8\", \"Topic8\", \"Topic8\", \"Topic8\", \"Topic8\", \"Topic8\", \"Topic8\", \"Topic8\", \"Topic8\", \"Topic8\", \"Topic8\", \"Topic8\", \"Topic8\", \"Topic8\", \"Topic8\", \"Topic8\", \"Topic8\", \"Topic8\", \"Topic8\", \"Topic8\", \"Topic8\", \"Topic8\", \"Topic8\", \"Topic8\", \"Topic8\", \"Topic8\", \"Topic8\", \"Topic8\", \"Topic8\", \"Topic9\", \"Topic9\", \"Topic9\", \"Topic9\", \"Topic9\", \"Topic9\", \"Topic9\", \"Topic9\", \"Topic9\", \"Topic9\", \"Topic9\", \"Topic9\", \"Topic9\", \"Topic9\", \"Topic9\", \"Topic9\", \"Topic9\", \"Topic9\", \"Topic9\", \"Topic9\", \"Topic9\", \"Topic9\", \"Topic9\", \"Topic9\", \"Topic9\", \"Topic9\", \"Topic9\", \"Topic9\", \"Topic9\", \"Topic9\", \"Topic9\", \"Topic9\", \"Topic9\", \"Topic9\", \"Topic9\", \"Topic9\", \"Topic9\", \"Topic9\", \"Topic9\", \"Topic9\", \"Topic9\", \"Topic9\", \"Topic9\", \"Topic9\", \"Topic9\", \"Topic9\", \"Topic9\", \"Topic9\", \"Topic9\", \"Topic9\", \"Topic9\", \"Topic9\", \"Topic9\", \"Topic9\", \"Topic9\", \"Topic9\", \"Topic9\", \"Topic9\", \"Topic9\", \"Topic9\", \"Topic9\", \"Topic9\", \"Topic9\", \"Topic9\", \"Topic9\", \"Topic9\", \"Topic9\", \"Topic9\", \"Topic9\", \"Topic9\", \"Topic9\", \"Topic9\", \"Topic9\", \"Topic9\", \"Topic9\", \"Topic9\", \"Topic9\", \"Topic9\", \"Topic9\", \"Topic9\"], \"logprob\": [30.0, 29.0, 28.0, 27.0, 26.0, 25.0, 24.0, 23.0, 22.0, 21.0, 20.0, 19.0, 18.0, 17.0, 16.0, 15.0, 14.0, 13.0, 12.0, 11.0, 10.0, 9.0, 8.0, 7.0, 6.0, 5.0, 4.0, 3.0, 2.0, 1.0, -8.9076, -9.7324, -6.4676, -8.781, -8.2055, -5.2124, -9.83, -9.6128, -10.3225, -8.5074, -8.8057, -9.2452, -7.7059, -6.9899, -9.4994, -9.1317, -8.7662, -10.3662, -9.0714, -9.1663, -8.1437, -9.6852, -7.4897, -8.9962, -9.265, -9.8921, -9.8989, -9.3928, -10.4174, -6.9363, -7.9845, -8.0401, -7.6317, -7.9775, -7.1619, -8.4949, -7.5564, -8.1488, -7.6356, -7.1401, -7.8117, -7.1177, -7.6345, -6.2757, -6.9446, -6.4144, -6.9857, -6.9351, -7.6513, -7.1019, -7.0956, -6.5054, -6.9252, -6.945, -7.338, -7.1808, -7.0708, -5.7433, -6.7066, -6.7159, -6.9299, -6.3632, -6.9024, -6.9984, -6.0097, -6.2952, -6.4035, -6.7482, -6.6838, -6.4001, -6.8465, -6.2186, -6.9479, -6.7839, -6.6609, -6.9057, -6.8431, -6.8567, -6.9003, -6.9141, -6.9266, -6.9354, -9.1392, -9.817, -9.508, -10.0982, -9.2003, -10.1719, -10.4261, -10.1715, -10.384, -9.9179, -10.1659, -9.9066, -8.9906, -9.9509, -9.7654, -10.1841, -10.1481, -10.1793, -10.4573, -9.6062, -8.4341, -9.485, -9.3369, -10.2031, -10.4756, -9.3964, -10.2258, -9.9637, -10.1835, -9.6302, -8.078, -7.6176, -9.186, -8.0649, -8.3568, -8.9471, -7.5708, -6.8655, -7.1599, -7.8944, -7.9731, -7.5242, -7.0698, -8.457, -6.6367, -6.6363, -6.7003, -7.9013, -6.6905, -6.6612, -6.691, -7.1654, -8.0062, -6.8529, -6.9183, -6.548, -7.0752, -6.8356, -6.6872, -7.2652, -6.7996, -6.8754, -7.1511, -7.2357, -6.7484, -7.1091, -5.7891, -6.8418, -6.2424, -7.1333, -5.8812, -6.6421, -6.7579, -6.0537, -6.4476, -6.7605, -6.4601, -7.0014, -6.7381, -6.6118, -6.0736, -6.8127, -6.5902, -6.7194, -6.7866, -6.7091, -6.793, -6.7976, -6.7942, -9.7847, -9.3019, -8.878, -9.9102, -9.9412, -9.522, -9.3866, -9.7654, -10.0334, -10.0152, -10.2915, -9.0656, -9.7128, -9.2798, -10.1357, -9.893, -10.3756, -9.119, -10.8047, -8.337, -9.3418, -9.6783, -10.0428, -8.6036, -9.6027, -9.5895, -9.7671, -10.8059, -9.5774, -10.2007, -9.0606, -9.7631, -7.5877, -8.7919, -6.0954, -6.4499, -7.4908, -8.3877, -8.4436, -8.2771, -7.3021, -7.9879, -5.6419, -6.8747, -7.1533, -8.0185, -6.1444, -6.9585, -7.5817, -6.7753, -7.3395, -7.2598, -7.831, -7.2257, -7.5255, -5.8525, -7.2771, -6.6431, -7.5722, -6.8947, -7.7038, -6.8234, -7.5477, -7.0504, -7.5329, -7.0332, -7.3212, -5.8144, -6.9538, -6.5279, -7.1223, -7.1187, -7.297, -7.1877, -6.987, -6.917, -6.7478, -6.7137, -6.4229, -6.7829, -6.9016, -7.0144, -6.5995, -6.8662, -6.8822, -6.9153, -6.6382, -6.3401, -6.8332, -6.6819, -6.864, -6.8933, -6.8882, -6.9308, -7.1386, -10.2066, -9.7648, -10.0302, -10.3077, -10.3715, -10.3624, -8.5018, -10.3797, -9.2993, -10.0612, -9.3968, -10.7987, -10.4508, -10.1451, -10.1205, -8.5359, -8.2047, -10.1147, -10.1547, -9.7214, -9.7416, -9.493, -10.1494, -10.1775, -9.0164, -8.6224, -9.6451, -10.4901, -10.4471, -5.2359, -8.4998, -8.2092, -7.2274, -7.8954, -8.1035, -6.7287, -7.1834, -8.3659, -7.1769, -7.6029, -8.5688, -6.7868, -7.2546, -6.98, -6.223, -7.6382, -6.8408, -6.0943, -6.5399, -7.1683, -7.5682, -7.269, -7.7279, -6.201, -6.3126, -7.3414, -6.7168, -7.3997, -6.341, -7.1253, -6.8291, -6.9477, -6.9327, -7.0614, -6.7247, -6.9989, -6.0223, -7.197, -7.1741, -6.8892, -6.7254, -6.6972, -6.0891, -6.7728, -6.6175, -6.8332, -6.2078, -6.6096, -6.8378, -6.9807, -6.8701, -6.9083, -6.8807, -6.9326, -6.9297, -8.2065, -9.7475, -8.5158, -9.304, -9.3852, -9.8817, -9.4969, -9.3442, -10.8039, -9.8481, -8.1995, -10.4054, -10.116, -9.0729, -10.1735, -10.1455, -9.3956, -10.1436, -9.9272, -9.8097, -10.4912, -9.4253, -8.7763, -10.1505, -9.356, -8.9327, -10.1901, -10.4247, -10.4409, -10.8899, -8.316, -8.6583, -8.9231, -7.801, -9.7636, -7.2553, -7.5274, -8.458, -7.4558, -8.1878, -8.6893, -7.3564, -8.9232, -7.8763, -7.5585, -6.5393, -7.0269, -7.0835, -7.0722, -5.7537, -6.8611, -6.7228, -6.8067, -6.2653, -5.7406, -7.0288, -6.6596, -7.7121, -7.5128, -7.1497, -7.0285, -7.213, -7.4619, -6.2316, -6.6792, -6.7314, -6.3691, -7.0182, -7.2128, -6.9866, -6.7643, -6.7994, -6.856, -5.962, -6.7151, -6.4825, -5.9743, -6.8026, -6.5171, -6.8453, -6.7581, -6.8753, -6.785, -6.6278, -6.74, -6.9285, -6.9179, -6.9205, -6.8172, -6.8982, -6.9073, -9.1384, -9.2992, -9.9444, -10.1097, -10.3175, -9.1686, -8.7156, -9.9106, -10.3632, -9.5415, -8.7759, -9.1658, -9.0496, -10.0924, -9.785, -9.9766, -10.4453, -10.4485, -10.1229, -7.2664, -9.2602, -10.9055, -9.6709, -10.4842, -9.7966, -8.4167, -9.7432, -9.1133, -10.2446, -10.9249, -9.9581, -9.7884, -7.5996, -9.3, -6.1858, -6.3638, -6.4966, -7.2721, -8.0677, -7.8648, -9.1051, -5.4418, -7.6132, -6.7873, -7.4605, -7.3173, -7.7846, -6.1837, -7.0991, -6.098, -6.5924, -6.226, -7.6317, -6.8647, -7.1797, -7.114, -7.1101, -7.4805, -6.8988, -7.6006, -5.8752, -6.908, -7.0652, -5.7721, -7.277, -7.3521, -6.7075, -6.7683, -6.989, -5.9053, -7.0438, -6.6141, -6.3136, -6.4336, -7.0213, -7.0017, -6.7599, -6.7607, -6.7894, -6.7645, -6.988, -6.7221, -6.6511, -6.9199, -6.9329, -6.8578, -6.9493, -6.946, -9.5372, -10.0828, -10.0609, -9.8992, -10.4118, -9.8922, -9.5622, -10.1411, -10.4507, -10.4515, -10.1692, -10.8756, -10.004, -8.3184, -9.6702, -10.4745, -8.6498, -9.6176, -9.5449, -10.9264, -9.8136, -9.375, -10.2155, -9.9542, -9.9883, -9.2779, -10.016, -10.5288, -10.0243, -10.4668, -8.7609, -8.5483, -8.5364, -8.5133, -8.6366, -8.3249, -8.0275, -6.7444, -7.4559, -8.3295, -7.5489, -6.905, -5.5877, -7.4966, -7.1104, -8.7365, -6.7073, -7.4906, -6.3291, -6.9602, -7.5583, -6.5847, -7.3206, -7.6745, -7.1375, -6.5775, -6.844, -7.4258, -6.4294, -7.5443, -6.6001, -7.5931, -6.6265, -7.4218, -6.3218, -6.724, -5.7433, -6.947, -7.0016, -6.3911, -7.0881, -6.4105, -6.6288, -6.8045, -6.9515, -6.9884, -5.9625, -6.5029, -6.8666, -6.9003, -6.2217, -6.5102, -6.8703, -6.8046, -6.8437, -6.671, -6.8596, -6.8835, -9.5504, -9.8287, -9.8895, -9.659, -8.1095, -10.2199, -9.9609, -8.7407, -9.9747, -10.256, -9.9753, -9.3364, -9.7594, -9.7791, -9.8, -8.9292, -9.788, -10.2896, -9.9576, -10.3221, -10.7331, -10.3292, -10.0878, -9.7927, -9.6313, -9.8078, -10.2997, -9.367, -9.3552, -10.036, -8.8041, -9.6661, -8.718, -9.6221, -8.9483, -7.0253, -8.7176, -6.7363, -7.3626, -7.785, -7.0435, -7.0345, -8.4303, -6.8038, -6.7296, -7.597, -7.5906, -7.5047, -6.6764, -7.0761, -6.7095, -7.2019, -7.8141, -7.177, -7.0226, -6.9496, -6.2594, -6.2055, -5.7119, -5.8076, -6.3158, -6.7004, -6.6094, -6.637, -6.8452, -6.9943, -5.9775, -6.5181, -7.1335, -6.4331, -6.6563, -6.7845, -6.4583, -6.853, -6.7868, -6.7528, -6.7512, -6.5075, -6.7985, -6.7594, -6.7983, -6.4438, -6.7198, -9.2444, -10.3165, -9.9824, -9.6365, -10.3741, -9.3539, -9.3473, -8.1061, -8.8298, -8.7467, -9.7205, -10.4074, -9.4496, -10.376, -10.0837, -9.4408, -10.4156, -7.9992, -10.4241, -10.1572, -9.8719, -9.9007, -10.142, -8.7095, -7.9044, -9.4514, -9.7214, -10.1675, -7.7226, -8.8266, -6.9018, -7.8846, -7.9763, -7.1368, -7.6833, -8.2045, -8.717, -6.0035, -8.2696, -6.9925, -6.6424, -7.4307, -7.0641, -5.5785, -6.9214, -6.8158, -6.1339, -8.0227, -7.8772, -7.6906, -7.7626, -5.7833, -6.6229, -7.0713, -7.3732, -6.287, -7.1349, -7.0695, -6.8174, -6.5015, -6.301, -6.9285, -5.8769, -6.8454, -6.799, -6.6889, -6.9273, -7.1709, -6.04, -6.5073, -7.1835, -6.8415, -6.7915, -6.7967, -6.719, -6.6454, -6.8786, -6.8648, -6.9252, -6.9349], \"loglift\": [30.0, 29.0, 28.0, 27.0, 26.0, 25.0, 24.0, 23.0, 22.0, 21.0, 20.0, 19.0, 18.0, 17.0, 16.0, 15.0, 14.0, 13.0, 12.0, 11.0, 10.0, 9.0, 8.0, 7.0, 6.0, 5.0, 4.0, 3.0, 2.0, 1.0, 0.6714, 0.6492, 0.5968, 0.5876, 0.586, 0.585, 0.583, 0.5739, 0.5638, 0.5629, 0.5617, 0.5566, 0.5519, 0.5498, 0.549, 0.5425, 0.5421, 0.5419, 0.54, 0.5386, 0.5359, 0.5349, 0.5306, 0.5305, 0.5291, 0.5288, 0.5279, 0.5255, 0.5242, 0.5228, 0.5211, 0.5109, 0.5004, 0.4969, 0.473, 0.5071, 0.4637, 0.4832, 0.4616, 0.4313, 0.4656, 0.4191, 0.4449, 0.3406, 0.3876, 0.3476, 0.3807, 0.3704, 0.4235, 0.3358, 0.3328, 0.2403, 0.3064, 0.3028, 0.3632, 0.3253, 0.2997, -0.0022, 0.2153, 0.2015, 0.2482, 0.0825, 0.2373, 0.2617, -0.0555, 0.0252, 0.0591, 0.1633, 0.0998, -0.0467, 0.1814, -0.3648, 0.2098, 0.0255, -0.204, 0.1302, -0.0341, -0.0302, 0.0138, -0.1207, -0.318, -0.0128, 0.6588, 0.6082, 0.5754, 0.5718, 0.5535, 0.5292, 0.5264, 0.5213, 0.5207, 0.5156, 0.5114, 0.5097, 0.4993, 0.4979, 0.497, 0.4943, 0.4931, 0.4928, 0.4918, 0.4907, 0.4899, 0.4879, 0.4862, 0.4852, 0.4807, 0.4721, 0.4719, 0.4714, 0.4713, 0.4707, 0.4683, 0.4574, 0.4689, 0.4501, 0.453, 0.4618, 0.431, 0.4068, 0.4047, 0.4201, 0.4226, 0.3903, 0.365, 0.4339, 0.337, 0.3207, 0.3211, 0.3929, 0.3129, 0.2999, 0.2976, 0.3332, 0.3863, 0.298, 0.302, 0.2585, 0.3022, 0.2552, 0.2303, 0.3001, 0.239, 0.2449, 0.2793, 0.2911, 0.2073, 0.263, 0.0083, 0.2117, 0.078, 0.2619, -0.0274, 0.1415, 0.1536, -0.0995, 0.0093, 0.1192, -0.0144, 0.2175, 0.0709, -0.0031, -0.3325, 0.1092, -0.2368, -0.1032, 0.0067, -0.2465, 0.0164, -0.0356, -0.3141, 0.8526, 0.7516, 0.7321, 0.7259, 0.697, 0.6967, 0.6903, 0.6627, 0.6538, 0.6347, 0.6071, 0.593, 0.5754, 0.5535, 0.5478, 0.5457, 0.5454, 0.5399, 0.5389, 0.538, 0.5367, 0.5357, 0.533, 0.531, 0.5277, 0.5273, 0.527, 0.5223, 0.5207, 0.52, 0.5132, 0.5148, 0.4669, 0.4918, 0.3846, 0.3851, 0.4284, 0.4606, 0.4617, 0.4425, 0.3642, 0.4109, 0.212, 0.3093, 0.3301, 0.4088, 0.2091, 0.296, 0.3644, 0.2641, 0.3319, 0.3178, 0.3869, 0.308, 0.3441, 0.1017, 0.3076, 0.2104, 0.3453, 0.2256, 0.3632, 0.2035, 0.3325, 0.2357, 0.3287, 0.2263, 0.2849, -0.0733, 0.1885, 0.0807, 0.2253, 0.2228, 0.2694, 0.235, 0.1636, 0.1271, 0.0587, 0.032, -0.1025, 0.0435, 0.1017, 0.1496, -0.1426, 0.0302, 0.0319, 0.0584, -0.1756, -0.5427, -0.0399, -0.2361, -0.055, -0.0136, -0.1262, -0.3146, 0.889, 0.7831, 0.7684, 0.6995, 0.6985, 0.6869, 0.677, 0.6627, 0.6607, 0.6379, 0.6344, 0.6208, 0.6037, 0.6002, 0.5902, 0.588, 0.5681, 0.5673, 0.5645, 0.5616, 0.5532, 0.5524, 0.5472, 0.5453, 0.5427, 0.5414, 0.5413, 0.5394, 0.5383, 0.5375, 0.5051, 0.5357, 0.5264, 0.516, 0.4789, 0.4848, 0.384, 0.405, 0.4655, 0.3827, 0.4061, 0.4721, 0.3343, 0.3693, 0.3426, 0.257, 0.395, 0.3104, 0.2261, 0.2695, 0.3247, 0.3673, 0.3224, 0.3854, 0.1525, 0.15, 0.3183, 0.2057, 0.3249, 0.116, 0.2655, 0.1979, 0.2217, 0.2178, 0.2462, 0.155, 0.223, -0.0681, 0.2687, 0.2563, 0.1549, 0.081, 0.0648, -0.2353, 0.0807, -0.0089, 0.0887, -0.4104, -0.1638, -0.0028, 0.159, -0.0612, -0.115, -0.2645, -0.1061, -0.146, 0.9217, 0.7715, 0.7312, 0.6832, 0.6658, 0.6611, 0.6358, 0.6358, 0.6318, 0.6278, 0.6097, 0.6044, 0.5915, 0.586, 0.5814, 0.5796, 0.5783, 0.5771, 0.5759, 0.5741, 0.5697, 0.568, 0.5615, 0.5606, 0.5592, 0.5588, 0.5577, 0.5566, 0.5565, 0.5524, 0.5498, 0.5489, 0.5488, 0.5374, 0.5489, 0.4691, 0.4616, 0.4986, 0.4312, 0.4704, 0.5014, 0.3984, 0.5092, 0.4276, 0.3904, 0.2957, 0.3436, 0.347, 0.3437, 0.2005, 0.3163, 0.2659, 0.2766, 0.1916, 0.1132, 0.2938, 0.2368, 0.388, 0.3501, 0.2822, 0.256, 0.2892, 0.3352, 0.0888, 0.1743, 0.1827, 0.0935, 0.2363, 0.2781, 0.2186, 0.1576, 0.1576, 0.1719, -0.1646, 0.1114, -0.0025, -0.2333, 0.1199, -0.0713, 0.1103, 0.0508, 0.0984, -0.0392, -0.2743, -0.1314, 0.125, 0.1035, 0.0828, -0.201, -0.0185, -0.1237, 0.8206, 0.7951, 0.7472, 0.7099, 0.6663, 0.6497, 0.645, 0.644, 0.6345, 0.6196, 0.6189, 0.612, 0.604, 0.5997, 0.5988, 0.5829, 0.5811, 0.5796, 0.5719, 0.5644, 0.5639, 0.5628, 0.5601, 0.5564, 0.5501, 0.549, 0.5479, 0.5458, 0.544, 0.5436, 0.5421, 0.5379, 0.4926, 0.5227, 0.4228, 0.4296, 0.4175, 0.429, 0.4694, 0.456, 0.5146, 0.2992, 0.4358, 0.3698, 0.4121, 0.3882, 0.4219, 0.2789, 0.36, 0.2555, 0.304, 0.2541, 0.4014, 0.2993, 0.34, 0.3249, 0.3204, 0.3758, 0.2793, 0.3929, 0.079, 0.2702, 0.2942, 0.0253, 0.3323, 0.3469, 0.2041, 0.1928, 0.2511, -0.0515, 0.2638, 0.1316, 0.0067, 0.0122, 0.2467, 0.2202, 0.0495, 0.0482, 0.064, 0.0191, 0.2065, -0.1058, -0.1941, 0.116, 0.1065, -0.0958, 0.1151, -0.1196, 0.7081, 0.6863, 0.663, 0.6425, 0.64, 0.6268, 0.6167, 0.6045, 0.6029, 0.5944, 0.588, 0.5848, 0.5821, 0.5812, 0.5647, 0.5598, 0.5557, 0.5543, 0.5509, 0.5506, 0.5504, 0.5502, 0.55, 0.5461, 0.5399, 0.5384, 0.537, 0.5345, 0.5324, 0.5321, 0.5248, 0.5138, 0.5051, 0.5027, 0.5049, 0.4806, 0.4643, 0.4065, 0.4277, 0.4702, 0.4219, 0.3728, 0.2661, 0.4097, 0.3716, 0.4882, 0.3286, 0.3867, 0.2795, 0.326, 0.3761, 0.2687, 0.3462, 0.3808, 0.3209, 0.2489, 0.2687, 0.339, 0.1869, 0.3509, 0.1933, 0.3545, 0.1829, 0.3216, 0.124, 0.19, -0.0022, 0.2311, 0.2203, 0.0658, 0.2395, 0.0695, 0.1169, 0.1566, 0.1972, 0.2061, -0.1651, -0.0403, 0.1071, 0.1212, -0.2675, -0.1898, 0.0867, -0.021, -0.0087, -0.3176, -0.0532, -0.0745, 0.9708, 0.8982, 0.8864, 0.8487, 0.8372, 0.8297, 0.8004, 0.7826, 0.7713, 0.76, 0.7589, 0.7432, 0.7411, 0.7378, 0.7365, 0.7363, 0.7302, 0.7277, 0.727, 0.7219, 0.7164, 0.7088, 0.6916, 0.6909, 0.6902, 0.6879, 0.6853, 0.6853, 0.6849, 0.6822, 0.6787, 0.6777, 0.6559, 0.6753, 0.6382, 0.536, 0.6248, 0.4582, 0.4958, 0.5277, 0.4626, 0.4475, 0.5811, 0.4014, 0.3831, 0.479, 0.4771, 0.4662, 0.3595, 0.3924, 0.3372, 0.4042, 0.4858, 0.3826, 0.3591, 0.3187, 0.1864, 0.148, 0.0291, 0.0462, 0.1411, 0.2221, 0.197, 0.198, 0.238, 0.2738, -0.0233, 0.0982, 0.3097, 0.047, 0.1273, 0.1725, 0.0043, 0.1911, 0.1307, 0.0737, 0.0578, -0.1871, 0.0979, 0.0339, 0.0814, -0.6464, -0.1112, 0.813, 0.7705, 0.7553, 0.7161, 0.7077, 0.7004, 0.6924, 0.6808, 0.6706, 0.6673, 0.6503, 0.6421, 0.6405, 0.6358, 0.6345, 0.632, 0.6317, 0.6308, 0.6172, 0.6158, 0.6116, 0.609, 0.6065, 0.6032, 0.6012, 0.5982, 0.5966, 0.596, 0.5937, 0.5936, 0.5801, 0.5857, 0.5708, 0.542, 0.5512, 0.5587, 0.5719, 0.4534, 0.5462, 0.4732, 0.4408, 0.48, 0.442, 0.2753, 0.4023, 0.3894, 0.3118, 0.5023, 0.4836, 0.4572, 0.467, 0.1709, 0.2887, 0.3484, 0.3916, 0.1757, 0.3232, 0.278, 0.2106, 0.1148, 0.0525, 0.223, -0.1358, 0.176, 0.1567, 0.0947, 0.1934, 0.2826, -0.2426, -0.0273, 0.2855, 0.081, 0.0179, 0.0122, -0.1104, -0.325, -0.0852, -0.1191, -0.0289, -0.0552]}, \"token.table\": {\"Topic\": [1, 2, 3, 6, 1, 2, 3, 4, 5, 6, 7, 8, 9, 1, 2, 3, 4, 5, 6, 7, 9, 1, 2, 3, 4, 5, 6, 7, 8, 9, 1, 2, 3, 1, 2, 3, 8, 1, 2, 3, 4, 5, 6, 7, 8, 9, 1, 2, 3, 4, 5, 6, 7, 8, 9, 1, 2, 3, 4, 5, 6, 7, 8, 9, 1, 2, 3, 4, 5, 6, 7, 8, 9, 1, 2, 3, 4, 5, 6, 7, 8, 9, 1, 2, 3, 4, 5, 6, 7, 8, 9, 1, 2, 3, 5, 6, 7, 1, 2, 3, 4, 5, 6, 7, 8, 9, 1, 2, 3, 4, 7, 1, 2, 3, 4, 6, 7, 1, 2, 3, 5, 7, 1, 2, 3, 4, 5, 1, 2, 3, 1, 1, 2, 3, 1, 2, 3, 4, 5, 6, 7, 8, 9, 1, 2, 3, 8, 1, 2, 3, 4, 5, 6, 7, 8, 9, 1, 2, 3, 4, 5, 6, 7, 8, 9, 1, 2, 3, 5, 6, 1, 2, 3, 4, 5, 1, 2, 3, 4, 5, 6, 7, 8, 9, 1, 2, 3, 4, 5, 6, 7, 8, 9, 1, 2, 3, 4, 5, 6, 7, 8, 9, 1, 2, 3, 4, 5, 6, 7, 8, 9, 4, 1, 2, 3, 4, 5, 7, 1, 2, 3, 4, 5, 6, 7, 8, 9, 1, 2, 3, 4, 5, 6, 7, 8, 9, 1, 2, 3, 4, 5, 6, 7, 8, 9, 1, 2, 3, 4, 5, 6, 7, 8, 9, 1, 2, 3, 4, 5, 6, 7, 1, 2, 3, 4, 5, 6, 7, 8, 9, 1, 2, 3, 4, 5, 1, 2, 3, 4, 5, 6, 7, 8, 9, 1, 2, 3, 1, 1, 2, 3, 4, 5, 6, 7, 8, 9, 1, 2, 3, 4, 5, 6, 7, 8, 9, 1, 2, 3, 4, 5, 6, 7, 8, 9, 1, 2, 3, 8, 2, 3, 1, 1, 2, 3, 4, 8, 1, 3, 4, 1, 2, 3, 4, 8, 1, 2, 3, 4, 5, 6, 7, 8, 9, 1, 2, 3, 4, 5, 6, 7, 8, 9, 1, 2, 3, 4, 5, 6, 7, 8, 9, 1, 2, 3, 4, 5, 6, 7, 8, 9, 1, 2, 3, 4, 5, 6, 7, 8, 9, 1, 2, 3, 4, 5, 6, 7, 8, 9, 1, 2, 3, 4, 5, 6, 7, 8, 9, 1, 2, 3, 4, 5, 6, 7, 8, 9, 1, 2, 3, 4, 5, 6, 7, 8, 9, 1, 2, 3, 4, 5, 6, 7, 8, 9, 1, 2, 3, 4, 5, 6, 7, 8, 9, 1, 2, 3, 4, 5, 6, 7, 8, 9, 1, 2, 3, 4, 5, 6, 7, 8, 9, 1, 2, 3, 4, 5, 6, 7, 1, 2, 3, 4, 5, 1, 3, 1, 3, 1, 2, 3, 1, 2, 3, 1, 2, 3, 4, 8, 1, 2, 3, 4, 5, 6, 7, 8, 9, 1, 2, 3, 4, 5, 6, 7, 8, 9, 1, 2, 3, 4, 5, 6, 7, 8, 9, 1, 2, 3, 6, 3, 1, 2, 3, 4, 5, 7, 8, 1, 2, 3, 4, 5, 6, 7, 8, 9, 1, 2, 1, 2, 1, 2, 1, 2, 3, 4, 6, 7, 9, 1, 2, 3, 4, 5, 6, 7, 8, 9, 1, 2, 3, 4, 6, 1, 1, 2, 3, 4, 5, 6, 7, 8, 9, 1, 2, 3, 4, 5, 6, 7, 8, 9, 1, 2, 3, 4, 5, 6, 7, 8, 9, 1, 2, 3, 4, 5, 6, 7, 8, 9, 1, 2, 3, 4, 5, 6, 7, 8, 9, 1, 1, 2, 3, 4, 5, 7, 8, 1, 2, 3, 4, 1, 2, 3, 4, 1, 2, 3, 4, 5, 1, 2, 3, 4, 5, 6, 7, 8, 9, 1, 2, 3, 4, 5, 6, 7, 8, 9, 1, 2, 3, 4, 5, 6, 7, 8, 9, 1, 2, 3, 4, 5, 6, 7, 8, 9, 1, 2, 3, 4, 5, 6, 7, 8, 9, 1, 2, 3, 4, 5, 6, 7, 8, 9, 1, 2, 3, 4, 5, 6, 7, 8, 9, 1, 2, 3, 4, 5, 1, 2, 3, 4, 6, 7, 9, 1, 2, 3, 4, 5, 6, 7, 8, 9, 1, 2, 3, 4, 5, 6, 7, 8, 9, 1, 2, 3, 4, 5, 6, 7, 8, 9, 1, 2, 3, 4, 5, 6, 7, 8, 9, 1, 2, 3, 4, 6, 8, 1, 2, 3, 4, 5, 6, 7, 8, 9, 1, 2, 3, 4, 5, 6, 7, 8, 9, 1, 2, 3, 4, 5, 6, 7, 8, 9, 1, 2, 3, 4, 5, 6, 7, 8, 9, 1, 2, 3, 4, 5, 6, 7, 8, 9, 1, 2, 3, 5, 1, 2, 3, 4, 5, 6, 1, 2, 3, 4, 5, 6, 7, 8, 9, 1, 2, 3, 4, 5, 6, 7, 8, 9, 1, 2, 3, 4, 5, 6, 7, 8, 9, 1, 2, 3, 1, 2, 3, 4, 5, 6, 7, 8, 9, 1, 2, 3, 4, 5, 6, 7, 8, 9, 1, 2, 3, 6, 1, 2, 3, 4, 5, 6, 7, 8, 9, 1, 2, 3, 1, 2, 3, 4, 5, 6, 7, 8, 9, 1, 2, 3, 1, 2, 3, 7, 1, 2, 3, 4, 5, 6, 7, 8, 9, 1, 2, 3, 4, 5, 6, 7, 8, 9, 2, 3, 1, 2, 3, 5, 1, 2, 3, 4, 5, 6, 7, 8, 9, 1, 2, 3, 4, 5, 1, 2, 3, 4, 5, 6, 7, 8, 9, 1, 2, 3, 4, 5, 6, 7, 8, 9, 1, 2, 3, 4, 5, 6, 7, 8, 9, 1, 2, 3, 4, 5, 6, 7, 8, 9, 1, 2, 3, 4, 5, 6, 7, 8, 9, 1, 2, 3, 4, 5, 6, 7, 8, 9, 1, 2, 3, 4, 5, 6, 7, 8, 9, 1, 2, 3, 5, 1, 2, 3, 4, 5, 6, 7, 8, 9, 1, 2, 3, 4, 5, 6, 7, 8, 9, 1, 2, 3, 4, 5, 6, 7, 1, 2, 3, 4, 5, 6, 7, 8, 9, 1, 2, 3, 5, 1, 2, 3, 4, 5, 6, 7, 8, 9, 1, 2, 3, 4, 5, 6, 7, 8, 9, 1, 2, 3, 4, 5, 6, 7, 8, 9, 1, 2, 3, 4, 5, 6, 7, 8, 9, 1, 2, 3, 4, 5, 6, 7, 8, 9, 1, 2, 3, 4, 5, 6, 7, 8, 9, 1, 2, 3, 1, 2, 3, 4, 5, 6, 7, 8, 9, 1, 2, 3, 4, 5, 6, 7, 8, 9, 1, 2, 3, 4, 5, 6, 7, 8, 9, 1, 2, 3, 4, 5, 6, 7, 8, 9, 1, 2, 3, 4, 5, 6, 7, 8, 9, 1, 2, 3, 8, 1, 2, 3, 4, 5, 6, 7, 8, 9, 1, 2, 3, 4, 1, 2, 3, 4, 5, 6, 7, 8, 9, 1, 2, 3, 4, 5, 6, 7, 8, 9, 1, 2, 3, 4, 5, 6, 7, 8, 9, 1, 2, 3, 4, 5, 6, 7, 1, 2, 4, 2, 1, 2, 3, 4, 5, 1, 2, 3, 4, 5, 1, 2, 3, 4, 5, 6, 7, 8, 9, 1, 2, 3, 4, 7, 1, 2, 3, 4, 5, 6, 7, 8, 9, 2, 3, 2, 3, 7, 1, 3, 2, 1, 2, 3, 4, 5, 6, 7, 8, 9, 1, 2, 3, 4, 6, 7, 1, 2, 3, 4, 5, 6, 7, 8, 9, 1, 2, 3, 4, 5, 6, 7, 8, 9, 1, 2, 3, 4, 5, 6, 7, 8, 9, 1, 2, 3, 5, 1, 2, 3, 4, 5, 6, 7, 8, 9, 1, 2, 3, 4, 5, 6, 7, 8, 9, 2, 3, 3, 5, 1, 2, 3, 4, 5, 6, 7, 8, 9, 1, 2, 3, 7, 1, 2, 3, 1, 2, 3, 4, 5, 6, 7, 8, 9, 1, 2, 3, 4, 5, 6, 7, 8, 9, 1, 2, 3, 4, 8, 1, 2, 3, 4, 1, 2, 3, 4, 5, 6, 7, 8, 9, 1, 2, 3, 4, 5, 6, 7, 8, 1, 2, 3, 4, 5, 6, 7, 8, 9, 1, 2, 3, 4, 5, 6, 7, 8, 9, 1, 2, 3, 4, 5, 6, 7, 8, 9, 1, 2, 3, 4, 5, 6, 7, 8, 1, 2, 3, 4, 5, 6, 7, 8, 9, 1, 2, 3, 4, 5, 6, 7, 8, 9, 1, 2, 3, 6, 7, 8, 1, 2, 3, 4, 5, 6, 7, 8, 9, 1, 2, 3, 4, 5, 6, 7, 8, 9, 2, 1, 2, 3, 4, 5, 7, 1, 2, 3, 4, 5, 6, 7, 8, 9, 1, 2, 3, 4, 5, 6, 7, 1, 2, 3, 4, 5, 6, 7, 8, 9, 1, 2, 3, 4, 5, 6, 7, 8, 9, 1, 2, 3, 4, 5, 6, 7, 8, 9, 1, 2, 3, 4, 5, 6, 7, 8, 9, 2, 3, 1, 2, 3, 4, 5, 6, 7, 8, 9, 1, 2, 3, 4, 5, 6, 7, 8, 9, 1, 2, 3, 6, 1, 2, 3, 4, 5, 6, 7, 8, 9, 1, 1, 2, 3, 4, 5, 6, 7, 8, 9, 1, 2, 3, 8, 1, 2, 3, 7, 1, 2, 3, 1, 2, 3, 4, 5, 6, 7, 8, 9, 1, 2, 3, 4, 5, 6, 7, 8, 9, 1, 2, 3, 4, 5, 6, 7, 8, 9, 1, 2, 3, 4, 5, 6, 7, 8, 9, 1, 2, 3, 7, 1, 2, 3, 7, 1, 2, 3, 4, 5, 6, 7, 8, 9, 2, 4, 1, 2, 3, 4, 5, 6, 7, 8, 9, 1, 2, 3, 4, 5, 6, 7, 8, 9, 3, 6, 1, 2, 3, 4, 5, 6, 7, 1, 2, 3, 4, 5, 6, 7, 8, 9, 1, 2, 3, 6, 1, 1, 2, 3, 4, 5, 6, 7, 8, 9, 1, 2, 3, 4, 5, 6, 7, 8, 9, 1, 2, 3, 4, 5, 6, 7, 8, 9, 1, 3, 8, 1, 2, 3, 4, 5, 6, 7, 8, 9, 1, 2, 3, 4, 5, 6, 7, 8, 9, 1, 2, 3, 4, 5, 6, 7, 8, 9, 1, 2, 3, 4, 5, 6, 7, 8, 9, 1, 2, 3, 4, 5, 6, 7, 9, 2, 3, 1, 2, 3, 5, 1, 2, 3, 4, 1, 2, 3, 4, 5, 6, 7, 8, 9, 1, 2, 6, 1, 1, 2, 3, 1, 2, 3, 4, 5, 6, 7, 8, 9, 1, 2, 3, 4, 5, 6, 7, 8, 9, 2, 3, 1, 2, 3, 4, 5, 6, 7, 8, 9, 1, 2, 3, 1, 2, 3, 4, 5, 6, 7, 8, 9, 1, 2, 3, 4, 5, 6, 7, 8, 9, 1, 2, 3, 4, 5, 6, 7, 8, 9, 1, 2, 3, 4, 5, 6, 7, 8, 9, 1, 2, 3, 4, 5, 6, 7, 8, 9, 1, 2, 3, 4, 5, 6, 7, 8, 9, 1, 2, 3, 4, 5, 6, 1, 2, 3, 4, 5, 6, 7, 8, 9, 1, 2, 3, 4, 5, 6, 9, 1, 2, 3, 4, 5, 6, 7, 8, 9, 1, 2, 3, 4, 1, 2, 3, 4, 5, 6, 7, 8, 9, 1, 2, 3, 4, 5, 6, 7, 8, 9, 1, 2, 3, 4, 5, 6, 7, 8, 9, 1, 2, 3, 4, 6, 1, 2, 3, 1, 2, 3, 4, 5, 6, 7, 8, 9, 1, 2, 3, 9, 1, 2, 3, 4, 5, 6, 7, 8, 9, 1, 2, 3, 1, 2, 3, 4, 5, 6, 7, 8, 9, 1, 2, 3, 4, 5, 6, 8, 1, 2, 3, 4, 5, 6, 7, 8, 9, 1, 2, 3, 1, 2, 3, 4, 5, 6, 7, 8, 9, 1, 2, 3, 4, 5, 6, 7, 8, 9, 1, 2, 1, 2, 3, 5, 1, 2, 3, 1, 2, 3, 4, 5, 6, 7, 8, 9, 1, 2, 3, 4, 5, 6, 7, 8, 9, 1, 2, 3, 4, 5, 6, 7, 8, 1, 2, 3, 4, 5, 6, 7, 8, 9, 1, 2, 3, 4, 5, 6, 1, 2, 3, 4, 5, 6, 7, 8, 9, 1, 2, 3, 4, 5, 6, 7, 8, 9, 2, 1, 1, 2, 3, 4, 5, 6, 7, 8, 9, 1, 2, 3, 4, 5, 6, 7, 8, 9, 1, 2, 3, 4, 5, 6, 7, 1, 2, 3, 4, 5, 6, 7, 8, 9, 1, 2, 3, 4, 1, 2, 3, 4, 5, 6, 7, 8, 9, 1, 3, 5, 1, 2, 3, 4, 5, 6, 7, 8, 9, 1, 2, 3, 4, 1, 2, 3, 4, 5, 6, 7, 8, 9, 1, 2, 3, 4, 5, 6, 7, 8, 9, 1, 2, 3, 4, 5, 6, 7, 8, 9, 1, 2, 3, 4, 5, 6, 7, 8, 9, 1, 2, 3, 4, 5, 6, 7, 8, 9, 1, 2, 3, 4, 5, 6, 7, 8, 9, 1, 2, 3, 4, 5, 6, 7, 8, 9, 1, 2, 3, 4, 5, 6, 7, 8, 9, 1, 2, 3, 4, 5, 6, 7, 8, 9, 1, 2, 3, 4, 5, 6, 7, 8, 9, 1, 2, 3, 4, 5, 6, 7, 8, 9, 1, 2, 3, 4, 5, 6, 7, 8, 9, 1, 2, 3, 4, 5, 6, 7, 8, 9, 1, 2, 3, 4, 5, 6, 7, 8, 1, 2, 3, 4, 5, 6, 7, 8, 9, 1, 2, 3, 1, 2, 3, 5, 6, 1, 2, 3, 4, 5, 6, 7, 8, 9, 1, 2, 3, 4, 5, 6, 7, 8, 9, 1, 2, 3, 4, 5, 6, 7, 8, 9, 1, 2, 3, 4, 5, 6, 7, 8, 9, 1, 2, 3, 4, 5, 6, 7, 8, 9, 1, 2, 3, 4, 5, 6, 7, 8, 9, 1, 2, 1, 2, 3, 1, 2, 3, 4, 5, 6, 7, 1, 2, 3, 6, 1, 2, 3, 4, 5, 6, 1, 2, 3, 4, 5, 6, 7, 8, 9, 1, 2, 3, 4, 5, 6, 7, 8, 9, 1, 2, 3, 4, 5, 6, 7, 8, 9, 1, 2, 3, 3, 1, 2, 3, 4, 5, 6, 7, 8, 9, 1, 2, 3, 4, 5, 6, 7, 8, 1, 2, 3, 4, 5, 6, 7, 8, 9, 1, 2, 3, 4, 5, 6, 7, 8, 9, 1, 2, 3, 4, 5, 6, 7, 8, 9, 1, 3, 1, 2, 1, 2, 3, 4, 1, 2, 3, 4, 5, 6, 7, 8, 9, 1, 2, 3, 4, 5, 1, 2, 3, 4, 5, 6, 7, 8, 9, 1, 2, 3, 4, 5, 6, 7, 8, 9, 1, 2, 3, 1, 2, 3, 4, 5, 6, 7, 8, 9, 1, 2, 3, 4, 5, 6, 7, 8, 9, 1, 2, 3, 4, 5, 6, 7, 8, 9, 1, 2, 3, 4, 5, 6, 7, 8, 9, 1, 2, 3, 4, 5, 6, 7, 8, 9, 1, 2, 3, 4, 5, 6, 7, 1, 2, 1, 2, 3, 8, 1, 2, 3, 4, 5, 6, 7, 8, 9, 1, 1, 2, 3, 4, 5, 6, 1, 2, 5, 1, 2, 3, 4, 5, 6, 7, 8, 9, 1, 2, 3, 4, 5, 6, 7, 8, 9, 1, 2, 3, 8, 1, 2, 3, 4, 5, 6, 7, 8, 9, 1, 2, 3, 5, 1, 2, 3, 4, 5, 6, 7, 8, 9, 1, 2, 3, 4, 1, 2, 3, 1, 2, 3, 4, 5, 6, 7, 8, 9, 1, 1, 2, 1, 2, 3, 4, 5, 6, 7, 8, 9, 1, 2, 3, 4, 5, 6, 7, 8, 9, 1, 2, 3, 4, 5, 6, 7, 8, 9, 1, 2, 3, 4, 5, 6, 7, 8, 9, 1, 2, 3, 4, 5, 6, 7, 8, 9, 1, 2, 3, 4, 5, 6, 7, 8, 9, 1, 2, 3, 5, 6, 7, 8, 1, 2, 3, 6, 1, 2, 3, 4, 5, 6, 7, 8, 9, 1, 2, 3, 4, 5, 6, 7, 8, 9, 1, 2, 3, 4, 5, 6, 7, 8, 1, 2, 3, 4, 5, 6, 7, 8, 9, 1, 2, 3, 4, 6, 7, 1, 2, 3, 4, 5, 6, 7, 8, 9, 1, 2, 3, 4, 5, 6, 7, 8, 9, 1, 2, 3, 4, 5, 6, 7, 8, 9, 1, 2, 3, 4, 5, 7, 1, 2, 3, 7, 1, 2, 3, 4, 5, 6, 7, 8, 9, 1, 2, 3, 4, 5, 6, 7, 8, 9, 1, 2, 3, 6, 7, 1, 2, 3, 4, 5, 6, 7, 8, 1, 2, 3, 4, 5, 6, 7, 8, 9, 1, 2, 3, 4, 5, 6, 7, 2, 3, 1, 2, 3, 4, 5, 6, 7, 8, 9, 1, 2, 3, 4, 5, 6, 7, 8, 9, 1, 2, 3, 4, 5, 6, 7, 8, 9, 1, 2, 3, 4, 5, 6, 7, 8, 9, 1, 2, 3, 4, 5, 6, 7, 8, 9, 1, 1, 2, 3, 4, 5, 6, 7, 8, 9, 1, 2, 3, 4, 5, 6, 7, 8, 9, 1, 2, 3, 4, 5, 6, 7, 8, 9, 1, 2, 3, 4, 5, 6, 7, 8, 9, 1, 2, 3, 4, 5, 6, 8, 1, 2, 3, 4, 5, 6, 7, 8, 9, 1, 2, 3, 4, 5, 6, 7, 8, 9, 1, 2, 3, 4, 5, 6, 7, 8, 9, 1, 2, 3, 4, 1, 2, 3, 4, 5, 6, 7, 1, 2, 3, 4, 5, 6, 7, 8, 9, 1, 2, 3, 1, 2, 3, 1, 2, 3, 4, 5, 6, 7, 8, 9, 1, 2, 3, 4, 5, 6, 7, 8, 9, 1, 2, 3, 4, 5, 6, 7, 8, 9, 1, 2, 3, 4, 5, 6, 7, 8, 9, 1, 2, 3, 4, 5, 7, 8, 1, 2, 3, 4, 1, 2, 3, 4, 8, 9, 1, 2, 3, 4, 7, 9, 1, 2, 3, 4, 5, 6, 7, 8, 9, 1, 2, 3, 4, 5, 7, 8, 1, 2, 3, 4, 5, 6, 7, 8, 9, 1, 2, 3, 4, 5, 6, 7, 8, 1, 2, 3, 4, 5, 6, 7, 8, 9, 1, 2, 3, 4, 5, 6, 7, 8, 9, 1, 2, 3, 4, 5, 6, 7, 8, 9, 2, 1, 2, 3, 8, 1, 2, 3, 4, 5, 6, 7, 8, 9, 1, 2, 3, 4, 5, 6, 7, 8, 9, 1, 2, 3, 4, 5, 6, 7, 8, 9, 1, 2, 3, 4, 5, 1, 2, 3, 4, 5, 6, 7, 8, 9, 1, 2, 3, 4, 5, 6, 7, 8, 1, 2, 3, 4, 5, 6, 7, 8, 9, 1, 2, 3, 4, 5, 6, 7, 8, 9, 1, 2, 3, 4, 6, 7, 1, 2, 3, 4, 5, 6, 7, 8, 9, 1, 2, 3, 4, 5, 6, 7, 8, 9, 1, 2, 3, 1, 2, 3, 1, 2, 3, 4, 5, 6, 7, 8, 9, 1, 3, 2, 1, 2, 3, 4, 5, 6, 7, 8, 9, 1, 2, 3, 4, 5, 6, 7, 8, 9, 1, 2, 3, 4, 5, 6, 7, 1, 2, 3, 6, 3, 1, 2, 3, 4, 5, 6, 7, 8, 9, 1, 2, 3, 4, 5, 6, 7, 8, 9, 1, 2, 3, 4, 5, 6, 7, 8, 9, 1, 2, 3, 4, 5, 6, 7, 8, 9, 1, 2, 3, 4, 5, 6, 7, 8, 9, 1, 2, 3, 4, 5, 6, 7, 8, 9, 1, 2, 3, 4, 5, 6, 7, 8, 9, 1, 2, 3, 4, 5, 6, 7, 1, 2, 3, 4, 5, 6, 7, 8, 9, 1, 2, 3, 4, 5, 6, 7, 8, 9, 1, 2, 3, 4, 5, 6, 7, 8, 9, 1, 2, 3, 4, 5, 6, 7, 8, 9, 1, 2, 3, 4, 5, 6, 7, 8, 9, 1, 2, 3, 4, 5, 6, 7, 8, 9, 2, 3, 1, 2, 3, 4, 5, 6, 7, 8, 9, 1, 2, 3, 4, 5, 6, 7, 8, 9, 1, 2, 3, 4, 5, 6, 7, 8, 9, 1, 2, 3, 4, 5, 6, 7, 8, 9, 1, 2, 3, 4, 5, 6, 7, 8, 9, 1, 2, 3, 4, 5, 6, 7, 8, 9, 1, 2, 3, 4, 5, 7, 8, 1, 2, 3, 4, 5, 6, 7, 8, 9, 1, 1, 2, 3, 4, 5, 6, 7, 8, 9, 1, 2, 3, 4, 5, 6, 7, 8, 9, 1, 2, 3, 1, 2, 3, 4, 5, 6, 7, 8, 9, 3, 1, 2, 3, 4, 5, 6, 7, 8, 9, 1, 2, 1, 2, 3, 4, 5, 6, 7, 8, 9, 1, 2, 3, 4, 5, 8, 1, 2, 3, 4, 5, 6, 7, 8, 9, 1, 2, 3, 4, 5, 6, 7, 8, 9, 1, 2, 3, 4, 5, 6, 7, 8, 9, 1, 2, 3, 4, 5, 6, 7, 8, 9, 1, 2, 3, 8, 1, 2, 3, 4, 5, 6, 7, 8, 9, 1, 2, 3, 4, 5, 6, 7, 8, 9, 1, 2, 3, 4, 5, 6, 7, 8, 9, 1, 2, 3, 4, 5, 6, 7, 8, 9, 1, 2, 3, 4, 5, 6, 7, 8, 9, 1, 2, 3, 1, 2, 3, 4, 5, 6, 7, 8, 9, 1, 2, 3, 4, 5, 6, 7, 8, 9, 1, 2, 3, 4, 5, 6, 7, 8, 9, 1, 2, 3, 4, 5, 6, 7, 8, 9, 1, 2, 3, 4, 1, 2, 3, 4, 5, 6, 7, 8, 9, 1, 2, 3, 4, 5, 6, 9, 1, 2, 3, 4, 5, 3, 1, 2, 3, 4, 5, 6, 7, 8, 9, 1, 2, 3, 4, 5, 6, 7, 8, 9, 1, 2, 3, 1, 2, 3, 4, 5, 6, 7, 8, 9, 1, 2, 3, 4, 5, 6, 7, 8, 9, 1, 1, 3, 1, 2, 3, 4, 5, 6, 7, 1, 2, 3, 4, 5, 6, 7, 9, 1, 2, 3, 4, 5, 6, 7, 8, 9, 1, 2, 3, 4, 5, 6, 7, 8, 9], \"Freq\": [0.4187801877985063, 0.13959339593283543, 0.13959339593283543, 0.13959339593283543, 0.1958208516470693, 0.20887557509020727, 0.15665668131765545, 0.09138306410196569, 0.06527361721568978, 0.07832834065882772, 0.06527361721568978, 0.052218893772551817, 0.07832834065882772, 0.4365445930852116, 0.17461783723408464, 0.08730891861704232, 0.08730891861704232, 0.08730891861704232, 0.08730891861704232, 0.08730891861704232, 0.08730891861704232, 0.14915629392736335, 0.14915629392736335, 0.24859382321227227, 0.09943752928490891, 0.049718764642454456, 0.049718764642454456, 0.09943752928490891, 0.049718764642454456, 0.049718764642454456, 0.32868645848903666, 0.32868645848903666, 0.32868645848903666, 0.2751321371832539, 0.2751321371832539, 0.2751321371832539, 0.2751321371832539, 0.1378071545393455, 0.20671073180901825, 0.1378071545393455, 0.06890357726967275, 0.06890357726967275, 0.06890357726967275, 0.06890357726967275, 0.1378071545393455, 0.06890357726967275, 0.20307129793061193, 0.1353808652870746, 0.15606405303926657, 0.15418376324361274, 0.06957072243919112, 0.10717651835226741, 0.07145101223484493, 0.06204956325657587, 0.04324666530003772, 0.17126865052683754, 0.19141790352999488, 0.12089551801894413, 0.0906716385142081, 0.11082089151736546, 0.0906716385142081, 0.08059701201262942, 0.07052238551105075, 0.07052238551105075, 0.18028226508532885, 0.18028226508532885, 0.12018817672355256, 0.12018817672355256, 0.06009408836177628, 0.06009408836177628, 0.12018817672355256, 0.12018817672355256, 0.06009408836177628, 0.2372235506181064, 0.19768629218175535, 0.07907451687270213, 0.07907451687270213, 0.07907451687270213, 0.07907451687270213, 0.07907451687270213, 0.039537258436351065, 0.07907451687270213, 0.357465978685077, 0.15887376830447866, 0.11915532622835899, 0.07943688415223933, 0.07943688415223933, 0.07943688415223933, 0.07943688415223933, 0.039718442076119666, 0.039718442076119666, 0.38408934439290304, 0.19204467219645152, 0.09602233609822576, 0.09602233609822576, 0.09602233609822576, 0.09602233609822576, 0.15970683955619272, 0.31941367911238544, 0.15970683955619272, 0.07985341977809636, 0.07985341977809636, 0.07985341977809636, 0.07985341977809636, 0.07985341977809636, 0.07985341977809636, 0.19140980406828614, 0.19140980406828614, 0.19140980406828614, 0.19140980406828614, 0.19140980406828614, 0.15152966211335514, 0.15152966211335514, 0.3030593242267103, 0.15152966211335514, 0.15152966211335514, 0.15152966211335514, 0.21734210383240407, 0.3260131557486061, 0.10867105191620204, 0.10867105191620204, 0.10867105191620204, 0.1750263152513753, 0.1750263152513753, 0.1750263152513753, 0.1750263152513753, 0.1750263152513753, 0.20167752610152476, 0.4033550522030495, 0.20167752610152476, 0.3778066772229055, 0.2157096309819624, 0.2157096309819624, 0.2157096309819624, 0.24027367281851317, 0.16018244854567545, 0.16018244854567545, 0.08009122427283773, 0.08009122427283773, 0.12013683640925658, 0.12013683640925658, 0.040045612136418864, 0.040045612136418864, 0.22331161483892006, 0.22331161483892006, 0.22331161483892006, 0.22331161483892006, 0.1747771023236813, 0.1747771023236813, 0.13593774625175212, 0.09709839017982294, 0.07767871214385835, 0.09709839017982294, 0.07767871214385835, 0.09709839017982294, 0.058259034107893765, 0.19483843409394183, 0.18370480928857372, 0.1781379968858897, 0.08350218604026079, 0.10020262324831294, 0.07236856123489269, 0.09463581084562889, 0.06680174883220863, 0.033400874416104315, 0.19522425016892117, 0.19522425016892117, 0.19522425016892117, 0.19522425016892117, 0.19522425016892117, 0.23558234312373297, 0.11779117156186648, 0.23558234312373297, 0.11779117156186648, 0.11779117156186648, 0.10728211266250164, 0.16092316899375245, 0.24138475349062868, 0.13410264082812703, 0.05364105633125082, 0.08046158449687622, 0.08046158449687622, 0.08046158449687622, 0.05364105633125082, 0.14181834742868396, 0.19338865558456905, 0.24495896374045414, 0.07735546223382762, 0.07735546223382762, 0.0902480392727989, 0.07735546223382762, 0.05157030815588508, 0.05157030815588508, 0.17764699536203227, 0.20497730234080647, 0.16398184187264517, 0.05466061395754839, 0.13665153489387097, 0.06832576744693548, 0.09565607442570968, 0.05466061395754839, 0.04099546046816129, 0.1585881436943497, 0.1585881436943497, 0.1585881436943497, 0.07929407184717485, 0.07929407184717485, 0.07929407184717485, 0.07929407184717485, 0.07929407184717485, 0.07929407184717485, 0.3578592548356451, 0.14671287431179442, 0.14671287431179442, 0.29342574862358883, 0.14671287431179442, 0.14671287431179442, 0.14671287431179442, 0.2520382371774362, 0.13821451716181984, 0.08943292286941283, 0.08943292286941283, 0.10569345430021516, 0.08943292286941283, 0.0731723914386105, 0.08943292286941283, 0.0731723914386105, 0.23238498797024934, 0.20656443375133274, 0.10328221687566637, 0.051641108437833184, 0.07746166265674978, 0.07746166265674978, 0.07746166265674978, 0.07746166265674978, 0.07746166265674978, 0.19347628518879972, 0.14188260913845313, 0.18057786617621308, 0.09028893308810654, 0.10318735210069319, 0.09028893308810654, 0.10318735210069319, 0.05159367605034659, 0.038695257037759945, 0.3493966699078164, 0.1863448906175021, 0.13975866796312658, 0.04658622265437552, 0.06987933398156329, 0.09317244530875105, 0.04658622265437552, 0.02329311132718776, 0.02329311132718776, 0.2821844470397943, 0.09406148234659809, 0.09406148234659809, 0.09406148234659809, 0.09406148234659809, 0.18812296469319617, 0.09406148234659809, 0.22400572462384397, 0.21867225498994292, 0.12800327121362512, 0.0800020445085157, 0.0800020445085157, 0.0800020445085157, 0.06933510524071361, 0.06933510524071361, 0.053334696339010466, 0.14032365085607, 0.14032365085607, 0.42097095256820993, 0.14032365085607, 0.14032365085607, 0.1621170425650069, 0.1801300472944521, 0.20714955438861993, 0.08105852128250345, 0.08105852128250345, 0.09907152601194866, 0.07205201891778085, 0.07205201891778085, 0.04503251182361302, 0.2727618235950776, 0.2727618235950776, 0.2727618235950776, 0.3712142049012341, 0.16541971446930598, 0.18850153509293008, 0.14618486394961924, 0.10386819280630841, 0.10771516291024576, 0.06539849176693492, 0.07693940207874697, 0.06924546187087227, 0.07693940207874697, 0.21962810335045926, 0.16472107751284445, 0.15687721667889948, 0.11765791250917461, 0.10197019084128466, 0.0862824691733947, 0.07059474750550476, 0.04706316500366984, 0.03921930416972487, 0.18716069984501532, 0.29410967118502407, 0.10694897134000876, 0.08021172850500657, 0.08021172850500657, 0.05347448567000438, 0.08021172850500657, 0.05347448567000438, 0.02673724283500219, 0.14456339218230396, 0.2891267843646079, 0.14456339218230396, 0.14456339218230396, 0.3560041062162957, 0.3560041062162957, 0.3606857994718411, 0.2157201570464226, 0.2157201570464226, 0.2157201570464226, 0.2157201570464226, 0.2157201570464226, 0.27331008945919183, 0.27331008945919183, 0.27331008945919183, 0.17905795912570024, 0.17905795912570024, 0.17905795912570024, 0.17905795912570024, 0.17905795912570024, 0.1968669328707969, 0.2214752994796465, 0.14765019965309767, 0.07382509982654883, 0.09843346643539845, 0.07382509982654883, 0.07382509982654883, 0.09843346643539845, 0.024608366608849613, 0.13905350046499088, 0.15064129217040678, 0.1622290838758227, 0.13905350046499088, 0.08111454193791134, 0.10429012534874316, 0.08111454193791134, 0.09270233364332725, 0.05793895852707953, 0.20891861886451965, 0.14922758490322832, 0.11938206792258266, 0.089536550941937, 0.05969103396129133, 0.089536550941937, 0.05969103396129133, 0.089536550941937, 0.089536550941937, 0.1793125018593664, 0.1665044660122688, 0.1665044660122688, 0.12808035847097599, 0.0896562509296832, 0.0768482150825856, 0.0768482150825856, 0.06404017923548799, 0.0512321433883904, 0.15112348113046886, 0.15112348113046886, 0.172712549863393, 0.0863562749316965, 0.11514169990892865, 0.0863562749316965, 0.07915991868738845, 0.07915991868738845, 0.07915991868738845, 0.1936360233286956, 0.16723111105660074, 0.18483438590466397, 0.08801637424031618, 0.11442128651241103, 0.07921473681628456, 0.07041309939225295, 0.052809824544189705, 0.04400818712015809, 0.1759228262762594, 0.0879614131381297, 0.1759228262762594, 0.0879614131381297, 0.0879614131381297, 0.0879614131381297, 0.0879614131381297, 0.0879614131381297, 0.0879614131381297, 0.16127624000320354, 0.18143577000360397, 0.18143577000360397, 0.1411167100028031, 0.08063812000160177, 0.06047859000120133, 0.08063812000160177, 0.06047859000120133, 0.040319060000800884, 0.19303988086038765, 0.1367365822761079, 0.1849965524912048, 0.10456326879937664, 0.06434662695346255, 0.09651994043019382, 0.088476612061011, 0.09651994043019382, 0.04021664184591409, 0.18137994491734846, 0.31741490360535984, 0.18137994491734846, 0.09068997245867423, 0.09068997245867423, 0.045344986229337116, 0.09068997245867423, 0.045344986229337116, 0.045344986229337116, 0.15291184182524387, 0.15291184182524387, 0.15291184182524387, 0.15291184182524387, 0.10194122788349591, 0.050970613941747955, 0.050970613941747955, 0.10194122788349591, 0.050970613941747955, 0.15319940685672156, 0.12534496924640853, 0.18105384446703457, 0.15319940685672156, 0.08356331283093903, 0.08356331283093903, 0.09749053163609553, 0.08356331283093903, 0.04178165641546951, 0.19923426224467716, 0.13282284149645143, 0.26564568299290287, 0.09961713112233858, 0.09961713112233858, 0.04980856556116929, 0.06641142074822572, 0.04980856556116929, 0.03320571037411286, 0.3272769302102347, 0.21818462014015644, 0.10909231007007822, 0.10909231007007822, 0.10909231007007822, 0.10909231007007822, 0.10909231007007822, 0.14362812615922135, 0.14362812615922135, 0.2872562523184427, 0.14362812615922135, 0.14362812615922135, 0.32666555446033013, 0.32666555446033013, 0.3561740369891646, 0.3561740369891646, 0.16550630984345818, 0.16550630984345818, 0.33101261968691637, 0.16475059090266708, 0.16475059090266708, 0.32950118180533416, 0.22743852161894165, 0.22743852161894165, 0.22743852161894165, 0.22743852161894165, 0.22743852161894165, 0.18257689088178444, 0.1521474090681537, 0.1521474090681537, 0.09128844544089222, 0.09128844544089222, 0.12171792725452295, 0.09128844544089222, 0.060858963627261474, 0.09128844544089222, 0.1579962667437367, 0.14219664006936303, 0.23699440011560505, 0.09479776004624202, 0.07899813337186835, 0.09479776004624202, 0.07899813337186835, 0.07899813337186835, 0.03159925334874734, 0.16515083980064799, 0.16515083980064799, 0.16515083980064799, 0.08257541990032399, 0.08257541990032399, 0.08257541990032399, 0.08257541990032399, 0.16515083980064799, 0.08257541990032399, 0.23273704900353256, 0.23273704900353256, 0.23273704900353256, 0.23273704900353256, 0.2926294862583724, 0.12491416886597619, 0.24982833773195237, 0.12491416886597619, 0.12491416886597619, 0.12491416886597619, 0.12491416886597619, 0.12491416886597619, 0.2611131696645856, 0.14242536527159214, 0.18198796673592327, 0.07912520292866229, 0.08703772322152853, 0.10286276380726099, 0.05538764205006361, 0.05538764205006361, 0.031650081171464915, 0.35486786855950475, 0.35486786855950475, 0.3226981536799363, 0.3226981536799363, 0.3297839963569202, 0.3297839963569202, 0.36072752079589177, 0.18036376039794588, 0.09018188019897294, 0.09018188019897294, 0.09018188019897294, 0.09018188019897294, 0.09018188019897294, 0.1653494258062882, 0.1653494258062882, 0.1653494258062882, 0.1653494258062882, 0.0826747129031441, 0.0826747129031441, 0.0826747129031441, 0.0826747129031441, 0.0826747129031441, 0.1843334687115524, 0.1843334687115524, 0.1843334687115524, 0.1843334687115524, 0.1843334687115524, 0.3557129442404826, 0.14278672699830194, 0.19378198664055266, 0.19378198664055266, 0.08159241542760111, 0.11218957121295153, 0.09179146735605126, 0.07139336349915097, 0.07139336349915097, 0.030597155785350418, 0.11686138754218398, 0.1947689792369733, 0.15581518338957864, 0.15581518338957864, 0.07790759169478932, 0.07790759169478932, 0.07790759169478932, 0.07790759169478932, 0.07790759169478932, 0.19425557203787028, 0.14916052852907896, 0.2081309700405753, 0.1075343345209639, 0.06590814051284884, 0.1005966355196114, 0.05203274251014382, 0.0693769900135251, 0.05203274251014382, 0.11273302785721061, 0.1690995417858159, 0.22546605571442122, 0.11273302785721061, 0.056366513928605304, 0.11273302785721061, 0.11273302785721061, 0.056366513928605304, 0.056366513928605304, 0.16095196907365805, 0.10730131271577203, 0.23248617755083942, 0.10730131271577203, 0.0894177605964767, 0.12518486483506738, 0.05365065635788602, 0.07153420847718137, 0.05365065635788602, 0.36114616691680274, 0.138455999754001, 0.138455999754001, 0.138455999754001, 0.138455999754001, 0.138455999754001, 0.138455999754001, 0.138455999754001, 0.2083433187368634, 0.2083433187368634, 0.2083433187368634, 0.2083433187368634, 0.26640971755222037, 0.26640971755222037, 0.26640971755222037, 0.26640971755222037, 0.18179494205135843, 0.18179494205135843, 0.18179494205135843, 0.18179494205135843, 0.18179494205135843, 0.17372484884665665, 0.20115508813823402, 0.13715119645788681, 0.12800778336069438, 0.11886437026350191, 0.06400389168034719, 0.07314730477753964, 0.05486047858315473, 0.05486047858315473, 0.1354434986814932, 0.26443730694958195, 0.18059133157532428, 0.07739628496085325, 0.09674535620106657, 0.07094659454744882, 0.07739628496085325, 0.058047213720639944, 0.04514783289383107, 0.18780602855809406, 0.15024482284647525, 0.15024482284647525, 0.15024482284647525, 0.07512241142323763, 0.07512241142323763, 0.07512241142323763, 0.07512241142323763, 0.03756120571161881, 0.14896708154370572, 0.14896708154370572, 0.22345062231555857, 0.07448354077185286, 0.07448354077185286, 0.07448354077185286, 0.07448354077185286, 0.07448354077185286, 0.07448354077185286, 0.2842287029998139, 0.17143953514274488, 0.12181230128563453, 0.07218506742852417, 0.07218506742852417, 0.07218506742852417, 0.08571976757137244, 0.0676735007142414, 0.05413880057139312, 0.23586603604033238, 0.1715389353020599, 0.13937538493292367, 0.08576946765102995, 0.0964906511074087, 0.06432710073827247, 0.0750482841946512, 0.05360591728189372, 0.08576946765102995, 0.2376494806075575, 0.15447216239491238, 0.22576700657717963, 0.07129484418226725, 0.095059792243023, 0.08317731821264512, 0.0475298961215115, 0.0475298961215115, 0.02376494806075575, 0.13130427128466113, 0.26260854256932226, 0.13130427128466113, 0.13130427128466113, 0.13130427128466113, 0.1430454525562428, 0.1430454525562428, 0.1430454525562428, 0.1430454525562428, 0.1430454525562428, 0.1430454525562428, 0.1430454525562428, 0.1818961718852945, 0.1818961718852945, 0.2122122005328436, 0.0808427430601309, 0.0808427430601309, 0.0808427430601309, 0.0808427430601309, 0.05052671441258181, 0.05052671441258181, 0.15396593762446845, 0.173211679827527, 0.2501946486397612, 0.11547445321835133, 0.057737226609175664, 0.07698296881223422, 0.07698296881223422, 0.07698296881223422, 0.03849148440611711, 0.21665901831811335, 0.14701861957300547, 0.1392807974902157, 0.10832950915905667, 0.09672277603487203, 0.10446059811766178, 0.06964039874510786, 0.0619025766623181, 0.058033665620923214, 0.18206116780853027, 0.18206116780853027, 0.1365458758563977, 0.09103058390426513, 0.11378822988033142, 0.06827293792819886, 0.06827293792819886, 0.06827293792819886, 0.09103058390426513, 0.15995124574501443, 0.15995124574501443, 0.15995124574501443, 0.15995124574501443, 0.15995124574501443, 0.15995124574501443, 0.2427130430627484, 0.28316521690653984, 0.1213565215313742, 0.08090434768758281, 0.040452173843791406, 0.08090434768758281, 0.08090434768758281, 0.040452173843791406, 0.040452173843791406, 0.1643131806443724, 0.2053914758054655, 0.15404360685409912, 0.07188701653191293, 0.0821565903221862, 0.11296531169300603, 0.0821565903221862, 0.0821565903221862, 0.05134786895136637, 0.17311139981914486, 0.24439256445055743, 0.16292837630037163, 0.12219628222527872, 0.06109814111263936, 0.08146418815018582, 0.05091511759386613, 0.06109814111263936, 0.04073209407509291, 0.20275658948289033, 0.20275658948289033, 0.14312229845851082, 0.14312229845851082, 0.07156114922925541, 0.09541486563900721, 0.07156114922925541, 0.035780574614627705, 0.023853716409751802, 0.14785832506289498, 0.1848229063286187, 0.2587520688600662, 0.07392916253144749, 0.07392916253144749, 0.07392916253144749, 0.07392916253144749, 0.036964581265723745, 0.036964581265723745, 0.12957394368112002, 0.25914788736224004, 0.12957394368112002, 0.12957394368112002, 0.3247657884285588, 0.2165105256190392, 0.1082552628095196, 0.1082552628095196, 0.1082552628095196, 0.1082552628095196, 0.18663994380392898, 0.12442662920261932, 0.15553328650327414, 0.12442662920261932, 0.06221331460130966, 0.09331997190196449, 0.06221331460130966, 0.06221331460130966, 0.09331997190196449, 0.14522641756309, 0.14522641756309, 0.14522641756309, 0.14522641756309, 0.072613208781545, 0.14522641756309, 0.072613208781545, 0.072613208781545, 0.072613208781545, 0.21051077491306452, 0.14034051660870966, 0.07017025830435483, 0.14034051660870966, 0.07017025830435483, 0.14034051660870966, 0.07017025830435483, 0.07017025830435483, 0.07017025830435483, 0.28809523476694876, 0.28809523476694876, 0.28809523476694876, 0.19023635136214512, 0.1521890810897161, 0.2092599864983596, 0.07609454054485805, 0.07609454054485805, 0.057070905408643534, 0.11414181081728707, 0.038047270272429025, 0.057070905408643534, 0.21872231770462522, 0.1874762723182502, 0.10936115885231261, 0.0937381361591251, 0.07811511346593758, 0.07811511346593758, 0.07811511346593758, 0.0937381361591251, 0.062492090772750065, 0.21932567174147238, 0.21932567174147238, 0.21932567174147238, 0.21932567174147238, 0.1724037079404082, 0.18807677229862713, 0.23509596537328392, 0.09403838614931356, 0.09403838614931356, 0.04701919307465678, 0.07836532179109464, 0.04701919307465678, 0.04701919307465678, 0.17290257298153952, 0.34580514596307904, 0.17290257298153952, 0.17767760867394028, 0.1640101003144064, 0.19134511703347415, 0.1230075752358048, 0.10934006687627093, 0.06833754179766934, 0.06833754179766934, 0.054670033438135465, 0.054670033438135465, 0.2803441134903118, 0.2803441134903118, 0.2803441134903118, 0.2286321735890286, 0.2286321735890286, 0.2286321735890286, 0.2286321735890286, 0.3325264903547124, 0.21376702951374366, 0.1662632451773562, 0.04750378433638748, 0.04750378433638748, 0.07125567650458123, 0.04750378433638748, 0.02375189216819374, 0.04750378433638748, 0.2500926563197588, 0.20841054693313235, 0.13546685550653603, 0.08336421877325294, 0.09378474611990956, 0.0625231640799397, 0.0625231640799397, 0.05210263673328309, 0.0625231640799397, 0.2618169696310493, 0.2618169696310493, 0.2234895145348542, 0.2234895145348542, 0.2234895145348542, 0.2234895145348542, 0.1505757881190059, 0.2553241624626622, 0.1440290147225274, 0.08510805415422074, 0.11784192113661332, 0.06546773396478518, 0.06546773396478518, 0.06546773396478518, 0.04582741377534963, 0.1353642127790917, 0.1353642127790917, 0.2707284255581834, 0.1353642127790917, 0.1353642127790917, 0.22243237033455154, 0.1606456007971761, 0.1730029547046512, 0.13593089298222594, 0.09885883125980069, 0.07414412344485051, 0.049429415629900345, 0.037072061722425255, 0.049429415629900345, 0.19809093018379506, 0.2558674514874019, 0.17332956391082066, 0.07428409881892314, 0.05777652130360689, 0.049522732545948765, 0.08253788757658127, 0.06603031006126502, 0.04126894378829064, 0.15650331689168642, 0.28692274763475845, 0.13911405945927682, 0.09564091587825281, 0.10433554459445761, 0.060862401013433605, 0.06955702972963841, 0.052167772297228805, 0.034778514864819206, 0.17285863975035554, 0.20166841304208147, 0.11523909316690369, 0.11523909316690369, 0.08642931987517777, 0.08642931987517777, 0.08642931987517777, 0.05761954658345184, 0.08642931987517777, 0.21154335444325145, 0.15587405064239582, 0.16700791140256693, 0.08907088608136902, 0.07793702532119791, 0.11133860760171128, 0.06680316456102678, 0.05566930380085564, 0.05566930380085564, 0.16748024052162203, 0.17944311484459502, 0.16748024052162203, 0.13159161755270302, 0.09570299458378402, 0.07177724593783802, 0.08374012026081101, 0.07177724593783802, 0.05981437161486501, 0.18649383843819986, 0.31082306406366644, 0.12432922562546658, 0.06216461281273329, 0.06216461281273329, 0.09324691921909993, 0.06216461281273329, 0.06216461281273329, 0.06216461281273329, 0.28095931612676595, 0.28095931612676595, 0.28095931612676595, 0.28095931612676595, 0.1410157484281519, 0.1831100016902868, 0.20836655364756773, 0.07366494320873607, 0.098921495166017, 0.07576965587184281, 0.09471206983980351, 0.06314137989320234, 0.06524609255630909, 0.18913467310542192, 0.09456733655271096, 0.09456733655271096, 0.09456733655271096, 0.18913467310542192, 0.09456733655271096, 0.09456733655271096, 0.09456733655271096, 0.09456733655271096, 0.24437325975038232, 0.12218662987519116, 0.12218662987519116, 0.12218662987519116, 0.12218662987519116, 0.12218662987519116, 0.12218662987519116, 0.27173446640407, 0.15851177206904082, 0.15851177206904082, 0.11322269433502917, 0.0679336166010175, 0.0679336166010175, 0.0679336166010175, 0.04528907773401167, 0.0679336166010175, 0.2288835290672276, 0.2288835290672276, 0.2288835290672276, 0.2288835290672276, 0.19045800535060678, 0.2077723694733892, 0.12985773092086825, 0.07791463855252095, 0.1038861847366946, 0.1038861847366946, 0.06060027442973852, 0.07791463855252095, 0.04328591030695608, 0.24513659092775353, 0.1906617929438083, 0.12937764521186992, 0.08171219697591783, 0.1021402462198973, 0.06809349747993153, 0.06809349747993153, 0.05447479798394523, 0.06128414773193838, 0.1854322243102401, 0.2191471741848292, 0.11800232456106187, 0.08428737468647277, 0.11800232456106187, 0.06742989974917821, 0.10114484962376732, 0.05057242481188366, 0.05057242481188366, 0.15078651290990083, 0.15078651290990083, 0.15078651290990083, 0.07539325645495042, 0.15078651290990083, 0.07539325645495042, 0.07539325645495042, 0.07539325645495042, 0.07539325645495042, 0.13905176992861026, 0.17381471241076285, 0.13905176992861026, 0.13905176992861026, 0.13905176992861026, 0.06952588496430513, 0.06952588496430513, 0.06952588496430513, 0.034762942482152566, 0.17288853243320065, 0.17288853243320065, 0.17288853243320065, 0.17288853243320065, 0.05762951081106688, 0.11525902162213376, 0.05762951081106688, 0.05762951081106688, 0.05762951081106688, 0.26372161225602486, 0.26372161225602486, 0.26372161225602486, 0.15935785018700066, 0.22497578849929506, 0.20622780612435382, 0.09373991187470627, 0.09373991187470627, 0.056243947124823765, 0.056243947124823765, 0.04686995593735314, 0.0656179383122944, 0.1852040823260207, 0.1936224497044762, 0.1852040823260207, 0.09260204116301035, 0.0589285716491884, 0.10102040854146584, 0.08418367378455487, 0.05051020427073292, 0.04209183689227743, 0.16165411364500584, 0.21553881819334111, 0.20014318832238817, 0.11546722403214703, 0.09237377922571761, 0.07697814935476469, 0.05388470454833528, 0.03848907467738234, 0.04618688961285881, 0.20660094814725777, 0.15191246187298366, 0.17621845577266104, 0.07291798169903216, 0.10330047407362888, 0.12152996949838693, 0.08507097864887085, 0.03645899084951608, 0.04861198779935477, 0.3058265801839707, 0.20388438678931378, 0.14724983490339327, 0.0679614622631046, 0.07928837264028869, 0.07928837264028869, 0.045307641508736396, 0.0339807311315523, 0.0339807311315523, 0.18342892906606348, 0.18342892906606348, 0.18342892906606348, 0.18342892906606348, 0.2961181419579636, 0.1432829719151437, 0.1910439625535249, 0.08596978314908621, 0.08596978314908621, 0.07641758502140997, 0.047760990638381226, 0.038208792510704984, 0.038208792510704984, 0.27013346288268236, 0.27013346288268236, 0.27013346288268236, 0.27013346288268236, 0.16228247958305253, 0.18392014352745953, 0.16228247958305253, 0.07573182380542451, 0.11900715169423852, 0.09736948774983152, 0.06491299183322101, 0.07573182380542451, 0.06491299183322101, 0.26625653853295744, 0.20613409434809607, 0.1374227295653974, 0.08588920597837336, 0.08588920597837336, 0.08588920597837336, 0.04294460298918668, 0.04294460298918668, 0.04294460298918668, 0.31179370048191096, 0.19487106280119437, 0.11692263768071662, 0.07794842512047774, 0.05846131884035831, 0.07794842512047774, 0.05846131884035831, 0.03897421256023887, 0.05846131884035831, 0.33141604751803394, 0.16570802375901697, 0.16570802375901697, 0.08285401187950849, 0.08285401187950849, 0.08285401187950849, 0.08285401187950849, 0.27744636375652937, 0.27744636375652937, 0.27744636375652937, 0.26812228330822635, 0.1303605348853051, 0.2607210697706102, 0.1303605348853051, 0.1303605348853051, 0.1303605348853051, 0.2642338921258466, 0.1321169460629233, 0.1321169460629233, 0.1321169460629233, 0.1321169460629233, 0.16610250306650612, 0.2591199047837495, 0.18603480343448686, 0.07308510134926269, 0.09301740171724343, 0.07308510134926269, 0.06644100122660244, 0.05315280098128196, 0.02657640049064098, 0.15795021521153063, 0.15795021521153063, 0.15795021521153063, 0.15795021521153063, 0.15795021521153063, 0.20100008749689674, 0.12694742368225057, 0.19042113552337586, 0.08463161578816705, 0.09521056776168793, 0.08463161578816705, 0.08463161578816705, 0.08463161578816705, 0.042315807894083526, 0.2515493736750267, 0.5030987473500534, 0.2390016088929049, 0.2390016088929049, 0.2390016088929049, 0.28595567628449775, 0.28595567628449775, 0.34608374528077074, 0.1539880136493847, 0.12319041091950776, 0.21558321910913858, 0.09239280818963082, 0.09239280818963082, 0.12319041091950776, 0.09239280818963082, 0.06159520545975388, 0.03079760272987694, 0.36771763323372747, 0.12257254441124248, 0.12257254441124248, 0.12257254441124248, 0.12257254441124248, 0.12257254441124248, 0.18582661238177503, 0.24088634938378245, 0.1789441452565241, 0.06882467125250927, 0.09635453975351298, 0.06882467125250927, 0.06194220412725834, 0.04817726987675649, 0.04817726987675649, 0.21665376812664275, 0.1718288505831994, 0.18677048976434718, 0.08964983508688665, 0.08217901549631276, 0.07470819590573888, 0.052295737134017216, 0.06723737631516499, 0.0597665567245911, 0.16287666164802625, 0.16287666164802625, 0.16287666164802625, 0.16287666164802625, 0.10858444109868418, 0.05429222054934209, 0.05429222054934209, 0.05429222054934209, 0.05429222054934209, 0.2746212285744554, 0.2746212285744554, 0.2746212285744554, 0.2746212285744554, 0.20121943942569812, 0.21509664214471177, 0.14571062854964345, 0.09020181767358881, 0.08326321631408198, 0.06244741223556148, 0.06938601359506831, 0.08326321631408198, 0.04857020951654782, 0.16474873380275953, 0.21051227097019273, 0.16474873380275953, 0.09152707433486641, 0.10067978176835304, 0.07322165946789312, 0.054916244600919845, 0.07322165946789312, 0.07322165946789312, 0.334090982608956, 0.334090982608956, 0.27344649692977785, 0.27344649692977785, 0.285586811430034, 0.142793405715017, 0.09885697318731945, 0.0659046487915463, 0.0659046487915463, 0.08787286505539507, 0.08787286505539507, 0.09885697318731945, 0.07688875692347069, 0.21934335731988985, 0.21934335731988985, 0.21934335731988985, 0.21934335731988985, 0.320633484346381, 0.1603167421731905, 0.1603167421731905, 0.2714845368606068, 0.22058118619924302, 0.11877448487651547, 0.07635502599204566, 0.08483891776893962, 0.08483891776893962, 0.050903350661363776, 0.0678711342151517, 0.025451675330681888, 0.18471064040302887, 0.25477329710762603, 0.15286397826457562, 0.057323991849215855, 0.08917065398766912, 0.09553998641535977, 0.08280132155997846, 0.038215994566143906, 0.04458532699383456, 0.1875589256035938, 0.1875589256035938, 0.1875589256035938, 0.1875589256035938, 0.1875589256035938, 0.2666561958855886, 0.2666561958855886, 0.2666561958855886, 0.2666561958855886, 0.20646110815855873, 0.24578703352209372, 0.16713518279502373, 0.07865185072707, 0.08848333206795374, 0.058988888045302494, 0.058988888045302494, 0.049157406704418746, 0.039325925363535, 0.1890777547546883, 0.1890777547546883, 0.2836166321320325, 0.09453887737734415, 0.09453887737734415, 0.09453887737734415, 0.09453887737734415, 0.09453887737734415, 0.14243070891008586, 0.22155888052680023, 0.18199479471844304, 0.0870409887783858, 0.07121535445504293, 0.10286662310172869, 0.0870409887783858, 0.04747690297002862, 0.05538972013170006, 0.1866626441705604, 0.23332830521320047, 0.22166188995254044, 0.08166490682462016, 0.08166490682462016, 0.05833207630330012, 0.05833207630330012, 0.03499924578198007, 0.0466656610426401, 0.1569995504414293, 0.24671357926510318, 0.16821380404438852, 0.08971402882367388, 0.10092828242663311, 0.05607126801479617, 0.07849977522071465, 0.05607126801479617, 0.0336427608088777, 0.12341571429079096, 0.12341571429079096, 0.2468314285815819, 0.12341571429079096, 0.12341571429079096, 0.12341571429079096, 0.12341571429079096, 0.12341571429079096, 0.2195323221506304, 0.19513984191167147, 0.1463548814337536, 0.0731774407168768, 0.1463548814337536, 0.0731774407168768, 0.0731774407168768, 0.04878496047791787, 0.04878496047791787, 0.2965697859082623, 0.16176533776814306, 0.13480444814011922, 0.09885659530275409, 0.07189570567473025, 0.06290874246538897, 0.06290874246538897, 0.06290874246538897, 0.044934816046706405, 0.16756714532079678, 0.16756714532079678, 0.16756714532079678, 0.16756714532079678, 0.16756714532079678, 0.16756714532079678, 0.3674479023576438, 0.1574776724389902, 0.10498511495932679, 0.052492557479663395, 0.10498511495932679, 0.052492557479663395, 0.10498511495932679, 0.052492557479663395, 0.052492557479663395, 0.18495364555101057, 0.1564992385431628, 0.17072644204708667, 0.11381762803139113, 0.08536322102354334, 0.07113601751961945, 0.09959042452746723, 0.056908814015695565, 0.07113601751961945, 0.3447545425448484, 0.14653400254843943, 0.29306800509687886, 0.14653400254843943, 0.14653400254843943, 0.14653400254843943, 0.14653400254843943, 0.20257866294982446, 0.23052054749462783, 0.15368036499641854, 0.09081112477061096, 0.0977965959068118, 0.06286924022580759, 0.06286924022580759, 0.055883769089606745, 0.04191282681720506, 0.18185779809757868, 0.18185779809757868, 0.18185779809757868, 0.09092889904878934, 0.09092889904878934, 0.09092889904878934, 0.09092889904878934, 0.15667691515602378, 0.1790593316068843, 0.24620658095946593, 0.1119120822543027, 0.08952966580344215, 0.04476483290172108, 0.06714724935258162, 0.04476483290172108, 0.04476483290172108, 0.1831122206183692, 0.16902666518618695, 0.16902666518618695, 0.09859888802527572, 0.12676999888964022, 0.07042777716091123, 0.056342221728728985, 0.07042777716091123, 0.04225666629654674, 0.1780257417270333, 0.1780257417270333, 0.2314334642451433, 0.05340772251810999, 0.14242059338162666, 0.05340772251810999, 0.05340772251810999, 0.07121029669081333, 0.05340772251810999, 0.19291575841576636, 0.1768394452144525, 0.1286105056105109, 0.08038156600656932, 0.1286105056105109, 0.09645787920788318, 0.06430525280525545, 0.06430525280525545, 0.06430525280525545, 0.25475924093797697, 0.25475924093797697, 0.18300973082785968, 0.14297635220926538, 0.20588594718134215, 0.10294297359067107, 0.10294297359067107, 0.08578581132555922, 0.09150486541392984, 0.04003337861859431, 0.04575243270696492, 0.2604876180867859, 0.14885006747816334, 0.13024380904339294, 0.0930312921738521, 0.0930312921738521, 0.11163755060862252, 0.05581877530431126, 0.05581877530431126, 0.05581877530431126, 0.3326974765800942, 0.11089915886003139, 0.22179831772006278, 0.11089915886003139, 0.2147872481723748, 0.2761550333644819, 0.1534194629802677, 0.06136778519210708, 0.09205167778816062, 0.06136778519210708, 0.05113982099342257, 0.05113982099342257, 0.04091185679473806, 0.3790259909853194, 0.1803188609414387, 0.2885101775063019, 0.12622320265900708, 0.07212754437657548, 0.07212754437657548, 0.07212754437657548, 0.07212754437657548, 0.07212754437657548, 0.03606377218828774, 0.2239925750760087, 0.2239925750760087, 0.2239925750760087, 0.2239925750760087, 0.2255703866525628, 0.2255703866525628, 0.2255703866525628, 0.2255703866525628, 0.2599042604876114, 0.2599042604876114, 0.2599042604876114, 0.24158009377426065, 0.2898961125291128, 0.09663203750970425, 0.04831601875485213, 0.09663203750970425, 0.09663203750970425, 0.0724740281322782, 0.04831601875485213, 0.024158009377426064, 0.13985790183856395, 0.17482237729820496, 0.12237566410874347, 0.10489342637892297, 0.08741118864910248, 0.08741118864910248, 0.10489342637892297, 0.08741118864910248, 0.06992895091928197, 0.18028703166702864, 0.16389730151548057, 0.16389730151548057, 0.08194865075774029, 0.09833838090928836, 0.09833838090928836, 0.11472811106083641, 0.06555892060619223, 0.032779460303096114, 0.17103412591207032, 0.18813753850327736, 0.1539307133208633, 0.11972388813844922, 0.13682730072965626, 0.06841365036482813, 0.06841365036482813, 0.06841365036482813, 0.0513102377736211, 0.2312105635103622, 0.2312105635103622, 0.2312105635103622, 0.2312105635103622, 0.27429684280698324, 0.27429684280698324, 0.27429684280698324, 0.27429684280698324, 0.20796040458206105, 0.1915424779045299, 0.14228869787193651, 0.12039812896856167, 0.07661699116181198, 0.08208963338765568, 0.0875622756134994, 0.03830849558090599, 0.04925378003259341, 0.3637781875415637, 0.3637781875415637, 0.19566531859751432, 0.21430011084489664, 0.21430011084489664, 0.0652217728658381, 0.08385656511322041, 0.09317396123691157, 0.05590437674214695, 0.0652217728658381, 0.018634792247382317, 0.14985170637198061, 0.19392573765785726, 0.21155535017220792, 0.10577767508610396, 0.07933325631457797, 0.061703643800227304, 0.07933325631457797, 0.07933325631457797, 0.04407403128587665, 0.3018459640923548, 0.3018459640923548, 0.22287815904775177, 0.33431723857162765, 0.11143907952387588, 0.11143907952387588, 0.11143907952387588, 0.11143907952387588, 0.11143907952387588, 0.19436043154264937, 0.12147526971415584, 0.17006537759981818, 0.12147526971415584, 0.07288516182849351, 0.07288516182849351, 0.09718021577132469, 0.09718021577132469, 0.04859010788566234, 0.2657351706040519, 0.2657351706040519, 0.2657351706040519, 0.2657351706040519, 0.36738483758342316, 0.17430079473191326, 0.18770854817282967, 0.14748528785008047, 0.09385427408641484, 0.08044652064549843, 0.12066978096824765, 0.06703876720458203, 0.08044652064549843, 0.04022326032274921, 0.15917264986343296, 0.18685484983968217, 0.19377539983374448, 0.11072879990499684, 0.07612604993468533, 0.08304659992874763, 0.07612604993468533, 0.06920549994062303, 0.04844384995843612, 0.13665346782636592, 0.19643936000040102, 0.22206188521784462, 0.07686757565233084, 0.11103094260892231, 0.0854084173914787, 0.0854084173914787, 0.051245050434887224, 0.04270420869573935, 0.28897729469449096, 0.28897729469449096, 0.28897729469449096, 0.15686281070460564, 0.15686281070460564, 0.15686281070460564, 0.07843140535230282, 0.15686281070460564, 0.07843140535230282, 0.07843140535230282, 0.07843140535230282, 0.07843140535230282, 0.21493195050750258, 0.12399920221586687, 0.16533226962115583, 0.11573258873480907, 0.08266613481057791, 0.09919936177269349, 0.0909327482916357, 0.06613290784846233, 0.041333067405288956, 0.1657389489330916, 0.1657389489330916, 0.23203452850632822, 0.11601726425316411, 0.0828694744665458, 0.0828694744665458, 0.0828694744665458, 0.04972168467992748, 0.033147789786618316, 0.14804827818441574, 0.14804827818441574, 0.14804827818441574, 0.14804827818441574, 0.07402413909220787, 0.07402413909220787, 0.07402413909220787, 0.07402413909220787, 0.07402413909220787, 0.15997818920378856, 0.15997818920378856, 0.15997818920378856, 0.07998909460189428, 0.15997818920378856, 0.07998909460189428, 0.07998909460189428, 0.07998909460189428, 0.265913085116357, 0.265913085116357, 0.2199791275539061, 0.2199791275539061, 0.2199791275539061, 0.2199791275539061, 0.14713340322208082, 0.29426680644416164, 0.14713340322208082, 0.14713340322208082, 0.22692023151576235, 0.18566200760380555, 0.14440378369184878, 0.09283100380190278, 0.07220189184592439, 0.08251644782391358, 0.07220189184592439, 0.08251644782391358, 0.04125822391195679, 0.26644099981212654, 0.26644099981212654, 0.26644099981212654, 0.3719610407515129, 0.2062481474407652, 0.2062481474407652, 0.2062481474407652, 0.19050434163426216, 0.1587536180285518, 0.13758646895807822, 0.09525217081713108, 0.09525217081713108, 0.09525217081713108, 0.0846685962818943, 0.0846685962818943, 0.06350144721142072, 0.1481827129247872, 0.17287983174558508, 0.17287983174558508, 0.09878847528319147, 0.0740913564623936, 0.12348559410398934, 0.049394237641595735, 0.0740913564623936, 0.09878847528319147, 0.2518042344256169, 0.2518042344256169, 0.17762802608637124, 0.17762802608637124, 0.11841868405758081, 0.11841868405758081, 0.11841868405758081, 0.059209342028790406, 0.059209342028790406, 0.059209342028790406, 0.059209342028790406, 0.27715979368827537, 0.27715979368827537, 0.27715979368827537, 0.19207425943321077, 0.20744020018786763, 0.16134237792389705, 0.09219564452794117, 0.09219564452794117, 0.06146376301862745, 0.08451267415061274, 0.053780792641299015, 0.053780792641299015, 0.18787579935197232, 0.21136027427096887, 0.1643913244329758, 0.10568013713548444, 0.08806678094623703, 0.058711187297491356, 0.07045342475698962, 0.0645823060272405, 0.04696894983799308, 0.2450150205696881, 0.12250751028484405, 0.12250751028484405, 0.12250751028484405, 0.061253755142422026, 0.061253755142422026, 0.12250751028484405, 0.061253755142422026, 0.061253755142422026, 0.1353051105256246, 0.18305985541702152, 0.23081460030841847, 0.09550948978279385, 0.09550948978279385, 0.07959124148566153, 0.055713869039963074, 0.07163211733709539, 0.04775474489139692, 0.17126260321558134, 0.2600654345125495, 0.10148895005367783, 0.08880283129696812, 0.10148895005367783, 0.07611671254025838, 0.07611671254025838, 0.06977365316190351, 0.04440141564848406, 0.15209445062080507, 0.2027926008277401, 0.2027926008277401, 0.15209445062080507, 0.10139630041387004, 0.05069815020693502, 0.05069815020693502, 0.05069815020693502, 0.05069815020693502, 0.18811900449588598, 0.18811900449588598, 0.18811900449588598, 0.18811900449588598, 0.18811900449588598, 0.18811900449588598, 0.14774593861024313, 0.1880402855039458, 0.18356313584908995, 0.0940201427519729, 0.07611154413254949, 0.12088304068110801, 0.0940201427519729, 0.053725795858270226, 0.044771496548558526, 0.13975755810283536, 0.13975755810283536, 0.13975755810283536, 0.13975755810283536, 0.13975755810283536, 0.13975755810283536, 0.13975755810283536, 0.16915084541726755, 0.24554154979925932, 0.1800638031861235, 0.09821661991970373, 0.07639070438199179, 0.06002126772870783, 0.0709342254975638, 0.0709342254975638, 0.038195352190995895, 0.2214173428872295, 0.2214173428872295, 0.2214173428872295, 0.2214173428872295, 0.2510949099845309, 0.20822504730424515, 0.10411252365212258, 0.10411252365212258, 0.10411252365212258, 0.06736692706902049, 0.0612426609718368, 0.05511839487465313, 0.04286986268028577, 0.17772500499224156, 0.18849621741601377, 0.1615681863565832, 0.0807840931782916, 0.07001288075451939, 0.12386894287338047, 0.08616969939017771, 0.06462727454263328, 0.043084849695088856, 0.22204805994701332, 0.170806199959241, 0.170806199959241, 0.0854030999796205, 0.06832247998369641, 0.0854030999796205, 0.1024837199755446, 0.0512418599877723, 0.0512418599877723, 0.192690988783374, 0.192690988783374, 0.192690988783374, 0.192690988783374, 0.192690988783374, 0.2621235339251208, 0.2621235339251208, 0.2621235339251208, 0.2030353892918531, 0.2465429727115359, 0.1595278058721703, 0.07251263903280468, 0.07251263903280468, 0.07251263903280468, 0.05801011122624375, 0.06526137512952422, 0.05801011122624375, 0.1892349055614184, 0.1892349055614184, 0.1892349055614184, 0.1892349055614184, 0.236389469207975, 0.21820566388428458, 0.10304156350091218, 0.07879648973599165, 0.08485775817722178, 0.09698029505968205, 0.054551415971071146, 0.054551415971071146, 0.0666739528535314, 0.2727345856120279, 0.2727345856120279, 0.2727345856120279, 0.19449019999093928, 0.16207516665911606, 0.16207516665911606, 0.16207516665911606, 0.09724509999546964, 0.06483006666364642, 0.06483006666364642, 0.06483006666364642, 0.06483006666364642, 0.22280183780529092, 0.11140091890264546, 0.22280183780529092, 0.11140091890264546, 0.11140091890264546, 0.11140091890264546, 0.11140091890264546, 0.17271737542894255, 0.1295380315717069, 0.30225540700064946, 0.08635868771447128, 0.08635868771447128, 0.08635868771447128, 0.04317934385723564, 0.04317934385723564, 0.04317934385723564, 0.20548495764750516, 0.20548495764750516, 0.20548495764750516, 0.3248567637912423, 0.17492287281066893, 0.1499338909805734, 0.08746143640533446, 0.06247245457523891, 0.049977963660191124, 0.049977963660191124, 0.049977963660191124, 0.049977963660191124, 0.1928608294868831, 0.17908505595210575, 0.22041237655643783, 0.05510309413910946, 0.08954252797605287, 0.08954252797605287, 0.07576675444127551, 0.048215207371720775, 0.048215207371720775, 0.40204413571528175, 0.20102206785764087, 0.2698434664918023, 0.2698434664918023, 0.2698434664918023, 0.2698434664918023, 0.2512390818078845, 0.2512390818078845, 0.2512390818078845, 0.198468585190773, 0.12404286574423314, 0.198468585190773, 0.07442571944653989, 0.0992342925953865, 0.12404286574423314, 0.04961714629769325, 0.07442571944653989, 0.04961714629769325, 0.21454114087204118, 0.1354996679191839, 0.2258327798653065, 0.07904147295285728, 0.07904147295285728, 0.0903331119461226, 0.07904147295285728, 0.0451665559730613, 0.0451665559730613, 0.144017214071777, 0.144017214071777, 0.144017214071777, 0.144017214071777, 0.144017214071777, 0.144017214071777, 0.144017214071777, 0.144017214071777, 0.16112184112559422, 0.20140230140699275, 0.16112184112559422, 0.08056092056279711, 0.12084138084419566, 0.08056092056279711, 0.12084138084419566, 0.040280460281398554, 0.040280460281398554, 0.1562600119552195, 0.1562600119552195, 0.1562600119552195, 0.1562600119552195, 0.1562600119552195, 0.1562600119552195, 0.1897064210426327, 0.1327944947298429, 0.18022109999050107, 0.10433853157344798, 0.10433853157344798, 0.10433853157344798, 0.06639724736492145, 0.06639724736492145, 0.04742660526065817, 0.1453086157624071, 0.16347219273270802, 0.16347219273270802, 0.1453086157624071, 0.10898146182180533, 0.09081788485150445, 0.07265430788120356, 0.05449073091090267, 0.05449073091090267, 0.34360674648980377, 0.38514226809025365, 0.14553748723568263, 0.14553748723568263, 0.14553748723568263, 0.14553748723568263, 0.14553748723568263, 0.14553748723568263, 0.14553748723568263, 0.14553748723568263, 0.14553748723568263, 0.22203846182280113, 0.14802564121520076, 0.12952243606330066, 0.22203846182280113, 0.11101923091140056, 0.09251602575950048, 0.03700641030380019, 0.03700641030380019, 0.018503205151900095, 0.1384498264734646, 0.1384498264734646, 0.1384498264734646, 0.1384498264734646, 0.1384498264734646, 0.1384498264734646, 0.1384498264734646, 0.14222503010014267, 0.14222503010014267, 0.14222503010014267, 0.07111251505007134, 0.07111251505007134, 0.07111251505007134, 0.07111251505007134, 0.14222503010014267, 0.07111251505007134, 0.17845361763416998, 0.17845361763416998, 0.17845361763416998, 0.17845361763416998, 0.19418035201782713, 0.23899120248347955, 0.2091173021730446, 0.07468475077608736, 0.07468475077608736, 0.06721627569847863, 0.05974780062086989, 0.03734237538804368, 0.04481085046565242, 0.28294253789500273, 0.28294253789500273, 0.28294253789500273, 0.12599946740664159, 0.19270506779839303, 0.15564640091408669, 0.13341120078350285, 0.08152906714547398, 0.08152906714547398, 0.09635253389919651, 0.08894080052233524, 0.04447040026116762, 0.177443948869975, 0.177443948869975, 0.35488789773995, 0.177443948869975, 0.29369701018239186, 0.10679891279359705, 0.1334986409919963, 0.06674932049599815, 0.09344904869439741, 0.12014877689279667, 0.06674932049599815, 0.08009918459519778, 0.05339945639679852, 0.21098908836995828, 0.1687912706959666, 0.13714290744047286, 0.11604399860347704, 0.06329672651098749, 0.09494508976648122, 0.06329672651098749, 0.05274727209248957, 0.07384618092948539, 0.3532772077766075, 0.141310883110643, 0.141310883110643, 0.0706554415553215, 0.0706554415553215, 0.0706554415553215, 0.0706554415553215, 0.0706554415553215, 0.0706554415553215, 0.2612750750035744, 0.1306375375017872, 0.1306375375017872, 0.0653187687508936, 0.1306375375017872, 0.0653187687508936, 0.0653187687508936, 0.0653187687508936, 0.0653187687508936, 0.287234100097113, 0.16413377148406455, 0.1743921322018186, 0.061550164306524206, 0.07180852502427824, 0.08206688574203228, 0.061550164306524206, 0.051291803588770175, 0.04103344287101614, 0.13277641685483463, 0.13277641685483463, 0.19916462528225196, 0.08851761123655642, 0.08851761123655642, 0.11064701404569553, 0.08851761123655642, 0.08851761123655642, 0.06638820842741731, 0.1529964481634084, 0.1529964481634084, 0.1529964481634084, 0.10199763210893893, 0.10199763210893893, 0.10199763210893893, 0.10199763210893893, 0.050998816054469466, 0.050998816054469466, 0.1616278276911822, 0.17632126657219876, 0.2057081443342319, 0.07346719440508283, 0.11754751104813252, 0.08816063328609938, 0.05877375552406626, 0.07346719440508283, 0.02938687776203313, 0.13929305211143017, 0.13929305211143017, 0.20893957816714526, 0.08125428039833427, 0.10446978908357263, 0.09286203474095345, 0.08125428039833427, 0.10446978908357263, 0.046431017370476724, 0.18268243585191898, 0.15832477773832979, 0.15832477773832979, 0.09743063245435679, 0.0730729743407676, 0.1096094615111514, 0.08525180339756219, 0.0730729743407676, 0.060894145283973, 0.19893688018990674, 0.17904319217091608, 0.21883056820889743, 0.0795747520759627, 0.13925581613293472, 0.05968106405697202, 0.0795747520759627, 0.03978737603798135, 0.03978737603798135, 0.10638215273588564, 0.19756685508093047, 0.18236940469008966, 0.09118470234504483, 0.09118470234504483, 0.13677705351756725, 0.09118470234504483, 0.06078980156336322, 0.045592351172522416, 0.16686925056590357, 0.16686925056590357, 0.16686925056590357, 0.11124616704393571, 0.22249233408787142, 0.055623083521967855, 0.055623083521967855, 0.11124616704393571, 0.055623083521967855, 0.06264168774815063, 0.18792506324445188, 0.18792506324445188, 0.12528337549630125, 0.18792506324445188, 0.06264168774815063, 0.06264168774815063, 0.06264168774815063, 0.15451428672296283, 0.20601904896395046, 0.21460317600411505, 0.08584127040164602, 0.06867301632131681, 0.09442539744181062, 0.06867301632131681, 0.04292063520082301, 0.051504762240987614, 0.2525315148382982, 0.2525315148382982, 0.2525315148382982, 0.1779409395810487, 0.1779409395810487, 0.1779409395810487, 0.1779409395810487, 0.1779409395810487, 0.19227778089615383, 0.20830092930416663, 0.176254632488141, 0.09613889044807691, 0.06409259363205128, 0.06409259363205128, 0.11216203885608972, 0.04806944522403846, 0.04806944522403846, 0.2468398106999644, 0.16749844297497585, 0.13223561287498095, 0.07934136772498857, 0.10578849029998474, 0.07052566019998983, 0.09697278277498603, 0.05289424514999237, 0.05289424514999237, 0.17549137487447414, 0.3071099060303297, 0.13161853115585562, 0.08774568743723707, 0.08774568743723707, 0.043872843718618534, 0.043872843718618534, 0.043872843718618534, 0.043872843718618534, 0.18554158881707022, 0.13915619161280268, 0.18554158881707022, 0.09277079440853511, 0.13915619161280268, 0.046385397204267556, 0.046385397204267556, 0.13915619161280268, 0.046385397204267556, 0.15032039769127112, 0.19326908274592003, 0.2362177678005689, 0.08589737010929778, 0.08589737010929778, 0.08589737010929778, 0.07516019884563556, 0.05368585631831112, 0.03221151379098667, 0.1849199526560749, 0.17721495462873843, 0.19262495068341134, 0.09245997632803744, 0.07704998027336453, 0.09245997632803744, 0.05393498619135517, 0.07704998027336453, 0.06163998421869163, 0.2672173851162107, 0.2672173851162107, 0.2560127668024729, 0.2560127668024729, 0.2560127668024729, 0.16821241171341153, 0.16821241171341153, 0.16821241171341153, 0.16821241171341153, 0.16821241171341153, 0.16821241171341153, 0.16821241171341153, 0.23159183215424498, 0.23159183215424498, 0.23159183215424498, 0.23159183215424498, 0.25639932365458074, 0.17093288243638713, 0.17093288243638713, 0.17093288243638713, 0.08546644121819356, 0.08546644121819356, 0.238502657374318, 0.1626154482097623, 0.1734564780904131, 0.13009235856780982, 0.08672823904520655, 0.07588720916455573, 0.06504617928390491, 0.032523089641952455, 0.04336411952260327, 0.15551410239157185, 0.2073521365220958, 0.23327115358735775, 0.07775705119578592, 0.07775705119578592, 0.06479754266315493, 0.07775705119578592, 0.06479754266315493, 0.03887852559789296, 0.13220306475045573, 0.28093151259471844, 0.1817792140318766, 0.09915229856284179, 0.08262691546903482, 0.08262691546903482, 0.06610153237522787, 0.04957614928142089, 0.033050766187613934, 0.20347022694220673, 0.40694045388441347, 0.20347022694220673, 0.3923845462332538, 0.11810743687252676, 0.13779200968461455, 0.2480256174323062, 0.11810743687252676, 0.08661212037318629, 0.10235977862285651, 0.07873829124835117, 0.06299063299868093, 0.0472429747490107, 0.12766011262353502, 0.12766011262353502, 0.12766011262353502, 0.12766011262353502, 0.12766011262353502, 0.12766011262353502, 0.12766011262353502, 0.12766011262353502, 0.13085964228208577, 0.15703157073850293, 0.1832034991949201, 0.15703157073850293, 0.10468771382566862, 0.07851578536925147, 0.07851578536925147, 0.07851578536925147, 0.05234385691283431, 0.13798123307747684, 0.13798123307747684, 0.24836621953945828, 0.13798123307747684, 0.08278873984648609, 0.08278873984648609, 0.05519249323099073, 0.05519249323099073, 0.05519249323099073, 0.1969313656566566, 0.20240168136934147, 0.15863915566786224, 0.08752505140295848, 0.09299536711564338, 0.08205473569027358, 0.06564378855221886, 0.06564378855221886, 0.04923284141416415, 0.2644370582309117, 0.2644370582309117, 0.28537311746132404, 0.28537311746132404, 0.22667792196369743, 0.22667792196369743, 0.22667792196369743, 0.22667792196369743, 0.1910479617374055, 0.17512729825928836, 0.15920663478117122, 0.11144464434681986, 0.07960331739058561, 0.07960331739058561, 0.11144464434681986, 0.04776199043435137, 0.0636826539124685, 0.15186778899035305, 0.15186778899035305, 0.15186778899035305, 0.15186778899035305, 0.15186778899035305, 0.1599041118352024, 0.26650685305867067, 0.13325342652933533, 0.0799520559176012, 0.10660274122346826, 0.05330137061173413, 0.0799520559176012, 0.05330137061173413, 0.05330137061173413, 0.15618797339105828, 0.15618797339105828, 0.15618797339105828, 0.10412531559403886, 0.05206265779701943, 0.10412531559403886, 0.10412531559403886, 0.05206265779701943, 0.05206265779701943, 0.26347005666702217, 0.26347005666702217, 0.26347005666702217, 0.17461220005875278, 0.2910203334312546, 0.15521084449666914, 0.07760542224833457, 0.07760542224833457, 0.05820406668625092, 0.05820406668625092, 0.05820406668625092, 0.038802711124167284, 0.36403636489098923, 0.18898062658275397, 0.097474217921631, 0.061667362358582875, 0.07360298087959892, 0.08156005989360961, 0.061667362358582875, 0.03182831605604278, 0.03779612531655079, 0.22064328709749728, 0.18640553565133391, 0.13314681117952423, 0.07988808670771454, 0.0836922813128438, 0.07988808670771454, 0.07988808670771454, 0.07227969749745601, 0.06847550289232675, 0.17672978764308275, 0.17672978764308275, 0.15148267512264235, 0.10098845008176156, 0.15148267512264235, 0.07574133756132118, 0.05049422504088078, 0.05049422504088078, 0.05049422504088078, 0.179440044681524, 0.18724178575463374, 0.19504352682774348, 0.07801741073109739, 0.07801741073109739, 0.10922437502353635, 0.07021566965798764, 0.046810446438658435, 0.054612187511768176, 0.22136444756357923, 0.22136444756357923, 0.11068222378178962, 0.11068222378178962, 0.11068222378178962, 0.11068222378178962, 0.11068222378178962, 0.38960618885164783, 0.19480309442582391, 0.21834955920446364, 0.21834955920446364, 0.21834955920446364, 0.21834955920446364, 0.17256925777243495, 0.2958330133241742, 0.1479165066620871, 0.07395825333104356, 0.07395825333104356, 0.07395825333104356, 0.07395825333104356, 0.049305502220695706, 0.049305502220695706, 0.3741558910048175, 0.13997295572516863, 0.13997295572516863, 0.13997295572516863, 0.13997295572516863, 0.13997295572516863, 0.13997295572516863, 0.27083435065200934, 0.27083435065200934, 0.27083435065200934, 0.17696512930537428, 0.20056047987942419, 0.23595350574049906, 0.09438140229619962, 0.07078605172214972, 0.07078605172214972, 0.058988376435124765, 0.04719070114809981, 0.04719070114809981, 0.22140137750757719, 0.1603251354365214, 0.20613231698981324, 0.09924889336546563, 0.08397983284770169, 0.06871077232993775, 0.07634530258881972, 0.0534417118121738, 0.03817265129440986, 0.22303074744456514, 0.22303074744456514, 0.22303074744456514, 0.22303074744456514, 0.3282714268851495, 0.14921428494779523, 0.08952857096867713, 0.08952857096867713, 0.05968571397911809, 0.08952857096867713, 0.08952857096867713, 0.05968571397911809, 0.029842856989559043, 0.21406230281598213, 0.21406230281598213, 0.21406230281598213, 0.21406230281598213, 0.2078840698376526, 0.16411900250340994, 0.14223646883628863, 0.10941266833560663, 0.1203539351691673, 0.054706334167803315, 0.07658886783492465, 0.07658886783492465, 0.054706334167803315, 0.2722237620248491, 0.2722237620248491, 0.2722237620248491, 0.2722237620248491, 0.40764341399547693, 0.20382170699773847, 0.20382170699773847, 0.2953808146784547, 0.2399969119262444, 0.1107678055044205, 0.06461455321091196, 0.06461455321091196, 0.08307585412831538, 0.06461455321091196, 0.036922601834806834, 0.04615325229350854, 0.3718110648603414, 0.28360555197558723, 0.28360555197558723, 0.3431845483931702, 0.09805272811233434, 0.1470790921685015, 0.04902636405616717, 0.04902636405616717, 0.09805272811233434, 0.09805272811233434, 0.04902636405616717, 0.04902636405616717, 0.1837811001938955, 0.22972637524236938, 0.1562139351648112, 0.09189055009694776, 0.08270149508725298, 0.06432338506786342, 0.09189055009694776, 0.06432338506786342, 0.036756220038779104, 0.21313601312498984, 0.15985200984374237, 0.17317301066405424, 0.09324700574218306, 0.09324700574218306, 0.10656800656249492, 0.05328400328124746, 0.05328400328124746, 0.03996300246093559, 0.1859749344781302, 0.14682231669326068, 0.1859749344781302, 0.11745785335460855, 0.10766969890839118, 0.08809339001595641, 0.058728926677304276, 0.058728926677304276, 0.04894077223108689, 0.2027839633276149, 0.16898663610634576, 0.1351893088850766, 0.0675946544425383, 0.0675946544425383, 0.0675946544425383, 0.0675946544425383, 0.0675946544425383, 0.10139198166380745, 0.3286681233238417, 0.16433406166192085, 0.12325054624644063, 0.06162527312322032, 0.06162527312322032, 0.10270878853870052, 0.06162527312322032, 0.020541757707740107, 0.041083515415480214, 0.12945098518240342, 0.25890197036480683, 0.12945098518240342, 0.12945098518240342, 0.12945098518240342, 0.12945098518240342, 0.12945098518240342, 0.2655891079372489, 0.2655891079372489, 0.2655891079372489, 0.2655891079372489, 0.17431168993971266, 0.17431168993971266, 0.15846517267246604, 0.07923258633623302, 0.09507910360347963, 0.12677213813797283, 0.07923258633623302, 0.07923258633623302, 0.04753955180173981, 0.1719057862156896, 0.19432828006991, 0.1719057862156896, 0.12706079850724883, 0.097164140034955, 0.0747416461807346, 0.052319152326514226, 0.059793316944587685, 0.04484498770844077, 0.2209326520445444, 0.29457686939272587, 0.14728843469636294, 0.07364421734818147, 0.07364421734818147, 0.07364421734818147, 0.07364421734818147, 0.07364421734818147, 0.1953314909848631, 0.1953314909848631, 0.13022099398990872, 0.06511049699495436, 0.06511049699495436, 0.06511049699495436, 0.13022099398990872, 0.06511049699495436, 0.06511049699495436, 0.1590593097243543, 0.1590593097243543, 0.1590593097243543, 0.1590593097243543, 0.1590593097243543, 0.1590593097243543, 0.23086158137256976, 0.19071174113386197, 0.12044952071612335, 0.07026222041773862, 0.12044952071612335, 0.07026222041773862, 0.07026222041773862, 0.06022476035806167, 0.05018730029838473, 0.2588967699558215, 0.18275066114528576, 0.09898994145369645, 0.10660455233475002, 0.09137533057264288, 0.08376071969158931, 0.05330227616737501, 0.06853149792948215, 0.05330227616737501, 0.21985810944250736, 0.2303275432254839, 0.10469433782976541, 0.09422490404678886, 0.07328603648083579, 0.07328603648083579, 0.07328603648083579, 0.06281660269785924, 0.06281660269785924, 0.14948776413078202, 0.14948776413078202, 0.29897552826156404, 0.14948776413078202, 0.14948776413078202, 0.14948776413078202, 0.22348952717904233, 0.22348952717904233, 0.22348952717904233, 0.22348952717904233, 0.14847874863431929, 0.19797166484575904, 0.14847874863431929, 0.09898583242287952, 0.09898583242287952, 0.04949291621143976, 0.09898583242287952, 0.09898583242287952, 0.04949291621143976, 0.21567639260022237, 0.18486547937161918, 0.19256820767876998, 0.12324365291441279, 0.08473001137865879, 0.05391909815005559, 0.05391909815005559, 0.046216369842904795, 0.038513641535754, 0.23208061836916546, 0.23208061836916546, 0.23208061836916546, 0.23208061836916546, 0.23208061836916546, 0.11661798868544158, 0.34985396605632474, 0.11661798868544158, 0.11661798868544158, 0.11661798868544158, 0.11661798868544158, 0.11661798868544158, 0.11661798868544158, 0.17370014934936207, 0.17370014934936207, 0.2605502240240431, 0.08685007467468103, 0.08685007467468103, 0.08685007467468103, 0.08685007467468103, 0.08685007467468103, 0.08685007467468103, 0.11154560416684667, 0.11154560416684667, 0.22309120833369334, 0.11154560416684667, 0.11154560416684667, 0.11154560416684667, 0.11154560416684667, 0.3605826255209325, 0.3605826255209325, 0.15694336172987838, 0.18833203407585408, 0.18833203407585408, 0.09416601703792704, 0.1255546893839027, 0.07847168086493919, 0.06277734469195136, 0.04708300851896352, 0.04708300851896352, 0.17481030578246656, 0.256388448480951, 0.1631562853969688, 0.11654020385497771, 0.06992412231298663, 0.06992412231298663, 0.06992412231298663, 0.058270101927488854, 0.034962061156493314, 0.2079064444703545, 0.2541078765748777, 0.10780334157722087, 0.07700238684087204, 0.08470262552495925, 0.05390167078861043, 0.10780334157722087, 0.061601909472697634, 0.046201432104523224, 0.16816430209808278, 0.21020537762260347, 0.2522464531471242, 0.08408215104904139, 0.08408215104904139, 0.042041075524520695, 0.08408215104904139, 0.042041075524520695, 0.042041075524520695, 0.16875544348652144, 0.20250653218382572, 0.15187989913786928, 0.13500435478921713, 0.10125326609191286, 0.05062663304595643, 0.06750217739460856, 0.05062663304595643, 0.05062663304595643, 0.3658208409164189, 0.17006145200019462, 0.16325899392018683, 0.20407374240023354, 0.11564178736013234, 0.09523441312010898, 0.06802458080007784, 0.06802458080007784, 0.06122212272007006, 0.054419664640062274, 0.22812277332534803, 0.17109207999401102, 0.26614323554623937, 0.05703069333133701, 0.05703069333133701, 0.07604092444178268, 0.05703069333133701, 0.05703069333133701, 0.03802046222089134, 0.25674741688708885, 0.1540484501322533, 0.1745882434832204, 0.07188927672838487, 0.08215917340386843, 0.09242907007935199, 0.08215917340386843, 0.04107958670193421, 0.04107958670193421, 0.20807343477435059, 0.2047174116328288, 0.15102104136848027, 0.11746080995326244, 0.09732467110413173, 0.08054455539652282, 0.06040841654739211, 0.050340347122826756, 0.03691625455673962, 0.18011465685913236, 0.18011465685913236, 0.3602293137182647, 0.09005732842956618, 0.09005732842956618, 0.09005732842956618, 0.09005732842956618, 0.20603030223473542, 0.1471645015962396, 0.1471645015962396, 0.11773160127699167, 0.08829870095774375, 0.058865800638495835, 0.11773160127699167, 0.058865800638495835, 0.058865800638495835, 0.19037982883079155, 0.09518991441539577, 0.19037982883079155, 0.09518991441539577, 0.09518991441539577, 0.09518991441539577, 0.09518991441539577, 0.09518991441539577, 0.09518991441539577, 0.17113207259793625, 0.17113207259793625, 0.17113207259793625, 0.08556603629896813, 0.17113207259793625, 0.08556603629896813, 0.08556603629896813, 0.08556603629896813, 0.04278301814948406, 0.2623110164651213, 0.2623110164651213, 0.2623110164651213, 0.2623110164651213, 0.28375947676088586, 0.18917298450725722, 0.09458649225362861, 0.09458649225362861, 0.09458649225362861, 0.09458649225362861, 0.09458649225362861, 0.1989896252085847, 0.17804334887083895, 0.17804334887083895, 0.09425824351985591, 0.07331196718211017, 0.09425824351985591, 0.09425824351985591, 0.04189255267549152, 0.03141941450661864, 0.2781406005357018, 0.2781406005357018, 0.2781406005357018, 0.20405671568765243, 0.20405671568765243, 0.40811343137530487, 0.16278955929111932, 0.20348694911389917, 0.12209216946833949, 0.08139477964555966, 0.08139477964555966, 0.12209216946833949, 0.08139477964555966, 0.08139477964555966, 0.08139477964555966, 0.13644305460740358, 0.23877534556295626, 0.23877534556295626, 0.06822152730370179, 0.08527690912962724, 0.06822152730370179, 0.05116614547777634, 0.05116614547777634, 0.05116614547777634, 0.2781589104277766, 0.1918337313295011, 0.11510023879770066, 0.07673349253180044, 0.12469192536417571, 0.05755011939885033, 0.06714180596532539, 0.047958432832375275, 0.03836674626590022, 0.192605558399663, 0.13482389087976412, 0.11556333503979781, 0.11556333503979781, 0.11556333503979781, 0.07704222335986521, 0.07704222335986521, 0.0963027791998315, 0.057781667519898904, 0.14013750865478386, 0.14013750865478386, 0.14013750865478386, 0.14013750865478386, 0.14013750865478386, 0.14013750865478386, 0.14013750865478386, 0.1827926035675592, 0.1827926035675592, 0.1827926035675592, 0.1827926035675592, 0.13839547677423475, 0.13839547677423475, 0.2767909535484695, 0.13839547677423475, 0.13839547677423475, 0.13839547677423475, 0.14087065659231562, 0.14087065659231562, 0.14087065659231562, 0.14087065659231562, 0.14087065659231562, 0.14087065659231562, 0.16746152168821135, 0.18606835743134592, 0.16746152168821135, 0.13024785020194216, 0.07442734297253838, 0.05582050722940378, 0.05582050722940378, 0.07442734297253838, 0.07442734297253838, 0.16998693150539784, 0.16998693150539784, 0.16998693150539784, 0.16998693150539784, 0.16998693150539784, 0.16998693150539784, 0.16998693150539784, 0.20215047014904128, 0.161720376119233, 0.161720376119233, 0.12129028208942476, 0.161720376119233, 0.0808601880596165, 0.04043009402980825, 0.04043009402980825, 0.04043009402980825, 0.1730316577635249, 0.2307088770180332, 0.1153544385090166, 0.1730316577635249, 0.1153544385090166, 0.0576772192545083, 0.0576772192545083, 0.0576772192545083, 0.3521564990573878, 0.14767853186277552, 0.10223898359730613, 0.09087909653093877, 0.07951920946457143, 0.06815932239820408, 0.07951920946457143, 0.056799435331836734, 0.045439548265469386, 0.2401814516391636, 0.17045135277618062, 0.12396462020085863, 0.09297346515064397, 0.08522567638809031, 0.11621683143830497, 0.06973009886298298, 0.04648673257532199, 0.04648673257532199, 0.34351859273774016, 0.21860274083310735, 0.09368688892847458, 0.06245792595231639, 0.06245792595231639, 0.09368688892847458, 0.06245792595231639, 0.031228962976158195, 0.06245792595231639, 0.37603387769994223, 0.21940041948285138, 0.21940041948285138, 0.21940041948285138, 0.21940041948285138, 0.3536894294333251, 0.21221365765999506, 0.07073788588666502, 0.07073788588666502, 0.07073788588666502, 0.07073788588666502, 0.07073788588666502, 0.07073788588666502, 0.07073788588666502, 0.2078282491246274, 0.2078282491246274, 0.14721167646327774, 0.09525461418212089, 0.060616572661349656, 0.08659510380192809, 0.060616572661349656, 0.08659510380192809, 0.05195706228115685, 0.2333690442419213, 0.1304121129587207, 0.15786729463424087, 0.0892293404454405, 0.08236554502656045, 0.0892293404454405, 0.10295693128320056, 0.0892293404454405, 0.04118277251328022, 0.17561278762757082, 0.17561278762757082, 0.35122557525514164, 0.17561278762757082, 0.17561278762757082, 0.23280134771943897, 0.17460101078957924, 0.1649009546346026, 0.08730050539478962, 0.07760044923981299, 0.08730050539478962, 0.05820033692985974, 0.08730050539478962, 0.038800224619906495, 0.1039753301723679, 0.31192599051710374, 0.1039753301723679, 0.1039753301723679, 0.1039753301723679, 0.1039753301723679, 0.1039753301723679, 0.1039753301723679, 0.19314209381318476, 0.1698719620284637, 0.18616105427776844, 0.0860994876034679, 0.10704260620971685, 0.0860994876034679, 0.05584831628333053, 0.058175329461802636, 0.058175329461802636, 0.2754735056659856, 0.16695363979756703, 0.15860595780768869, 0.06678145591902682, 0.08347681989878351, 0.10017218387854021, 0.06678145591902682, 0.04173840994939176, 0.050086091939270105, 0.1461524336059354, 0.1461524336059354, 0.1461524336059354, 0.1461524336059354, 0.1461524336059354, 0.1461524336059354, 0.338628960874215, 0.203177376524529, 0.1015886882622645, 0.1015886882622645, 0.06772579217484301, 0.06772579217484301, 0.06772579217484301, 0.033862896087421504, 0.033862896087421504, 0.18738884074371284, 0.14054163055778462, 0.18738884074371284, 0.04684721018592821, 0.14054163055778462, 0.09369442037185642, 0.09369442037185642, 0.04684721018592821, 0.04684721018592821, 0.23654303360251958, 0.23654303360251958, 0.23654303360251958, 0.2811342845789051, 0.2811342845789051, 0.2811342845789051, 0.1780289910568839, 0.13352174329266295, 0.2670434865853259, 0.08901449552844196, 0.08901449552844196, 0.08901449552844196, 0.04450724776422098, 0.04450724776422098, 0.04450724776422098, 0.2847710300867142, 0.2847710300867142, 0.3814437616253901, 0.21803980776427795, 0.2616477693171335, 0.14172587504678066, 0.05450995194106949, 0.05450995194106949, 0.09811791349392507, 0.07631393271749728, 0.05450995194106949, 0.03270597116464169, 0.15063430420298865, 0.3012686084059773, 0.18076116504358636, 0.06025372168119546, 0.06025372168119546, 0.06025372168119546, 0.06025372168119546, 0.06025372168119546, 0.03012686084059773, 0.39607000508387563, 0.19803500254193782, 0.09901750127096891, 0.09901750127096891, 0.09901750127096891, 0.09901750127096891, 0.09901750127096891, 0.4052084299514485, 0.20260421497572426, 0.20260421497572426, 0.20260421497572426, 0.36783566642969445, 0.1671600260573685, 0.1910400297798497, 0.1731300269879888, 0.07164001116744365, 0.11343001768178576, 0.10746001675116545, 0.059700009306203033, 0.06567001023682334, 0.04776000744496243, 0.2870589434518946, 0.1826738731057511, 0.14613909848460088, 0.09916581682883631, 0.07306954924230044, 0.07306954924230044, 0.06263104220768609, 0.052192535173071736, 0.026096267586535868, 0.17405226696844964, 0.12913555291207554, 0.24704192731005753, 0.08983342811274819, 0.117906374397982, 0.06176048182751438, 0.0729896603416079, 0.0729896603416079, 0.03368753554228057, 0.2027042338098056, 0.23437677034258772, 0.1330246534376849, 0.08234859498523352, 0.09501760959834638, 0.06967958037212067, 0.06967958037212067, 0.05701056575900782, 0.05701056575900782, 0.2006679701622611, 0.2006679701622611, 0.13377864677484072, 0.06688932338742036, 0.06688932338742036, 0.06688932338742036, 0.06688932338742036, 0.06688932338742036, 0.06688932338742036, 0.129962205357209, 0.129962205357209, 0.259924410714418, 0.129962205357209, 0.0649811026786045, 0.0649811026786045, 0.0649811026786045, 0.0649811026786045, 0.0649811026786045, 0.3173875215439732, 0.2182039210614816, 0.09918360048249163, 0.059510160289494976, 0.0793468803859933, 0.0793468803859933, 0.059510160289494976, 0.03967344019299665, 0.03967344019299665, 0.14636916118931492, 0.14636916118931492, 0.14636916118931492, 0.14636916118931492, 0.14636916118931492, 0.14636916118931492, 0.14636916118931492, 0.17564408912370957, 0.17564408912370957, 0.23951466698687668, 0.07983822232895889, 0.09580586679475067, 0.06387057786316712, 0.06387057786316712, 0.047902933397375336, 0.06387057786316712, 0.1979986978970295, 0.2795275735016887, 0.12811680452160734, 0.08152887560465921, 0.06988189337542218, 0.09317585783389624, 0.05823491114618515, 0.05823491114618515, 0.04658792891694812, 0.34710505532745006, 0.14462710638643753, 0.14462710638643753, 0.05785084255457501, 0.08677626383186252, 0.08677626383186252, 0.028925421277287505, 0.028925421277287505, 0.05785084255457501, 0.28456084840307644, 0.17276908653043926, 0.18293197397340627, 0.09146598698670313, 0.07114021210076911, 0.06097732465780209, 0.06097732465780209, 0.030488662328901045, 0.030488662328901045, 0.14409946722867994, 0.20714298414122742, 0.15310568393047244, 0.11708081712330246, 0.09006216701792497, 0.09906838371971746, 0.08105595031613247, 0.06304351691254748, 0.04503108350896248, 0.18349341000010602, 0.251096245263303, 0.15452076631587874, 0.09657547894742421, 0.06760283526319695, 0.07726038315793937, 0.06760283526319695, 0.06760283526319695, 0.038630191578969686, 0.2647223552849469, 0.2647223552849469, 0.1897770489070294, 0.1818696718692365, 0.15814754075585782, 0.0869811474157218, 0.11861065556689337, 0.07116639334013602, 0.07907377037792891, 0.07116639334013602, 0.04744426222675735, 0.23638848061063575, 0.14183308836638145, 0.14183308836638145, 0.0945553922442543, 0.0945553922442543, 0.14183308836638145, 0.04727769612212715, 0.04727769612212715, 0.04727769612212715, 0.24999118176361534, 0.23779648997026825, 0.12804426383014444, 0.07926549665675608, 0.08536284255342963, 0.04877876717338836, 0.067070804863409, 0.067070804863409, 0.042681421276714815, 0.3165692429207025, 0.14069744129809, 0.14069744129809, 0.08207350742388583, 0.08207350742388583, 0.070348720649045, 0.070348720649045, 0.05862393387420417, 0.05862393387420417, 0.20222544697158873, 0.18384131542871704, 0.14707305234297363, 0.11643283310485412, 0.09804870156198242, 0.06128043847623901, 0.06740848232386291, 0.07353652617148682, 0.05515239462861511, 0.35514577349274945, 0.21308746409564966, 0.10654373204782483, 0.03551457734927495, 0.0710291546985499, 0.0710291546985499, 0.0710291546985499, 0.03551457734927495, 0.03551457734927495, 0.18837324818263756, 0.28255987227395635, 0.09418662409131878, 0.09418662409131878, 0.09418662409131878, 0.09418662409131878, 0.09418662409131878, 0.18903457709391874, 0.24574495022209436, 0.13232420396574313, 0.11342074625635123, 0.05671037312817562, 0.11342074625635123, 0.05671037312817562, 0.05671037312817562, 0.05671037312817562, 0.2899597116629639, 0.2494595231866707, 0.12472976159333535, 0.20268586258916993, 0.0779561009958346, 0.0935473211950015, 0.10913854139416843, 0.04677366059750075, 0.04677366059750075, 0.04677366059750075, 0.187793113198294, 0.12519540879886268, 0.187793113198294, 0.10432950733238555, 0.10432950733238555, 0.08346360586590844, 0.06259770439943134, 0.06259770439943134, 0.08346360586590844, 0.33150603687687913, 0.16575301843843956, 0.16575301843843956, 0.12221449572003673, 0.1833217435800551, 0.16295266096004898, 0.11202995441003367, 0.12221449572003673, 0.11202995441003367, 0.09166087179002755, 0.061107247860018366, 0.040738165240012246, 0.5020222765885535, 0.20604191955986495, 0.23076694990704877, 0.15659185886549737, 0.06593341425915679, 0.06593341425915679, 0.07417509104155139, 0.08241676782394598, 0.05769173747676219, 0.05769173747676219, 0.2870126764881932, 0.2870126764881932, 0.18057610758001638, 0.24076814344002187, 0.18057610758001638, 0.06019203586000547, 0.18057610758001638, 0.06019203586000547, 0.06019203586000547, 0.06019203586000547, 0.06019203586000547, 0.22518025780402762, 0.11259012890201381, 0.3377703867060414, 0.11259012890201381, 0.11259012890201381, 0.11259012890201381, 0.19304727430170274, 0.19304727430170274, 0.15443781944136217, 0.11582836458102164, 0.07721890972068109, 0.07721890972068109, 0.07721890972068109, 0.03860945486034054, 0.07721890972068109, 0.3103559862795922, 0.1357807439973216, 0.1357807439973216, 0.07758899656989805, 0.11638349485484709, 0.07758899656989805, 0.05819174742742354, 0.038794498284949026, 0.05819174742742354, 0.20577487923753568, 0.1371832528250238, 0.1371832528250238, 0.1371832528250238, 0.1371832528250238, 0.0685916264125119, 0.0685916264125119, 0.0685916264125119, 0.0685916264125119, 0.2469212450879433, 0.1646141633919622, 0.13169133071356975, 0.0823070816959811, 0.09876849803517733, 0.0823070816959811, 0.049384249017588665, 0.06584566535678488, 0.0823070816959811, 0.22096368451360482, 0.22096368451360482, 0.22096368451360482, 0.22096368451360482, 0.20373470118847822, 0.1608431851487986, 0.1501203061388787, 0.09650591108927915, 0.07506015306943935, 0.07506015306943935, 0.10722879009919907, 0.09650591108927915, 0.053614395049599535, 0.16140164389404868, 0.16140164389404868, 0.24210246584107303, 0.08070082194702434, 0.08070082194702434, 0.08070082194702434, 0.08070082194702434, 0.08070082194702434, 0.08070082194702434, 0.145670000592806, 0.145670000592806, 0.218505000889209, 0.09711333372853732, 0.072835000296403, 0.08497416701247015, 0.09711333372853732, 0.08497416701247015, 0.04855666686426866, 0.16209146116282058, 0.2269280456279488, 0.17830060727910263, 0.1134640228139744, 0.06483658446512823, 0.06483658446512823, 0.09725487669769234, 0.06483658446512823, 0.04862743834884617, 0.18252662742846626, 0.24016661503745562, 0.16331329822546983, 0.09606664601498224, 0.0768533168119858, 0.0768533168119858, 0.06724665221048758, 0.04803332300749112, 0.04803332300749112, 0.2051803912109316, 0.4103607824218632, 0.2051803912109316, 0.19737084994130302, 0.17763376494717273, 0.1578966799530424, 0.1184225099647818, 0.0592112549823909, 0.1381595949589121, 0.0789483399765212, 0.0394741699882606, 0.0394741699882606, 0.34582137189537493, 0.18862983921565907, 0.1047943551198106, 0.06287661307188636, 0.041917742047924235, 0.11527379063179165, 0.07335604858386742, 0.03143830653594318, 0.03143830653594318, 0.3490182538872709, 0.18369381783540575, 0.1469550542683246, 0.05510814535062172, 0.0734775271341623, 0.0734775271341623, 0.05510814535062172, 0.03673876356708115, 0.03673876356708115, 0.36724021485647756, 0.1906824192524018, 0.07768543006579333, 0.06356080641746727, 0.056498494593304235, 0.09181005371411939, 0.0706231182416303, 0.03531155912081515, 0.04237387094497818, 0.27591106845549895, 0.27591106845549895, 0.27591106845549895, 0.27591106845549895, 0.18265909967977867, 0.2570757699196885, 0.11500758127986065, 0.08794697391989344, 0.09471212575988523, 0.06765151839991802, 0.08118182207990163, 0.05412121471993442, 0.06088636655992622, 0.1404253146576542, 0.1404253146576542, 0.1404253146576542, 0.1404253146576542, 0.1404253146576542, 0.1404253146576542, 0.1404253146576542, 0.17848609705321042, 0.17848609705321042, 0.35697219410642084, 0.17848609705321042, 0.17848609705321042, 0.5097586384949773, 0.17702121662777473, 0.13276591247083105, 0.17702121662777473, 0.13276591247083105, 0.08851060831388737, 0.08851060831388737, 0.13276591247083105, 0.08851060831388737, 0.04425530415694368, 0.2480856193476703, 0.18606421451075272, 0.17831153890613802, 0.07752675604614696, 0.08527943165076166, 0.07752675604614696, 0.06202140483691757, 0.04651605362768818, 0.03876337802307348, 0.26047876184678226, 0.26047876184678226, 0.26047876184678226, 0.2272968723919896, 0.16610156059414624, 0.1311328109953786, 0.08742187399691907, 0.07867968659722717, 0.08742187399691907, 0.10490624879630289, 0.061195311797843356, 0.052453124398151446, 0.33296108207824604, 0.19977664924694763, 0.1331844328312984, 0.0665922164156492, 0.0665922164156492, 0.0665922164156492, 0.0665922164156492, 0.0665922164156492, 0.0665922164156492, 0.34103287496343043, 0.2804546441292886, 0.2804546441292886, 0.21301104523214315, 0.21301104523214315, 0.10650552261607157, 0.10650552261607157, 0.10650552261607157, 0.10650552261607157, 0.10650552261607157, 0.18913686869230067, 0.09456843434615034, 0.283705303038451, 0.09456843434615034, 0.09456843434615034, 0.09456843434615034, 0.09456843434615034, 0.09456843434615034, 0.1679375306821131, 0.1119583537880754, 0.2798958844701885, 0.1119583537880754, 0.1119583537880754, 0.0559791768940377, 0.0559791768940377, 0.0559791768940377, 0.0559791768940377, 0.3305941587595503, 0.20202976368639186, 0.09183171076654176, 0.0734653686132334, 0.0734653686132334, 0.09183171076654176, 0.05509902645992505, 0.05509902645992505, 0.05509902645992505], \"Term\": [\"ADP_datum\", \"ADP_datum\", \"ADP_datum\", \"ADP_datum\", \"AFEs\", \"AFEs\", \"AFEs\", \"AFEs\", \"AFEs\", \"AFEs\", \"AFEs\", \"AFEs\", \"AFEs\", \"AUM\", \"AUM\", \"AUM\", \"AUM\", \"AUM\", \"AUM\", \"AUM\", \"AUM\", \"Account_Lorie\", \"Account_Lorie\", \"Account_Lorie\", \"Account_Lorie\", \"Account_Lorie\", \"Account_Lorie\", \"Account_Lorie\", \"Account_Lorie\", \"Account_Lorie\", \"Adrian\", \"Adrian\", \"Adrian\", \"Africa\", \"Africa\", \"Africa\", \"Africa\", \"Andrew_Levin\", \"Andrew_Levin\", \"Andrew_Levin\", \"Andrew_Levin\", \"Andrew_Levin\", \"Andrew_Levin\", \"Andrew_Levin\", \"Andrew_Levin\", \"Andrew_Levin\", \"August\", \"August\", \"August\", \"August\", \"August\", \"August\", \"August\", \"August\", \"August\", \"Authorization\", \"Authorization\", \"Authorization\", \"Authorization\", \"Authorization\", \"Authorization\", \"Authorization\", \"Authorization\", \"Authorization\", \"BOJ\", \"BOJ\", \"BOJ\", \"BOJ\", \"BOJ\", \"BOJ\", \"BOJ\", \"BOJ\", \"BOJ\", \"Bank_select\", \"Bank_select\", \"Bank_select\", \"Bank_select\", \"Bank_select\", \"Bank_select\", \"Bank_select\", \"Bank_select\", \"Bank_select\", \"Barkin_Raphael\", \"Barkin_Raphael\", \"Barkin_Raphael\", \"Barkin_Raphael\", \"Barkin_Raphael\", \"Barkin_Raphael\", \"Barkin_Raphael\", \"Barkin_Raphael\", \"Barkin_Raphael\", \"Baum\", \"Baum\", \"Baum\", \"Baum\", \"Baum\", \"Baum\", \"Beverly_Hirtle\", \"Beverly_Hirtle\", \"Beverly_Hirtle\", \"Beverly_Hirtle\", \"Beverly_Hirtle\", \"Beverly_Hirtle\", \"Beverly_Hirtle\", \"Beverly_Hirtle\", \"Beverly_Hirtle\", \"Bomfim_Special\", \"Bomfim_Special\", \"Bomfim_Special\", \"Bomfim_Special\", \"Bomfim_Special\", \"Brainard_Stanley\", \"Brainard_Stanley\", \"Brainard_Stanley\", \"Brainard_Stanley\", \"Brainard_Stanley\", \"Brainard_Stanley\", \"Brexit_vote\", \"Brexit_vote\", \"Brexit_vote\", \"Brexit_vote\", \"Brexit_vote\", \"CUSIP\", \"CUSIP\", \"CUSIP\", \"CUSIP\", \"CUSIP\", \"Chair_ask\", \"Chair_ask\", \"Chair_ask\", \"Cleveland_Chicago\", \"Conduct_System\", \"Conduct_System\", \"Conduct_System\", \"CounselMr\", \"CounselMr\", \"CounselMr\", \"CounselMr\", \"CounselMr\", \"CounselMr\", \"CounselMr\", \"CounselMr\", \"CounselMr\", \"Craig_Hakkio\", \"Craig_Hakkio\", \"Craig_Hakkio\", \"Craig_Hakkio\", \"Cumming\", \"Cumming\", \"Cumming\", \"Cumming\", \"Cumming\", \"Cumming\", \"Cumming\", \"Cumming\", \"Cumming\", \"Currency\", \"Currency\", \"Currency\", \"Currency\", \"Currency\", \"Currency\", \"Currency\", \"Currency\", \"Currency\", \"Cyprus\", \"Cyprus\", \"Cyprus\", \"Cyprus\", \"Cyprus\", \"DSGE_model\", \"DSGE_model\", \"DSGE_model\", \"DSGE_model\", \"DSGE_model\", \"David_Wilcox\", \"David_Wilcox\", \"David_Wilcox\", \"David_Wilcox\", \"David_Wilcox\", \"David_Wilcox\", \"David_Wilcox\", \"David_Wilcox\", \"David_Wilcox\", \"Dealers\", \"Dealers\", \"Dealers\", \"Dealers\", \"Dealers\", \"Dealers\", \"Dealers\", \"Dealers\", \"Dealers\", \"ELB\", \"ELB\", \"ELB\", \"ELB\", \"ELB\", \"ELB\", \"ELB\", \"ELB\", \"ELB\", \"East\", \"East\", \"East\", \"East\", \"East\", \"East\", \"East\", \"East\", \"East\", \"Eastern\", \"Economists_Brian\", \"Economists_Brian\", \"Economists_Brian\", \"Economists_Brian\", \"Economists_Brian\", \"Economists_Brian\", \"Eligible\", \"Eligible\", \"Eligible\", \"Eligible\", \"Eligible\", \"Eligible\", \"Eligible\", \"Eligible\", \"Eligible\", \"Eligible_Securities\", \"Eligible_Securities\", \"Eligible_Securities\", \"Eligible_Securities\", \"Eligible_Securities\", \"Eligible_Securities\", \"Eligible_Securities\", \"Eligible_Securities\", \"Eligible_Securities\", \"Elizabeth\", \"Elizabeth\", \"Elizabeth\", \"Elizabeth\", \"Elizabeth\", \"Elizabeth\", \"Elizabeth\", \"Elizabeth\", \"Elizabeth\", \"FIMA\", \"FIMA\", \"FIMA\", \"FIMA\", \"FIMA\", \"FIMA\", \"FIMA\", \"FIMA\", \"FIMA\", \"FIMA_repo\", \"FIMA_repo\", \"FIMA_repo\", \"FIMA_repo\", \"FIMA_repo\", \"FIMA_repo\", \"FIMA_repo\", \"Facility\", \"Facility\", \"Facility\", \"Facility\", \"Facility\", \"Facility\", \"Facility\", \"Facility\", \"Facility\", \"Fed_Listens\", \"Fed_Listens\", \"Fed_Listens\", \"Fed_Listens\", \"Fed_Listens\", \"Fisher\", \"Fisher\", \"Fisher\", \"Fisher\", \"Fisher\", \"Fisher\", \"Fisher\", \"Fisher\", \"Fisher\", \"Follette_Assistant\", \"Follette_Assistant\", \"Follette_Assistant\", \"Forecast\", \"Foreign\", \"Foreign\", \"Foreign\", \"Foreign\", \"Foreign\", \"Foreign\", \"Foreign\", \"Foreign\", \"Foreign\", \"Foreign_Currency\", \"Foreign_Currency\", \"Foreign_Currency\", \"Foreign_Currency\", \"Foreign_Currency\", \"Foreign_Currency\", \"Foreign_Currency\", \"Foreign_Currency\", \"Foreign_Currency\", \"GDP_growth\", \"GDP_growth\", \"GDP_growth\", \"GDP_growth\", \"GDP_growth\", \"GDP_growth\", \"GDP_growth\", \"GDP_growth\", \"GDP_growth\", \"Geithner_Kohn\", \"Geithner_Kohn\", \"Geithner_Kohn\", \"Geithner_Kohn\", \"Governors_Lubomir\", \"Governors_Lubomir\", \"Governors_Sriya\", \"Greece_Portugal\", \"Greece_Portugal\", \"Greece_Portugal\", \"Greece_Portugal\", \"Greece_Portugal\", \"Holcomb_Blake\", \"Holcomb_Blake\", \"Holcomb_Blake\", \"Hurricane_Harvey\", \"Hurricane_Harvey\", \"Hurricane_Harvey\", \"Hurricane_Harvey\", \"Hurricane_Harvey\", \"IMF\", \"IMF\", \"IMF\", \"IMF\", \"IMF\", \"IMF\", \"IMF\", \"IMF\", \"IMF\", \"IOER\", \"IOER\", \"IOER\", \"IOER\", \"IOER\", \"IOER\", \"IOER\", \"IOER\", \"IOER\", \"IV\", \"IV\", \"IV\", \"IV\", \"IV\", \"IV\", \"IV\", \"IV\", \"IV\", \"Janet_Yellen\", \"Janet_Yellen\", \"Janet_Yellen\", \"Janet_Yellen\", \"Janet_Yellen\", \"Janet_Yellen\", \"Janet_Yellen\", \"Janet_Yellen\", \"Janet_Yellen\", \"January_February\", \"January_February\", \"January_February\", \"January_February\", \"January_February\", \"January_February\", \"January_February\", \"January_February\", \"January_February\", \"Job\", \"Job\", \"Job\", \"Job\", \"Job\", \"Job\", \"Job\", \"Job\", \"Job\", \"Johnson_Secretary\", \"Johnson_Secretary\", \"Johnson_Secretary\", \"Johnson_Secretary\", \"Johnson_Secretary\", \"Johnson_Secretary\", \"Johnson_Secretary\", \"Johnson_Secretary\", \"Johnson_Secretary\", \"Joyce\", \"Joyce\", \"Joyce\", \"Joyce\", \"Joyce\", \"Joyce\", \"Joyce\", \"Joyce\", \"Joyce\", \"July_August\", \"July_August\", \"July_August\", \"July_August\", \"July_August\", \"July_August\", \"July_August\", \"July_August\", \"July_August\", \"July_SLOOS\", \"July_SLOOS\", \"July_SLOOS\", \"July_SLOOS\", \"July_SLOOS\", \"July_SLOOS\", \"July_SLOOS\", \"July_SLOOS\", \"July_SLOOS\", \"Kevin\", \"Kevin\", \"Kevin\", \"Kevin\", \"Kevin\", \"Kevin\", \"Kevin\", \"Kevin\", \"Kevin\", \"Kocherlakota\", \"Kocherlakota\", \"Kocherlakota\", \"Kocherlakota\", \"Kocherlakota\", \"Kocherlakota\", \"Kocherlakota\", \"Kocherlakota\", \"Kocherlakota\", \"Lehnert\", \"Lehnert\", \"Lehnert\", \"Lehnert\", \"Lehnert\", \"Lehnert\", \"Lehnert\", \"Lehnert\", \"Lehnert\", \"Lewis_Chiara\", \"Lewis_Chiara\", \"Lewis_Chiara\", \"Lewis_Chiara\", \"Lewis_Chiara\", \"Lewis_Chiara\", \"Lewis_Chiara\", \"Listens\", \"Listens\", \"Listens\", \"Listens\", \"Listens\", \"Lopez\", \"Lopez\", \"MENA\", \"MENA\", \"MF\", \"MF\", \"MF\", \"MF_Global\", \"MF_Global\", \"MF_Global\", \"Maryann_Hunter\", \"Maryann_Hunter\", \"Maryann_Hunter\", \"Maryann_Hunter\", \"Maryann_Hunter\", \"Matthew_Luecke\", \"Matthew_Luecke\", \"Matthew_Luecke\", \"Matthew_Luecke\", \"Matthew_Luecke\", \"Matthew_Luecke\", \"Matthew_Luecke\", \"Matthew_Luecke\", \"Matthew_Luecke\", \"Narayana\", \"Narayana\", \"Narayana\", \"Narayana\", \"Narayana\", \"Narayana\", \"Narayana\", \"Narayana\", \"Narayana\", \"Nathan\", \"Nathan\", \"Nathan\", \"Nathan\", \"Nathan\", \"Nathan\", \"Nathan\", \"Nathan\", \"Nathan\", \"Nelson_Deputy\", \"Nelson_Deputy\", \"Nelson_Deputy\", \"Nelson_Deputy\", \"Normalization_Meeting\", \"OBFR\", \"OBFR\", \"OBFR\", \"OBFR\", \"OBFR\", \"OBFR\", \"OBFR\", \"October_November\", \"October_November\", \"October_November\", \"October_November\", \"October_November\", \"October_November\", \"October_November\", \"October_November\", \"October_November\", \"Operations_amend\", \"Operations_amend\", \"Paese\", \"Paese\", \"Paustian\", \"Paustian\", \"Paycheck_Protection\", \"Paycheck_Protection\", \"Paycheck_Protection\", \"Paycheck_Protection\", \"Paycheck_Protection\", \"Paycheck_Protection\", \"Paycheck_Protection\", \"Penelope_Assistant\", \"Penelope_Assistant\", \"Penelope_Assistant\", \"Penelope_Assistant\", \"Penelope_Assistant\", \"Penelope_Assistant\", \"Penelope_Assistant\", \"Penelope_Assistant\", \"Penelope_Assistant\", \"Philadelphia_Boston\", \"Philadelphia_Boston\", \"Philadelphia_Boston\", \"Philadelphia_Boston\", \"Philadelphia_Boston\", \"Plan\", \"Plosser\", \"Plosser\", \"Plosser\", \"Plosser\", \"Plosser\", \"Plosser\", \"Plosser\", \"Plosser\", \"Plosser\", \"Principles_plan\", \"Principles_plan\", \"Principles_plan\", \"Principles_plan\", \"Principles_plan\", \"Principles_plan\", \"Principles_plan\", \"Principles_plan\", \"Principles_plan\", \"RRP\", \"RRP\", \"RRP\", \"RRP\", \"RRP\", \"RRP\", \"RRP\", \"RRP\", \"RRP\", \"RRP_exercise\", \"RRP_exercise\", \"RRP_exercise\", \"RRP_exercise\", \"RRP_exercise\", \"RRP_exercise\", \"RRP_exercise\", \"RRP_exercise\", \"RRP_exercise\", \"RRP_operation\", \"RRP_operation\", \"RRP_operation\", \"RRP_operation\", \"RRP_operation\", \"RRP_operation\", \"RRP_operation\", \"RRP_operation\", \"RRP_operation\", \"Rich\", \"Richard_Dzina\", \"Richard_Dzina\", \"Richard_Dzina\", \"Richard_Dzina\", \"Richard_Dzina\", \"Richard_Dzina\", \"Richard_Dzina\", \"Richmond_Fuhrer\", \"Richmond_Fuhrer\", \"Richmond_Fuhrer\", \"Richmond_Fuhrer\", \"Richmond_Philadelphia\", \"Richmond_Philadelphia\", \"Richmond_Philadelphia\", \"Richmond_Philadelphia\", \"Rosengren_dissent\", \"Rosengren_dissent\", \"Rosengren_dissent\", \"Rosengren_dissent\", \"Rosengren_dissent\", \"SEP\", \"SEP\", \"SEP\", \"SEP\", \"SEP\", \"SEP\", \"SEP\", \"SEP\", \"SEP\", \"SLOOS\", \"SLOOS\", \"SLOOS\", \"SLOOS\", \"SLOOS\", \"SLOOS\", \"SLOOS\", \"SLOOS\", \"SLOOS\", \"Schweitzer\", \"Schweitzer\", \"Schweitzer\", \"Schweitzer\", \"Schweitzer\", \"Schweitzer\", \"Schweitzer\", \"Schweitzer\", \"Schweitzer\", \"Section_Chiefs\", \"Section_Chiefs\", \"Section_Chiefs\", \"Section_Chiefs\", \"Section_Chiefs\", \"Section_Chiefs\", \"Section_Chiefs\", \"Section_Chiefs\", \"Section_Chiefs\", \"Selected\", \"Selected\", \"Selected\", \"Selected\", \"Selected\", \"Selected\", \"Selected\", \"Selected\", \"Selected\", \"Selected_Bank\", \"Selected_Bank\", \"Selected_Bank\", \"Selected_Bank\", \"Selected_Bank\", \"Selected_Bank\", \"Selected_Bank\", \"Selected_Bank\", \"Selected_Bank\", \"Sheet\", \"Sheet\", \"Sheet\", \"Sheet\", \"Sheet\", \"Sheet\", \"Sheet\", \"Sheet\", \"Sheet\", \"Signature_Bank\", \"Signature_Bank\", \"Signature_Bank\", \"Signature_Bank\", \"Signature_Bank\", \"South_America\", \"South_America\", \"South_America\", \"South_America\", \"South_America\", \"South_America\", \"South_America\", \"Special_Adviser\", \"Special_Adviser\", \"Special_Adviser\", \"Special_Adviser\", \"Special_Adviser\", \"Special_Adviser\", \"Special_Adviser\", \"Special_Adviser\", \"Special_Adviser\", \"Stanley\", \"Stanley\", \"Stanley\", \"Stanley\", \"Stanley\", \"Stanley\", \"Stanley\", \"Stanley\", \"Stanley\", \"Subcommittee\", \"Subcommittee\", \"Subcommittee\", \"Subcommittee\", \"Subcommittee\", \"Subcommittee\", \"Subcommittee\", \"Subcommittee\", \"Subcommittee\", \"Subcommittee_Subcommittee\", \"Subcommittee_Subcommittee\", \"Subcommittee_Subcommittee\", \"Subcommittee_Subcommittee\", \"Subcommittee_Subcommittee\", \"Subcommittee_Subcommittee\", \"Subcommittee_Subcommittee\", \"Subcommittee_Subcommittee\", \"Subcommittee_Subcommittee\", \"Sweden\", \"Sweden\", \"Sweden\", \"Sweden\", \"Sweden\", \"Sweden\", \"TSLF\", \"TSLF\", \"TSLF\", \"TSLF\", \"TSLF\", \"TSLF\", \"TSLF\", \"TSLF\", \"TSLF\", \"Term\", \"Term\", \"Term\", \"Term\", \"Term\", \"Term\", \"Term\", \"Term\", \"Term\", \"Treasury_bill\", \"Treasury_bill\", \"Treasury_bill\", \"Treasury_bill\", \"Treasury_bill\", \"Treasury_bill\", \"Treasury_bill\", \"Treasury_bill\", \"Treasury_bill\", \"Ukraine\", \"Ukraine\", \"Ukraine\", \"Ukraine\", \"Ukraine\", \"Ukraine\", \"Ukraine\", \"Ukraine\", \"Ukraine\", \"Union\", \"Union\", \"Union\", \"Union\", \"Union\", \"Union\", \"Union\", \"Union\", \"Union\", \"Valley_Bank\", \"Valley_Bank\", \"Valley_Bank\", \"Valley_Bank\", \"Waller_voting\", \"Waller_voting\", \"Waller_voting\", \"Waller_voting\", \"Waller_voting\", \"Waller_voting\", \"Wilcox_Economist\", \"Wilcox_Economist\", \"Wilcox_Economist\", \"Wilcox_Economist\", \"Wilcox_Economist\", \"Wilcox_Economist\", \"Wilcox_Economist\", \"Wilcox_Economist\", \"Wilcox_Economist\", \"YCT\", \"YCT\", \"YCT\", \"YCT\", \"YCT\", \"YCT\", \"YCT\", \"YCT\", \"YCT\", \"YCT_policy\", \"YCT_policy\", \"YCT_policy\", \"YCT_policy\", \"YCT_policy\", \"YCT_policy\", \"YCT_policy\", \"YCT_policy\", \"YCT_policy\", \"Yuriy\", \"Yuriy\", \"Yuriy\", \"abate\", \"abate\", \"abate\", \"abate\", \"abate\", \"abate\", \"abate\", \"abate\", \"abate\", \"accord\", \"accord\", \"accord\", \"accord\", \"accord\", \"accord\", \"accord\", \"accord\", \"accord\", \"accurately\", \"accurately\", \"accurately\", \"accurately\", \"addendum\", \"addendum\", \"addendum\", \"addendum\", \"addendum\", \"addendum\", \"addendum\", \"addendum\", \"addendum\", \"adjustable\", \"adjustable\", \"adjustable\", \"adopt\", \"adopt\", \"adopt\", \"adopt\", \"adopt\", \"adopt\", \"adopt\", \"adopt\", \"adopt\", \"advance_recovery\", \"advance_recovery\", \"advance_recovery\", \"adverse_weather\", \"adverse_weather\", \"adverse_weather\", \"adverse_weather\", \"affect_pandemic\", \"affect_pandemic\", \"affect_pandemic\", \"affect_pandemic\", \"affect_pandemic\", \"affect_pandemic\", \"affect_pandemic\", \"affect_pandemic\", \"affect_pandemic\", \"aggregate_demand\", \"aggregate_demand\", \"aggregate_demand\", \"aggregate_demand\", \"aggregate_demand\", \"aggregate_demand\", \"aggregate_demand\", \"aggregate_demand\", \"aggregate_demand\", \"aggressive_expansion\", \"aggressive_expansion\", \"allow_cumulative\", \"allow_cumulative\", \"allow_cumulative\", \"allow_cumulative\", \"alternate\", \"alternate\", \"alternate\", \"alternate\", \"alternate\", \"alternate\", \"alternate\", \"alternate\", \"alternate\", \"aluminum\", \"aluminum\", \"aluminum\", \"aluminum\", \"aluminum\", \"ample\", \"ample\", \"ample\", \"ample\", \"ample\", \"ample\", \"ample\", \"ample\", \"ample\", \"announcement\", \"announcement\", \"announcement\", \"announcement\", \"announcement\", \"announcement\", \"announcement\", \"announcement\", \"announcement\", \"apparently\", \"apparently\", \"apparently\", \"apparently\", \"apparently\", \"apparently\", \"apparently\", \"apparently\", \"apparently\", \"appear_roughly\", \"appear_roughly\", \"appear_roughly\", \"appear_roughly\", \"appear_roughly\", \"appear_roughly\", \"appear_roughly\", \"appear_roughly\", \"appear_roughly\", \"appreciably\", \"appreciably\", \"appreciably\", \"appreciably\", \"appreciably\", \"appreciably\", \"appreciably\", \"appreciably\", \"appreciably\", \"appreciation\", \"appreciation\", \"appreciation\", \"appreciation\", \"appreciation\", \"appreciation\", \"appreciation\", \"appreciation\", \"appreciation\", \"approve_establishment\", \"approve_establishment\", \"approve_establishment\", \"approve_establishment\", \"approve_establishment\", \"approve_establishment\", \"approve_establishment\", \"approve_establishment\", \"approve_establishment\", \"argentine\", \"argentine\", \"argentine\", \"argentine\", \"arrangement\", \"arrangement\", \"arrangement\", \"arrangement\", \"arrangement\", \"arrangement\", \"arrangement\", \"arrangement\", \"arrangement\", \"arrangement_stand\", \"arrangement_stand\", \"arrangement_stand\", \"arrangement_stand\", \"arrangement_stand\", \"arrangement_stand\", \"arrangement_stand\", \"arrangement_stand\", \"arrangement_stand\", \"arrive\", \"arrive\", \"arrive\", \"arrive\", \"arrive\", \"arrive\", \"arrive\", \"asset_valuation\", \"asset_valuation\", \"asset_valuation\", \"asset_valuation\", \"asset_valuation\", \"asset_valuation\", \"asset_valuation\", \"asset_valuation\", \"asset_valuation\", \"attack\", \"attack\", \"attack\", \"attack\", \"authority\", \"authority\", \"authority\", \"authority\", \"authority\", \"authority\", \"authority\", \"authority\", \"authority\", \"authorization\", \"authorization\", \"authorization\", \"authorization\", \"authorization\", \"authorization\", \"authorization\", \"authorization\", \"authorization\", \"authorize_direct\", \"authorize_direct\", \"authorize_direct\", \"authorize_direct\", \"authorize_direct\", \"authorize_direct\", \"authorize_direct\", \"authorize_direct\", \"authorize_direct\", \"authorize_undertake\", \"authorize_undertake\", \"authorize_undertake\", \"authorize_undertake\", \"authorize_undertake\", \"authorize_undertake\", \"authorize_undertake\", \"authorize_undertake\", \"authorize_undertake\", \"balanced_approach\", \"balanced_approach\", \"balanced_approach\", \"balanced_approach\", \"balanced_approach\", \"balanced_approach\", \"balanced_approach\", \"balanced_approach\", \"balanced_approach\", \"balanced_upside\", \"balanced_upside\", \"balanced_upside\", \"balanced_upside\", \"balanced_upside\", \"balanced_upside\", \"balanced_upside\", \"balanced_upside\", \"balanced_upside\", \"banker_report\", \"banker_report\", \"banker_report\", \"banking_sector\", \"banking_sector\", \"banking_sector\", \"banking_sector\", \"banking_sector\", \"banking_sector\", \"banking_sector\", \"banking_sector\", \"banking_sector\", \"bid\", \"bid\", \"bid\", \"bid\", \"bid\", \"bid\", \"bid\", \"bid\", \"bid\", \"bill\", \"bill\", \"bill\", \"bill\", \"bill\", \"bill\", \"bill\", \"bill\", \"bill\", \"billion_month\", \"billion_month\", \"billion_month\", \"billion_month\", \"billion_month\", \"billion_month\", \"billion_month\", \"billion_month\", \"billion_month\", \"bottleneck\", \"bottleneck\", \"bottleneck\", \"bottleneck\", \"bottleneck\", \"bottleneck\", \"bottleneck\", \"bottleneck\", \"bottleneck\", \"bound\", \"bound\", \"bound\", \"bound\", \"bring\", \"bring\", \"bring\", \"bring\", \"bring\", \"bring\", \"bring\", \"bring\", \"bring\", \"budget_deficit\", \"budget_deficit\", \"budget_deficit\", \"budget_deficit\", \"calendar\", \"calendar\", \"calendar\", \"calendar\", \"calendar\", \"calendar\", \"calendar\", \"calendar\", \"calendar\", \"chain\", \"chain\", \"chain\", \"chain\", \"chain\", \"chain\", \"chain\", \"chain\", \"chain\", \"challenging\", \"challenging\", \"challenging\", \"challenging\", \"challenging\", \"challenging\", \"challenging\", \"challenging\", \"challenging\", \"childcare\", \"childcare\", \"childcare\", \"childcare\", \"childcare\", \"childcare\", \"childcare\", \"clarify_linkage\", \"clarify_linkage\", \"clarify_linkage\", \"clear_example\", \"closure_Silicon\", \"closure_Silicon\", \"closure_Silicon\", \"closure_Silicon\", \"closure_Silicon\", \"collective_judgment\", \"collective_judgment\", \"collective_judgment\", \"collective_judgment\", \"collective_judgment\", \"come_quarter\", \"come_quarter\", \"come_quarter\", \"come_quarter\", \"come_quarter\", \"come_quarter\", \"come_quarter\", \"come_quarter\", \"come_quarter\", \"commitment_achieve\", \"commitment_achieve\", \"commitment_achieve\", \"commitment_achieve\", \"commitment_achieve\", \"commodity_price\", \"commodity_price\", \"commodity_price\", \"commodity_price\", \"commodity_price\", \"commodity_price\", \"commodity_price\", \"commodity_price\", \"commodity_price\", \"community_notably\", \"community_notably\", \"competition_lender\", \"competition_lender\", \"competition_lender\", \"congressional_testimony\", \"congressional_testimony\", \"connection_Term\", \"considerable_time\", \"considerable_time\", \"considerable_time\", \"considerable_time\", \"considerable_time\", \"considerable_time\", \"considerable_time\", \"considerable_time\", \"considerable_time\", \"constrain_ongoing\", \"constrain_ongoing\", \"constrain_ongoing\", \"constrain_ongoing\", \"constrain_ongoing\", \"constrain_ongoing\", \"constraint\", \"constraint\", \"constraint\", \"constraint\", \"constraint\", \"constraint\", \"constraint\", \"constraint\", \"constraint\", \"consultation\", \"consultation\", \"consultation\", \"consultation\", \"consultation\", \"consultation\", \"consultation\", \"consultation\", \"consultation\", \"contact_district\", \"contact_district\", \"contact_district\", \"contact_district\", \"contact_district\", \"contact_district\", \"contact_district\", \"contact_district\", \"contact_district\", \"contend\", \"contend\", \"contend\", \"contend\", \"contraction\", \"contraction\", \"contraction\", \"contraction\", \"contraction\", \"contraction\", \"contraction\", \"contraction\", \"contraction\", \"control\", \"control\", \"control\", \"control\", \"control\", \"control\", \"control\", \"control\", \"control\", \"conversation\", \"conversation\", \"convert_exist\", \"convert_exist\", \"coronavirus\", \"coronavirus\", \"coronavirus\", \"coronavirus\", \"coronavirus\", \"coronavirus\", \"coronavirus\", \"coronavirus\", \"coronavirus\", \"corroborate\", \"corroborate\", \"corroborate\", \"corroborate\", \"cost_living\", \"cost_living\", \"cost_living\", \"counterpartie\", \"counterpartie\", \"counterpartie\", \"counterpartie\", \"counterpartie\", \"counterpartie\", \"counterpartie\", \"counterpartie\", \"counterpartie\", \"course\", \"course\", \"course\", \"course\", \"course\", \"course\", \"course\", \"course\", \"course\", \"cover_survey\", \"cover_survey\", \"cover_survey\", \"cover_survey\", \"cover_survey\", \"create_additional\", \"create_additional\", \"create_additional\", \"create_additional\", \"credit_availability\", \"credit_availability\", \"credit_availability\", \"credit_availability\", \"credit_availability\", \"credit_availability\", \"credit_availability\", \"credit_availability\", \"credit_availability\", \"creditor\", \"creditor\", \"creditor\", \"creditor\", \"creditor\", \"creditor\", \"creditor\", \"creditor\", \"curve\", \"curve\", \"curve\", \"curve\", \"curve\", \"curve\", \"curve\", \"curve\", \"curve\", \"damp\", \"damp\", \"damp\", \"damp\", \"damp\", \"damp\", \"damp\", \"damp\", \"damp\", \"datum_release\", \"datum_release\", \"datum_release\", \"datum_release\", \"datum_release\", \"datum_release\", \"datum_release\", \"datum_release\", \"datum_release\", \"deadline\", \"deadline\", \"deadline\", \"deadline\", \"deadline\", \"deadline\", \"deadline\", \"deadline\", \"deliberation\", \"deliberation\", \"deliberation\", \"deliberation\", \"deliberation\", \"deliberation\", \"deliberation\", \"deliberation\", \"deliberation\", \"delinquency_rate\", \"delinquency_rate\", \"delinquency_rate\", \"delinquency_rate\", \"delinquency_rate\", \"delinquency_rate\", \"delinquency_rate\", \"delinquency_rate\", \"delinquency_rate\", \"depart\", \"depart\", \"depart\", \"depart\", \"depart\", \"depart\", \"depend_course\", \"depend_course\", \"depend_course\", \"depend_course\", \"depend_course\", \"depend_course\", \"depend_course\", \"depend_course\", \"depend_course\", \"depreciate\", \"depreciate\", \"depreciate\", \"depreciate\", \"depreciate\", \"depreciate\", \"depreciate\", \"depreciate\", \"depreciate\", \"descent\", \"deteriorate_noticeably\", \"deteriorate_noticeably\", \"deteriorate_noticeably\", \"deteriorate_noticeably\", \"deteriorate_noticeably\", \"deteriorate_noticeably\", \"deterioration\", \"deterioration\", \"deterioration\", \"deterioration\", \"deterioration\", \"deterioration\", \"deterioration\", \"deterioration\", \"deterioration\", \"determine_size\", \"determine_size\", \"determine_size\", \"determine_size\", \"determine_size\", \"determine_size\", \"determine_size\", \"development_closely\", \"development_closely\", \"development_closely\", \"development_closely\", \"development_closely\", \"development_closely\", \"development_closely\", \"development_closely\", \"development_closely\", \"different\", \"different\", \"different\", \"different\", \"different\", \"different\", \"different\", \"different\", \"different\", \"direct_obligation\", \"direct_obligation\", \"direct_obligation\", \"direct_obligation\", \"direct_obligation\", \"direct_obligation\", \"direct_obligation\", \"direct_obligation\", \"direct_obligation\", \"distribution\", \"distribution\", \"distribution\", \"distribution\", \"distribution\", \"distribution\", \"distribution\", \"distribution\", \"distribution\", \"distributional\", \"distributional\", \"district\", \"district\", \"district\", \"district\", \"district\", \"district\", \"district\", \"district\", \"district\", \"dollar_liquidity\", \"dollar_liquidity\", \"dollar_liquidity\", \"dollar_liquidity\", \"dollar_liquidity\", \"dollar_liquidity\", \"dollar_liquidity\", \"dollar_liquidity\", \"dollar_liquidity\", \"domestic_SRF\", \"domestic_SRF\", \"domestic_SRF\", \"domestic_SRF\", \"drag\", \"drag\", \"drag\", \"drag\", \"drag\", \"drag\", \"drag\", \"drag\", \"drag\", \"dry\", \"durable\", \"durable\", \"durable\", \"durable\", \"durable\", \"durable\", \"durable\", \"durable\", \"durable\", \"earthquake_tsunami\", \"earthquake_tsunami\", \"earthquake_tsunami\", \"earthquake_tsunami\", \"easing_restraint\", \"easing_restraint\", \"easing_restraint\", \"easing_restraint\", \"ebb_somewhat\", \"ebb_somewhat\", \"ebb_somewhat\", \"economy_challenging\", \"economy_challenging\", \"economy_challenging\", \"economy_challenging\", \"economy_challenging\", \"economy_challenging\", \"economy_challenging\", \"economy_challenging\", \"economy_challenging\", \"effective_lower\", \"effective_lower\", \"effective_lower\", \"effective_lower\", \"effective_lower\", \"effective_lower\", \"effective_lower\", \"effective_lower\", \"effective_lower\", \"effectiveness\", \"effectiveness\", \"effectiveness\", \"effectiveness\", \"effectiveness\", \"effectiveness\", \"effectiveness\", \"effectiveness\", \"effectiveness\", \"efficacy\", \"efficacy\", \"efficacy\", \"efficacy\", \"efficacy\", \"efficacy\", \"efficacy\", \"efficacy\", \"efficacy\", \"elb\", \"elb\", \"elb\", \"elb\", \"elb_episode\", \"elb_episode\", \"elb_episode\", \"elb_episode\", \"eme\", \"eme\", \"eme\", \"eme\", \"eme\", \"eme\", \"eme\", \"eme\", \"eme\", \"eme_dedicate\", \"eme_dedicate\", \"energy_commodity\", \"energy_commodity\", \"energy_commodity\", \"energy_commodity\", \"energy_commodity\", \"energy_commodity\", \"energy_commodity\", \"energy_commodity\", \"energy_commodity\", \"energy_import\", \"energy_import\", \"energy_import\", \"energy_import\", \"energy_import\", \"energy_import\", \"energy_import\", \"energy_import\", \"energy_import\", \"enhancement_statement\", \"enhancement_statement\", \"entirely\", \"entirely\", \"entirely\", \"entirely\", \"entirely\", \"entirely\", \"entirely\", \"equipment_software\", \"equipment_software\", \"equipment_software\", \"equipment_software\", \"equipment_software\", \"equipment_software\", \"equipment_software\", \"equipment_software\", \"equipment_software\", \"equitable\", \"equitable\", \"equitable\", \"equitable\", \"erratic\", \"estimate_long\", \"estimate_long\", \"estimate_long\", \"estimate_long\", \"estimate_long\", \"estimate_long\", \"estimate_long\", \"estimate_long\", \"estimate_long\", \"european\", \"european\", \"european\", \"european\", \"european\", \"european\", \"european\", \"european\", \"european\", \"event\", \"event\", \"event\", \"event\", \"event\", \"event\", \"event\", \"event\", \"event\", \"event_Middle\", \"event_Middle\", \"event_Middle\", \"examine\", \"examine\", \"examine\", \"examine\", \"examine\", \"examine\", \"examine\", \"examine\", \"examine\", \"exceptionally\", \"exceptionally\", \"exceptionally\", \"exceptionally\", \"exceptionally\", \"exceptionally\", \"exceptionally\", \"exceptionally\", \"exceptionally\", \"exist_home\", \"exist_home\", \"exist_home\", \"exist_home\", \"exist_home\", \"exist_home\", \"exist_home\", \"exist_home\", \"exist_home\", \"expansionary_fiscal\", \"expansionary_fiscal\", \"expansionary_fiscal\", \"expansionary_fiscal\", \"expansionary_fiscal\", \"expansionary_fiscal\", \"expansionary_fiscal\", \"expansionary_fiscal\", \"expansionary_fiscal\", \"expenditure_equipment\", \"expenditure_equipment\", \"expenditure_equipment\", \"expenditure_equipment\", \"expenditure_equipment\", \"expenditure_equipment\", \"expenditure_equipment\", \"expenditure_equipment\", \"explore_establish\", \"explore_establish\", \"explore_way\", \"explore_way\", \"explore_way\", \"explore_way\", \"export_fuel\", \"export_fuel\", \"export_fuel\", \"export_fuel\", \"extended\", \"extended\", \"extended\", \"extended\", \"extended\", \"extended\", \"extended\", \"extended\", \"extended\", \"fall_equally\", \"fall_equally\", \"fall_equally\", \"familiarity\", \"farmer\", \"farmer\", \"farmer\", \"feasible\", \"feasible\", \"feasible\", \"feasible\", \"feasible\", \"feasible\", \"feasible\", \"feasible\", \"feasible\", \"fee\", \"fee\", \"fee\", \"fee\", \"fee\", \"fee\", \"fee\", \"fee\", \"fee\", \"feedback_receive\", \"feedback_receive\", \"few\", \"few\", \"few\", \"few\", \"few\", \"few\", \"few\", \"few\", \"few\", \"finance_company\", \"finance_company\", \"finance_company\", \"financial_institution\", \"financial_institution\", \"financial_institution\", \"financial_institution\", \"financial_institution\", \"financial_institution\", \"financial_institution\", \"financial_institution\", \"financial_institution\", \"firming\", \"firming\", \"firming\", \"firming\", \"firming\", \"firming\", \"firming\", \"firming\", \"firming\", \"flow_credit\", \"flow_credit\", \"flow_credit\", \"flow_credit\", \"flow_credit\", \"flow_credit\", \"flow_credit\", \"flow_credit\", \"flow_credit\", \"food_energy\", \"food_energy\", \"food_energy\", \"food_energy\", \"food_energy\", \"food_energy\", \"food_energy\", \"food_energy\", \"food_energy\", \"foreign_central\", \"foreign_central\", \"foreign_central\", \"foreign_central\", \"foreign_central\", \"foreign_central\", \"foreign_central\", \"foreign_central\", \"foreign_central\", \"formula\", \"formula\", \"formula\", \"formula\", \"formula\", \"formula\", \"formula\", \"formula\", \"formula\", \"formulation\", \"formulation\", \"formulation\", \"formulation\", \"formulation\", \"formulation\", \"forward_guidance\", \"forward_guidance\", \"forward_guidance\", \"forward_guidance\", \"forward_guidance\", \"forward_guidance\", \"forward_guidance\", \"forward_guidance\", \"forward_guidance\", \"foster_orderly\", \"foster_orderly\", \"foster_orderly\", \"foster_orderly\", \"foster_orderly\", \"foster_orderly\", \"foster_orderly\", \"framework\", \"framework\", \"framework\", \"framework\", \"framework\", \"framework\", \"framework\", \"framework\", \"framework\", \"french_presidential\", \"french_presidential\", \"french_presidential\", \"french_presidential\", \"fully\", \"fully\", \"fully\", \"fully\", \"fully\", \"fully\", \"fully\", \"fully\", \"fully\", \"functioning\", \"functioning\", \"functioning\", \"functioning\", \"functioning\", \"functioning\", \"functioning\", \"functioning\", \"functioning\", \"fundamental\", \"fundamental\", \"fundamental\", \"fundamental\", \"fundamental\", \"fundamental\", \"fundamental\", \"fundamental\", \"fundamental\", \"fundamental_underpin\", \"fundamental_underpin\", \"fundamental_underpin\", \"fundamental_underpin\", \"fundamental_underpin\", \"good_automobile\", \"good_automobile\", \"good_automobile\", \"guarantee\", \"guarantee\", \"guarantee\", \"guarantee\", \"guarantee\", \"guarantee\", \"guarantee\", \"guarantee\", \"guarantee\", \"harm\", \"harm\", \"harm\", \"harm\", \"health\", \"health\", \"health\", \"health\", \"health\", \"health\", \"health\", \"health\", \"health\", \"helpful_explain\", \"helpful_explain\", \"helpful_explain\", \"hike\", \"hike\", \"hike\", \"hike\", \"hike\", \"hike\", \"hike\", \"hike\", \"hike\", \"household_purchasing\", \"household_purchasing\", \"household_purchasing\", \"household_purchasing\", \"household_purchasing\", \"household_purchasing\", \"household_purchasing\", \"identify\", \"identify\", \"identify\", \"identify\", \"identify\", \"identify\", \"identify\", \"identify\", \"identify\", \"impart_great\", \"impart_great\", \"impart_great\", \"impede\", \"impede\", \"impede\", \"impede\", \"impede\", \"impede\", \"impede\", \"impede\", \"impede\", \"improvement_labor\", \"improvement_labor\", \"improvement_labor\", \"improvement_labor\", \"improvement_labor\", \"improvement_labor\", \"improvement_labor\", \"improvement_labor\", \"improvement_labor\", \"inclusive_goal\", \"inclusive_goal\", \"incorporate_publish\", \"incorporate_publish\", \"incorporate_publish\", \"incorporate_publish\", \"inequality\", \"inequality\", \"inequality\", \"inflation_protect\", \"inflation_protect\", \"inflation_protect\", \"inflation_protect\", \"inflation_protect\", \"inflation_protect\", \"inflation_protect\", \"inflation_protect\", \"inflation_protect\", \"inflationary\", \"inflationary\", \"inflationary\", \"inflationary\", \"inflationary\", \"inflationary\", \"inflationary\", \"inflationary\", \"inflationary\", \"initiation\", \"initiation\", \"initiation\", \"initiation\", \"initiation\", \"initiation\", \"initiation\", \"initiation\", \"input_cost\", \"input_cost\", \"input_cost\", \"input_cost\", \"input_cost\", \"input_cost\", \"input_cost\", \"input_cost\", \"input_cost\", \"intangible\", \"intangible\", \"intangible\", \"intangible\", \"intangible\", \"intangible\", \"intention\", \"intention\", \"intention\", \"intention\", \"intention\", \"intention\", \"intention\", \"intention\", \"intention\", \"interbank\", \"interbank\", \"interbank\", \"interbank\", \"interbank\", \"interbank\", \"interbank\", \"interbank\", \"interbank\", \"intermeeeting\", \"interruption\", \"intra_day\", \"intra_day\", \"intra_day\", \"intra_day\", \"intra_day\", \"intra_day\", \"intra_day\", \"intra_day\", \"intra_day\", \"invasion\", \"invasion\", \"invasion\", \"invasion\", \"invasion\", \"invasion\", \"invasion\", \"invasion\", \"invasion\", \"invert\", \"invert\", \"invert\", \"invert\", \"invert\", \"invert\", \"invert\", \"issuance_speculative\", \"issuance_speculative\", \"issuance_speculative\", \"issuance_speculative\", \"issuance_speculative\", \"issuance_speculative\", \"issuance_speculative\", \"issuance_speculative\", \"issuance_speculative\", \"italian_government\", \"italian_government\", \"italian_government\", \"italian_government\", \"job_gain\", \"job_gain\", \"job_gain\", \"job_gain\", \"job_gain\", \"job_gain\", \"job_gain\", \"job_gain\", \"job_gain\", \"kind\", \"kind\", \"kind\", \"language\", \"language\", \"language\", \"language\", \"language\", \"language\", \"language\", \"language\", \"language\", \"large_overhang\", \"large_overhang\", \"large_overhang\", \"large_overhang\", \"large_scale\", \"large_scale\", \"large_scale\", \"large_scale\", \"large_scale\", \"large_scale\", \"large_scale\", \"large_scale\", \"large_scale\", \"largely_reflect\", \"largely_reflect\", \"largely_reflect\", \"largely_reflect\", \"largely_reflect\", \"largely_reflect\", \"largely_reflect\", \"largely_reflect\", \"largely_reflect\", \"lay\", \"lay\", \"lay\", \"lay\", \"lay\", \"lay\", \"lay\", \"lay\", \"lay\", \"lend_Eligible\", \"lend_Eligible\", \"lend_Eligible\", \"lend_Eligible\", \"lend_Eligible\", \"lend_Eligible\", \"lend_Eligible\", \"lend_Eligible\", \"lend_Eligible\", \"leveraged_loan\", \"leveraged_loan\", \"leveraged_loan\", \"leveraged_loan\", \"leveraged_loan\", \"leveraged_loan\", \"leveraged_loan\", \"leveraged_loan\", \"leveraged_loan\", \"liftoff\", \"liftoff\", \"liftoff\", \"liftoff\", \"liftoff\", \"liftoff\", \"liftoff\", \"liftoff\", \"liftoff\", \"likely_efficacy\", \"likely_efficacy\", \"likely_efficacy\", \"likely_efficacy\", \"likely_efficacy\", \"likely_efficacy\", \"likely_efficacy\", \"likely_efficacy\", \"likely_efficacy\", \"likely_outcome\", \"likely_outcome\", \"likely_outcome\", \"likely_outcome\", \"likely_outcome\", \"likely_outcome\", \"likely_outcome\", \"likely_outcome\", \"likely_outcome\", \"likely_warrant\", \"likely_warrant\", \"likely_warrant\", \"likely_warrant\", \"likely_warrant\", \"likely_warrant\", \"likely_warrant\", \"likely_warrant\", \"likely_warrant\", \"liquidity_swap\", \"liquidity_swap\", \"liquidity_swap\", \"liquidity_swap\", \"liquidity_swap\", \"liquidity_swap\", \"liquidity_swap\", \"liquidity_swap\", \"liquidity_swap\", \"mainly\", \"mainly\", \"mainly\", \"mainly\", \"mainly\", \"mainly\", \"mainly\", \"mainly\", \"mainly\", \"maintain_current\", \"maintain_current\", \"maintain_current\", \"maintain_current\", \"maintain_current\", \"maintain_current\", \"maintain_current\", \"maintain_current\", \"maintain_current\", \"makeup\", \"makeup\", \"makeup\", \"makeup\", \"makeup\", \"makeup\", \"makeup\", \"makeup\", \"makeup\", \"makeup_strategy\", \"makeup_strategy\", \"makeup_strategy\", \"makeup_strategy\", \"makeup_strategy\", \"makeup_strategy\", \"makeup_strategy\", \"makeup_strategy\", \"manner\", \"manner\", \"manner\", \"manner\", \"manner\", \"manner\", \"manner\", \"manner\", \"manner\", \"manner_need\", \"manner_need\", \"manner_need\", \"marginal_cost\", \"marginal_cost\", \"marginal_cost\", \"marginal_cost\", \"marginal_cost\", \"mark\", \"mark\", \"mark\", \"mark\", \"mark\", \"mark\", \"mark\", \"mark\", \"mark\", \"market_functioning\", \"market_functioning\", \"market_functioning\", \"market_functioning\", \"market_functioning\", \"market_functioning\", \"market_functioning\", \"market_functioning\", \"market_functioning\", \"materialize\", \"materialize\", \"materialize\", \"materialize\", \"materialize\", \"materialize\", \"materialize\", \"materialize\", \"materialize\", \"measure_underlying\", \"measure_underlying\", \"measure_underlying\", \"measure_underlying\", \"measure_underlying\", \"measure_underlying\", \"measure_underlying\", \"measure_underlying\", \"measure_underlying\", \"mention\", \"mention\", \"mention\", \"mention\", \"mention\", \"mention\", \"mention\", \"mention\", \"mention\", \"mid\", \"mid\", \"mid\", \"mid\", \"mid\", \"mid\", \"mid\", \"mid\", \"mid\", \"mineral_extraction\", \"mineral_extraction\", \"misinterpret_public\", \"misinterpret_public\", \"misinterpret_public\", \"misinterpret_signal\", \"misinterpret_signal\", \"misinterpret_signal\", \"misinterpret_signal\", \"misinterpret_signal\", \"misinterpret_signal\", \"misinterpret_signal\", \"misunderstood\", \"misunderstood\", \"misunderstood\", \"misunderstood\", \"monthly_cap\", \"monthly_cap\", \"monthly_cap\", \"monthly_cap\", \"monthly_cap\", \"monthly_cap\", \"municipal_bond\", \"municipal_bond\", \"municipal_bond\", \"municipal_bond\", \"municipal_bond\", \"municipal_bond\", \"municipal_bond\", \"municipal_bond\", \"municipal_bond\", \"national_regional\", \"national_regional\", \"national_regional\", \"national_regional\", \"national_regional\", \"national_regional\", \"national_regional\", \"national_regional\", \"national_regional\", \"negotiation\", \"negotiation\", \"negotiation\", \"negotiation\", \"negotiation\", \"negotiation\", \"negotiation\", \"negotiation\", \"negotiation\", \"nondurable_good\", \"nondurable_good\", \"nondurable_good\", \"nonlabor\", \"normalization\", \"normalization\", \"normalization\", \"normalization\", \"normalization\", \"normalization\", \"normalization\", \"normalization\", \"normalization\", \"object\", \"object\", \"object\", \"object\", \"object\", \"object\", \"object\", \"object\", \"objective_medium\", \"objective_medium\", \"objective_medium\", \"objective_medium\", \"objective_medium\", \"objective_medium\", \"objective_medium\", \"objective_medium\", \"objective_medium\", \"objective_partly\", \"objective_partly\", \"objective_partly\", \"objective_partly\", \"objective_partly\", \"objective_partly\", \"objective_partly\", \"objective_partly\", \"objective_partly\", \"obligation\", \"obligation\", \"obligation\", \"obligation\", \"obligation\", \"obligation\", \"obligation\", \"obligation\", \"obligation\", \"official_creditor\", \"official_creditor\", \"one_staff\", \"one_staff\", \"onshore\", \"onshore\", \"onshore\", \"onshore\", \"operate\", \"operate\", \"operate\", \"operate\", \"operate\", \"operate\", \"operate\", \"operate\", \"operate\", \"operating_framework\", \"operating_framework\", \"operating_framework\", \"operating_framework\", \"operating_framework\", \"order_ensure\", \"order_ensure\", \"order_ensure\", \"order_ensure\", \"order_ensure\", \"order_ensure\", \"order_ensure\", \"order_ensure\", \"order_ensure\", \"outline\", \"outline\", \"outline\", \"outline\", \"outline\", \"outline\", \"outline\", \"outline\", \"outline\", \"outreach_effort\", \"outreach_effort\", \"outreach_effort\", \"package\", \"package\", \"package\", \"package\", \"package\", \"package\", \"package\", \"package\", \"package\", \"pandemic\", \"pandemic\", \"pandemic\", \"pandemic\", \"pandemic\", \"pandemic\", \"pandemic\", \"pandemic\", \"pandemic\", \"paragraph\", \"paragraph\", \"paragraph\", \"paragraph\", \"paragraph\", \"paragraph\", \"paragraph\", \"paragraph\", \"paragraph\", \"partial\", \"partial\", \"partial\", \"partial\", \"partial\", \"partial\", \"partial\", \"partial\", \"partial\", \"participant_remark\", \"participant_remark\", \"participant_remark\", \"participant_remark\", \"participant_remark\", \"participant_remark\", \"participant_remark\", \"participant_remark\", \"participant_remark\", \"participate_deliberation\", \"participate_deliberation\", \"participate_deliberation\", \"participate_deliberation\", \"participate_deliberation\", \"participate_deliberation\", \"participate_deliberation\", \"participation_Fed\", \"participation_Fed\", \"pass_portion\", \"pass_portion\", \"pass_portion\", \"pass_portion\", \"percentage_change\", \"percentage_change\", \"percentage_change\", \"percentage_change\", \"percentage_change\", \"percentage_change\", \"percentage_change\", \"percentage_change\", \"percentage_change\", \"phenomenon\", \"picture\", \"picture\", \"picture\", \"picture\", \"picture\", \"picture\", \"play_useful\", \"play_useful\", \"play_useful\", \"policy_firming\", \"policy_firming\", \"policy_firming\", \"policy_firming\", \"policy_firming\", \"policy_firming\", \"policy_firming\", \"policy_firming\", \"policy_firming\", \"policymaker\", \"policymaker\", \"policymaker\", \"policymaker\", \"policymaker\", \"policymaker\", \"policymaker\", \"policymaker\", \"policymaker\", \"portuguese\", \"portuguese\", \"portuguese\", \"portuguese\", \"pose_considerable\", \"pose_considerable\", \"pose_considerable\", \"pose_considerable\", \"pose_considerable\", \"pose_considerable\", \"pose_considerable\", \"pose_considerable\", \"pose_considerable\", \"possible_modification\", \"possible_modification\", \"possible_modification\", \"possible_modification\", \"postmeete\", \"postmeete\", \"postmeete\", \"postmeete\", \"postmeete\", \"postmeete\", \"postmeete\", \"postmeete\", \"postmeete\", \"potential_drawback\", \"potential_drawback\", \"potential_drawback\", \"potential_drawback\", \"potentially_counterpartie\", \"potentially_counterpartie\", \"potentially_counterpartie\", \"pre_pandemic\", \"pre_pandemic\", \"pre_pandemic\", \"pre_pandemic\", \"pre_pandemic\", \"pre_pandemic\", \"pre_pandemic\", \"pre_pandemic\", \"pre_pandemic\", \"prefer_omit\", \"prescribe\", \"prescribe\", \"previously_announce\", \"previously_announce\", \"previously_announce\", \"previously_announce\", \"previously_announce\", \"previously_announce\", \"previously_announce\", \"previously_announce\", \"previously_announce\", \"prime\", \"prime\", \"prime\", \"prime\", \"prime\", \"prime\", \"prime\", \"prime\", \"prime\", \"principle\", \"principle\", \"principle\", \"principle\", \"principle\", \"principle\", \"principle\", \"principle\", \"principle\", \"prior\", \"prior\", \"prior\", \"prior\", \"prior\", \"prior\", \"prior\", \"prior\", \"prior\", \"prior_notice\", \"prior_notice\", \"prior_notice\", \"prior_notice\", \"prior_notice\", \"prior_notice\", \"prior_notice\", \"prior_notice\", \"prior_notice\", \"progress_vaccination\", \"progress_vaccination\", \"progress_vaccination\", \"progress_vaccination\", \"progress_vaccination\", \"progress_vaccination\", \"progress_vaccination\", \"progress_vaccination\", \"progress_vaccination\", \"project_leveling\", \"project_leveling\", \"project_leveling\", \"project_leveling\", \"project_leveling\", \"project_leveling\", \"project_leveling\", \"promote_equitable\", \"promote_equitable\", \"promote_equitable\", \"promote_equitable\", \"prompt\", \"prompt\", \"prompt\", \"prompt\", \"prompt\", \"prompt\", \"prompt\", \"prompt\", \"prompt\", \"propose\", \"propose\", \"propose\", \"propose\", \"propose\", \"propose\", \"propose\", \"propose\", \"propose\", \"prospect_act\", \"prospect_act\", \"prospect_act\", \"prospect_act\", \"prospect_act\", \"prospect_act\", \"prospect_act\", \"prospect_act\", \"protract_period\", \"protract_period\", \"protract_period\", \"protract_period\", \"protract_period\", \"protract_period\", \"protract_period\", \"protract_period\", \"protract_period\", \"provide_impetus\", \"provide_impetus\", \"provide_impetus\", \"provide_impetus\", \"provide_impetus\", \"provide_impetus\", \"provision\", \"provision\", \"provision\", \"provision\", \"provision\", \"provision\", \"provision\", \"provision\", \"provision\", \"purpose\", \"purpose\", \"purpose\", \"purpose\", \"purpose\", \"purpose\", \"purpose\", \"purpose\", \"purpose\", \"pursuant\", \"pursuant\", \"pursuant\", \"pursuant\", \"pursuant\", \"pursuant\", \"pursuant\", \"pursuant\", \"pursuant\", \"pursuit\", \"pursuit\", \"pursuit\", \"pursuit\", \"pursuit\", \"pursuit\", \"qualitative_language\", \"qualitative_language\", \"qualitative_language\", \"qualitative_language\", \"r\", \"r\", \"r\", \"r\", \"r\", \"r\", \"r\", \"r\", \"r\", \"raise_target\", \"raise_target\", \"raise_target\", \"raise_target\", \"raise_target\", \"raise_target\", \"raise_target\", \"raise_target\", \"raise_target\", \"range_occupy\", \"range_occupy\", \"range_occupy\", \"range_occupy\", \"range_occupy\", \"ratio_book\", \"ratio_book\", \"ratio_book\", \"ratio_book\", \"ratio_book\", \"ratio_book\", \"ratio_book\", \"ratio_book\", \"rationale\", \"rationale\", \"rationale\", \"rationale\", \"rationale\", \"rationale\", \"rationale\", \"rationale\", \"rationale\", \"reaction_function\", \"reaction_function\", \"reaction_function\", \"reaction_function\", \"reaction_function\", \"reaction_function\", \"reaction_function\", \"recalibration\", \"recalibration\", \"recent_week\", \"recent_week\", \"recent_week\", \"recent_week\", \"recent_week\", \"recent_week\", \"recent_week\", \"recent_week\", \"recent_week\", \"recognize\", \"recognize\", \"recognize\", \"recognize\", \"recognize\", \"recognize\", \"recognize\", \"recognize\", \"recognize\", \"recover\", \"recover\", \"recover\", \"recover\", \"recover\", \"recover\", \"recover\", \"recover\", \"recover\", \"referendum\", \"referendum\", \"referendum\", \"referendum\", \"referendum\", \"referendum\", \"referendum\", \"referendum\", \"referendum\", \"regime\", \"regime\", \"regime\", \"regime\", \"regime\", \"regime\", \"regime\", \"regime\", \"regime\", \"reimposition\", \"reinvestment\", \"reinvestment\", \"reinvestment\", \"reinvestment\", \"reinvestment\", \"reinvestment\", \"reinvestment\", \"reinvestment\", \"reinvestment\", \"remainder\", \"remainder\", \"remainder\", \"remainder\", \"remainder\", \"remainder\", \"remainder\", \"remainder\", \"remainder\", \"remark\", \"remark\", \"remark\", \"remark\", \"remark\", \"remark\", \"remark\", \"remark\", \"remark\", \"repo\", \"repo\", \"repo\", \"repo\", \"repo\", \"repo\", \"repo\", \"repo\", \"repo\", \"representative\", \"representative\", \"representative\", \"representative\", \"representative\", \"representative\", \"representative\", \"require_excess\", \"require_excess\", \"require_excess\", \"require_excess\", \"require_excess\", \"require_excess\", \"require_excess\", \"require_excess\", \"require_excess\", \"reserve_drain\", \"reserve_drain\", \"reserve_drain\", \"reserve_drain\", \"reserve_drain\", \"reserve_drain\", \"reserve_drain\", \"reserve_drain\", \"reserve_drain\", \"respect_Foreign\", \"respect_Foreign\", \"respect_Foreign\", \"respect_Foreign\", \"respect_Foreign\", \"respect_Foreign\", \"respect_Foreign\", \"respect_Foreign\", \"respect_Foreign\", \"respectively_Edward\", \"respectively_Edward\", \"respectively_Edward\", \"respectively_Edward\", \"respectively_Robert\", \"respectively_Robert\", \"respectively_Robert\", \"respectively_Robert\", \"respectively_Robert\", \"respectively_Robert\", \"respectively_Robert\", \"restraint\", \"restraint\", \"restraint\", \"restraint\", \"restraint\", \"restraint\", \"restraint\", \"restraint\", \"restraint\", \"retention_rule\", \"retention_rule\", \"retention_rule\", \"retiree\", \"retiree\", \"retiree\", \"reverse_repo\", \"reverse_repo\", \"reverse_repo\", \"reverse_repo\", \"reverse_repo\", \"reverse_repo\", \"reverse_repo\", \"reverse_repo\", \"reverse_repo\", \"robust_pace\", \"robust_pace\", \"robust_pace\", \"robust_pace\", \"robust_pace\", \"robust_pace\", \"robust_pace\", \"robust_pace\", \"robust_pace\", \"role\", \"role\", \"role\", \"role\", \"role\", \"role\", \"role\", \"role\", \"role\", \"roll_coupon\", \"roll_coupon\", \"roll_coupon\", \"roll_coupon\", \"roll_coupon\", \"roll_coupon\", \"roll_coupon\", \"roll_coupon\", \"roll_coupon\", \"rough_measure\", \"rough_measure\", \"rough_measure\", \"rough_measure\", \"rough_measure\", \"rough_measure\", \"rough_measure\", \"roughly_counterbalance\", \"roughly_counterbalance\", \"roughly_counterbalance\", \"roughly_counterbalance\", \"rre\", \"rre\", \"rre\", \"rre\", \"rre\", \"rre\", \"rre_loan\", \"rre_loan\", \"rre_loan\", \"rre_loan\", \"rre_loan\", \"rre_loan\", \"run_normal\", \"run_normal\", \"run_normal\", \"run_normal\", \"run_normal\", \"run_normal\", \"run_normal\", \"run_normal\", \"run_normal\", \"run_r\", \"run_r\", \"run_r\", \"run_r\", \"run_r\", \"run_r\", \"run_r\", \"russian\", \"russian\", \"russian\", \"russian\", \"russian\", \"russian\", \"russian\", \"russian\", \"russian\", \"russian_invasion\", \"russian_invasion\", \"russian_invasion\", \"russian_invasion\", \"russian_invasion\", \"russian_invasion\", \"russian_invasion\", \"russian_invasion\", \"saving\", \"saving\", \"saving\", \"saving\", \"saving\", \"saving\", \"saving\", \"saving\", \"saving\", \"scale\", \"scale\", \"scale\", \"scale\", \"scale\", \"scale\", \"scale\", \"scale\", \"scale\", \"sector_adversely\", \"sector_adversely\", \"sector_adversely\", \"sector_adversely\", \"sector_adversely\", \"sector_adversely\", \"sector_adversely\", \"sector_adversely\", \"sector_adversely\", \"secured_unsecured\", \"securitize_pool\", \"securitize_pool\", \"securitize_pool\", \"securitize_pool\", \"see_onset\", \"see_onset\", \"see_onset\", \"see_onset\", \"see_onset\", \"see_onset\", \"see_onset\", \"see_onset\", \"see_onset\", \"select\", \"select\", \"select\", \"select\", \"select\", \"select\", \"select\", \"select\", \"select\", \"sell\", \"sell\", \"sell\", \"sell\", \"sell\", \"sell\", \"sell\", \"sell\", \"sell\", \"sentence_indicate\", \"sentence_indicate\", \"sentence_indicate\", \"sentence_indicate\", \"sentence_indicate\", \"serve\", \"serve\", \"serve\", \"serve\", \"serve\", \"serve\", \"serve\", \"serve\", \"serve\", \"severely_disrupt\", \"severely_disrupt\", \"severely_disrupt\", \"severely_disrupt\", \"severely_disrupt\", \"severely_disrupt\", \"severely_disrupt\", \"severely_disrupt\", \"shall\", \"shall\", \"shall\", \"shall\", \"shall\", \"shall\", \"shall\", \"shall\", \"shall\", \"shortage\", \"shortage\", \"shortage\", \"shortage\", \"shortage\", \"shortage\", \"shortage\", \"shortage\", \"shortage\", \"significant_underutilization\", \"significant_underutilization\", \"significant_underutilization\", \"significant_underutilization\", \"significant_underutilization\", \"significant_underutilization\", \"significantly_course\", \"significantly_course\", \"significantly_course\", \"significantly_course\", \"significantly_course\", \"significantly_course\", \"significantly_course\", \"significantly_course\", \"significantly_course\", \"simple\", \"simple\", \"simple\", \"simple\", \"simple\", \"simple\", \"simple\", \"simple\", \"simple\", \"situation_peripheral\", \"situation_peripheral\", \"situation_peripheral\", \"sizable_undershooting\", \"sizable_undershooting\", \"sizable_undershooting\", \"skilled\", \"skilled\", \"skilled\", \"skilled\", \"skilled\", \"skilled\", \"skilled\", \"skilled\", \"skilled\", \"snowstorm\", \"snowstorm\", \"snowy\", \"soften\", \"soften\", \"soften\", \"soften\", \"soften\", \"soften\", \"soften\", \"soften\", \"soften\", \"softening\", \"softening\", \"softening\", \"softening\", \"softening\", \"softening\", \"softening\", \"softening\", \"softening\", \"spread_Delta\", \"spread_Delta\", \"spread_Delta\", \"spread_Delta\", \"spread_Delta\", \"spread_Delta\", \"spread_Delta\", \"spring_roll\", \"spring_roll\", \"spring_roll\", \"spring_roll\", \"stability_promote\", \"stand\", \"stand\", \"stand\", \"stand\", \"stand\", \"stand\", \"stand\", \"stand\", \"stand\", \"stimulus\", \"stimulus\", \"stimulus\", \"stimulus\", \"stimulus\", \"stimulus\", \"stimulus\", \"stimulus\", \"stimulus\", \"strategy\", \"strategy\", \"strategy\", \"strategy\", \"strategy\", \"strategy\", \"strategy\", \"strategy\", \"strategy\", \"subject\", \"subject\", \"subject\", \"subject\", \"subject\", \"subject\", \"subject\", \"subject\", \"subject\", \"subject_reasonable\", \"subject_reasonable\", \"subject_reasonable\", \"subject_reasonable\", \"subject_reasonable\", \"subject_reasonable\", \"subject_reasonable\", \"subject_reasonable\", \"subject_reasonable\", \"substantial_adverse\", \"substantial_adverse\", \"substantial_adverse\", \"substantial_adverse\", \"substantial_adverse\", \"substantial_adverse\", \"substantial_adverse\", \"substantial_adverse\", \"substantial_adverse\", \"substantial_progress\", \"substantial_progress\", \"substantial_progress\", \"substantial_progress\", \"substantial_progress\", \"substantial_progress\", \"substantial_progress\", \"substantial_progress\", \"substantial_progress\", \"sufficient_underlying\", \"sufficient_underlying\", \"sufficient_underlying\", \"sufficient_underlying\", \"sufficient_underlying\", \"sufficient_underlying\", \"sufficient_underlying\", \"sufficiently\", \"sufficiently\", \"sufficiently\", \"sufficiently\", \"sufficiently\", \"sufficiently\", \"sufficiently\", \"sufficiently\", \"sufficiently\", \"summer\", \"summer\", \"summer\", \"summer\", \"summer\", \"summer\", \"summer\", \"summer\", \"summer\", \"supply_bottleneck\", \"supply_bottleneck\", \"supply_bottleneck\", \"supply_bottleneck\", \"supply_bottleneck\", \"supply_bottleneck\", \"supply_bottleneck\", \"supply_bottleneck\", \"supply_bottleneck\", \"supply_chain\", \"supply_chain\", \"supply_chain\", \"supply_chain\", \"supply_chain\", \"supply_chain\", \"supply_chain\", \"supply_chain\", \"supply_chain\", \"supportive\", \"supportive\", \"supportive\", \"supportive\", \"supportive\", \"supportive\", \"supportive\", \"supportive\", \"supportive\", \"surge\", \"surge\", \"surge\", \"surge\", \"surge\", \"surge\", \"surge\", \"surge\", \"surge\", \"suspend_temporarily\", \"suspend_temporarily\", \"sustained\", \"sustained\", \"sustained\", \"sustained\", \"sustained\", \"sustained\", \"sustained\", \"sustained\", \"sustained\", \"swap_OIS\", \"swap_OIS\", \"swap_OIS\", \"swap_OIS\", \"swap_OIS\", \"swap_OIS\", \"swap_OIS\", \"swap_OIS\", \"swap_OIS\", \"swap_arrangement\", \"swap_arrangement\", \"swap_arrangement\", \"swap_arrangement\", \"swap_arrangement\", \"swap_arrangement\", \"swap_arrangement\", \"swap_arrangement\", \"swap_arrangement\", \"swap_transaction\", \"swap_transaction\", \"swap_transaction\", \"swap_transaction\", \"swap_transaction\", \"swap_transaction\", \"swap_transaction\", \"swap_transaction\", \"swap_transaction\", \"symmetric\", \"symmetric\", \"symmetric\", \"symmetric\", \"symmetric\", \"symmetric\", \"symmetric\", \"symmetric\", \"symmetric\", \"tapering\", \"tapering\", \"tapering\", \"tapering\", \"tapering\", \"tapering\", \"tapering\", \"tapering\", \"tapering\", \"targeted\", \"targeted\", \"targeted\", \"targeted\", \"targeted\", \"targeted\", \"targeted\", \"technical\", \"technical\", \"technical\", \"technical\", \"technical\", \"technical\", \"technical\", \"technical\", \"technical\", \"temper_stable\", \"term_premium\", \"term_premium\", \"term_premium\", \"term_premium\", \"term_premium\", \"term_premium\", \"term_premium\", \"term_premium\", \"term_premium\", \"testing\", \"testing\", \"testing\", \"testing\", \"testing\", \"testing\", \"testing\", \"testing\", \"testing\", \"third\", \"third\", \"third\", \"threshold\", \"threshold\", \"threshold\", \"threshold\", \"threshold\", \"threshold\", \"threshold\", \"threshold\", \"threshold\", \"threshold_confuse\", \"tight_credit\", \"tight_credit\", \"tight_credit\", \"tight_credit\", \"tight_credit\", \"tight_credit\", \"tight_credit\", \"tight_credit\", \"tight_credit\", \"trade_dispute\", \"trade_dispute\", \"trading_convention\", \"trading_convention\", \"trading_convention\", \"trading_convention\", \"trading_convention\", \"trading_convention\", \"trading_convention\", \"trading_convention\", \"trading_convention\", \"traditionally\", \"traditionally\", \"traditionally\", \"traditionally\", \"traditionally\", \"traditionally\", \"transformation\", \"transformation\", \"transformation\", \"transformation\", \"transformation\", \"transformation\", \"transformation\", \"transformation\", \"transformation\", \"tremendous\", \"tremendous\", \"tremendous\", \"tremendous\", \"tremendous\", \"tremendous\", \"tremendous\", \"tremendous\", \"tremendous\", \"trend_construction\", \"trend_construction\", \"trend_construction\", \"trend_construction\", \"trend_construction\", \"trend_construction\", \"trend_construction\", \"trend_construction\", \"trend_construction\", \"trillion\", \"trillion\", \"trillion\", \"trillion\", \"trillion\", \"trillion\", \"trillion\", \"trillion\", \"trillion\", \"tsunami\", \"tsunami\", \"tsunami\", \"tsunami\", \"underlying\", \"underlying\", \"underlying\", \"underlying\", \"underlying\", \"underlying\", \"underlying\", \"underlying\", \"underlying\", \"undershooting\", \"undershooting\", \"undershooting\", \"undershooting\", \"undershooting\", \"undershooting\", \"undershooting\", \"undershooting\", \"undershooting\", \"underutilization\", \"underutilization\", \"underutilization\", \"underutilization\", \"underutilization\", \"underutilization\", \"underutilization\", \"underutilization\", \"underutilization\", \"upcoming\", \"upcoming\", \"upcoming\", \"upcoming\", \"upcoming\", \"upcoming\", \"upcoming\", \"upcoming\", \"upcoming\", \"upside_risk\", \"upside_risk\", \"upside_risk\", \"upside_risk\", \"upside_risk\", \"upside_risk\", \"upside_risk\", \"upside_risk\", \"upside_risk\", \"upwards\", \"upwards\", \"upwards\", \"usage\", \"usage\", \"usage\", \"usage\", \"usage\", \"usage\", \"usage\", \"usage\", \"usage\", \"vaccination\", \"vaccination\", \"vaccination\", \"vaccination\", \"vaccination\", \"vaccination\", \"vaccination\", \"vaccination\", \"vaccination\", \"variant\", \"variant\", \"variant\", \"variant\", \"variant\", \"variant\", \"variant\", \"variant\", \"variant\", \"virus\", \"virus\", \"virus\", \"virus\", \"virus\", \"virus\", \"virus\", \"virus\", \"virus\", \"volatility_spike\", \"volatility_spike\", \"volatility_spike\", \"volatility_spike\", \"vulnerability\", \"vulnerability\", \"vulnerability\", \"vulnerability\", \"vulnerability\", \"vulnerability\", \"vulnerability\", \"vulnerability\", \"vulnerability\", \"warm_weather\", \"warm_weather\", \"warm_weather\", \"warm_weather\", \"warm_weather\", \"warm_weather\", \"warm_weather\", \"warn\", \"warn\", \"warn\", \"warn\", \"warn\", \"warrant_exceptionally\", \"warrant_keep\", \"warrant_keep\", \"warrant_keep\", \"warrant_keep\", \"warrant_keep\", \"warrant_keep\", \"warrant_keep\", \"warrant_keep\", \"warrant_keep\", \"wealth\", \"wealth\", \"wealth\", \"wealth\", \"wealth\", \"wealth\", \"wealth\", \"wealth\", \"wealth\", \"wear_environment\", \"wear_environment\", \"wear_environment\", \"weather\", \"weather\", \"weather\", \"weather\", \"weather\", \"weather\", \"weather\", \"weather\", \"weather\", \"weekly_estimate\", \"weekly_estimate\", \"weekly_estimate\", \"weekly_estimate\", \"weekly_estimate\", \"weekly_estimate\", \"weekly_estimate\", \"weekly_estimate\", \"weekly_estimate\", \"wholly\", \"wide_array\", \"wide_array\", \"widespread_vaccination\", \"widespread_vaccination\", \"widespread_vaccination\", \"widespread_vaccination\", \"widespread_vaccination\", \"widespread_vaccination\", \"widespread_vaccination\", \"winter_month\", \"winter_month\", \"winter_month\", \"winter_month\", \"winter_month\", \"winter_month\", \"winter_month\", \"winter_month\", \"wording\", \"wording\", \"wording\", \"wording\", \"wording\", \"wording\", \"wording\", \"wording\", \"wording\", \"world\", \"world\", \"world\", \"world\", \"world\", \"world\", \"world\", \"world\", \"world\"]}, \"R\": 30, \"lambda.step\": 0.01, \"plot.opts\": {\"xlab\": \"PC1\", \"ylab\": \"PC2\"}, \"topic.order\": [7, 1, 4, 2, 9, 3, 5, 8, 6]};\n",
       "\n",
       "function LDAvis_load_lib(url, callback){\n",
       "  var s = document.createElement('script');\n",
       "  s.src = url;\n",
       "  s.async = true;\n",
       "  s.onreadystatechange = s.onload = callback;\n",
       "  s.onerror = function(){console.warn(\"failed to load library \" + url);};\n",
       "  document.getElementsByTagName(\"head\")[0].appendChild(s);\n",
       "}\n",
       "\n",
       "if(typeof(LDAvis) !== \"undefined\"){\n",
       "   // already loaded: just create the visualization\n",
       "   !function(LDAvis){\n",
       "       new LDAvis(\"#\" + \"ldavis_el8681405760898199527367405008\", ldavis_el8681405760898199527367405008_data);\n",
       "   }(LDAvis);\n",
       "}else if(typeof define === \"function\" && define.amd){\n",
       "   // require.js is available: use it to load d3/LDAvis\n",
       "   require.config({paths: {d3: \"https://d3js.org/d3.v5\"}});\n",
       "   require([\"d3\"], function(d3){\n",
       "      window.d3 = d3;\n",
       "      LDAvis_load_lib(\"https://cdn.jsdelivr.net/gh/bmabey/pyLDAvis@3.4.0/pyLDAvis/js/ldavis.v3.0.0.js\", function(){\n",
       "        new LDAvis(\"#\" + \"ldavis_el8681405760898199527367405008\", ldavis_el8681405760898199527367405008_data);\n",
       "      });\n",
       "    });\n",
       "}else{\n",
       "    // require.js not available: dynamically load d3 & LDAvis\n",
       "    LDAvis_load_lib(\"https://d3js.org/d3.v5.js\", function(){\n",
       "         LDAvis_load_lib(\"https://cdn.jsdelivr.net/gh/bmabey/pyLDAvis@3.4.0/pyLDAvis/js/ldavis.v3.0.0.js\", function(){\n",
       "                 new LDAvis(\"#\" + \"ldavis_el8681405760898199527367405008\", ldavis_el8681405760898199527367405008_data);\n",
       "            })\n",
       "         });\n",
       "}\n",
       "</script>"
      ],
      "text/plain": [
       "<IPython.core.display.HTML object>"
      ]
     },
     "execution_count": 26,
     "metadata": {},
     "output_type": "execute_result"
    }
   ],
   "source": [
    "%matplotlib inline\n",
    "# Visualize the topics\n",
    "pyLDAvis.enable_notebook()\n",
    "vis = pyLDAvis.gensim.prepare(lda_model_simple, corpus, dictionary)\n",
    "pyLDAvis.display(vis)"
   ]
  },
  {
   "cell_type": "code",
   "execution_count": 27,
   "id": "ed19d7e4",
   "metadata": {},
   "outputs": [],
   "source": [
    "# Output LDA chart to html file\n",
    "#pyLDAvis.save_html(vis, 'LDA_output.html')"
   ]
  },
  {
   "cell_type": "markdown",
   "id": "f7d35e6d",
   "metadata": {},
   "source": [
    "# 1d.  LDA Evaluation Metrics - Coherence"
   ]
  },
  {
   "cell_type": "code",
   "execution_count": 28,
   "id": "c6321c87",
   "metadata": {},
   "outputs": [
    {
     "name": "stdout",
     "output_type": "stream",
     "text": [
      "\n",
      "Coherence Score_CV:  0.4471308292102647\n"
     ]
    }
   ],
   "source": [
    "# Compute Coherence Score - CV\n",
    "\n",
    "# Set up CoherenceModel\n",
    "coherence_model_lda_cv = CoherenceModel(model=lda_model_simple, texts=texts, dictionary=dictionary, coherence='c_v')\n",
    "\n",
    "# Get Coherence Score\n",
    "coherence_lda_cv = coherence_model_lda_cv.get_coherence()\n",
    "print('\\nCoherence Score_CV: ', coherence_lda_cv)"
   ]
  },
  {
   "cell_type": "code",
   "execution_count": 29,
   "id": "5ba39320",
   "metadata": {},
   "outputs": [],
   "source": [
    "# Set start, end and sensitivity values for charts\n",
    "start_val = 1\n",
    "end_val = 20\n",
    "step_val = 1"
   ]
  },
  {
   "cell_type": "markdown",
   "id": "f67f50ee",
   "metadata": {},
   "source": [
    "# 1d.  LDA Evaluation - Coherence Score sensitivities"
   ]
  },
  {
   "cell_type": "code",
   "execution_count": 30,
   "id": "087a0406",
   "metadata": {},
   "outputs": [
    {
     "name": "stderr",
     "output_type": "stream",
     "text": [
      "WARNING:gensim.models.ldamodel:too few updates, training might not converge; consider increasing the number of passes or iterations to improve accuracy\n",
      "WARNING:gensim.models.ldamodel:too few updates, training might not converge; consider increasing the number of passes or iterations to improve accuracy\n",
      "WARNING:gensim.models.ldamodel:too few updates, training might not converge; consider increasing the number of passes or iterations to improve accuracy\n",
      "WARNING:gensim.models.ldamodel:too few updates, training might not converge; consider increasing the number of passes or iterations to improve accuracy\n",
      "WARNING:gensim.models.ldamodel:too few updates, training might not converge; consider increasing the number of passes or iterations to improve accuracy\n",
      "WARNING:gensim.models.ldamodel:too few updates, training might not converge; consider increasing the number of passes or iterations to improve accuracy\n",
      "WARNING:gensim.models.ldamodel:too few updates, training might not converge; consider increasing the number of passes or iterations to improve accuracy\n",
      "WARNING:gensim.models.ldamodel:too few updates, training might not converge; consider increasing the number of passes or iterations to improve accuracy\n",
      "WARNING:gensim.models.ldamodel:too few updates, training might not converge; consider increasing the number of passes or iterations to improve accuracy\n",
      "WARNING:gensim.models.ldamodel:too few updates, training might not converge; consider increasing the number of passes or iterations to improve accuracy\n",
      "WARNING:gensim.models.ldamodel:too few updates, training might not converge; consider increasing the number of passes or iterations to improve accuracy\n",
      "WARNING:gensim.models.ldamodel:too few updates, training might not converge; consider increasing the number of passes or iterations to improve accuracy\n",
      "WARNING:gensim.models.ldamodel:too few updates, training might not converge; consider increasing the number of passes or iterations to improve accuracy\n",
      "WARNING:gensim.models.ldamodel:too few updates, training might not converge; consider increasing the number of passes or iterations to improve accuracy\n",
      "WARNING:gensim.models.ldamodel:too few updates, training might not converge; consider increasing the number of passes or iterations to improve accuracy\n",
      "WARNING:gensim.models.ldamodel:too few updates, training might not converge; consider increasing the number of passes or iterations to improve accuracy\n",
      "WARNING:gensim.models.ldamodel:too few updates, training might not converge; consider increasing the number of passes or iterations to improve accuracy\n",
      "WARNING:gensim.models.ldamodel:too few updates, training might not converge; consider increasing the number of passes or iterations to improve accuracy\n",
      "WARNING:gensim.models.ldamodel:too few updates, training might not converge; consider increasing the number of passes or iterations to improve accuracy\n"
     ]
    }
   ],
   "source": [
    "# Calculate Coherence Scores for range of #s of topics\n",
    "\n",
    "cv_score = []\n",
    "for i in range(start_val,end_val,step_val):\n",
    "    lda_model_cv_sens = models.LdaModel(corpus, id2word=dictionary, num_topics=i, passes=3)\n",
    "    coherence_model_lda_cv = CoherenceModel(model=lda_model_cv_sens, texts=texts,corpus=corpus, dictionary=dictionary, coherence='c_v')\n",
    "    coherence_lda_cv = coherence_model_lda_cv.get_coherence()\n",
    "    cv_score.append(coherence_lda_cv)\n",
    "#cv_score"
   ]
  },
  {
   "cell_type": "markdown",
   "id": "8b8a4880",
   "metadata": {},
   "source": [
    "# 1d.  LDA Evaluation - Coherence Score Chart"
   ]
  },
  {
   "cell_type": "code",
   "execution_count": 31,
   "id": "59841979",
   "metadata": {},
   "outputs": [
    {
     "data": {
      "text/plain": [
       "<matplotlib.legend.Legend at 0x7fd9d35a2a30>"
      ]
     },
     "execution_count": 31,
     "metadata": {},
     "output_type": "execute_result"
    },
    {
     "data": {
      "image/png": "[encoded data removed]",
      "text/plain": [
       "<Figure size 600x300 with 1 Axes>"
      ]
     },
     "metadata": {},
     "output_type": "display_data"
    }
   ],
   "source": [
    "# Create chart of coherence value scores for different number of topics\n",
    "\n",
    "# Create figure\n",
    "plt.figure(figsize=(6,3))\n",
    "\n",
    "# Create a custom x-axis\n",
    "x = range(start_val, end_val, step_val)\n",
    "\n",
    "# Build the line plot\n",
    "ax = sns.lineplot(x=x, y=cv_score, color='#238C8C')\n",
    "\n",
    "# Set titles and labels\n",
    "plt.title(\"Best Number of Topics for LDA Model\")\n",
    "plt.xlabel(\"Num Topics\")\n",
    "plt.ylabel(\"Coherence score\")\n",
    "plt.xlim(start_val, end_val)\n",
    "plt.xticks(range(start_val, end_val, step_val))\n",
    "\n",
    "# Add a vertical line to show the optimum number of topics\n",
    "plt.axvline(x[np.argmax(cv_score)],\n",
    "            color='#F26457', linestyle='--')\n",
    "\n",
    "# Draw a custom legend\n",
    "legend_elements = [Line2D([0], [0], color='#238C8C',\n",
    "                          ls='-', label='Coherence Value (c_v)'),\n",
    "                   Line2D([0], [1], color='#F26457',\n",
    "                          ls='--', label='Optimal Number of Topics')]\n",
    "\n",
    "# Add legend\n",
    "ax.legend(handles=legend_elements, loc='upper right')"
   ]
  },
  {
   "cell_type": "markdown",
   "id": "c43d1e4f",
   "metadata": {},
   "source": [
    "# 1d.  Coherence Scores for LDA - U_mass metric"
   ]
  },
  {
   "cell_type": "code",
   "execution_count": 32,
   "id": "0b136816",
   "metadata": {},
   "outputs": [
    {
     "name": "stdout",
     "output_type": "stream",
     "text": [
      "\n",
      "Coherence Score_UMass:  -0.9500333668749751\n"
     ]
    }
   ],
   "source": [
    "# Compute Coherence Score --- U mass\n",
    "\n",
    "# Create CoherenceModel\n",
    "coherence_model_lda_umass = CoherenceModel(model=lda_model_simple, corpus=corpus, dictionary=dictionary, coherence='u_mass')\n",
    "\n",
    "# Get coherence score\n",
    "coherence_lda_umass = coherence_model_lda_umass.get_coherence()\n",
    "print('\\nCoherence Score_UMass: ', coherence_lda_umass)"
   ]
  },
  {
   "cell_type": "markdown",
   "id": "890c507a",
   "metadata": {},
   "source": [
    "# 1d.  LDA Coherence Score - Calculate Umass sensitivity scores"
   ]
  },
  {
   "cell_type": "code",
   "execution_count": 33,
   "id": "87bc97aa",
   "metadata": {},
   "outputs": [
    {
     "name": "stderr",
     "output_type": "stream",
     "text": [
      "WARNING:gensim.models.ldamodel:too few updates, training might not converge; consider increasing the number of passes or iterations to improve accuracy\n",
      "WARNING:gensim.models.ldamodel:too few updates, training might not converge; consider increasing the number of passes or iterations to improve accuracy\n",
      "WARNING:gensim.models.ldamodel:too few updates, training might not converge; consider increasing the number of passes or iterations to improve accuracy\n",
      "WARNING:gensim.models.ldamodel:too few updates, training might not converge; consider increasing the number of passes or iterations to improve accuracy\n",
      "WARNING:gensim.models.ldamodel:too few updates, training might not converge; consider increasing the number of passes or iterations to improve accuracy\n",
      "WARNING:gensim.models.ldamodel:too few updates, training might not converge; consider increasing the number of passes or iterations to improve accuracy\n",
      "WARNING:gensim.models.ldamodel:too few updates, training might not converge; consider increasing the number of passes or iterations to improve accuracy\n",
      "WARNING:gensim.models.ldamodel:too few updates, training might not converge; consider increasing the number of passes or iterations to improve accuracy\n",
      "WARNING:gensim.models.ldamodel:too few updates, training might not converge; consider increasing the number of passes or iterations to improve accuracy\n",
      "WARNING:gensim.models.ldamodel:too few updates, training might not converge; consider increasing the number of passes or iterations to improve accuracy\n",
      "WARNING:gensim.models.ldamodel:too few updates, training might not converge; consider increasing the number of passes or iterations to improve accuracy\n",
      "WARNING:gensim.models.ldamodel:too few updates, training might not converge; consider increasing the number of passes or iterations to improve accuracy\n",
      "WARNING:gensim.models.ldamodel:too few updates, training might not converge; consider increasing the number of passes or iterations to improve accuracy\n",
      "WARNING:gensim.models.ldamodel:too few updates, training might not converge; consider increasing the number of passes or iterations to improve accuracy\n",
      "WARNING:gensim.models.ldamodel:too few updates, training might not converge; consider increasing the number of passes or iterations to improve accuracy\n",
      "WARNING:gensim.models.ldamodel:too few updates, training might not converge; consider increasing the number of passes or iterations to improve accuracy\n",
      "WARNING:gensim.models.ldamodel:too few updates, training might not converge; consider increasing the number of passes or iterations to improve accuracy\n",
      "WARNING:gensim.models.ldamodel:too few updates, training might not converge; consider increasing the number of passes or iterations to improve accuracy\n",
      "WARNING:gensim.models.ldamodel:too few updates, training might not converge; consider increasing the number of passes or iterations to improve accuracy\n"
     ]
    }
   ],
   "source": [
    "coh_score = []\n",
    "for i in range(start_val,end_val,step_val):\n",
    "    lda_model_sense = models.LdaModel(corpus, id2word=dictionary, num_topics=i, passes=1)\n",
    "    #coherence_model_lda_umass = CoherenceModel(model=lda_model_sense, texts=mins_dataset['tokenised_data'], dictionary=dictionary, coherence='u_mass')\n",
    "    coherence_model_lda_umass = CoherenceModel(model=lda_model_sense, corpus=corpus,dictionary=dictionary, coherence='u_mass')\n",
    "    \n",
    "    coherence_lda_umass = coherence_model_lda_umass.get_coherence()\n",
    "    coh_score.append(coherence_lda_umass)\n",
    "#coh_score"
   ]
  },
  {
   "cell_type": "markdown",
   "id": "76fe82f9",
   "metadata": {},
   "source": [
    "# 1d.  LDA Coherence Scores - Show Chart For Umass scores"
   ]
  },
  {
   "cell_type": "code",
   "execution_count": 34,
   "id": "6e742ad6",
   "metadata": {},
   "outputs": [
    {
     "data": {
      "text/plain": [
       "<matplotlib.legend.Legend at 0x7fd9d3168220>"
      ]
     },
     "execution_count": 34,
     "metadata": {},
     "output_type": "execute_result"
    },
    {
     "data": {
      "image/png": "[encoded data removed]",
      "text/plain": [
       "<Figure size 600x300 with 1 Axes>"
      ]
     },
     "metadata": {},
     "output_type": "display_data"
    }
   ],
   "source": [
    "# Create chart showing Umass scores for different number of topics\n",
    "\n",
    "# Create chart figure\n",
    "plt.figure(figsize=(6,3))\n",
    "\n",
    "# Create a custom x-axis\n",
    "x = range(start_val, end_val, step_val)\n",
    "\n",
    "# Build the line plot\n",
    "ax = sns.lineplot(x=x, y=coh_score, color='#238C8C')\n",
    "\n",
    "# Set titles and labels\n",
    "plt.title(\"Best Number of Topics for LDA Model\")\n",
    "plt.xlabel(\"Num Topics\")\n",
    "plt.ylabel(\"Umass score\")\n",
    "plt.xlim(start_val, end_val)\n",
    "plt.xticks(range(start_val, end_val, step_val))\n",
    "\n",
    "# Add a vertical line to show the optimum number of topics\n",
    "plt.axvline(x[np.argmax(coh_score)],\n",
    "            color='#F26457', linestyle='--')\n",
    "\n",
    "# Draw a custom legend\n",
    "legend_elements = [Line2D([0], [0], color='#238C8C',\n",
    "                          ls='-', label='Umass score'),\n",
    "                   Line2D([0], [1], color='#F26457',\n",
    "                          ls='--', label='Optimal Number of Topics')]\n",
    "\n",
    "# Show legend\n",
    "ax.legend(handles=legend_elements, loc='upper right')"
   ]
  },
  {
   "cell_type": "markdown",
   "id": "cbfff243",
   "metadata": {},
   "source": [
    "# 1d.  LDA Coherence Score - UCI"
   ]
  },
  {
   "cell_type": "code",
   "execution_count": 35,
   "id": "46dd02b6",
   "metadata": {},
   "outputs": [
    {
     "name": "stdout",
     "output_type": "stream",
     "text": [
      "\n",
      "Coherence Score_UCI:  -10.043783759741364\n"
     ]
    }
   ],
   "source": [
    "# Compute Coherence Score --- UCI\n",
    "coherence_model_lda_uci = CoherenceModel(model=lda_model_simple, texts=texts, dictionary=dictionary, coherence='c_uci')\n",
    "coherence_lda_uci = coherence_model_lda_uci.get_coherence()\n",
    "print('\\nCoherence Score_UCI: ', coherence_lda_uci)"
   ]
  },
  {
   "cell_type": "markdown",
   "id": "3b78463d",
   "metadata": {},
   "source": [
    "# 1d.  LDA Coherence Score - Perplexity"
   ]
  },
  {
   "cell_type": "code",
   "execution_count": 36,
   "id": "26a2cf45",
   "metadata": {},
   "outputs": [
    {
     "name": "stdout",
     "output_type": "stream",
     "text": [
      "\n",
      "Perspexity Score:  -9.343782875102166\n"
     ]
    }
   ],
   "source": [
    "# Calculate perplexity\n",
    "perplexity = lda_model_simple.log_perplexity(corpus)\n",
    "print('\\nPerspexity Score: ', perplexity) # Lower is better"
   ]
  },
  {
   "cell_type": "markdown",
   "id": "22b2f58e",
   "metadata": {},
   "source": [
    "# 1d.  LDA  - Calculate what % each doc contains of each topic (the vectors)"
   ]
  },
  {
   "cell_type": "code",
   "execution_count": 37,
   "id": "5771b986",
   "metadata": {},
   "outputs": [],
   "source": [
    "fomc_top2vec_mins = mins_dataset['Federal_Reserve_Mins']"
   ]
  },
  {
   "cell_type": "code",
   "execution_count": 38,
   "id": "8dca1c6b",
   "metadata": {},
   "outputs": [],
   "source": [
    "# Create list for each doc showing what % of each topic that doc contains\n",
    "top_vecs_train_mins = []\n",
    "for i in range(len(fomc_top2vec_mins)):\n",
    "    doc_topics = lda_model_simple.get_document_topics(corpus[i],minimum_probability=0.0)\n",
    "    doc_top_vec = [doc_topics[num][1] for num in range(9)]\n",
    "    top_vecs_train_mins.append(doc_top_vec)"
   ]
  },
  {
   "cell_type": "code",
   "execution_count": 39,
   "id": "98061305",
   "metadata": {},
   "outputs": [
    {
     "name": "stdout",
     "output_type": "stream",
     "text": [
      "123\n"
     ]
    }
   ],
   "source": [
    "# Show length of vectors list\n",
    "print(len(top_vecs_train_mins))"
   ]
  },
  {
   "cell_type": "code",
   "execution_count": 40,
   "id": "b424d2ab",
   "metadata": {},
   "outputs": [
    {
     "data": {
      "text/plain": [
       "[0.63711977,\n",
       " 0.00011907536,\n",
       " 0.034395143,\n",
       " 0.13411573,\n",
       " 0.16939348,\n",
       " 0.000119071374,\n",
       " 0.00073811505,\n",
       " 0.02388054,\n",
       " 0.00011908025]"
      ]
     },
     "execution_count": 40,
     "metadata": {},
     "output_type": "execute_result"
    }
   ],
   "source": [
    "# For most recent doc (the last one in the list), show what % is related to a given topic\n",
    "top_vecs_train_mins[1]\n",
    "\n",
    "# Check data type\n",
    "#print(type(top_vecs_train_mins))"
   ]
  },
  {
   "cell_type": "markdown",
   "id": "361eb193",
   "metadata": {},
   "source": [
    "# 1d.  Create separate mini df w LDA vectors"
   ]
  },
  {
   "cell_type": "code",
   "execution_count": 41,
   "id": "3858d7f7",
   "metadata": {},
   "outputs": [
    {
     "data": {
      "text/html": [
       "<div>\n",
       "<style scoped>\n",
       "    .dataframe tbody tr th:only-of-type {\n",
       "        vertical-align: middle;\n",
       "    }\n",
       "\n",
       "    .dataframe tbody tr th {\n",
       "        vertical-align: top;\n",
       "    }\n",
       "\n",
       "    .dataframe thead th {\n",
       "        text-align: right;\n",
       "    }\n",
       "</style>\n",
       "<table border=\"1\" class=\"dataframe\">\n",
       "  <thead>\n",
       "    <tr style=\"text-align: right;\">\n",
       "      <th></th>\n",
       "      <th>LDA_1</th>\n",
       "      <th>LDA_2</th>\n",
       "      <th>LDA_3</th>\n",
       "      <th>LDA_4</th>\n",
       "      <th>LDA_5</th>\n",
       "      <th>LDA_6</th>\n",
       "      <th>LDA_7</th>\n",
       "      <th>LDA_8</th>\n",
       "      <th>LDA_9</th>\n",
       "      <th>LDA_max_value</th>\n",
       "    </tr>\n",
       "  </thead>\n",
       "  <tbody>\n",
       "    <tr>\n",
       "      <th>2008-01-30</th>\n",
       "      <td>0.376015</td>\n",
       "      <td>0.553198</td>\n",
       "      <td>0.000091</td>\n",
       "      <td>0.013554</td>\n",
       "      <td>0.024292</td>\n",
       "      <td>0.000091</td>\n",
       "      <td>0.000091</td>\n",
       "      <td>0.000091</td>\n",
       "      <td>0.032577</td>\n",
       "      <td>0.553198</td>\n",
       "    </tr>\n",
       "    <tr>\n",
       "      <th>2008-03-18</th>\n",
       "      <td>0.637120</td>\n",
       "      <td>0.000119</td>\n",
       "      <td>0.034395</td>\n",
       "      <td>0.134116</td>\n",
       "      <td>0.169393</td>\n",
       "      <td>0.000119</td>\n",
       "      <td>0.000738</td>\n",
       "      <td>0.023881</td>\n",
       "      <td>0.000119</td>\n",
       "      <td>0.637120</td>\n",
       "    </tr>\n",
       "  </tbody>\n",
       "</table>\n",
       "</div>"
      ],
      "text/plain": [
       "               LDA_1     LDA_2     LDA_3     LDA_4     LDA_5     LDA_6   \n",
       "2008-01-30  0.376015  0.553198  0.000091  0.013554  0.024292  0.000091  \\\n",
       "2008-03-18  0.637120  0.000119  0.034395  0.134116  0.169393  0.000119   \n",
       "\n",
       "               LDA_7     LDA_8     LDA_9  LDA_max_value  \n",
       "2008-01-30  0.000091  0.000091  0.032577       0.553198  \n",
       "2008-03-18  0.000738  0.023881  0.000119       0.637120  "
      ]
     },
     "execution_count": 41,
     "metadata": {},
     "output_type": "execute_result"
    }
   ],
   "source": [
    "# Put LDA vecs in df\n",
    "LDA_vecs_df = pd.DataFrame(top_vecs_train_mins)\n",
    "\n",
    "# Add column names\n",
    "LDA_vecs_df.columns = ['LDA_1','LDA_2','LDA_3','LDA_4','LDA_5','LDA_6',\n",
    "                      'LDA_7','LDA_8','LDA_9']\n",
    "\n",
    "LDA_vecs_df.index = mins_dataset.index\n",
    "\n",
    "# Add average column to df\n",
    "#LDA_vecs_df['LDA_vec_avg'] = LDA_vecs_df.mean(axis=1)\n",
    "\n",
    "# Add max col to df\n",
    "LDA_vecs_df['LDA_max_value'] = LDA_vecs_df.max(axis=1)\n",
    "\n",
    "# Review df\n",
    "LDA_vecs_df.head(2)"
   ]
  },
  {
   "cell_type": "code",
   "execution_count": 42,
   "id": "b6d016e9",
   "metadata": {},
   "outputs": [
    {
     "data": {
      "text/plain": [
       "(123, 10)"
      ]
     },
     "execution_count": 42,
     "metadata": {},
     "output_type": "execute_result"
    }
   ],
   "source": [
    "# Get shape of LDA vecs df\n",
    "LDA_vecs_df.shape"
   ]
  },
  {
   "cell_type": "markdown",
   "id": "f2f3e860",
   "metadata": {},
   "source": [
    "# 1d.  Create chart showing most commonly used words after LDA pre-processing"
   ]
  },
  {
   "cell_type": "code",
   "execution_count": 43,
   "id": "bd593edf",
   "metadata": {},
   "outputs": [],
   "source": [
    "# Create counter to compile results from each document\n",
    "master_counter = Counter()\n",
    "\n",
    "# Loop through each doc and get Counter info\n",
    "for i in range(len(texts)):\n",
    "    new_counter_info = Counter(texts[i])\n",
    "    # Add newest counter to master counter\n",
    "    master_counter += new_counter_info"
   ]
  },
  {
   "cell_type": "code",
   "execution_count": 44,
   "id": "17629dbb",
   "metadata": {},
   "outputs": [
    {
     "data": {
      "text/plain": [
       "[('rate', 8344),\n",
       " ('inflation', 8017),\n",
       " ('Committee', 7953),\n",
       " ('market', 7458),\n",
       " ('participant', 7154),\n",
       " ('economic', 5516),\n",
       " ('price', 5142),\n",
       " ('policy', 4942),\n",
       " ('continue', 4706),\n",
       " ('increase', 4649),\n",
       " ('Federal', 4544),\n",
       " ('remain', 4454),\n",
       " ('Board', 4246),\n",
       " ('Reserve', 3997),\n",
       " ('condition', 3574)]"
      ]
     },
     "execution_count": 44,
     "metadata": {},
     "output_type": "execute_result"
    }
   ],
   "source": [
    "# Review most common words in combined counter\n",
    "master_counter.most_common(15)"
   ]
  },
  {
   "cell_type": "code",
   "execution_count": 45,
   "id": "6800e3cb",
   "metadata": {},
   "outputs": [],
   "source": [
    "# Create new df to hold combined Counter results\n",
    "counter_df = pd.DataFrame.from_records({'Value':master_counter})\n",
    "\n",
    "# Sort counter df\n",
    "sorted_counter_df = counter_df.sort_values(by='Value',ascending=False)\n",
    "\n",
    "# Take subset of sorted counter df\n",
    "subset = sorted_counter_df[0:15]\n",
    "#subset"
   ]
  },
  {
   "cell_type": "code",
   "execution_count": 46,
   "id": "ce9b30ef",
   "metadata": {},
   "outputs": [
    {
     "data": {
      "image/png": "[encoded data removed]",
      "text/plain": [
       "<Figure size 800x400 with 1 Axes>"
      ]
     },
     "metadata": {},
     "output_type": "display_data"
    }
   ],
   "source": [
    "# Create a bar chart\n",
    "\n",
    "# Create figure\n",
    "plt.figure(figsize=(8, 4))\n",
    "\n",
    "# Create bar chart\n",
    "plt.bar(subset.index, subset['Value'])\n",
    "\n",
    "# Add labels and format axis\n",
    "plt.xticks(rotation = 45,fontsize=14)\n",
    "plt.yticks(fontsize=14)\n",
    "plt.ylabel(\"Count\",fontsize=14)\n",
    "plt.title(\"Top 15 Words in FOMC Minutes - 2008-2023 YTD\",fontsize=18)\n",
    "plt.tight_layout()\n",
    "\n",
    "# Remove right and top borders\n",
    "for pos in ['right', 'top']:\n",
    "    plt.gca().spines[pos].set_visible(False)\n",
    "\n",
    "# Display the bar chart\n",
    "plt.show()"
   ]
  },
  {
   "cell_type": "markdown",
   "id": "be1ab150",
   "metadata": {},
   "source": [
    "# 1e. Use BERTopic for Topic Modeling"
   ]
  },
  {
   "cell_type": "code",
   "execution_count": 47,
   "id": "96fc4d4c",
   "metadata": {},
   "outputs": [],
   "source": [
    "# Create model\n",
    "vectorizer_model = CountVectorizer(stop_words='english')\n",
    "bert_model_mins = BERTopic(vectorizer_model=vectorizer_model,verbose=True)"
   ]
  },
  {
   "cell_type": "code",
   "execution_count": 48,
   "id": "aab1e237",
   "metadata": {},
   "outputs": [
    {
     "name": "stderr",
     "output_type": "stream",
     "text": [
      "Batches: 100%|████████████████████████████████████| 4/4 [00:20<00:00,  5.02s/it]\n",
      "2023-08-11 13:31:09,193 - BERTopic - Transformed documents to Embeddings\n",
      "OMP: Info #276: omp_set_nested routine deprecated, please use omp_set_max_active_levels instead.\n",
      "2023-08-11 13:31:18,112 - BERTopic - Reduced dimensionality\n",
      "2023-08-11 13:31:18,152 - BERTopic - Clustered reduced embeddings\n"
     ]
    }
   ],
   "source": [
    "# Access FOMC data\n",
    "bert_data_mins = mins_dataset['Federal_Reserve_Mins'].to_list()\n",
    "# Feed data into model\n",
    "topics, probabilities = bert_model_mins.fit_transform(bert_data_mins)"
   ]
  },
  {
   "cell_type": "markdown",
   "id": "8ad2eed2",
   "metadata": {},
   "source": [
    "# 1e.  BERTopic - Show distribution of docs by topics"
   ]
  },
  {
   "cell_type": "code",
   "execution_count": 49,
   "id": "a11182da",
   "metadata": {},
   "outputs": [
    {
     "data": {
      "text/html": [
       "<div>\n",
       "<style scoped>\n",
       "    .dataframe tbody tr th:only-of-type {\n",
       "        vertical-align: middle;\n",
       "    }\n",
       "\n",
       "    .dataframe tbody tr th {\n",
       "        vertical-align: top;\n",
       "    }\n",
       "\n",
       "    .dataframe thead th {\n",
       "        text-align: right;\n",
       "    }\n",
       "</style>\n",
       "<table border=\"1\" class=\"dataframe\">\n",
       "  <thead>\n",
       "    <tr style=\"text-align: right;\">\n",
       "      <th></th>\n",
       "      <th>Topic</th>\n",
       "      <th>Count</th>\n",
       "    </tr>\n",
       "  </thead>\n",
       "  <tbody>\n",
       "    <tr>\n",
       "      <th>1</th>\n",
       "      <td>0</td>\n",
       "      <td>31</td>\n",
       "    </tr>\n",
       "    <tr>\n",
       "      <th>4</th>\n",
       "      <td>1</td>\n",
       "      <td>20</td>\n",
       "    </tr>\n",
       "    <tr>\n",
       "      <th>2</th>\n",
       "      <td>2</td>\n",
       "      <td>17</td>\n",
       "    </tr>\n",
       "    <tr>\n",
       "      <th>0</th>\n",
       "      <td>3</td>\n",
       "      <td>16</td>\n",
       "    </tr>\n",
       "    <tr>\n",
       "      <th>5</th>\n",
       "      <td>4</td>\n",
       "      <td>16</td>\n",
       "    </tr>\n",
       "    <tr>\n",
       "      <th>3</th>\n",
       "      <td>5</td>\n",
       "      <td>12</td>\n",
       "    </tr>\n",
       "    <tr>\n",
       "      <th>6</th>\n",
       "      <td>6</td>\n",
       "      <td>11</td>\n",
       "    </tr>\n",
       "  </tbody>\n",
       "</table>\n",
       "</div>"
      ],
      "text/plain": [
       "   Topic  Count\n",
       "1      0     31\n",
       "4      1     20\n",
       "2      2     17\n",
       "0      3     16\n",
       "5      4     16\n",
       "3      5     12\n",
       "6      6     11"
      ]
     },
     "execution_count": 49,
     "metadata": {},
     "output_type": "execute_result"
    }
   ],
   "source": [
    "# Show how many documents are in each topic\n",
    "bert_model_mins.get_topic_freq().head(10)"
   ]
  },
  {
   "cell_type": "code",
   "execution_count": 50,
   "id": "6427ac18",
   "metadata": {},
   "outputs": [
    {
     "data": {
      "text/html": [
       "<div>\n",
       "<style scoped>\n",
       "    .dataframe tbody tr th:only-of-type {\n",
       "        vertical-align: middle;\n",
       "    }\n",
       "\n",
       "    .dataframe tbody tr th {\n",
       "        vertical-align: top;\n",
       "    }\n",
       "\n",
       "    .dataframe thead th {\n",
       "        text-align: right;\n",
       "    }\n",
       "</style>\n",
       "<table border=\"1\" class=\"dataframe\">\n",
       "  <thead>\n",
       "    <tr style=\"text-align: right;\">\n",
       "      <th></th>\n",
       "      <th>Topic</th>\n",
       "      <th>Count</th>\n",
       "      <th>Name</th>\n",
       "      <th>Representation</th>\n",
       "      <th>Representative_Docs</th>\n",
       "    </tr>\n",
       "  </thead>\n",
       "  <tbody>\n",
       "    <tr>\n",
       "      <th>0</th>\n",
       "      <td>0</td>\n",
       "      <td>31</td>\n",
       "      <td>0_federal_economic_market_inflation</td>\n",
       "      <td>[federal, economic, market, inflation, committ...</td>\n",
       "      <td>[December 15-16, 2009  PRESENT:        Mr. Ber...</td>\n",
       "    </tr>\n",
       "    <tr>\n",
       "      <th>1</th>\n",
       "      <td>1</td>\n",
       "      <td>20</td>\n",
       "      <td>1_inflation_market_rate_federal</td>\n",
       "      <td>[inflation, market, rate, federal, economic, p...</td>\n",
       "      <td>[The Federal Reserve, the central bank of the ...</td>\n",
       "    </tr>\n",
       "    <tr>\n",
       "      <th>2</th>\n",
       "      <td>2</td>\n",
       "      <td>17</td>\n",
       "      <td>2_committee_economic_policy_federal</td>\n",
       "      <td>[committee, economic, policy, federal, market,...</td>\n",
       "      <td>[The Federal Reserve, the central bank of the ...</td>\n",
       "    </tr>\n",
       "    <tr>\n",
       "      <th>3</th>\n",
       "      <td>3</td>\n",
       "      <td>16</td>\n",
       "      <td>3_rate_inflation_participants_federal</td>\n",
       "      <td>[rate, inflation, participants, federal, marke...</td>\n",
       "      <td>[The Federal Reserve, the central bank of the ...</td>\n",
       "    </tr>\n",
       "    <tr>\n",
       "      <th>4</th>\n",
       "      <td>4</td>\n",
       "      <td>16</td>\n",
       "      <td>4_participants_market_federal_inflation</td>\n",
       "      <td>[participants, market, federal, inflation, eco...</td>\n",
       "      <td>[The Federal Reserve, the central bank of the ...</td>\n",
       "    </tr>\n",
       "    <tr>\n",
       "      <th>5</th>\n",
       "      <td>5</td>\n",
       "      <td>12</td>\n",
       "      <td>5_inflation_committee_market_rate</td>\n",
       "      <td>[inflation, committee, market, rate, federal, ...</td>\n",
       "      <td>[The Federal Reserve, the central bank of the ...</td>\n",
       "    </tr>\n",
       "    <tr>\n",
       "      <th>6</th>\n",
       "      <td>6</td>\n",
       "      <td>11</td>\n",
       "      <td>6_inflation_participants_board_policy</td>\n",
       "      <td>[inflation, participants, board, policy, feder...</td>\n",
       "      <td>[The Federal Reserve, the central bank of the ...</td>\n",
       "    </tr>\n",
       "  </tbody>\n",
       "</table>\n",
       "</div>"
      ],
      "text/plain": [
       "   Topic  Count                                     Name   \n",
       "0      0     31      0_federal_economic_market_inflation  \\\n",
       "1      1     20          1_inflation_market_rate_federal   \n",
       "2      2     17      2_committee_economic_policy_federal   \n",
       "3      3     16    3_rate_inflation_participants_federal   \n",
       "4      4     16  4_participants_market_federal_inflation   \n",
       "5      5     12        5_inflation_committee_market_rate   \n",
       "6      6     11    6_inflation_participants_board_policy   \n",
       "\n",
       "                                      Representation   \n",
       "0  [federal, economic, market, inflation, committ...  \\\n",
       "1  [inflation, market, rate, federal, economic, p...   \n",
       "2  [committee, economic, policy, federal, market,...   \n",
       "3  [rate, inflation, participants, federal, marke...   \n",
       "4  [participants, market, federal, inflation, eco...   \n",
       "5  [inflation, committee, market, rate, federal, ...   \n",
       "6  [inflation, participants, board, policy, feder...   \n",
       "\n",
       "                                 Representative_Docs  \n",
       "0  [December 15-16, 2009  PRESENT:        Mr. Ber...  \n",
       "1  [The Federal Reserve, the central bank of the ...  \n",
       "2  [The Federal Reserve, the central bank of the ...  \n",
       "3  [The Federal Reserve, the central bank of the ...  \n",
       "4  [The Federal Reserve, the central bank of the ...  \n",
       "5  [The Federal Reserve, the central bank of the ...  \n",
       "6  [The Federal Reserve, the central bank of the ...  "
      ]
     },
     "execution_count": 50,
     "metadata": {},
     "output_type": "execute_result"
    }
   ],
   "source": [
    "# Get info on each topic\n",
    "bert_model_mins.get_topic_info()"
   ]
  },
  {
   "cell_type": "code",
   "execution_count": 51,
   "id": "d55622b1",
   "metadata": {},
   "outputs": [
    {
     "data": {
      "text/plain": [
       "[('federal', 0.02870438234050486),\n",
       " ('economic', 0.027618573078499003),\n",
       " ('market', 0.025170640570125698),\n",
       " ('inflation', 0.02415460436525115),\n",
       " ('committee', 0.02371347898545883),\n",
       " ('prices', 0.02245595828799809),\n",
       " ('participants', 0.021887410688216535),\n",
       " ('financial', 0.02108947043859626),\n",
       " ('securities', 0.021007909445359862),\n",
       " ('markets', 0.02051126199345475)]"
      ]
     },
     "execution_count": 51,
     "metadata": {},
     "output_type": "execute_result"
    }
   ],
   "source": [
    "# Show keywords for a given topic\n",
    "bert_model_mins.get_topic(0)"
   ]
  },
  {
   "cell_type": "markdown",
   "id": "28f966ba",
   "metadata": {},
   "source": [
    "# 1e.  BERTopic-  get_document_info( ).  \"Topic\" column in df is similar to LDA vector output."
   ]
  },
  {
   "cell_type": "code",
   "execution_count": 52,
   "id": "fc8afda1",
   "metadata": {},
   "outputs": [
    {
     "data": {
      "text/html": [
       "<div>\n",
       "<style scoped>\n",
       "    .dataframe tbody tr th:only-of-type {\n",
       "        vertical-align: middle;\n",
       "    }\n",
       "\n",
       "    .dataframe tbody tr th {\n",
       "        vertical-align: top;\n",
       "    }\n",
       "\n",
       "    .dataframe thead th {\n",
       "        text-align: right;\n",
       "    }\n",
       "</style>\n",
       "<table border=\"1\" class=\"dataframe\">\n",
       "  <thead>\n",
       "    <tr style=\"text-align: right;\">\n",
       "      <th></th>\n",
       "      <th>Document</th>\n",
       "      <th>Topic</th>\n",
       "      <th>Name</th>\n",
       "      <th>Representation</th>\n",
       "      <th>Representative_Docs</th>\n",
       "      <th>Top_n_words</th>\n",
       "      <th>Probability</th>\n",
       "      <th>Representative_document</th>\n",
       "    </tr>\n",
       "  </thead>\n",
       "  <tbody>\n",
       "    <tr>\n",
       "      <th>2008-01-30</th>\n",
       "      <td>The Federal Reserve, the central bank of the U...</td>\n",
       "      <td>3</td>\n",
       "      <td>3_rate_inflation_participants_federal</td>\n",
       "      <td>[rate, inflation, participants, federal, marke...</td>\n",
       "      <td>[The Federal Reserve, the central bank of the ...</td>\n",
       "      <td>rate - inflation - participants - federal - ma...</td>\n",
       "      <td>0.953971</td>\n",
       "      <td>True</td>\n",
       "    </tr>\n",
       "    <tr>\n",
       "      <th>2008-03-18</th>\n",
       "      <td>March 18, 2008  Present:Mr. Bernanke, Chairman...</td>\n",
       "      <td>0</td>\n",
       "      <td>0_federal_economic_market_inflation</td>\n",
       "      <td>[federal, economic, market, inflation, committ...</td>\n",
       "      <td>[December 15-16, 2009  PRESENT:        Mr. Ber...</td>\n",
       "      <td>federal - economic - market - inflation - comm...</td>\n",
       "      <td>1.000000</td>\n",
       "      <td>False</td>\n",
       "    </tr>\n",
       "    <tr>\n",
       "      <th>2008-04-30</th>\n",
       "      <td>April 29-30, 2008  PRESENT:Mr. Bernanke, Chair...</td>\n",
       "      <td>0</td>\n",
       "      <td>0_federal_economic_market_inflation</td>\n",
       "      <td>[federal, economic, market, inflation, committ...</td>\n",
       "      <td>[December 15-16, 2009  PRESENT:        Mr. Ber...</td>\n",
       "      <td>federal - economic - market - inflation - comm...</td>\n",
       "      <td>1.000000</td>\n",
       "      <td>False</td>\n",
       "    </tr>\n",
       "  </tbody>\n",
       "</table>\n",
       "</div>"
      ],
      "text/plain": [
       "                                                     Document  Topic   \n",
       "2008-01-30  The Federal Reserve, the central bank of the U...      3  \\\n",
       "2008-03-18  March 18, 2008  Present:Mr. Bernanke, Chairman...      0   \n",
       "2008-04-30  April 29-30, 2008  PRESENT:Mr. Bernanke, Chair...      0   \n",
       "\n",
       "                                             Name   \n",
       "2008-01-30  3_rate_inflation_participants_federal  \\\n",
       "2008-03-18    0_federal_economic_market_inflation   \n",
       "2008-04-30    0_federal_economic_market_inflation   \n",
       "\n",
       "                                               Representation   \n",
       "2008-01-30  [rate, inflation, participants, federal, marke...  \\\n",
       "2008-03-18  [federal, economic, market, inflation, committ...   \n",
       "2008-04-30  [federal, economic, market, inflation, committ...   \n",
       "\n",
       "                                          Representative_Docs   \n",
       "2008-01-30  [The Federal Reserve, the central bank of the ...  \\\n",
       "2008-03-18  [December 15-16, 2009  PRESENT:        Mr. Ber...   \n",
       "2008-04-30  [December 15-16, 2009  PRESENT:        Mr. Ber...   \n",
       "\n",
       "                                                  Top_n_words  Probability   \n",
       "2008-01-30  rate - inflation - participants - federal - ma...     0.953971  \\\n",
       "2008-03-18  federal - economic - market - inflation - comm...     1.000000   \n",
       "2008-04-30  federal - economic - market - inflation - comm...     1.000000   \n",
       "\n",
       "            Representative_document  \n",
       "2008-01-30                     True  \n",
       "2008-03-18                    False  \n",
       "2008-04-30                    False  "
      ]
     },
     "execution_count": 52,
     "metadata": {},
     "output_type": "execute_result"
    }
   ],
   "source": [
    "# Get more a in-depth summary info about each document\n",
    "bert_outputs_mins_df = bert_model_mins.get_document_info(bert_data_mins)\n",
    "bert_outputs_mins_df.index = mins_dataset.index\n",
    "bert_outputs_mins_df.head(3)"
   ]
  },
  {
   "cell_type": "code",
   "execution_count": 53,
   "id": "f193ca56",
   "metadata": {},
   "outputs": [
    {
     "data": {
      "text/plain": [
       "123"
      ]
     },
     "execution_count": 53,
     "metadata": {},
     "output_type": "execute_result"
    }
   ],
   "source": [
    "# Confirm length of bert_outputs_df\n",
    "len(bert_outputs_mins_df)"
   ]
  },
  {
   "cell_type": "code",
   "execution_count": 54,
   "id": "1daf58bc",
   "metadata": {},
   "outputs": [
    {
     "data": {
      "text/plain": [
       "2022-12-14    6\n",
       "2023-02-01    6\n",
       "2023-03-22    6\n",
       "2023-05-03    6\n",
       "2023-06-14    6\n",
       "Name: Topic, dtype: int64"
      ]
     },
     "execution_count": 54,
     "metadata": {},
     "output_type": "execute_result"
    }
   ],
   "source": [
    "# Review entries\n",
    "bert_outputs_mins_df['Topic'].tail()"
   ]
  },
  {
   "cell_type": "code",
   "execution_count": 55,
   "id": "9f516ebe",
   "metadata": {},
   "outputs": [
    {
     "data": {
      "text/plain": [
       "Representative_document\n",
       "False    102\n",
       "True      21\n",
       "Name: count, dtype: int64"
      ]
     },
     "execution_count": 55,
     "metadata": {},
     "output_type": "execute_result"
    }
   ],
   "source": [
    "# Show how many documents are considered representative\n",
    "bert_outputs_mins_df['Representative_document'].value_counts()"
   ]
  },
  {
   "cell_type": "code",
   "execution_count": 56,
   "id": "e9b7f2d6",
   "metadata": {},
   "outputs": [
    {
     "data": {
      "text/plain": [
       "Name\n",
       "0_federal_economic_market_inflation        31\n",
       "1_inflation_market_rate_federal            20\n",
       "2_committee_economic_policy_federal        17\n",
       "3_rate_inflation_participants_federal      16\n",
       "4_participants_market_federal_inflation    16\n",
       "5_inflation_committee_market_rate          12\n",
       "6_inflation_participants_board_policy      11\n",
       "Name: count, dtype: int64"
      ]
     },
     "execution_count": 56,
     "metadata": {},
     "output_type": "execute_result"
    }
   ],
   "source": [
    "# Show key words associated with each topic\n",
    "bert_outputs_mins_df['Name'].value_counts()"
   ]
  },
  {
   "cell_type": "code",
   "execution_count": 57,
   "id": "fd242706",
   "metadata": {},
   "outputs": [],
   "source": [
    "# Visualize separation of topics\n",
    "#bert_model_mins.visualize_documents(bert_data_mins)"
   ]
  },
  {
   "cell_type": "code",
   "execution_count": 58,
   "id": "e56f34c3",
   "metadata": {},
   "outputs": [],
   "source": [
    "from wordcloud import WordCloud\n",
    "import matplotlib.pyplot as plt\n",
    "\n",
    "def create_wordcloud(model, topic):\n",
    "    text = {word: value for word, value in model.get_topic(topic)}\n",
    "    wc = WordCloud(background_color=\"white\", max_words=1000)\n",
    "    wc.generate_from_frequencies(text)\n",
    "    plt.imshow(wc, interpolation=\"bilinear\")\n",
    "    plt.axis(\"off\")\n",
    "    plt.show()\n"
   ]
  },
  {
   "cell_type": "code",
   "execution_count": 59,
   "id": "235d421d",
   "metadata": {},
   "outputs": [
    {
     "data": {
      "image/png": "[encoded data removed]",
      "text/plain": [
       "<Figure size 640x480 with 1 Axes>"
      ]
     },
     "metadata": {},
     "output_type": "display_data"
    }
   ],
   "source": [
    "# Show wordcloud\n",
    "create_wordcloud(bert_model_mins, topic=0)"
   ]
  },
  {
   "cell_type": "code",
   "execution_count": 60,
   "id": "ca351070",
   "metadata": {},
   "outputs": [
    {
     "data": {
      "image/png": "[encoded data removed]",
      "text/plain": [
       "<Figure size 640x480 with 1 Axes>"
      ]
     },
     "metadata": {},
     "output_type": "display_data"
    }
   ],
   "source": [
    "# Show wordcloud\n",
    "create_wordcloud(bert_model_mins, topic=1)"
   ]
  },
  {
   "cell_type": "markdown",
   "id": "eccce98d",
   "metadata": {},
   "source": [
    "# 1f.  Doc2Vec"
   ]
  },
  {
   "cell_type": "code",
   "execution_count": 61,
   "id": "7afb5ca8",
   "metadata": {},
   "outputs": [],
   "source": [
    "# Create training data\n",
    "\n",
    "# Retrieve data\n",
    "data = mins_dataset[\"Federal_Reserve_Mins\"]\n",
    "\n",
    "# Create function to preprocess text and create tags (numbers) for each doc\n",
    "\n",
    "def preprocess_and_tag(df_data,tokens_only=False):\n",
    "\n",
    "    for i, line in enumerate(df_data):\n",
    "        # Preprocess data\n",
    "        tokens = gensim.utils.simple_preprocess(line)\n",
    "        if tokens_only:\n",
    "            yield tokens\n",
    "        else:\n",
    "            # Add tags\n",
    "            yield gensim.models.doc2vec.TaggedDocument(tokens,[i])\n",
    "\n",
    "# Put results in list -- to be fed into Doc2Vec model            \n",
    "training_data  = list(preprocess_and_tag(data))"
   ]
  },
  {
   "cell_type": "markdown",
   "id": "085e292c",
   "metadata": {},
   "source": [
    "# 1f.  2 types of Doc2vec models - (1) param dm = 0 is Distributed Memory (PV-DM), like CBOW in Word2Vec, and (2) param dm = 1 is Distributed Bag of Words (PV-DBOW), like Skip-Gram in Word2Vec"
   ]
  },
  {
   "cell_type": "code",
   "execution_count": 62,
   "id": "098d4333",
   "metadata": {},
   "outputs": [],
   "source": [
    "# Instantiate model\n",
    "model_gensim_docs = gensim.models.doc2vec.Doc2Vec(dm=0,vector_size=10,min_count=2, epochs=50)"
   ]
  },
  {
   "cell_type": "code",
   "execution_count": 63,
   "id": "b446af05",
   "metadata": {},
   "outputs": [],
   "source": [
    "# Build model vocabulary\n",
    "model_gensim_docs.build_vocab(training_data)"
   ]
  },
  {
   "cell_type": "code",
   "execution_count": 64,
   "id": "bb6c2c02",
   "metadata": {},
   "outputs": [],
   "source": [
    "# Train model on tagged docs\n",
    "model_gensim_docs.train(training_data,total_examples=model_gensim_docs.corpus_count,epochs=model_gensim_docs.epochs)"
   ]
  },
  {
   "cell_type": "code",
   "execution_count": 65,
   "id": "b10682e7",
   "metadata": {},
   "outputs": [],
   "source": [
    "# Create numerical vectors for each document\n",
    "\n",
    "doc_vectors = []\n",
    "for doc_id in range(len(training_data)):\n",
    "    inferred_vector = model_gensim_docs.infer_vector(training_data[doc_id].words)\n",
    "    doc_vectors.append(inferred_vector)"
   ]
  },
  {
   "cell_type": "code",
   "execution_count": 66,
   "id": "8d5c6d3a",
   "metadata": {},
   "outputs": [
    {
     "data": {
      "text/plain": [
       "array([-1.0727857 , -0.92173976, -0.6188093 ,  1.0110458 , -0.47426772,\n",
       "        0.02994507, -0.10156021, -1.4406023 , -0.1888434 ,  0.34580356],\n",
       "      dtype=float32)"
      ]
     },
     "execution_count": 66,
     "metadata": {},
     "output_type": "execute_result"
    }
   ],
   "source": [
    "# Review first vector    \n",
    "doc_vectors[0]"
   ]
  },
  {
   "cell_type": "markdown",
   "id": "25993540",
   "metadata": {},
   "source": [
    "# 1f.  Create df with vectors from Doc2Vec model"
   ]
  },
  {
   "cell_type": "code",
   "execution_count": 67,
   "id": "67133fb6",
   "metadata": {},
   "outputs": [
    {
     "name": "stdout",
     "output_type": "stream",
     "text": [
      "Shape of d2v_doc_vectors_df (123, 11)\n"
     ]
    },
    {
     "data": {
      "text/html": [
       "<div>\n",
       "<style scoped>\n",
       "    .dataframe tbody tr th:only-of-type {\n",
       "        vertical-align: middle;\n",
       "    }\n",
       "\n",
       "    .dataframe tbody tr th {\n",
       "        vertical-align: top;\n",
       "    }\n",
       "\n",
       "    .dataframe thead th {\n",
       "        text-align: right;\n",
       "    }\n",
       "</style>\n",
       "<table border=\"1\" class=\"dataframe\">\n",
       "  <thead>\n",
       "    <tr style=\"text-align: right;\">\n",
       "      <th></th>\n",
       "      <th>d2v_1</th>\n",
       "      <th>d2v_2</th>\n",
       "      <th>d2v_3</th>\n",
       "      <th>d2v_4</th>\n",
       "      <th>d2v_5</th>\n",
       "      <th>d2v_6</th>\n",
       "      <th>d2v_7</th>\n",
       "      <th>d2v_8</th>\n",
       "      <th>d2v_9</th>\n",
       "      <th>d2v_10</th>\n",
       "      <th>d2v_mean</th>\n",
       "    </tr>\n",
       "  </thead>\n",
       "  <tbody>\n",
       "    <tr>\n",
       "      <th>2022-12-14</th>\n",
       "      <td>-0.310470</td>\n",
       "      <td>-1.038953</td>\n",
       "      <td>-0.778548</td>\n",
       "      <td>0.623374</td>\n",
       "      <td>0.720895</td>\n",
       "      <td>0.313662</td>\n",
       "      <td>-0.005169</td>\n",
       "      <td>-0.889667</td>\n",
       "      <td>-0.567328</td>\n",
       "      <td>1.525583</td>\n",
       "      <td>-0.040662</td>\n",
       "    </tr>\n",
       "    <tr>\n",
       "      <th>2023-02-01</th>\n",
       "      <td>-0.397799</td>\n",
       "      <td>-0.866286</td>\n",
       "      <td>-0.952267</td>\n",
       "      <td>0.668278</td>\n",
       "      <td>0.647701</td>\n",
       "      <td>-0.061832</td>\n",
       "      <td>0.308297</td>\n",
       "      <td>-0.731752</td>\n",
       "      <td>-0.663975</td>\n",
       "      <td>1.616355</td>\n",
       "      <td>-0.043328</td>\n",
       "    </tr>\n",
       "    <tr>\n",
       "      <th>2023-03-22</th>\n",
       "      <td>-0.241766</td>\n",
       "      <td>-0.873768</td>\n",
       "      <td>-0.822453</td>\n",
       "      <td>0.708786</td>\n",
       "      <td>0.807386</td>\n",
       "      <td>0.328926</td>\n",
       "      <td>0.087645</td>\n",
       "      <td>-0.874434</td>\n",
       "      <td>-0.642256</td>\n",
       "      <td>1.475905</td>\n",
       "      <td>-0.004603</td>\n",
       "    </tr>\n",
       "    <tr>\n",
       "      <th>2023-05-03</th>\n",
       "      <td>-0.276798</td>\n",
       "      <td>-0.922021</td>\n",
       "      <td>-0.685028</td>\n",
       "      <td>0.620754</td>\n",
       "      <td>0.758912</td>\n",
       "      <td>0.427404</td>\n",
       "      <td>-0.166800</td>\n",
       "      <td>-0.863563</td>\n",
       "      <td>-0.598781</td>\n",
       "      <td>1.407864</td>\n",
       "      <td>-0.029806</td>\n",
       "    </tr>\n",
       "    <tr>\n",
       "      <th>2023-06-14</th>\n",
       "      <td>-0.178685</td>\n",
       "      <td>-0.824370</td>\n",
       "      <td>-0.807043</td>\n",
       "      <td>0.634225</td>\n",
       "      <td>0.891727</td>\n",
       "      <td>0.442698</td>\n",
       "      <td>0.080721</td>\n",
       "      <td>-0.759524</td>\n",
       "      <td>-0.732175</td>\n",
       "      <td>1.418520</td>\n",
       "      <td>0.016610</td>\n",
       "    </tr>\n",
       "  </tbody>\n",
       "</table>\n",
       "</div>"
      ],
      "text/plain": [
       "               d2v_1     d2v_2     d2v_3     d2v_4     d2v_5     d2v_6   \n",
       "2022-12-14 -0.310470 -1.038953 -0.778548  0.623374  0.720895  0.313662  \\\n",
       "2023-02-01 -0.397799 -0.866286 -0.952267  0.668278  0.647701 -0.061832   \n",
       "2023-03-22 -0.241766 -0.873768 -0.822453  0.708786  0.807386  0.328926   \n",
       "2023-05-03 -0.276798 -0.922021 -0.685028  0.620754  0.758912  0.427404   \n",
       "2023-06-14 -0.178685 -0.824370 -0.807043  0.634225  0.891727  0.442698   \n",
       "\n",
       "               d2v_7     d2v_8     d2v_9    d2v_10  d2v_mean  \n",
       "2022-12-14 -0.005169 -0.889667 -0.567328  1.525583 -0.040662  \n",
       "2023-02-01  0.308297 -0.731752 -0.663975  1.616355 -0.043328  \n",
       "2023-03-22  0.087645 -0.874434 -0.642256  1.475905 -0.004603  \n",
       "2023-05-03 -0.166800 -0.863563 -0.598781  1.407864 -0.029806  \n",
       "2023-06-14  0.080721 -0.759524 -0.732175  1.418520  0.016610  "
      ]
     },
     "execution_count": 67,
     "metadata": {},
     "output_type": "execute_result"
    }
   ],
   "source": [
    "# Put array of vectors into df\n",
    "d2v_doc_vectors_df = pd.DataFrame(doc_vectors)\n",
    "\n",
    "# Add column headers\n",
    "d2v_doc_vectors_df.columns = ['d2v_1','d2v_2','d2v_3','d2v_4','d2v_5',\n",
    "                             'd2v_6','d2v_7','d2v_8','d2v_9','d2v_10']\n",
    "\n",
    "\n",
    "# Add index\n",
    "d2v_doc_vectors_df.index = mins_dataset.index\n",
    "\n",
    "# Add mean col for each row\n",
    "d2v_doc_vectors_df['d2v_mean'] = d2v_doc_vectors_df.mean(axis=1)\n",
    "\n",
    "# Get shape\n",
    "print(\"Shape of d2v_doc_vectors_df\", d2v_doc_vectors_df.shape)\n",
    "\n",
    "# Show beginning of df\n",
    "d2v_doc_vectors_df.tail(5)"
   ]
  },
  {
   "cell_type": "code",
   "execution_count": 68,
   "id": "341fad88",
   "metadata": {},
   "outputs": [
    {
     "data": {
      "text/plain": [
       "(123, 11)"
      ]
     },
     "execution_count": 68,
     "metadata": {},
     "output_type": "execute_result"
    }
   ],
   "source": [
    "# Confirm shape of df\n",
    "d2v_doc_vectors_df.shape"
   ]
  },
  {
   "cell_type": "markdown",
   "id": "fc83b2e5",
   "metadata": {},
   "source": [
    "# 1f.  Test the Doc2Vec model -- How often is a doc most similar to itself?"
   ]
  },
  {
   "cell_type": "code",
   "execution_count": 69,
   "id": "42096938",
   "metadata": {},
   "outputs": [],
   "source": [
    "# Calculate ranks = shows how often a given doc is most similar to itself within the training data\n",
    "ranks = []\n",
    "second_ranks = []\n",
    "for doc_id in range(len(training_data)):\n",
    "    inferred_vector = model_gensim_docs.infer_vector(training_data[doc_id].words)\n",
    "    sims = model_gensim_docs.dv.most_similar([inferred_vector], topn=len(model_gensim_docs.dv))\n",
    "    rank = [docid for docid, sim in sims].index(doc_id)\n",
    "    ranks.append(rank)\n",
    "\n",
    "    second_ranks.append(sims[1])"
   ]
  },
  {
   "cell_type": "markdown",
   "id": "a0306ccc",
   "metadata": {},
   "source": [
    "# 1f.  Show results - inferred vector vs training vector"
   ]
  },
  {
   "cell_type": "code",
   "execution_count": 70,
   "id": "ff0b47d7",
   "metadata": {},
   "outputs": [
    {
     "name": "stdout",
     "output_type": "stream",
     "text": [
      "Length of training data 123\n",
      "Ranks Counter({0: 122, 1: 1})\n"
     ]
    }
   ],
   "source": [
    "# Show how many items in training data\n",
    "print(\"Length of training data\", len(training_data))\n",
    "\n",
    "# Show rank data -- want 0:VALUE to be as close to length of training data as possible\n",
    "counter_ranks = collections.Counter(ranks)\n",
    "print(\"Ranks\",counter_ranks)"
   ]
  },
  {
   "cell_type": "markdown",
   "id": "09aec491",
   "metadata": {},
   "source": [
    "# 1g.  Doc2Vec dim reduction using Umap, create df as an alternative to Doc2vec vectors above"
   ]
  },
  {
   "cell_type": "code",
   "execution_count": 71,
   "id": "b8662c28",
   "metadata": {},
   "outputs": [
    {
     "name": "stdout",
     "output_type": "stream",
     "text": [
      "Shape of umap_d2v_df (123, 2)\n"
     ]
    },
    {
     "data": {
      "text/plain": [
       "<matplotlib.collections.PathCollection at 0x7fd9be1cf880>"
      ]
     },
     "execution_count": 71,
     "metadata": {},
     "output_type": "execute_result"
    },
    {
     "data": {
      "image/png": "[encoded data removed]",
      "text/plain": [
       "<Figure size 640x480 with 1 Axes>"
      ]
     },
     "metadata": {},
     "output_type": "display_data"
    }
   ],
   "source": [
    "# Put array of vectors (excluding mean) into df\n",
    "umap_df = pd.DataFrame(doc_vectors)\n",
    "\n",
    "# Run UMAP to reduce number of dimensions\n",
    "umap_d2v = umap.UMAP(random_state=0,n_neighbors=10, min_dist=0.3,\n",
    "                    n_components=2).fit_transform(umap_df)\n",
    "\n",
    "# Put UMAP results into another df\n",
    "umap_d2v_df = pd.DataFrame(umap_d2v)\n",
    "\n",
    "# Add column headers\n",
    "umap_d2v_df.columns = ['d2v_umap_first_component','d2v_umap_second_component']\n",
    "\n",
    "umap_d2v_df.index = mins_dataset.index\n",
    "\n",
    "# Show first few results\n",
    "umap_d2v_df.head()\n",
    "\n",
    "# Show shape of df\n",
    "print(\"Shape of umap_d2v_df\",umap_d2v_df.shape)\n",
    "\n",
    "# Visualize UMAP results\n",
    "plt.scatter(umap_d2v[:,0],umap_d2v[:,1])"
   ]
  },
  {
   "cell_type": "code",
   "execution_count": 72,
   "id": "31dfc5ea",
   "metadata": {},
   "outputs": [
    {
     "data": {
      "text/html": [
       "<div>\n",
       "<style scoped>\n",
       "    .dataframe tbody tr th:only-of-type {\n",
       "        vertical-align: middle;\n",
       "    }\n",
       "\n",
       "    .dataframe tbody tr th {\n",
       "        vertical-align: top;\n",
       "    }\n",
       "\n",
       "    .dataframe thead th {\n",
       "        text-align: right;\n",
       "    }\n",
       "</style>\n",
       "<table border=\"1\" class=\"dataframe\">\n",
       "  <thead>\n",
       "    <tr style=\"text-align: right;\">\n",
       "      <th></th>\n",
       "      <th>d2v_umap_first_component</th>\n",
       "      <th>d2v_umap_second_component</th>\n",
       "    </tr>\n",
       "  </thead>\n",
       "  <tbody>\n",
       "    <tr>\n",
       "      <th>2008-01-30</th>\n",
       "      <td>-0.572112</td>\n",
       "      <td>19.297571</td>\n",
       "    </tr>\n",
       "    <tr>\n",
       "      <th>2008-03-18</th>\n",
       "      <td>-1.186404</td>\n",
       "      <td>6.272410</td>\n",
       "    </tr>\n",
       "    <tr>\n",
       "      <th>2008-04-30</th>\n",
       "      <td>-0.943062</td>\n",
       "      <td>6.531765</td>\n",
       "    </tr>\n",
       "    <tr>\n",
       "      <th>2008-08-05</th>\n",
       "      <td>-1.744280</td>\n",
       "      <td>7.499795</td>\n",
       "    </tr>\n",
       "    <tr>\n",
       "      <th>2008-09-16</th>\n",
       "      <td>-1.590941</td>\n",
       "      <td>7.739094</td>\n",
       "    </tr>\n",
       "  </tbody>\n",
       "</table>\n",
       "</div>"
      ],
      "text/plain": [
       "            d2v_umap_first_component  d2v_umap_second_component\n",
       "2008-01-30                 -0.572112                  19.297571\n",
       "2008-03-18                 -1.186404                   6.272410\n",
       "2008-04-30                 -0.943062                   6.531765\n",
       "2008-08-05                 -1.744280                   7.499795\n",
       "2008-09-16                 -1.590941                   7.739094"
      ]
     },
     "execution_count": 72,
     "metadata": {},
     "output_type": "execute_result"
    }
   ],
   "source": [
    "# Review Doc2Vec UMAP data\n",
    "umap_d2v_df.head()"
   ]
  },
  {
   "cell_type": "markdown",
   "id": "74cce6ce",
   "metadata": {},
   "source": [
    "# 2h.  Named Entity Recogntion"
   ]
  },
  {
   "cell_type": "markdown",
   "id": "87d8619e",
   "metadata": {},
   "source": [
    "# 2h.  Run on single document"
   ]
  },
  {
   "cell_type": "code",
   "execution_count": 73,
   "id": "5c81c913",
   "metadata": {},
   "outputs": [
    {
     "data": {
      "image/png": "[encoded data removed]",
      "text/plain": [
       "<Figure size 1000x600 with 1 Axes>"
      ]
     },
     "metadata": {},
     "output_type": "display_data"
    },
    {
     "data": {
      "text/html": [
       "<div>\n",
       "<style scoped>\n",
       "    .dataframe tbody tr th:only-of-type {\n",
       "        vertical-align: middle;\n",
       "    }\n",
       "\n",
       "    .dataframe tbody tr th {\n",
       "        vertical-align: top;\n",
       "    }\n",
       "\n",
       "    .dataframe thead th {\n",
       "        text-align: right;\n",
       "    }\n",
       "</style>\n",
       "<table border=\"1\" class=\"dataframe\">\n",
       "  <thead>\n",
       "    <tr style=\"text-align: right;\">\n",
       "      <th></th>\n",
       "      <th>Associate Director</th>\n",
       "      <th>Brexit</th>\n",
       "      <th>Jerome H. Powell</th>\n",
       "      <th>John C. Williams</th>\n",
       "      <th>Raphael W. Bostic</th>\n",
       "      <th>James A. Clouse</th>\n",
       "      <th>Counsel</th>\n",
       "      <th>Tools</th>\n",
       "      <th>Thomas I. Barkin</th>\n",
       "      <th>Michelle W. Bowman</th>\n",
       "    </tr>\n",
       "  </thead>\n",
       "  <tbody>\n",
       "    <tr>\n",
       "      <th>0</th>\n",
       "      <td>3</td>\n",
       "      <td>3</td>\n",
       "      <td>2</td>\n",
       "      <td>2</td>\n",
       "      <td>2</td>\n",
       "      <td>2</td>\n",
       "      <td>2</td>\n",
       "      <td>1</td>\n",
       "      <td>1</td>\n",
       "      <td>1</td>\n",
       "    </tr>\n",
       "  </tbody>\n",
       "</table>\n",
       "</div>"
      ],
      "text/plain": [
       "   Associate Director  Brexit  Jerome H. Powell  John C. Williams   \n",
       "0                   3       3                 2                 2  \\\n",
       "\n",
       "   Raphael W. Bostic  James A. Clouse  Counsel  Tools  Thomas I. Barkin     \n",
       "0                  2                2        2      1                   1  \\\n",
       "\n",
       "   Michelle W. Bowman    \n",
       "0                     1  "
      ]
     },
     "execution_count": 73,
     "metadata": {},
     "output_type": "execute_result"
    }
   ],
   "source": [
    "# Load specific row\n",
    "test_fomc = mins_dataset['Federal_Reserve_Mins'][0]\n",
    "\n",
    "# Run it through NLP model\n",
    "test_doc = nlp(test_fomc)\n",
    "\n",
    "# Extract entities and count their occurrences\n",
    "entities = [entity.text for entity in test_doc.ents]\n",
    "entity_counts = Counter(entities)\n",
    "\n",
    "# Get the top XX entities\n",
    "top_xx_entities = entity_counts.most_common(30)\n",
    "\n",
    "# Extract entity names and their counts\n",
    "entity_names = [entity[0] for entity in top_xx_entities]\n",
    "entity_count_values = [entity[1] for entity in top_xx_entities]\n",
    "\n",
    "# Create a bar chart\n",
    "plt.figure(figsize=(10, 6))\n",
    "plt.barh(entity_names, entity_count_values)\n",
    "plt.xlabel(\"Count\")\n",
    "plt.ylabel(\"Entity\")\n",
    "plt.title(\"Top 30 Entities\")\n",
    "plt.tight_layout()\n",
    "\n",
    "# Display the bar chart\n",
    "plt.show()\n",
    "\n",
    "# Extract top 10 people entities\n",
    "people_entities = [entity.text for entity in test_doc.ents if entity.label_ == \"PERSON\"]\n",
    "top_10_people_entities = Counter(people_entities).most_common(10)\n",
    "top_10_people_entities\n",
    "\n",
    "# Create df for indiv doc with people as cols and counts as values\n",
    "d = defaultdict(list)\n",
    "for a, b in top_10_people_entities:\n",
    "    d[a].append(b)\n",
    "top_10_people_df = pd.DataFrame(d)\n",
    "top_10_people_df"
   ]
  },
  {
   "cell_type": "markdown",
   "id": "9e7f2b30",
   "metadata": {},
   "source": [
    "# 2h. Create NER entity visualization of words in one of the docs"
   ]
  },
  {
   "cell_type": "code",
   "execution_count": 74,
   "id": "74e16a84",
   "metadata": {},
   "outputs": [
    {
     "data": {
      "text/html": [
       "<span class=\"tex2jax_ignore\"><div class=\"entities\" style=\"line-height: 2.5; direction: ltr\">A joint meeting of \n",
       "<mark class=\"entity\" style=\"background: #7aecec; padding: 0.45em 0.6em; margin: 0 0.25em; line-height: 1; border-radius: 0.35em;\">\n",
       "    the Federal Open Market Committee\n",
       "    <span style=\"font-size: 0.8em; font-weight: bold; line-height: 1; border-radius: 0.35em; vertical-align: middle; margin-left: 0.5rem\">ORG</span>\n",
       "</mark>\n",
       " and \n",
       "<mark class=\"entity\" style=\"background: #7aecec; padding: 0.45em 0.6em; margin: 0 0.25em; line-height: 1; border-radius: 0.35em;\">\n",
       "    the Board of Governors\n",
       "    <span style=\"font-size: 0.8em; font-weight: bold; line-height: 1; border-radius: 0.35em; vertical-align: middle; margin-left: 0.5rem\">ORG</span>\n",
       "</mark>\n",
       " was held in the offices of \n",
       "<mark class=\"entity\" style=\"background: #7aecec; padding: 0.45em 0.6em; margin: 0 0.25em; line-height: 1; border-radius: 0.35em;\">\n",
       "    the Board of Governors\n",
       "    <span style=\"font-size: 0.8em; font-weight: bold; line-height: 1; border-radius: 0.35em; vertical-align: middle; margin-left: 0.5rem\">ORG</span>\n",
       "</mark>\n",
       " of \n",
       "<mark class=\"entity\" style=\"background: #7aecec; padding: 0.45em 0.6em; margin: 0 0.25em; line-height: 1; border-radius: 0.35em;\">\n",
       "    the Federal Reserve System\n",
       "    <span style=\"font-size: 0.8em; font-weight: bold; line-height: 1; border-radius: 0.35em; vertical-align: middle; margin-left: 0.5rem\">ORG</span>\n",
       "</mark>\n",
       " in \n",
       "<mark class=\"entity\" style=\"background: #feca74; padding: 0.45em 0.6em; margin: 0 0.25em; line-height: 1; border-radius: 0.35em;\">\n",
       "    Washington\n",
       "    <span style=\"font-size: 0.8em; font-weight: bold; line-height: 1; border-radius: 0.35em; vertical-align: middle; margin-left: 0.5rem\">GPE</span>\n",
       "</mark>\n",
       ", \n",
       "<mark class=\"entity\" style=\"background: #feca74; padding: 0.45em 0.6em; margin: 0 0.25em; line-height: 1; border-radius: 0.35em;\">\n",
       "    D.C.\n",
       "    <span style=\"font-size: 0.8em; font-weight: bold; line-height: 1; border-radius: 0.35em; vertical-align: middle; margin-left: 0.5rem\">GPE</span>\n",
       "</mark>\n",
       ", on \n",
       "<mark class=\"entity\" style=\"background: #bfe1d9; padding: 0.45em 0.6em; margin: 0 0.25em; line-height: 1; border-radius: 0.35em;\">\n",
       "    Tuesday, December 18, 2018\n",
       "    <span style=\"font-size: 0.8em; font-weight: bold; line-height: 1; border-radius: 0.35em; vertical-align: middle; margin-left: 0.5rem\">DATE</span>\n",
       "</mark>\n",
       ", at \n",
       "<mark class=\"entity\" style=\"background: #bfe1d9; padding: 0.45em 0.6em; margin: 0 0.25em; line-height: 1; border-radius: 0.35em;\">\n",
       "    1:00 p.m.\n",
       "    <span style=\"font-size: 0.8em; font-weight: bold; line-height: 1; border-radius: 0.35em; vertical-align: middle; margin-left: 0.5rem\">TIME</span>\n",
       "</mark>\n",
       " and continued on \n",
       "<mark class=\"entity\" style=\"background: #bfe1d9; padding: 0.45em 0.6em; margin: 0 0.25em; line-height: 1; border-radius: 0.35em;\">\n",
       "    Wednesday, December 19, 2018\n",
       "    <span style=\"font-size: 0.8em; font-weight: bold; line-height: 1; border-radius: 0.35em; vertical-align: middle; margin-left: 0.5rem\">DATE</span>\n",
       "</mark>\n",
       ", at \n",
       "<mark class=\"entity\" style=\"background: #bfe1d9; padding: 0.45em 0.6em; margin: 0 0.25em; line-height: 1; border-radius: 0.35em;\">\n",
       "    9:00 a.m.1  PRESENT:\n",
       "    <span style=\"font-size: 0.8em; font-weight: bold; line-height: 1; border-radius: 0.35em; vertical-align: middle; margin-left: 0.5rem\">TIME</span>\n",
       "</mark>\n",
       "  \n",
       "<mark class=\"entity\" style=\"background: #aa9cfc; padding: 0.45em 0.6em; margin: 0 0.25em; line-height: 1; border-radius: 0.35em;\">\n",
       "    Jerome H. Powell\n",
       "    <span style=\"font-size: 0.8em; font-weight: bold; line-height: 1; border-radius: 0.35em; vertical-align: middle; margin-left: 0.5rem\">PERSON</span>\n",
       "</mark>\n",
       ", Chairman  \n",
       "<mark class=\"entity\" style=\"background: #aa9cfc; padding: 0.45em 0.6em; margin: 0 0.25em; line-height: 1; border-radius: 0.35em;\">\n",
       "    John C. Williams\n",
       "    <span style=\"font-size: 0.8em; font-weight: bold; line-height: 1; border-radius: 0.35em; vertical-align: middle; margin-left: 0.5rem\">PERSON</span>\n",
       "</mark>\n",
       ", Vice Chairman  \n",
       "<mark class=\"entity\" style=\"background: #aa9cfc; padding: 0.45em 0.6em; margin: 0 0.25em; line-height: 1; border-radius: 0.35em;\">\n",
       "    Thomas I. Barkin  \n",
       "    <span style=\"font-size: 0.8em; font-weight: bold; line-height: 1; border-radius: 0.35em; vertical-align: middle; margin-left: 0.5rem\">PERSON</span>\n",
       "</mark>\n",
       "\n",
       "<mark class=\"entity\" style=\"background: #aa9cfc; padding: 0.45em 0.6em; margin: 0 0.25em; line-height: 1; border-radius: 0.35em;\">\n",
       "    Raphael W. Bostic\n",
       "    <span style=\"font-size: 0.8em; font-weight: bold; line-height: 1; border-radius: 0.35em; vertical-align: middle; margin-left: 0.5rem\">PERSON</span>\n",
       "</mark>\n",
       "  \n",
       "<mark class=\"entity\" style=\"background: #aa9cfc; padding: 0.45em 0.6em; margin: 0 0.25em; line-height: 1; border-radius: 0.35em;\">\n",
       "    Michelle W. Bowman  \n",
       "    <span style=\"font-size: 0.8em; font-weight: bold; line-height: 1; border-radius: 0.35em; vertical-align: middle; margin-left: 0.5rem\">PERSON</span>\n",
       "</mark>\n",
       "\n",
       "<mark class=\"entity\" style=\"background: #aa9cfc; padding: 0.45em 0.6em; margin: 0 0.25em; line-height: 1; border-radius: 0.35em;\">\n",
       "    Lael Brainard  Richard H. Clarida\n",
       "    <span style=\"font-size: 0.8em; font-weight: bold; line-height: 1; border-radius: 0.35em; vertical-align: middle; margin-left: 0.5rem\">PERSON</span>\n",
       "</mark>\n",
       " </div></span>"
      ],
      "text/plain": [
       "<IPython.core.display.HTML object>"
      ]
     },
     "metadata": {},
     "output_type": "display_data"
    }
   ],
   "source": [
    "# Create NER ent diagram\n",
    "from pathlib import Path\n",
    "\n",
    "# Take subsample of test doc above\n",
    "ner_sample_text = test_doc[209:302]\n",
    "\n",
    "# Review\n",
    "#ner_sample_text\n",
    "\n",
    "# View sample of entities\n",
    "html = displacy.render(ner_sample_text,style=\"ent\")\n",
    "html\n",
    "\n",
    "# Output picture as web page\n",
    "#serve = displacy.serve(ner_sample_text,style=\"ent\",auto_select_port=True)\n",
    "#serve"
   ]
  },
  {
   "cell_type": "markdown",
   "id": "9e54afb9",
   "metadata": {},
   "source": [
    "# 2h.  Create function to create NER PERSON df for all documents"
   ]
  },
  {
   "cell_type": "code",
   "execution_count": 75,
   "id": "60212723",
   "metadata": {},
   "outputs": [],
   "source": [
    "# All in one function to create df of most commonly named people\n",
    "\n",
    "# Create empty list to hold each indiv df\n",
    "top_named_entities = []\n",
    "\n",
    "# Create for loop to go through each doc\n",
    "for i in mins_dataset['Federal_Reserve_Mins']:\n",
    "    \n",
    "    # Run through NLP model\n",
    "    new_doc = nlp(i)\n",
    "    \n",
    "    # Extract all \"PERSON\" entries\n",
    "    people_entities = [entity.text for entity in new_doc.ents if entity.label_ == \"PERSON\"]\n",
    "    \n",
    "    # Get top XX \"PERSON\" entities\n",
    "    top_XX_people_entities = Counter(people_entities).most_common(5)\n",
    "    \n",
    "    # Create mini_df for each doc\n",
    "    d = defaultdict(list)\n",
    "    for a, b in top_XX_people_entities:\n",
    "        d[a].append(b)\n",
    "    top_XX_people_df = pd.DataFrame(d)\n",
    "    \n",
    "    # Add each mini_df to the list\n",
    "    top_named_entities.append(top_XX_people_df)\n",
    "\n",
    "# Combine all mini_dfs into one large df\n",
    "ner_df = pd.concat(top_named_entities)\n",
    "\n",
    "# Fill NaNs with 0\n",
    "ner_df = ner_df.fillna(0)\n",
    "\n",
    "# Set index to match dates in FOMC minutes data\n",
    "ner_df.index = mins_dataset.index"
   ]
  },
  {
   "cell_type": "code",
   "execution_count": 76,
   "id": "7184a405",
   "metadata": {},
   "outputs": [
    {
     "data": {
      "text/plain": [
       "(123, 72)"
      ]
     },
     "execution_count": 76,
     "metadata": {},
     "output_type": "execute_result"
    }
   ],
   "source": [
    "# Review shape of newly created df\n",
    "ner_df.shape"
   ]
  },
  {
   "cell_type": "code",
   "execution_count": 77,
   "id": "c0411a27",
   "metadata": {},
   "outputs": [
    {
     "data": {
      "text/html": [
       "<div>\n",
       "<style scoped>\n",
       "    .dataframe tbody tr th:only-of-type {\n",
       "        vertical-align: middle;\n",
       "    }\n",
       "\n",
       "    .dataframe tbody tr th {\n",
       "        vertical-align: top;\n",
       "    }\n",
       "\n",
       "    .dataframe thead th {\n",
       "        text-align: right;\n",
       "    }\n",
       "</style>\n",
       "<table border=\"1\" class=\"dataframe\">\n",
       "  <thead>\n",
       "    <tr style=\"text-align: right;\">\n",
       "      <th></th>\n",
       "      <th>Associate Director</th>\n",
       "      <th>Brexit</th>\n",
       "      <th>Jerome H. Powell</th>\n",
       "      <th>John C. Williams</th>\n",
       "      <th>Raphael W. Bostic</th>\n",
       "      <th>Fisher</th>\n",
       "      <th>Plosser</th>\n",
       "      <th>Bernanke</th>\n",
       "      <th>Geithner</th>\n",
       "      <th>Yellen</th>\n",
       "      <th>...</th>\n",
       "      <th>YCT</th>\n",
       "      <th>FIMA</th>\n",
       "      <th>Thomas</th>\n",
       "      <th>Thomas Laubach</th>\n",
       "      <th>Chair Powell</th>\n",
       "      <th>COVID-19</th>\n",
       "      <th>Christopher J. Waller</th>\n",
       "      <th>Lisa D. Cook</th>\n",
       "      <th>Austan D. Goolsbee</th>\n",
       "      <th>Lorie K. Logan</th>\n",
       "    </tr>\n",
       "  </thead>\n",
       "  <tbody>\n",
       "    <tr>\n",
       "      <th>2008-01-30</th>\n",
       "      <td>3.0</td>\n",
       "      <td>3.0</td>\n",
       "      <td>2.0</td>\n",
       "      <td>2.0</td>\n",
       "      <td>2.0</td>\n",
       "      <td>0.0</td>\n",
       "      <td>0.0</td>\n",
       "      <td>0.0</td>\n",
       "      <td>0.0</td>\n",
       "      <td>0.0</td>\n",
       "      <td>...</td>\n",
       "      <td>0.0</td>\n",
       "      <td>0.0</td>\n",
       "      <td>0.0</td>\n",
       "      <td>0.0</td>\n",
       "      <td>0.0</td>\n",
       "      <td>0.0</td>\n",
       "      <td>0.0</td>\n",
       "      <td>0.0</td>\n",
       "      <td>0.0</td>\n",
       "      <td>0.0</td>\n",
       "    </tr>\n",
       "    <tr>\n",
       "      <th>2008-03-18</th>\n",
       "      <td>0.0</td>\n",
       "      <td>0.0</td>\n",
       "      <td>0.0</td>\n",
       "      <td>0.0</td>\n",
       "      <td>0.0</td>\n",
       "      <td>6.0</td>\n",
       "      <td>4.0</td>\n",
       "      <td>3.0</td>\n",
       "      <td>3.0</td>\n",
       "      <td>3.0</td>\n",
       "      <td>...</td>\n",
       "      <td>0.0</td>\n",
       "      <td>0.0</td>\n",
       "      <td>0.0</td>\n",
       "      <td>0.0</td>\n",
       "      <td>0.0</td>\n",
       "      <td>0.0</td>\n",
       "      <td>0.0</td>\n",
       "      <td>0.0</td>\n",
       "      <td>0.0</td>\n",
       "      <td>0.0</td>\n",
       "    </tr>\n",
       "    <tr>\n",
       "      <th>2008-04-30</th>\n",
       "      <td>0.0</td>\n",
       "      <td>0.0</td>\n",
       "      <td>0.0</td>\n",
       "      <td>0.0</td>\n",
       "      <td>0.0</td>\n",
       "      <td>8.0</td>\n",
       "      <td>5.0</td>\n",
       "      <td>5.0</td>\n",
       "      <td>3.0</td>\n",
       "      <td>0.0</td>\n",
       "      <td>...</td>\n",
       "      <td>0.0</td>\n",
       "      <td>0.0</td>\n",
       "      <td>0.0</td>\n",
       "      <td>0.0</td>\n",
       "      <td>0.0</td>\n",
       "      <td>0.0</td>\n",
       "      <td>0.0</td>\n",
       "      <td>0.0</td>\n",
       "      <td>0.0</td>\n",
       "      <td>0.0</td>\n",
       "    </tr>\n",
       "    <tr>\n",
       "      <th>2008-08-05</th>\n",
       "      <td>0.0</td>\n",
       "      <td>0.0</td>\n",
       "      <td>0.0</td>\n",
       "      <td>0.0</td>\n",
       "      <td>0.0</td>\n",
       "      <td>0.0</td>\n",
       "      <td>3.0</td>\n",
       "      <td>2.0</td>\n",
       "      <td>2.0</td>\n",
       "      <td>0.0</td>\n",
       "      <td>...</td>\n",
       "      <td>0.0</td>\n",
       "      <td>0.0</td>\n",
       "      <td>0.0</td>\n",
       "      <td>0.0</td>\n",
       "      <td>0.0</td>\n",
       "      <td>0.0</td>\n",
       "      <td>0.0</td>\n",
       "      <td>0.0</td>\n",
       "      <td>0.0</td>\n",
       "      <td>0.0</td>\n",
       "    </tr>\n",
       "    <tr>\n",
       "      <th>2008-09-16</th>\n",
       "      <td>0.0</td>\n",
       "      <td>0.0</td>\n",
       "      <td>0.0</td>\n",
       "      <td>0.0</td>\n",
       "      <td>0.0</td>\n",
       "      <td>0.0</td>\n",
       "      <td>0.0</td>\n",
       "      <td>2.0</td>\n",
       "      <td>0.0</td>\n",
       "      <td>0.0</td>\n",
       "      <td>...</td>\n",
       "      <td>0.0</td>\n",
       "      <td>0.0</td>\n",
       "      <td>0.0</td>\n",
       "      <td>0.0</td>\n",
       "      <td>0.0</td>\n",
       "      <td>0.0</td>\n",
       "      <td>0.0</td>\n",
       "      <td>0.0</td>\n",
       "      <td>0.0</td>\n",
       "      <td>0.0</td>\n",
       "    </tr>\n",
       "  </tbody>\n",
       "</table>\n",
       "<p>5 rows × 72 columns</p>\n",
       "</div>"
      ],
      "text/plain": [
       "            Associate Director  Brexit  Jerome H. Powell  John C. Williams   \n",
       "2008-01-30                 3.0     3.0               2.0               2.0  \\\n",
       "2008-03-18                 0.0     0.0               0.0               0.0   \n",
       "2008-04-30                 0.0     0.0               0.0               0.0   \n",
       "2008-08-05                 0.0     0.0               0.0               0.0   \n",
       "2008-09-16                 0.0     0.0               0.0               0.0   \n",
       "\n",
       "            Raphael W. Bostic  Fisher  Plosser  Bernanke  Geithner  Yellen   \n",
       "2008-01-30                2.0     0.0      0.0       0.0       0.0     0.0  \\\n",
       "2008-03-18                0.0     6.0      4.0       3.0       3.0     3.0   \n",
       "2008-04-30                0.0     8.0      5.0       5.0       3.0     0.0   \n",
       "2008-08-05                0.0     0.0      3.0       2.0       2.0     0.0   \n",
       "2008-09-16                0.0     0.0      0.0       2.0       0.0     0.0   \n",
       "\n",
       "            ...  YCT  FIMA  Thomas  Thomas Laubach  Chair Powell  COVID-19   \n",
       "2008-01-30  ...  0.0   0.0     0.0             0.0           0.0       0.0  \\\n",
       "2008-03-18  ...  0.0   0.0     0.0             0.0           0.0       0.0   \n",
       "2008-04-30  ...  0.0   0.0     0.0             0.0           0.0       0.0   \n",
       "2008-08-05  ...  0.0   0.0     0.0             0.0           0.0       0.0   \n",
       "2008-09-16  ...  0.0   0.0     0.0             0.0           0.0       0.0   \n",
       "\n",
       "            Christopher J. Waller  Lisa D. Cook  Austan D. Goolsbee   \n",
       "2008-01-30                    0.0           0.0                 0.0  \\\n",
       "2008-03-18                    0.0           0.0                 0.0   \n",
       "2008-04-30                    0.0           0.0                 0.0   \n",
       "2008-08-05                    0.0           0.0                 0.0   \n",
       "2008-09-16                    0.0           0.0                 0.0   \n",
       "\n",
       "            Lorie K. Logan  \n",
       "2008-01-30             0.0  \n",
       "2008-03-18             0.0  \n",
       "2008-04-30             0.0  \n",
       "2008-08-05             0.0  \n",
       "2008-09-16             0.0  \n",
       "\n",
       "[5 rows x 72 columns]"
      ]
     },
     "execution_count": 77,
     "metadata": {},
     "output_type": "execute_result"
    }
   ],
   "source": [
    "# Review entries\n",
    "ner_df.head()"
   ]
  },
  {
   "cell_type": "code",
   "execution_count": 78,
   "id": "7705bcc1",
   "metadata": {},
   "outputs": [
    {
     "data": {
      "text/plain": [
       "Index(['Associate Director', 'Brexit', 'Jerome H. Powell', 'John C. Williams',\n",
       "       'Raphael W. Bostic', 'Fisher', 'Plosser', 'Bernanke', 'Geithner',\n",
       "       'Yellen', 'SecretaryMr', 'Lockhart', 'Cumming', 'GSE', 'KrosznerMs',\n",
       "       'PianaltoMr', 'Associate Directors', 'MMIFF', 'MBS', 'Dudley',\n",
       "       'Williams', 'Sack', 'Bid', 'Lacker', 'B. Any', 'Kohn', 'ChairmanMr',\n",
       "       'Duke', 'William C. Dudley', 'James Bullard', 'Thomas M. Hoenig',\n",
       "       'Hoenig', 'Ben Bernanke', 'Elizabeth Duke', 'Charles L. Evans',\n",
       "       'Richard W. Fisher', 'Sandra Pianalto', 'Daniel K. Tarullo',\n",
       "       'William B. English', 'Charles I. Plosser', 'Loretta J. Mester',\n",
       "       'Janet L. Yellen', 'Narayana Kocherlakota', 'Kocherlakota',\n",
       "       'Senior Adviser', 'Stanley Fischer', 'Brian F. Madigan',\n",
       "       'Patrick Harker', 'Tools', 'Mester', 'Counsel', 'Jeffrey M. Lacker',\n",
       "       'Kashkari', 'Mark L. Mullinix', 'Hurricanes Harvey', 'Irma', 'Maria',\n",
       "       'Randal K. Quarles', 'James A. Clouse', 'Esther L. George',\n",
       "       'Robert S. Kaplan', 'Neel Kashkari', 'YCT', 'FIMA', 'Thomas',\n",
       "       'Thomas Laubach', 'Chair Powell', 'COVID-19', 'Christopher J. Waller',\n",
       "       'Lisa D. Cook', 'Austan D. Goolsbee', 'Lorie K. Logan'],\n",
       "      dtype='object')"
      ]
     },
     "execution_count": 78,
     "metadata": {},
     "output_type": "execute_result"
    }
   ],
   "source": [
    "# Review column names\n",
    "ner_df.columns"
   ]
  },
  {
   "cell_type": "code",
   "execution_count": 79,
   "id": "6a69f483",
   "metadata": {},
   "outputs": [
    {
     "data": {
      "text/plain": [
       "123"
      ]
     },
     "execution_count": 79,
     "metadata": {},
     "output_type": "execute_result"
    }
   ],
   "source": [
    "# Confirm length of combined_df\n",
    "len(ner_df)"
   ]
  },
  {
   "cell_type": "code",
   "execution_count": 80,
   "id": "e09febf7",
   "metadata": {},
   "outputs": [],
   "source": [
    "# Save NER PERSON DataFrame to CSV file\n",
    "ner_df.to_csv('NLP_FOMC_people_NEW_TEST_DATE.csv', index=True)"
   ]
  },
  {
   "cell_type": "code",
   "execution_count": 81,
   "id": "08402c27",
   "metadata": {},
   "outputs": [
    {
     "data": {
      "text/html": [
       "<div>\n",
       "<style scoped>\n",
       "    .dataframe tbody tr th:only-of-type {\n",
       "        vertical-align: middle;\n",
       "    }\n",
       "\n",
       "    .dataframe tbody tr th {\n",
       "        vertical-align: top;\n",
       "    }\n",
       "\n",
       "    .dataframe thead th {\n",
       "        text-align: right;\n",
       "    }\n",
       "</style>\n",
       "<table border=\"1\" class=\"dataframe\">\n",
       "  <thead>\n",
       "    <tr style=\"text-align: right;\">\n",
       "      <th></th>\n",
       "      <th>Associate Director</th>\n",
       "      <th>Brexit</th>\n",
       "      <th>Jerome H. Powell</th>\n",
       "      <th>John C. Williams</th>\n",
       "      <th>Raphael W. Bostic</th>\n",
       "      <th>Fisher</th>\n",
       "      <th>Plosser</th>\n",
       "      <th>Bernanke</th>\n",
       "      <th>Geithner</th>\n",
       "      <th>Yellen</th>\n",
       "      <th>...</th>\n",
       "      <th>YCT</th>\n",
       "      <th>FIMA</th>\n",
       "      <th>Thomas</th>\n",
       "      <th>Thomas Laubach</th>\n",
       "      <th>Chair Powell</th>\n",
       "      <th>COVID-19</th>\n",
       "      <th>Christopher J. Waller</th>\n",
       "      <th>Lisa D. Cook</th>\n",
       "      <th>Austan D. Goolsbee</th>\n",
       "      <th>Lorie K. Logan</th>\n",
       "    </tr>\n",
       "  </thead>\n",
       "  <tbody>\n",
       "    <tr>\n",
       "      <th>2022-12-14</th>\n",
       "      <td>6.0</td>\n",
       "      <td>0.0</td>\n",
       "      <td>2.0</td>\n",
       "      <td>2.0</td>\n",
       "      <td>0.0</td>\n",
       "      <td>0.0</td>\n",
       "      <td>0.0</td>\n",
       "      <td>0.0</td>\n",
       "      <td>0.0</td>\n",
       "      <td>0.0</td>\n",
       "      <td>...</td>\n",
       "      <td>0.0</td>\n",
       "      <td>0.0</td>\n",
       "      <td>0.0</td>\n",
       "      <td>0.0</td>\n",
       "      <td>0.0</td>\n",
       "      <td>0.0</td>\n",
       "      <td>0.0</td>\n",
       "      <td>2.0</td>\n",
       "      <td>0.0</td>\n",
       "      <td>0.0</td>\n",
       "    </tr>\n",
       "    <tr>\n",
       "      <th>2023-02-01</th>\n",
       "      <td>0.0</td>\n",
       "      <td>0.0</td>\n",
       "      <td>2.0</td>\n",
       "      <td>3.0</td>\n",
       "      <td>0.0</td>\n",
       "      <td>0.0</td>\n",
       "      <td>0.0</td>\n",
       "      <td>0.0</td>\n",
       "      <td>0.0</td>\n",
       "      <td>0.0</td>\n",
       "      <td>...</td>\n",
       "      <td>0.0</td>\n",
       "      <td>0.0</td>\n",
       "      <td>0.0</td>\n",
       "      <td>0.0</td>\n",
       "      <td>0.0</td>\n",
       "      <td>0.0</td>\n",
       "      <td>0.0</td>\n",
       "      <td>0.0</td>\n",
       "      <td>3.0</td>\n",
       "      <td>3.0</td>\n",
       "    </tr>\n",
       "    <tr>\n",
       "      <th>2023-03-22</th>\n",
       "      <td>3.0</td>\n",
       "      <td>0.0</td>\n",
       "      <td>2.0</td>\n",
       "      <td>2.0</td>\n",
       "      <td>0.0</td>\n",
       "      <td>0.0</td>\n",
       "      <td>0.0</td>\n",
       "      <td>0.0</td>\n",
       "      <td>0.0</td>\n",
       "      <td>0.0</td>\n",
       "      <td>...</td>\n",
       "      <td>0.0</td>\n",
       "      <td>0.0</td>\n",
       "      <td>0.0</td>\n",
       "      <td>0.0</td>\n",
       "      <td>0.0</td>\n",
       "      <td>0.0</td>\n",
       "      <td>0.0</td>\n",
       "      <td>0.0</td>\n",
       "      <td>2.0</td>\n",
       "      <td>0.0</td>\n",
       "    </tr>\n",
       "    <tr>\n",
       "      <th>2023-05-03</th>\n",
       "      <td>0.0</td>\n",
       "      <td>0.0</td>\n",
       "      <td>2.0</td>\n",
       "      <td>2.0</td>\n",
       "      <td>0.0</td>\n",
       "      <td>0.0</td>\n",
       "      <td>0.0</td>\n",
       "      <td>0.0</td>\n",
       "      <td>0.0</td>\n",
       "      <td>0.0</td>\n",
       "      <td>...</td>\n",
       "      <td>0.0</td>\n",
       "      <td>0.0</td>\n",
       "      <td>0.0</td>\n",
       "      <td>0.0</td>\n",
       "      <td>0.0</td>\n",
       "      <td>0.0</td>\n",
       "      <td>0.0</td>\n",
       "      <td>0.0</td>\n",
       "      <td>2.0</td>\n",
       "      <td>2.0</td>\n",
       "    </tr>\n",
       "    <tr>\n",
       "      <th>2023-06-14</th>\n",
       "      <td>4.0</td>\n",
       "      <td>0.0</td>\n",
       "      <td>2.0</td>\n",
       "      <td>2.0</td>\n",
       "      <td>0.0</td>\n",
       "      <td>0.0</td>\n",
       "      <td>0.0</td>\n",
       "      <td>0.0</td>\n",
       "      <td>0.0</td>\n",
       "      <td>0.0</td>\n",
       "      <td>...</td>\n",
       "      <td>0.0</td>\n",
       "      <td>0.0</td>\n",
       "      <td>0.0</td>\n",
       "      <td>0.0</td>\n",
       "      <td>0.0</td>\n",
       "      <td>0.0</td>\n",
       "      <td>0.0</td>\n",
       "      <td>0.0</td>\n",
       "      <td>2.0</td>\n",
       "      <td>0.0</td>\n",
       "    </tr>\n",
       "  </tbody>\n",
       "</table>\n",
       "<p>5 rows × 72 columns</p>\n",
       "</div>"
      ],
      "text/plain": [
       "            Associate Director  Brexit  Jerome H. Powell  John C. Williams   \n",
       "2022-12-14                 6.0     0.0               2.0               2.0  \\\n",
       "2023-02-01                 0.0     0.0               2.0               3.0   \n",
       "2023-03-22                 3.0     0.0               2.0               2.0   \n",
       "2023-05-03                 0.0     0.0               2.0               2.0   \n",
       "2023-06-14                 4.0     0.0               2.0               2.0   \n",
       "\n",
       "            Raphael W. Bostic  Fisher  Plosser  Bernanke  Geithner  Yellen   \n",
       "2022-12-14                0.0     0.0      0.0       0.0       0.0     0.0  \\\n",
       "2023-02-01                0.0     0.0      0.0       0.0       0.0     0.0   \n",
       "2023-03-22                0.0     0.0      0.0       0.0       0.0     0.0   \n",
       "2023-05-03                0.0     0.0      0.0       0.0       0.0     0.0   \n",
       "2023-06-14                0.0     0.0      0.0       0.0       0.0     0.0   \n",
       "\n",
       "            ...  YCT  FIMA  Thomas  Thomas Laubach  Chair Powell  COVID-19   \n",
       "2022-12-14  ...  0.0   0.0     0.0             0.0           0.0       0.0  \\\n",
       "2023-02-01  ...  0.0   0.0     0.0             0.0           0.0       0.0   \n",
       "2023-03-22  ...  0.0   0.0     0.0             0.0           0.0       0.0   \n",
       "2023-05-03  ...  0.0   0.0     0.0             0.0           0.0       0.0   \n",
       "2023-06-14  ...  0.0   0.0     0.0             0.0           0.0       0.0   \n",
       "\n",
       "            Christopher J. Waller  Lisa D. Cook  Austan D. Goolsbee   \n",
       "2022-12-14                    0.0           2.0                 0.0  \\\n",
       "2023-02-01                    0.0           0.0                 3.0   \n",
       "2023-03-22                    0.0           0.0                 2.0   \n",
       "2023-05-03                    0.0           0.0                 2.0   \n",
       "2023-06-14                    0.0           0.0                 2.0   \n",
       "\n",
       "            Lorie K. Logan  \n",
       "2022-12-14             0.0  \n",
       "2023-02-01             3.0  \n",
       "2023-03-22             0.0  \n",
       "2023-05-03             2.0  \n",
       "2023-06-14             0.0  \n",
       "\n",
       "[5 rows x 72 columns]"
      ]
     },
     "execution_count": 81,
     "metadata": {},
     "output_type": "execute_result"
    }
   ],
   "source": [
    "# Download of NER csv file and review\n",
    "test_fomc_people = pd.read_csv('NLP_FOMC_people_NEW_TEST_DATE.csv',index_col=0)\n",
    "test_fomc_people.tail()"
   ]
  },
  {
   "cell_type": "markdown",
   "id": "27f62497",
   "metadata": {},
   "source": [
    "# 2h.  NER - Analyze counts of select Chairs and known Hawkish and Dovish members"
   ]
  },
  {
   "cell_type": "markdown",
   "id": "f0546938",
   "metadata": {},
   "source": [
    "# Dovish members"
   ]
  },
  {
   "cell_type": "code",
   "execution_count": 82,
   "id": "9b696277",
   "metadata": {},
   "outputs": [
    {
     "data": {
      "text/plain": [
       "32.0"
      ]
     },
     "execution_count": 82,
     "metadata": {},
     "output_type": "execute_result"
    }
   ],
   "source": [
    "# How many combined mentions of a person?\n",
    "ner_df['Raphael W. Bostic'].sum()"
   ]
  },
  {
   "cell_type": "markdown",
   "id": "3a1e5e82",
   "metadata": {},
   "source": [
    "# Hawkish members"
   ]
  },
  {
   "cell_type": "code",
   "execution_count": 83,
   "id": "df2ee0f0",
   "metadata": {},
   "outputs": [
    {
     "data": {
      "text/plain": [
       "28.0"
      ]
     },
     "execution_count": 83,
     "metadata": {},
     "output_type": "execute_result"
    }
   ],
   "source": [
    "# How many combined mentions of a person?\n",
    "ner_df['James Bullard'].sum()"
   ]
  },
  {
   "cell_type": "markdown",
   "id": "7de1f3f6",
   "metadata": {},
   "source": [
    "# Centrists & Chairs"
   ]
  },
  {
   "cell_type": "code",
   "execution_count": 84,
   "id": "6d4363bd",
   "metadata": {},
   "outputs": [
    {
     "data": {
      "text/plain": [
       "39.0"
      ]
     },
     "execution_count": 84,
     "metadata": {},
     "output_type": "execute_result"
    }
   ],
   "source": [
    "# How many combined mentions of a person?\n",
    "ner_df['Bernanke'].sum()"
   ]
  },
  {
   "cell_type": "code",
   "execution_count": 85,
   "id": "6a34352f",
   "metadata": {},
   "outputs": [
    {
     "data": {
      "text/plain": [
       "66.0"
      ]
     },
     "execution_count": 85,
     "metadata": {},
     "output_type": "execute_result"
    }
   ],
   "source": [
    "# How many combined mentions of a person?\n",
    "ner_df['Ben Bernanke'].sum()"
   ]
  },
  {
   "cell_type": "code",
   "execution_count": 86,
   "id": "c03c1feb",
   "metadata": {},
   "outputs": [
    {
     "data": {
      "text/plain": [
       "85.0"
      ]
     },
     "execution_count": 86,
     "metadata": {},
     "output_type": "execute_result"
    }
   ],
   "source": [
    "# How many combined mentions of a person?\n",
    "ner_df['John C. Williams'].sum()"
   ]
  },
  {
   "cell_type": "code",
   "execution_count": 87,
   "id": "b045659b",
   "metadata": {},
   "outputs": [
    {
     "data": {
      "text/plain": [
       "133.0"
      ]
     },
     "execution_count": 87,
     "metadata": {},
     "output_type": "execute_result"
    }
   ],
   "source": [
    "# How many combined mentions of a person?\n",
    "ner_df['Jerome H. Powell'].sum()"
   ]
  },
  {
   "cell_type": "code",
   "execution_count": 88,
   "id": "4f373412",
   "metadata": {},
   "outputs": [
    {
     "data": {
      "text/plain": [
       "30.0"
      ]
     },
     "execution_count": 88,
     "metadata": {},
     "output_type": "execute_result"
    }
   ],
   "source": [
    "# How many combined mentions of a person?\n",
    "ner_df['Janet L. Yellen'].sum()"
   ]
  },
  {
   "cell_type": "markdown",
   "id": "8db638cd",
   "metadata": {},
   "source": [
    "# 2i.  Create consolidated CSV file of output -- All metrics except USE scores and Named Entities"
   ]
  },
  {
   "cell_type": "code",
   "execution_count": 89,
   "id": "b9cee7f6",
   "metadata": {},
   "outputs": [
    {
     "data": {
      "text/html": [
       "<div>\n",
       "<style scoped>\n",
       "    .dataframe tbody tr th:only-of-type {\n",
       "        vertical-align: middle;\n",
       "    }\n",
       "\n",
       "    .dataframe tbody tr th {\n",
       "        vertical-align: top;\n",
       "    }\n",
       "\n",
       "    .dataframe thead th {\n",
       "        text-align: right;\n",
       "    }\n",
       "</style>\n",
       "<table border=\"1\" class=\"dataframe\">\n",
       "  <thead>\n",
       "    <tr style=\"text-align: right;\">\n",
       "      <th></th>\n",
       "      <th>cosine_sim</th>\n",
       "      <th>bertopic_num</th>\n",
       "      <th>LDA_1</th>\n",
       "      <th>LDA_2</th>\n",
       "      <th>LDA_3</th>\n",
       "      <th>LDA_4</th>\n",
       "      <th>LDA_5</th>\n",
       "      <th>LDA_6</th>\n",
       "      <th>LDA_7</th>\n",
       "      <th>LDA_8</th>\n",
       "      <th>...</th>\n",
       "      <th>d2v_4</th>\n",
       "      <th>d2v_5</th>\n",
       "      <th>d2v_6</th>\n",
       "      <th>d2v_7</th>\n",
       "      <th>d2v_8</th>\n",
       "      <th>d2v_9</th>\n",
       "      <th>d2v_10</th>\n",
       "      <th>d2v_mean</th>\n",
       "      <th>d2v_umap_first_component</th>\n",
       "      <th>d2v_umap_second_component</th>\n",
       "    </tr>\n",
       "  </thead>\n",
       "  <tbody>\n",
       "    <tr>\n",
       "      <th>2008-01-30</th>\n",
       "      <td>0.000000</td>\n",
       "      <td>3</td>\n",
       "      <td>0.376015</td>\n",
       "      <td>0.553198</td>\n",
       "      <td>0.000091</td>\n",
       "      <td>0.013554</td>\n",
       "      <td>0.024292</td>\n",
       "      <td>0.000091</td>\n",
       "      <td>0.000091</td>\n",
       "      <td>0.000091</td>\n",
       "      <td>...</td>\n",
       "      <td>1.011046</td>\n",
       "      <td>-0.474268</td>\n",
       "      <td>0.029945</td>\n",
       "      <td>-0.101560</td>\n",
       "      <td>-1.440602</td>\n",
       "      <td>-0.188843</td>\n",
       "      <td>0.345804</td>\n",
       "      <td>-0.343181</td>\n",
       "      <td>-0.572112</td>\n",
       "      <td>19.297571</td>\n",
       "    </tr>\n",
       "    <tr>\n",
       "      <th>2008-03-18</th>\n",
       "      <td>0.647596</td>\n",
       "      <td>0</td>\n",
       "      <td>0.637120</td>\n",
       "      <td>0.000119</td>\n",
       "      <td>0.034395</td>\n",
       "      <td>0.134116</td>\n",
       "      <td>0.169393</td>\n",
       "      <td>0.000119</td>\n",
       "      <td>0.000738</td>\n",
       "      <td>0.023881</td>\n",
       "      <td>...</td>\n",
       "      <td>0.923967</td>\n",
       "      <td>0.895274</td>\n",
       "      <td>0.691911</td>\n",
       "      <td>0.966539</td>\n",
       "      <td>-0.039956</td>\n",
       "      <td>-1.344442</td>\n",
       "      <td>-0.430589</td>\n",
       "      <td>-0.015524</td>\n",
       "      <td>-1.186404</td>\n",
       "      <td>6.272410</td>\n",
       "    </tr>\n",
       "    <tr>\n",
       "      <th>2008-04-30</th>\n",
       "      <td>0.819067</td>\n",
       "      <td>0</td>\n",
       "      <td>0.999514</td>\n",
       "      <td>0.000057</td>\n",
       "      <td>0.000057</td>\n",
       "      <td>0.000057</td>\n",
       "      <td>0.000057</td>\n",
       "      <td>0.000057</td>\n",
       "      <td>0.000057</td>\n",
       "      <td>0.000087</td>\n",
       "      <td>...</td>\n",
       "      <td>0.847409</td>\n",
       "      <td>0.943286</td>\n",
       "      <td>0.868339</td>\n",
       "      <td>0.643526</td>\n",
       "      <td>-0.025650</td>\n",
       "      <td>-1.314379</td>\n",
       "      <td>-0.377073</td>\n",
       "      <td>-0.008500</td>\n",
       "      <td>-0.943062</td>\n",
       "      <td>6.531765</td>\n",
       "    </tr>\n",
       "    <tr>\n",
       "      <th>2008-08-05</th>\n",
       "      <td>0.744683</td>\n",
       "      <td>0</td>\n",
       "      <td>0.884064</td>\n",
       "      <td>0.000147</td>\n",
       "      <td>0.000147</td>\n",
       "      <td>0.035253</td>\n",
       "      <td>0.001253</td>\n",
       "      <td>0.000147</td>\n",
       "      <td>0.078697</td>\n",
       "      <td>0.000147</td>\n",
       "      <td>...</td>\n",
       "      <td>0.786559</td>\n",
       "      <td>1.034716</td>\n",
       "      <td>1.621813</td>\n",
       "      <td>0.455797</td>\n",
       "      <td>-0.341665</td>\n",
       "      <td>-1.196640</td>\n",
       "      <td>-0.520343</td>\n",
       "      <td>0.025960</td>\n",
       "      <td>-1.744280</td>\n",
       "      <td>7.499795</td>\n",
       "    </tr>\n",
       "    <tr>\n",
       "      <th>2008-09-16</th>\n",
       "      <td>0.797560</td>\n",
       "      <td>0</td>\n",
       "      <td>0.923850</td>\n",
       "      <td>0.000160</td>\n",
       "      <td>0.000160</td>\n",
       "      <td>0.000160</td>\n",
       "      <td>0.004340</td>\n",
       "      <td>0.000160</td>\n",
       "      <td>0.070849</td>\n",
       "      <td>0.000160</td>\n",
       "      <td>...</td>\n",
       "      <td>0.851336</td>\n",
       "      <td>1.026119</td>\n",
       "      <td>1.922237</td>\n",
       "      <td>0.429004</td>\n",
       "      <td>-0.496180</td>\n",
       "      <td>-1.177531</td>\n",
       "      <td>-0.547455</td>\n",
       "      <td>0.031906</td>\n",
       "      <td>-1.590941</td>\n",
       "      <td>7.739094</td>\n",
       "    </tr>\n",
       "  </tbody>\n",
       "</table>\n",
       "<p>5 rows × 25 columns</p>\n",
       "</div>"
      ],
      "text/plain": [
       "            cosine_sim  bertopic_num     LDA_1     LDA_2     LDA_3     LDA_4   \n",
       "2008-01-30    0.000000             3  0.376015  0.553198  0.000091  0.013554  \\\n",
       "2008-03-18    0.647596             0  0.637120  0.000119  0.034395  0.134116   \n",
       "2008-04-30    0.819067             0  0.999514  0.000057  0.000057  0.000057   \n",
       "2008-08-05    0.744683             0  0.884064  0.000147  0.000147  0.035253   \n",
       "2008-09-16    0.797560             0  0.923850  0.000160  0.000160  0.000160   \n",
       "\n",
       "               LDA_5     LDA_6     LDA_7     LDA_8  ...     d2v_4     d2v_5   \n",
       "2008-01-30  0.024292  0.000091  0.000091  0.000091  ...  1.011046 -0.474268  \\\n",
       "2008-03-18  0.169393  0.000119  0.000738  0.023881  ...  0.923967  0.895274   \n",
       "2008-04-30  0.000057  0.000057  0.000057  0.000087  ...  0.847409  0.943286   \n",
       "2008-08-05  0.001253  0.000147  0.078697  0.000147  ...  0.786559  1.034716   \n",
       "2008-09-16  0.004340  0.000160  0.070849  0.000160  ...  0.851336  1.026119   \n",
       "\n",
       "               d2v_6     d2v_7     d2v_8     d2v_9    d2v_10  d2v_mean   \n",
       "2008-01-30  0.029945 -0.101560 -1.440602 -0.188843  0.345804 -0.343181  \\\n",
       "2008-03-18  0.691911  0.966539 -0.039956 -1.344442 -0.430589 -0.015524   \n",
       "2008-04-30  0.868339  0.643526 -0.025650 -1.314379 -0.377073 -0.008500   \n",
       "2008-08-05  1.621813  0.455797 -0.341665 -1.196640 -0.520343  0.025960   \n",
       "2008-09-16  1.922237  0.429004 -0.496180 -1.177531 -0.547455  0.031906   \n",
       "\n",
       "            d2v_umap_first_component  d2v_umap_second_component  \n",
       "2008-01-30                 -0.572112                  19.297571  \n",
       "2008-03-18                 -1.186404                   6.272410  \n",
       "2008-04-30                 -0.943062                   6.531765  \n",
       "2008-08-05                 -1.744280                   7.499795  \n",
       "2008-09-16                 -1.590941                   7.739094  \n",
       "\n",
       "[5 rows x 25 columns]"
      ]
     },
     "execution_count": 89,
     "metadata": {},
     "output_type": "execute_result"
    }
   ],
   "source": [
    "# Create new df with selected NLP outputs\n",
    "\n",
    "# Create base df with original FOMC Minutes and Cosine Similarity\n",
    "base_df = pd.concat([mins_dataset['Federal_Reserve_Mins'],mins_dataset['cosine_sim']],axis=1)\n",
    "\n",
    "# Add BERTopic topic assignment to df\n",
    "base_df['bertopic_num'] = bert_outputs_mins_df['Topic']\n",
    "\n",
    "# Merge in LDA vectors df\n",
    "lda_df = base_df.merge(LDA_vecs_df,left_index=True,right_index=True)\n",
    "\n",
    "# Merge in Doc2Vec df    \n",
    "d2v_df = lda_df.merge(d2v_doc_vectors_df,left_index=True,right_index=True)\n",
    "\n",
    "# Merge in UMAP Doc2Vec df\n",
    "final_df = d2v_df.merge(umap_d2v_df,left_index=True,right_index=True)\n",
    "\n",
    "# Drop FOMC Minutes from ddf\n",
    "final_df.drop(['Federal_Reserve_Mins'],axis=1,inplace=True)\n",
    "\n",
    "# Review first few entries\n",
    "final_df.head()"
   ]
  },
  {
   "cell_type": "code",
   "execution_count": 90,
   "id": "20bdd0b0",
   "metadata": {},
   "outputs": [
    {
     "data": {
      "text/plain": [
       "(123, 25)"
      ]
     },
     "execution_count": 90,
     "metadata": {},
     "output_type": "execute_result"
    }
   ],
   "source": [
    "# Confirm shape of final df\n",
    "final_df.shape"
   ]
  },
  {
   "cell_type": "code",
   "execution_count": 91,
   "id": "9f286ba9",
   "metadata": {},
   "outputs": [],
   "source": [
    "# Save Final df to CSV file\n",
    "final_df.to_csv('NLP_output_NEW_TEST_DATE.csv', index=True)"
   ]
  },
  {
   "cell_type": "code",
   "execution_count": 92,
   "id": "1c065d90",
   "metadata": {},
   "outputs": [
    {
     "data": {
      "text/html": [
       "<div>\n",
       "<style scoped>\n",
       "    .dataframe tbody tr th:only-of-type {\n",
       "        vertical-align: middle;\n",
       "    }\n",
       "\n",
       "    .dataframe tbody tr th {\n",
       "        vertical-align: top;\n",
       "    }\n",
       "\n",
       "    .dataframe thead th {\n",
       "        text-align: right;\n",
       "    }\n",
       "</style>\n",
       "<table border=\"1\" class=\"dataframe\">\n",
       "  <thead>\n",
       "    <tr style=\"text-align: right;\">\n",
       "      <th></th>\n",
       "      <th>cosine_sim</th>\n",
       "      <th>bertopic_num</th>\n",
       "      <th>LDA_1</th>\n",
       "      <th>LDA_2</th>\n",
       "      <th>LDA_3</th>\n",
       "      <th>LDA_4</th>\n",
       "      <th>LDA_5</th>\n",
       "      <th>LDA_6</th>\n",
       "      <th>LDA_7</th>\n",
       "      <th>LDA_8</th>\n",
       "      <th>...</th>\n",
       "      <th>d2v_4</th>\n",
       "      <th>d2v_5</th>\n",
       "      <th>d2v_6</th>\n",
       "      <th>d2v_7</th>\n",
       "      <th>d2v_8</th>\n",
       "      <th>d2v_9</th>\n",
       "      <th>d2v_10</th>\n",
       "      <th>d2v_mean</th>\n",
       "      <th>d2v_umap_first_component</th>\n",
       "      <th>d2v_umap_second_component</th>\n",
       "    </tr>\n",
       "  </thead>\n",
       "  <tbody>\n",
       "    <tr>\n",
       "      <th>2008-01-30</th>\n",
       "      <td>0.000000</td>\n",
       "      <td>3</td>\n",
       "      <td>0.376015</td>\n",
       "      <td>0.553198</td>\n",
       "      <td>0.000091</td>\n",
       "      <td>0.013554</td>\n",
       "      <td>0.024292</td>\n",
       "      <td>0.000091</td>\n",
       "      <td>0.000091</td>\n",
       "      <td>0.000091</td>\n",
       "      <td>...</td>\n",
       "      <td>1.011046</td>\n",
       "      <td>-0.474268</td>\n",
       "      <td>0.029945</td>\n",
       "      <td>-0.101560</td>\n",
       "      <td>-1.440602</td>\n",
       "      <td>-0.188843</td>\n",
       "      <td>0.345804</td>\n",
       "      <td>-0.343181</td>\n",
       "      <td>-0.572112</td>\n",
       "      <td>19.297571</td>\n",
       "    </tr>\n",
       "    <tr>\n",
       "      <th>2008-03-18</th>\n",
       "      <td>0.647596</td>\n",
       "      <td>0</td>\n",
       "      <td>0.637120</td>\n",
       "      <td>0.000119</td>\n",
       "      <td>0.034395</td>\n",
       "      <td>0.134116</td>\n",
       "      <td>0.169393</td>\n",
       "      <td>0.000119</td>\n",
       "      <td>0.000738</td>\n",
       "      <td>0.023881</td>\n",
       "      <td>...</td>\n",
       "      <td>0.923968</td>\n",
       "      <td>0.895274</td>\n",
       "      <td>0.691911</td>\n",
       "      <td>0.966539</td>\n",
       "      <td>-0.039956</td>\n",
       "      <td>-1.344442</td>\n",
       "      <td>-0.430589</td>\n",
       "      <td>-0.015524</td>\n",
       "      <td>-1.186404</td>\n",
       "      <td>6.272410</td>\n",
       "    </tr>\n",
       "    <tr>\n",
       "      <th>2008-04-30</th>\n",
       "      <td>0.819067</td>\n",
       "      <td>0</td>\n",
       "      <td>0.999514</td>\n",
       "      <td>0.000057</td>\n",
       "      <td>0.000057</td>\n",
       "      <td>0.000057</td>\n",
       "      <td>0.000057</td>\n",
       "      <td>0.000057</td>\n",
       "      <td>0.000057</td>\n",
       "      <td>0.000087</td>\n",
       "      <td>...</td>\n",
       "      <td>0.847409</td>\n",
       "      <td>0.943285</td>\n",
       "      <td>0.868339</td>\n",
       "      <td>0.643526</td>\n",
       "      <td>-0.025650</td>\n",
       "      <td>-1.314379</td>\n",
       "      <td>-0.377073</td>\n",
       "      <td>-0.008500</td>\n",
       "      <td>-0.943062</td>\n",
       "      <td>6.531765</td>\n",
       "    </tr>\n",
       "    <tr>\n",
       "      <th>2008-08-05</th>\n",
       "      <td>0.744683</td>\n",
       "      <td>0</td>\n",
       "      <td>0.884064</td>\n",
       "      <td>0.000147</td>\n",
       "      <td>0.000147</td>\n",
       "      <td>0.035253</td>\n",
       "      <td>0.001253</td>\n",
       "      <td>0.000147</td>\n",
       "      <td>0.078697</td>\n",
       "      <td>0.000147</td>\n",
       "      <td>...</td>\n",
       "      <td>0.786559</td>\n",
       "      <td>1.034716</td>\n",
       "      <td>1.621813</td>\n",
       "      <td>0.455797</td>\n",
       "      <td>-0.341665</td>\n",
       "      <td>-1.196640</td>\n",
       "      <td>-0.520343</td>\n",
       "      <td>0.025960</td>\n",
       "      <td>-1.744280</td>\n",
       "      <td>7.499795</td>\n",
       "    </tr>\n",
       "    <tr>\n",
       "      <th>2008-09-16</th>\n",
       "      <td>0.797560</td>\n",
       "      <td>0</td>\n",
       "      <td>0.923850</td>\n",
       "      <td>0.000160</td>\n",
       "      <td>0.000160</td>\n",
       "      <td>0.000160</td>\n",
       "      <td>0.004340</td>\n",
       "      <td>0.000160</td>\n",
       "      <td>0.070849</td>\n",
       "      <td>0.000160</td>\n",
       "      <td>...</td>\n",
       "      <td>0.851336</td>\n",
       "      <td>1.026119</td>\n",
       "      <td>1.922237</td>\n",
       "      <td>0.429004</td>\n",
       "      <td>-0.496180</td>\n",
       "      <td>-1.177531</td>\n",
       "      <td>-0.547455</td>\n",
       "      <td>0.031906</td>\n",
       "      <td>-1.590941</td>\n",
       "      <td>7.739094</td>\n",
       "    </tr>\n",
       "  </tbody>\n",
       "</table>\n",
       "<p>5 rows × 25 columns</p>\n",
       "</div>"
      ],
      "text/plain": [
       "            cosine_sim  bertopic_num     LDA_1     LDA_2     LDA_3     LDA_4   \n",
       "2008-01-30    0.000000             3  0.376015  0.553198  0.000091  0.013554  \\\n",
       "2008-03-18    0.647596             0  0.637120  0.000119  0.034395  0.134116   \n",
       "2008-04-30    0.819067             0  0.999514  0.000057  0.000057  0.000057   \n",
       "2008-08-05    0.744683             0  0.884064  0.000147  0.000147  0.035253   \n",
       "2008-09-16    0.797560             0  0.923850  0.000160  0.000160  0.000160   \n",
       "\n",
       "               LDA_5     LDA_6     LDA_7     LDA_8  ...     d2v_4     d2v_5   \n",
       "2008-01-30  0.024292  0.000091  0.000091  0.000091  ...  1.011046 -0.474268  \\\n",
       "2008-03-18  0.169393  0.000119  0.000738  0.023881  ...  0.923968  0.895274   \n",
       "2008-04-30  0.000057  0.000057  0.000057  0.000087  ...  0.847409  0.943285   \n",
       "2008-08-05  0.001253  0.000147  0.078697  0.000147  ...  0.786559  1.034716   \n",
       "2008-09-16  0.004340  0.000160  0.070849  0.000160  ...  0.851336  1.026119   \n",
       "\n",
       "               d2v_6     d2v_7     d2v_8     d2v_9    d2v_10  d2v_mean   \n",
       "2008-01-30  0.029945 -0.101560 -1.440602 -0.188843  0.345804 -0.343181  \\\n",
       "2008-03-18  0.691911  0.966539 -0.039956 -1.344442 -0.430589 -0.015524   \n",
       "2008-04-30  0.868339  0.643526 -0.025650 -1.314379 -0.377073 -0.008500   \n",
       "2008-08-05  1.621813  0.455797 -0.341665 -1.196640 -0.520343  0.025960   \n",
       "2008-09-16  1.922237  0.429004 -0.496180 -1.177531 -0.547455  0.031906   \n",
       "\n",
       "            d2v_umap_first_component  d2v_umap_second_component  \n",
       "2008-01-30                 -0.572112                  19.297571  \n",
       "2008-03-18                 -1.186404                   6.272410  \n",
       "2008-04-30                 -0.943062                   6.531765  \n",
       "2008-08-05                 -1.744280                   7.499795  \n",
       "2008-09-16                 -1.590941                   7.739094  \n",
       "\n",
       "[5 rows x 25 columns]"
      ]
     },
     "execution_count": 92,
     "metadata": {},
     "output_type": "execute_result"
    }
   ],
   "source": [
    "# Test import of csv file\n",
    "test_final_df = pd.read_csv('NLP_output_NEW_TEST_DATE.csv',index_col=0)\n",
    "test_final_df.head()"
   ]
  },
  {
   "cell_type": "code",
   "execution_count": 93,
   "id": "9cf06e11",
   "metadata": {},
   "outputs": [
    {
     "data": {
      "text/plain": [
       "(123, 25)"
      ]
     },
     "execution_count": 93,
     "metadata": {},
     "output_type": "execute_result"
    }
   ],
   "source": [
    "# Confirm shape of df\n",
    "test_final_df.shape"
   ]
  },
  {
   "cell_type": "markdown",
   "id": "9f34f5f8",
   "metadata": {},
   "source": [
    "# Dependencies"
   ]
  },
  {
   "cell_type": "code",
   "execution_count": 94,
   "id": "cc10ba27",
   "metadata": {},
   "outputs": [
    {
     "name": "stdout",
     "output_type": "stream",
     "text": [
      "Python 3.8.3\n",
      "Pandas: 2.0.0\n",
      "Numpy: 1.23.5\n",
      "Matplotlib: 3.7.1\n",
      "Seaborn: 0.12.2\n",
      "FedTools: 0.07\n",
      "NLTK: 3.8.1\n",
      "Gensim: 4.3.1\n",
      "pyLDAvis: 3.4.0\n",
      "sklearn: 1.2.2\n",
      "top2vec: 1.0.29\n",
      "bertopic: 0.15.0\n",
      "umap: 0.5.3\n",
      "spaCy: 3.5.4\n",
      "re: 2.2.1\n"
     ]
    }
   ],
   "source": [
    "# Dependencies for requirements file\n",
    "\n",
    "!python -V\n",
    "print(\"Pandas:\", pd.__version__)\n",
    "print(\"Numpy:\", np.__version__)\n",
    "print(\"Matplotlib:\", matplotlib.__version__)\n",
    "print(\"Seaborn:\", sns.__version__)\n",
    "print(\"FedTools:\", \"0.07\")\n",
    "print(\"NLTK:\", nltk.__version__)\n",
    "print(\"Gensim:\", gensim.__version__)\n",
    "print(\"pyLDAvis:\", pyLDAvis.__version__)\n",
    "print(\"sklearn:\", sklearn.__version__)\n",
    "print(\"top2vec:\", top2vec.__version__)\n",
    "print(\"bertopic:\", bertopic.__version__)\n",
    "print(\"umap:\", umap.__version__)\n",
    "print(\"spaCy:\", spacy.__version__)\n",
    "print(\"re:\", re.__version__)"
   ]
  },
  {
   "cell_type": "code",
   "execution_count": null,
   "id": "96ae7056",
   "metadata": {},
   "outputs": [],
   "source": []
  }
 ],
 "metadata": {
  "kernelspec": {
   "display_name": "Python 3 (ipykernel)",
   "language": "python",
   "name": "python3"
  },
  "language_info": {
   "codemirror_mode": {
    "name": "ipython",
    "version": 3
   },
   "file_extension": ".py",
   "mimetype": "text/x-python",
   "name": "python",
   "nbconvert_exporter": "python",
   "pygments_lexer": "ipython3",
   "version": "3.8.16"
  }
 },
 "nbformat": 4,
 "nbformat_minor": 5
}
